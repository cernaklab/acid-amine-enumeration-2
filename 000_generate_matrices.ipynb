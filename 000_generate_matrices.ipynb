{
 "cells": [
  {
   "cell_type": "code",
   "execution_count": 1,
   "id": "7baa91c8",
   "metadata": {},
   "outputs": [],
   "source": [
    "import numpy as np"
   ]
  },
  {
   "cell_type": "markdown",
   "id": "7241bb77",
   "metadata": {},
   "source": [
    "## Generate all matrices, and split into files of 1,000,000 lines each"
   ]
  },
  {
   "cell_type": "code",
   "execution_count": 4,
   "id": "543a49ee",
   "metadata": {},
   "outputs": [],
   "source": [
    "# !python3 000_script.py > ./product_amats/output.txt"
   ]
  },
  {
   "cell_type": "code",
   "execution_count": 7,
   "id": "1c4a5af2",
   "metadata": {},
   "outputs": [],
   "source": [
    "# !split -l 1000000 --numeric-suffixes output.txt output_split_"
   ]
  },
  {
   "cell_type": "markdown",
   "id": "e12d6e1e",
   "metadata": {},
   "source": [
    "## save as int8 numpy arrays to reduce size"
   ]
  },
  {
   "cell_type": "code",
   "execution_count": 8,
   "id": "dda1c4c3",
   "metadata": {},
   "outputs": [],
   "source": [
    "for i in range(56):\n",
    "    file_tag = str(i).zfill(2)\n",
    "\n",
    "    with open(f'output_split_{file_tag}',\"r\") as f:\n",
    "        mats = np.array([eval(line.strip()) for line in f]).astype(\"int8\")\n",
    "        np.save(f\"./product_amats/pdt_amat_{file_tag}_small.npy\")\n",
    "        \n",
    "    "
   ]
  },
  {
   "cell_type": "markdown",
   "id": "2f91ca55",
   "metadata": {},
   "source": [
    "## remove text files to free up storage"
   ]
  },
  {
   "cell_type": "code",
   "execution_count": null,
   "id": "917803db",
   "metadata": {},
   "outputs": [],
   "source": [
    "# !rm ./product_amats/output*"
   ]
  }
 ],
 "metadata": {
  "kernelspec": {
   "display_name": "Python 3",
   "language": "python",
   "name": "python3"
  },
  "language_info": {
   "codemirror_mode": {
    "name": "ipython",
    "version": 3
   },
   "file_extension": ".py",
   "mimetype": "text/x-python",
   "name": "python",
   "nbconvert_exporter": "python",
   "pygments_lexer": "ipython3",
   "version": "3.6.12"
  }
 },
 "nbformat": 4,
 "nbformat_minor": 5
}
