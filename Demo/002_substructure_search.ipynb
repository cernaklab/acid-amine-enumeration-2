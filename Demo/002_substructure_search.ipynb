{
 "cells": [
  {
   "cell_type": "markdown",
   "id": "fe991d26",
   "metadata": {},
   "source": [
    "### Search enumerated structures within the Drugbank database"
   ]
  },
  {
   "cell_type": "code",
   "execution_count": 1,
   "id": "pediatric-incident",
   "metadata": {},
   "outputs": [],
   "source": [
    "import pandas as pd\n",
    "from rdkit import Chem\n",
    "import numpy as np\n",
    "import matplotlib.pyplot as plt\n",
    "import multiprocessing as mp\n",
    "\n",
    "from tqdm.notebook import tqdm\n",
    "import processing_utils"
   ]
  },
  {
   "cell_type": "markdown",
   "id": "7c7efbcb",
   "metadata": {},
   "source": [
    "### Load structures from Drugbank - can be replaced by any other database.\n",
    "downloaded from https://go.drugbank.com/releases/latest#structures"
   ]
  },
  {
   "cell_type": "code",
   "execution_count": 2,
   "id": "b7be7a2b",
   "metadata": {},
   "outputs": [],
   "source": [
    "drugs = Chem.SDMolSupplier(\"../drugbank_structures.sdf\")\n",
    "drugs = [i for i in drugs if i]\n",
    "for d in drugs:\n",
    "    # cleanup\n",
    "    Chem.SanitizeMol(d)\n",
    "    \n",
    "    # Kekulization removed.\n",
    "#     Chem.Kekulize(d,clearAromaticFlags=True)"
   ]
  },
  {
   "cell_type": "code",
   "execution_count": 3,
   "id": "concrete-lancaster",
   "metadata": {},
   "outputs": [],
   "source": [
    "data = pd.read_csv(\"./data_files/smiles_min_dist_natoms.csv\",index_col=0)"
   ]
  },
  {
   "cell_type": "markdown",
   "id": "2d319201",
   "metadata": {},
   "source": [
    "### run search"
   ]
  },
  {
   "cell_type": "code",
   "execution_count": null,
   "id": "plastic-sugar",
   "metadata": {},
   "outputs": [],
   "source": [
    "\n",
    "map_input = [[s,drugs,False] for s in data.smiles]\n",
    "\n",
    "if __name__ == '__main__':\n",
    "    with mp.Pool(32) as p:\n",
    "        result = p.starmap(processing_utils.search_in_database, map_input,chunksize=1000)"
   ]
  },
  {
   "cell_type": "code",
   "execution_count": 7,
   "id": "28ec6e03",
   "metadata": {},
   "outputs": [],
   "source": [
    "data[\"drugbank_matches\"] = result"
   ]
  },
  {
   "cell_type": "code",
   "execution_count": 8,
   "id": "spatial-sacrifice",
   "metadata": {},
   "outputs": [
    {
     "data": {
      "text/html": [
       "<div>\n",
       "<style scoped>\n",
       "    .dataframe tbody tr th:only-of-type {\n",
       "        vertical-align: middle;\n",
       "    }\n",
       "\n",
       "    .dataframe tbody tr th {\n",
       "        vertical-align: top;\n",
       "    }\n",
       "\n",
       "    .dataframe thead th {\n",
       "        text-align: right;\n",
       "    }\n",
       "</style>\n",
       "<table border=\"1\" class=\"dataframe\">\n",
       "  <thead>\n",
       "    <tr style=\"text-align: right;\">\n",
       "      <th></th>\n",
       "      <th>smiles</th>\n",
       "      <th>min_dist_all</th>\n",
       "      <th>natoms</th>\n",
       "      <th>drugbank_matches</th>\n",
       "    </tr>\n",
       "  </thead>\n",
       "  <tbody>\n",
       "    <tr>\n",
       "      <th>0</th>\n",
       "      <td>COON</td>\n",
       "      <td>6.0</td>\n",
       "      <td>4</td>\n",
       "      <td>0</td>\n",
       "    </tr>\n",
       "    <tr>\n",
       "      <th>1</th>\n",
       "      <td>CONO</td>\n",
       "      <td>6.0</td>\n",
       "      <td>4</td>\n",
       "      <td>18</td>\n",
       "    </tr>\n",
       "    <tr>\n",
       "      <th>2</th>\n",
       "      <td>CON=O</td>\n",
       "      <td>7.0</td>\n",
       "      <td>4</td>\n",
       "      <td>19</td>\n",
       "    </tr>\n",
       "    <tr>\n",
       "      <th>3</th>\n",
       "      <td>NOCO</td>\n",
       "      <td>4.0</td>\n",
       "      <td>4</td>\n",
       "      <td>4</td>\n",
       "    </tr>\n",
       "    <tr>\n",
       "      <th>4</th>\n",
       "      <td>C1ONO1</td>\n",
       "      <td>5.0</td>\n",
       "      <td>4</td>\n",
       "      <td>0</td>\n",
       "    </tr>\n",
       "  </tbody>\n",
       "</table>\n",
       "</div>"
      ],
      "text/plain": [
       "   smiles  min_dist_all  natoms  drugbank_matches\n",
       "0    COON           6.0       4                 0\n",
       "1    CONO           6.0       4                18\n",
       "2   CON=O           7.0       4                19\n",
       "3    NOCO           4.0       4                 4\n",
       "4  C1ONO1           5.0       4                 0"
      ]
     },
     "execution_count": 8,
     "metadata": {},
     "output_type": "execute_result"
    }
   ],
   "source": [
    "# take a look\n",
    "data.head()"
   ]
  },
  {
   "cell_type": "code",
   "execution_count": 9,
   "id": "sophisticated-still",
   "metadata": {},
   "outputs": [],
   "source": [
    "# save to csv as a backup \n",
    "data.to_csv(\"./data_files/smiles_min_dist_dbank.csv\")"
   ]
  }
 ],
 "metadata": {
  "kernelspec": {
   "display_name": "Python 3 (ipykernel)",
   "language": "python",
   "name": "python3"
  },
  "language_info": {
   "codemirror_mode": {
    "name": "ipython",
    "version": 3
   },
   "file_extension": ".py",
   "mimetype": "text/x-python",
   "name": "python",
   "nbconvert_exporter": "python",
   "pygments_lexer": "ipython3",
   "version": "3.10.8"
  }
 },
 "nbformat": 4,
 "nbformat_minor": 5
}
