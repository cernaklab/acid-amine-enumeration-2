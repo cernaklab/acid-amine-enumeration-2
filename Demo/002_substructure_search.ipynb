{
 "cells": [
  {
   "cell_type": "markdown",
   "id": "fe991d26",
   "metadata": {},
   "source": [
    "### Search enumerated structures within the Drugbank database"
   ]
  },
  {
   "cell_type": "code",
   "execution_count": 1,
   "id": "pediatric-incident",
   "metadata": {},
   "outputs": [],
   "source": [
    "import pandas as pd\n",
    "from rdkit import Chem\n",
    "import numpy as np\n",
    "import matplotlib.pyplot as plt\n",
    "import multiprocessing as mp\n",
    "\n",
    "from tqdm.notebook import tqdm"
   ]
  },
  {
   "cell_type": "markdown",
   "id": "7c7efbcb",
   "metadata": {},
   "source": [
    "### Load structures from Drugbank - can be replaced by any other database.\n",
    "downloaded from https://go.drugbank.com/releases/latest#structures"
   ]
  },
  {
   "cell_type": "code",
   "execution_count": 2,
   "id": "b7be7a2b",
   "metadata": {},
   "outputs": [],
   "source": [
    "drugs = Chem.SDMolSupplier(\"./drugbank_1000.sdf\")\n",
    "drugs = [i for i in drugs if i]\n",
    "for d in drugs:\n",
    "    # cleanup\n",
    "    Chem.SanitizeMol(d)\n"
   ]
  },
  {
   "cell_type": "code",
   "execution_count": 3,
   "id": "concrete-lancaster",
   "metadata": {},
   "outputs": [],
   "source": [
    "data = pd.read_csv(\"./data_files/smiles_min_dist_natoms.csv\",index_col=0)"
   ]
  },
  {
   "cell_type": "markdown",
   "id": "eb624de2",
   "metadata": {},
   "source": [
    "### a function to search for motif matches in the Drugbank database"
   ]
  },
  {
   "cell_type": "code",
   "execution_count": 4,
   "id": "53e10642",
   "metadata": {},
   "outputs": [],
   "source": [
    "# the one just for number of lines - used for the entire drugbank\n",
    "def rowfunc(smiles):\n",
    "    # search the smiles in \"row\" through all the structures in \"database\"\n",
    "    substruct = Chem.MolFromSmiles(smiles)\n",
    "    Chem.SanitizeMol(substruct)\n",
    "    \n",
    "    # used to Kekulize, but currently not implemented.\n",
    "    # SanitizeMol will cause aromatic bonds to be encoded as such.\n",
    "    \n",
    "#     Chem.Kekulize(substruct,clearAromaticFlags=True)\n",
    "    \n",
    "    substruct_matches = 0\n",
    "    for database_mol in drugs:\n",
    "        if database_mol.HasSubstructMatch(substruct):\n",
    "            substruct_matches += 1\n",
    "    return substruct_matches"
   ]
  },
  {
   "cell_type": "markdown",
   "id": "2d319201",
   "metadata": {},
   "source": [
    "### run search"
   ]
  },
  {
   "cell_type": "code",
   "execution_count": 5,
   "id": "plastic-sugar",
   "metadata": {},
   "outputs": [
    {
     "data": {
      "application/vnd.jupyter.widget-view+json": {
       "model_id": "f411a12046d141f0a429e62e448fcdba",
       "version_major": 2,
       "version_minor": 0
      },
      "text/plain": [
       "  0%|          | 0/57230 [00:00<?, ?it/s]"
      ]
     },
     "metadata": {},
     "output_type": "display_data"
    }
   ],
   "source": [
    "# 10 minutes on single core\n",
    "\n",
    "result = []\n",
    "for s in tqdm(data.smiles):\n",
    "    result.append(rowfunc(s))\n"
   ]
  },
  {
   "cell_type": "code",
   "execution_count": 6,
   "id": "28ec6e03",
   "metadata": {},
   "outputs": [],
   "source": [
    "data[\"drugbank_matches\"] = result"
   ]
  },
  {
   "cell_type": "code",
   "execution_count": 7,
   "id": "spatial-sacrifice",
   "metadata": {},
   "outputs": [
    {
     "data": {
      "text/html": [
       "<div>\n",
       "<style scoped>\n",
       "    .dataframe tbody tr th:only-of-type {\n",
       "        vertical-align: middle;\n",
       "    }\n",
       "\n",
       "    .dataframe tbody tr th {\n",
       "        vertical-align: top;\n",
       "    }\n",
       "\n",
       "    .dataframe thead th {\n",
       "        text-align: right;\n",
       "    }\n",
       "</style>\n",
       "<table border=\"1\" class=\"dataframe\">\n",
       "  <thead>\n",
       "    <tr style=\"text-align: right;\">\n",
       "      <th></th>\n",
       "      <th>smiles</th>\n",
       "      <th>min_dist_all</th>\n",
       "      <th>natoms</th>\n",
       "      <th>drugbank_matches</th>\n",
       "    </tr>\n",
       "  </thead>\n",
       "  <tbody>\n",
       "    <tr>\n",
       "      <th>0</th>\n",
       "      <td>COON</td>\n",
       "      <td>7.0</td>\n",
       "      <td>4</td>\n",
       "      <td>0</td>\n",
       "    </tr>\n",
       "    <tr>\n",
       "      <th>1</th>\n",
       "      <td>CONO</td>\n",
       "      <td>7.0</td>\n",
       "      <td>4</td>\n",
       "      <td>2</td>\n",
       "    </tr>\n",
       "    <tr>\n",
       "      <th>2</th>\n",
       "      <td>CON=O</td>\n",
       "      <td>8.0</td>\n",
       "      <td>4</td>\n",
       "      <td>2</td>\n",
       "    </tr>\n",
       "    <tr>\n",
       "      <th>3</th>\n",
       "      <td>NOCO</td>\n",
       "      <td>5.0</td>\n",
       "      <td>4</td>\n",
       "      <td>0</td>\n",
       "    </tr>\n",
       "    <tr>\n",
       "      <th>4</th>\n",
       "      <td>C1ONO1</td>\n",
       "      <td>6.0</td>\n",
       "      <td>4</td>\n",
       "      <td>0</td>\n",
       "    </tr>\n",
       "  </tbody>\n",
       "</table>\n",
       "</div>"
      ],
      "text/plain": [
       "   smiles  min_dist_all  natoms  drugbank_matches\n",
       "0    COON           7.0       4                 0\n",
       "1    CONO           7.0       4                 2\n",
       "2   CON=O           8.0       4                 2\n",
       "3    NOCO           5.0       4                 0\n",
       "4  C1ONO1           6.0       4                 0"
      ]
     },
     "execution_count": 7,
     "metadata": {},
     "output_type": "execute_result"
    }
   ],
   "source": [
    "# take a look\n",
    "data.head()"
   ]
  },
  {
   "cell_type": "code",
   "execution_count": 8,
   "id": "sophisticated-still",
   "metadata": {},
   "outputs": [],
   "source": [
    "# save to csv as a backup \n",
    "data.to_csv(\"./data_files/smiles_min_dist_dbank.csv\")"
   ]
  }
 ],
 "metadata": {
  "kernelspec": {
   "display_name": "Python 3 (ipykernel)",
   "language": "python",
   "name": "python3"
  },
  "language_info": {
   "codemirror_mode": {
    "name": "ipython",
    "version": 3
   },
   "file_extension": ".py",
   "mimetype": "text/x-python",
   "name": "python",
   "nbconvert_exporter": "python",
   "pygments_lexer": "ipython3",
   "version": "3.10.4"
  }
 },
 "nbformat": 4,
 "nbformat_minor": 5
}
