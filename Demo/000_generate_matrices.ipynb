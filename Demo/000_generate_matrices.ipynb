{
 "cells": [
  {
   "cell_type": "markdown",
   "id": "160d4d7b",
   "metadata": {},
   "source": [
    "## Import and setup"
   ]
  },
  {
   "cell_type": "code",
   "execution_count": 1,
   "id": "7baa91c8",
   "metadata": {},
   "outputs": [],
   "source": [
    "import numpy as np\n",
    "import os\n",
    "from tqdm.notebook import tqdm\n",
    "import processing_utils"
   ]
  },
  {
   "cell_type": "code",
   "execution_count": 2,
   "id": "cbf3e723",
   "metadata": {},
   "outputs": [],
   "source": [
    "if not os.path.exists(\"./product_amats\"):\n",
    "    os.makedirs(\"./product_amats\")"
   ]
  },
  {
   "cell_type": "markdown",
   "id": "7241bb77",
   "metadata": {},
   "source": [
    "## Generate all matrices, and split into files of 100,000 lines each"
   ]
  },
  {
   "cell_type": "code",
   "execution_count": 3,
   "id": "d0fdc721",
   "metadata": {},
   "outputs": [],
   "source": [
    "# takes 5 mins on a single core - un-comment below to run\n",
    "\n",
    "!python 000_script_demo.py > ./product_amats/output.txt"
   ]
  },
  {
   "cell_type": "code",
   "execution_count": 4,
   "id": "1c4a5af2",
   "metadata": {},
   "outputs": [],
   "source": [
    "!split -l 100000 --numeric-suffixes ./product_amats/output.txt ./product_amats/output_split_"
   ]
  },
  {
   "cell_type": "markdown",
   "id": "e12d6e1e",
   "metadata": {},
   "source": [
    "## save as int8 numpy arrays to reduce size"
   ]
  },
  {
   "cell_type": "code",
   "execution_count": null,
   "id": "dda1c4c3",
   "metadata": {},
   "outputs": [
    {
     "data": {
      "application/vnd.jupyter.widget-view+json": {
       "model_id": "8758b5709e0e44a0abd4ceba3176cf04",
       "version_major": 2,
       "version_minor": 0
      },
      "text/plain": [
       "  0%|          | 0/14 [00:00<?, ?it/s]"
      ]
     },
     "metadata": {},
     "output_type": "display_data"
    }
   ],
   "source": [
    "for i in tqdm(range(14)):\n",
    "    _ = processing_utils.save_npy8(i)\n"
   ]
  },
  {
   "cell_type": "markdown",
   "id": "2f91ca55",
   "metadata": {},
   "source": [
    "## remove text files to free up storage"
   ]
  },
  {
   "cell_type": "code",
   "execution_count": null,
   "id": "917803db",
   "metadata": {},
   "outputs": [],
   "source": [
    "!rm ./product_amats/output*"
   ]
  },
  {
   "cell_type": "markdown",
   "id": "3694c239",
   "metadata": {},
   "source": [
    "## make transformation matrix by subtracting product from each possible starting material"
   ]
  },
  {
   "cell_type": "markdown",
   "id": "55ca02e2",
   "metadata": {},
   "source": [
    "### import starting material matrices"
   ]
  },
  {
   "cell_type": "code",
   "execution_count": null,
   "id": "34aae3d1",
   "metadata": {},
   "outputs": [],
   "source": [
    "import SM_amats\n",
    "\n",
    "if not os.path.exists(\"./rxn_mats\"):\n",
    "    os.makedirs(\"./rxn_mats\")\n",
    "    \n",
    "# uncomment below to check it out:\n",
    "# SM_amats.ac3_am3"
   ]
  },
  {
   "cell_type": "code",
   "execution_count": null,
   "id": "8b9a3eaa",
   "metadata": {},
   "outputs": [],
   "source": [
    "hybr_types = {\"ac3_am3\":SM_amats.ac3_am3, \n",
    "              \"ac2_am3\":SM_amats.ac2_am3, \n",
    "              \"ac3_am2\":SM_amats.ac3_am2,\n",
    "              \"ac2_am2\":SM_amats.ac2_am2,}"
   ]
  },
  {
   "cell_type": "markdown",
   "id": "9cada944",
   "metadata": {},
   "source": [
    "### calculate"
   ]
  },
  {
   "cell_type": "code",
   "execution_count": null,
   "id": "a0cec31a",
   "metadata": {},
   "outputs": [],
   "source": [
    "def calc_changes(hybr_type):\n",
    "    \n",
    "    for file_index in range(18):\n",
    "        \n",
    "        # load relevant npy matrix of amats (3D)\n",
    "        file_tag = str(file_index).zfill(2)\n",
    "        amats = np.load(f\"./product_amats/pdt_amat_{file_tag}_int8.npy\")\n",
    "\n",
    "        # subtract indicated starting material and save as int8\n",
    "        \n",
    "        dmats = amats - np.array(hybr_types[hybr_type])\n",
    "        dmats = dmats.astype(\"int8\")\n",
    "        np.save(f\"./rxn_mats/dmats_{hybr_type}_{file_tag}\",dmats)"
   ]
  },
  {
   "cell_type": "code",
   "execution_count": null,
   "id": "e82d81d9",
   "metadata": {},
   "outputs": [],
   "source": [
    "for h_t in tqdm(hybr_types):\n",
    "    calc_changes(h_t)"
   ]
  }
 ],
 "metadata": {
  "kernelspec": {
   "display_name": "Python 3 (ipykernel)",
   "language": "python",
   "name": "python3"
  },
  "language_info": {
   "codemirror_mode": {
    "name": "ipython",
    "version": 3
   },
   "file_extension": ".py",
   "mimetype": "text/x-python",
   "name": "python",
   "nbconvert_exporter": "python",
   "pygments_lexer": "ipython3",
   "version": "3.10.8"
  }
 },
 "nbformat": 4,
 "nbformat_minor": 5
}
