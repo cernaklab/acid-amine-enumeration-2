{
 "cells": [
  {
   "cell_type": "markdown",
   "id": "017280df",
   "metadata": {},
   "source": [
    "### get molecular properties of the late-stage diversified systems"
   ]
  },
  {
   "cell_type": "code",
   "execution_count": 1,
   "id": "b532d187",
   "metadata": {},
   "outputs": [],
   "source": [
    "from rdkit import Chem\n",
    "import pandas as pd\n",
    "import numpy as np\n",
    "\n",
    "from rdkit.Chem import AllChem, rdMolDescriptors, Descriptors\n",
    "from rdkit.Chem.EnumerateStereoisomers import EnumerateStereoisomers, StereoEnumerationOptions\n",
    "from tqdm.notebook import tqdm\n",
    "\n",
    "from rdkit import RDLogger\n",
    "lg = RDLogger.logger()\n",
    "lg.setLevel(RDLogger.CRITICAL)\n",
    "\n",
    "import multiprocessing as mp\n",
    "import molprops_utils"
   ]
  },
  {
   "cell_type": "markdown",
   "id": "2d63656e",
   "metadata": {},
   "source": [
    "### physicochemical properties - for joint distribution plots."
   ]
  },
  {
   "cell_type": "code",
   "execution_count": 2,
   "id": "575818e3",
   "metadata": {},
   "outputs": [],
   "source": [
    "def get_df_props(input_filename,output_filename,smiles_column):\n",
    "    data = pd.read_csv(input_filename)\n",
    "    all_molprops = []\n",
    "    \n",
    "    for s in tqdm(data[smiles_column]):\n",
    "        all_molprops.append(molprops_utils.getallprops(s))\n",
    "\n",
    "    data[\"allprops\"] = all_molprops\n",
    "    data[[\"LogP\",\"MW\",\"HBD\",\"HBA\",\"PSA\",\"ROTB\",\"FSP3\",\"SSSR\",\"QED\"]] = data.allprops.tolist()\n",
    "    data.drop(\"allprops\",axis=1,inplace=True)\n",
    "    data.to_csv(output_filename,index=False)\n",
    "    \n",
    "    "
   ]
  },
  {
   "cell_type": "markdown",
   "id": "686059ce",
   "metadata": {},
   "source": [
    "### for sp3 system"
   ]
  },
  {
   "cell_type": "code",
   "execution_count": 7,
   "id": "d2149f40",
   "metadata": {},
   "outputs": [],
   "source": [
    "input_filename = \"./ac3drug_am3small/ac3drug_am3small_smiles.csv\"\n",
    "\n",
    "output_filename = \"./ac3drug_am3small/ac3drug_am3small_props.csv\"\n",
    "smiles_column = \"largest_cleaned\""
   ]
  },
  {
   "cell_type": "code",
   "execution_count": 8,
   "id": "089014dd",
   "metadata": {},
   "outputs": [
    {
     "data": {
      "application/vnd.jupyter.widget-view+json": {
       "model_id": "a885b81e05694c2b94d6fc2d45d5a895",
       "version_major": 2,
       "version_minor": 0
      },
      "text/plain": [
       "  0%|          | 0/1443 [00:00<?, ?it/s]"
      ]
     },
     "metadata": {},
     "output_type": "display_data"
    }
   ],
   "source": [
    "get_df_props(input_filename,output_filename,smiles_column)"
   ]
  },
  {
   "cell_type": "code",
   "execution_count": 9,
   "id": "1d097dab",
   "metadata": {},
   "outputs": [],
   "source": [
    "input_filename = \"./ac3drug_am3small/ac3drug_am3small_rxn_centers.csv\"\n",
    "\n",
    "output_filename = \"./ac3drug_am3small/ac3drug_am3small_rxn_centers_props.csv\"\n",
    "smiles_column = \"pdt_cleaned\""
   ]
  },
  {
   "cell_type": "code",
   "execution_count": 10,
   "id": "21577393",
   "metadata": {},
   "outputs": [
    {
     "data": {
      "application/vnd.jupyter.widget-view+json": {
       "model_id": "9a3263f5f5d44d60988f02fbd64e22aa",
       "version_major": 2,
       "version_minor": 0
      },
      "text/plain": [
       "  0%|          | 0/1443 [00:00<?, ?it/s]"
      ]
     },
     "metadata": {},
     "output_type": "display_data"
    }
   ],
   "source": [
    "get_df_props(input_filename,output_filename,smiles_column)"
   ]
  },
  {
   "cell_type": "markdown",
   "id": "2326c106",
   "metadata": {},
   "source": [
    "## PMI"
   ]
  },
  {
   "cell_type": "markdown",
   "id": "91a7b4b0",
   "metadata": {},
   "source": [
    "### full molecule"
   ]
  },
  {
   "cell_type": "code",
   "execution_count": 21,
   "id": "5631e4c9",
   "metadata": {},
   "outputs": [],
   "source": [
    "input_filename = \"./ac3drug_am3small/ac3drug_am3small_smiles.csv\"\n",
    "output_filename = \"./ac3drug_am3small/ac3drug_am3small_pmi.csv\"\n",
    "smiles_column = \"largest_cleaned\""
   ]
  },
  {
   "cell_type": "code",
   "execution_count": 22,
   "id": "fc0127ad",
   "metadata": {},
   "outputs": [],
   "source": [
    "data = pd.read_csv(input_filename)"
   ]
  },
  {
   "cell_type": "code",
   "execution_count": 26,
   "id": "95693361",
   "metadata": {},
   "outputs": [
    {
     "data": {
      "application/vnd.jupyter.widget-view+json": {
       "model_id": "38bf1b4862864b47b3c7d986cb7a1288",
       "version_major": 2,
       "version_minor": 0
      },
      "text/plain": [
       "  0%|          | 0/1443 [00:00<?, ?it/s]"
      ]
     },
     "metadata": {},
     "output_type": "display_data"
    }
   ],
   "source": [
    "result = []\n",
    "\n",
    "for s in tqdm(data[smiles_column]):\n",
    "    result.append(molprops_utils.cal_pmi(s))"
   ]
  },
  {
   "cell_type": "code",
   "execution_count": 27,
   "id": "3e726d37",
   "metadata": {},
   "outputs": [],
   "source": [
    "data[\"pmi_x\"] = np.array(result)[:,0]\n",
    "data[\"pmi_y\"] = np.array(result)[:,1]\n",
    "data.to_csv(output_filename,index=False)"
   ]
  },
  {
   "cell_type": "markdown",
   "id": "be4dc870",
   "metadata": {},
   "source": [
    "### reaction center"
   ]
  },
  {
   "cell_type": "code",
   "execution_count": 31,
   "id": "00ad222c",
   "metadata": {},
   "outputs": [],
   "source": [
    "input_filename = \"./ac3drug_am3small/ac3drug_am3small_rxn_centers.csv\"\n",
    "output_filename = \"./ac3drug_am3small/ac3drug_am3small_rxnctr_pmi.csv\"\n",
    "smiles_column = \"pdt_cleaned\""
   ]
  },
  {
   "cell_type": "code",
   "execution_count": 32,
   "id": "796fcc92",
   "metadata": {},
   "outputs": [],
   "source": [
    "data = pd.read_csv(input_filename)"
   ]
  },
  {
   "cell_type": "code",
   "execution_count": 33,
   "id": "8203b9ca",
   "metadata": {},
   "outputs": [
    {
     "data": {
      "application/vnd.jupyter.widget-view+json": {
       "model_id": "77a4b561056f46cbabe19c1b74265369",
       "version_major": 2,
       "version_minor": 0
      },
      "text/plain": [
       "  0%|          | 0/1443 [00:00<?, ?it/s]"
      ]
     },
     "metadata": {},
     "output_type": "display_data"
    }
   ],
   "source": [
    "result = []\n",
    "\n",
    "for s in tqdm(data[smiles_column]):\n",
    "    result.append(molprops_utils.cal_pmi(s))"
   ]
  },
  {
   "cell_type": "code",
   "execution_count": 34,
   "id": "a1bb677a",
   "metadata": {},
   "outputs": [],
   "source": [
    "data[\"pmi_x\"] = np.array(result)[:,0]\n",
    "data[\"pmi_y\"] = np.array(result)[:,1]\n",
    "data.to_csv(output_filename,index=False)"
   ]
  }
 ],
 "metadata": {
  "kernelspec": {
   "display_name": "Python 3 (ipykernel)",
   "language": "python",
   "name": "python3"
  },
  "language_info": {
   "codemirror_mode": {
    "name": "ipython",
    "version": 3
   },
   "file_extension": ".py",
   "mimetype": "text/x-python",
   "name": "python",
   "nbconvert_exporter": "python",
   "pygments_lexer": "ipython3",
   "version": "3.10.8"
  }
 },
 "nbformat": 4,
 "nbformat_minor": 5
}
