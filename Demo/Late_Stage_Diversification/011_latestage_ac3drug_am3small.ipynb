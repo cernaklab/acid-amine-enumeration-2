{
 "cells": [
  {
   "cell_type": "markdown",
   "id": "3e8f8bd2",
   "metadata": {},
   "source": [
    "### late-stage diversification, sp3 acid druglike with sp3 amine"
   ]
  },
  {
   "cell_type": "code",
   "execution_count": 1,
   "id": "e9254f51",
   "metadata": {},
   "outputs": [],
   "source": [
    "from rdkit import Chem\n",
    "from rdkit.Chem import AllChem\n",
    "from rdkit.Chem.Draw import IPythonConsole\n",
    "# from rdkit.Chem.Draw import MolDrawing, DrawingOptions, MolToImage\n",
    "\n",
    "from rdkit import RDLogger\n",
    "lg = RDLogger.logger()\n",
    "lg.setLevel(RDLogger.CRITICAL)\n",
    "\n",
    "import numpy as np\n",
    "import pandas as pd\n",
    "import os\n",
    "\n",
    "from tqdm.notebook import tqdm\n",
    "import SM_amats\n",
    "\n",
    "from molprops_utils import myrules, getSSSR"
   ]
  },
  {
   "cell_type": "code",
   "execution_count": 2,
   "id": "36cddb5f",
   "metadata": {},
   "outputs": [],
   "source": [
    "def apply_amat(acid,acid_match,amine,amine_match,rmat):\n",
    "    \"\"\"\n",
    "    needs the smarts of the acid and amine pre-defined. maybe an external dictionary.\n",
    "    \"\"\"\n",
    "    # combine molecules and make a writable version\n",
    "    both = Chem.CombineMols(acid,amine)\n",
    "    bothW = Chem.RWMol(both)\n",
    "    Chem.Kekulize(both,clearAromaticFlags=True)\n",
    "    Chem.Kekulize(bothW,clearAromaticFlags=True)\n",
    "    \n",
    "    # get the indices for the acid and amine matches. \n",
    "    amine_atoms = both.GetSubstructMatch(group_dict[amine_match])\n",
    "    acid_atoms = both.GetSubstructMatch(group_dict[acid_match])\n",
    "    \n",
    "    if not (amine_atoms and acid_atoms):\n",
    "        print(\"substruct match not found\")\n",
    "        return\n",
    "    # join the indices\n",
    "    atom_list = amine_atoms + acid_atoms\n",
    "#     print(atom_list)\n",
    "    \n",
    "    # go through the amat to find places where the change is not 0\n",
    "    side_len = len(rmat)\n",
    "    \n",
    "    if side_len != len(atom_list):\n",
    "        print(\"matrix length does not equal number of matched atoms\")\n",
    "        return\n",
    "    for r in range(side_len):\n",
    "        for c in range(r+1,side_len):\n",
    "            bond_order_change = rmat[r][c]\n",
    "            if bond_order_change != 0: \n",
    "                atom1 = atom_list[amat2ind[r]]\n",
    "                atom2 = atom_list[amat2ind[c]]\n",
    "                \n",
    "                # get the current bond order\n",
    "                current_bond = both.GetBondBetweenAtoms(atom1,atom2)\n",
    "                if current_bond: \n",
    "                    current_bond_order = current_bond.GetBondTypeAsDouble()                \n",
    "                else: \n",
    "                    current_bond_order = 0\n",
    "                    \n",
    "                new_bond_order = current_bond_order + bond_order_change\n",
    "                \n",
    "                if new_bond_order not in [0,1,2,3]:\n",
    "                    print(\"invalid new bond order\")\n",
    "                    return None\n",
    "                # make bond changes\n",
    "                \n",
    "                bothW.RemoveBond(atom1,atom2)\n",
    "                \n",
    "                if new_bond_order > 0:\n",
    "                    bothW.AddBond(atom1,atom2, bond_dict[new_bond_order])\n",
    "\n",
    "    try:\n",
    "        Chem.SanitizeMol(bothW)\n",
    "\n",
    "    except:\n",
    "#         print(\"illegal structure\")\n",
    "        return None\n",
    "\n",
    "    # may need to become smiles if we want to multitarget, as well as have fragments included.\n",
    "    return bothW\n"
   ]
  },
  {
   "cell_type": "markdown",
   "id": "1a304642",
   "metadata": {},
   "source": [
    "### we tag the alpha and beta carbons as isotopes, for more precise matching"
   ]
  },
  {
   "cell_type": "code",
   "execution_count": 3,
   "id": "f98f710b",
   "metadata": {},
   "outputs": [],
   "source": [
    "sp3_acid_smiles = \"O=C1N(C2=CC=C([16C@H]([17C]([18O])=[17O])[15C]C)C=C2)CC3=C(F)C=CC=C31\""
   ]
  },
  {
   "cell_type": "code",
   "execution_count": 4,
   "id": "36a4b6b1",
   "metadata": {},
   "outputs": [
    {
     "data": {
      "image/png": "[encoded data removed]",
      "text/plain": [
       "<rdkit.Chem.rdchem.Mol at 0x1ee473ae860>"
      ]
     },
     "execution_count": 4,
     "metadata": {},
     "output_type": "execute_result"
    }
   ],
   "source": [
    "# sp3_acid_smiles = '[17O]=[17C]([18O])[16C]([15C]c1cnc[nH]1)N1C(=O)c2ccccc2C1=O'\n",
    "couple_acid = Chem.MolFromSmiles(sp3_acid_smiles)\n",
    "couple_acid"
   ]
  },
  {
   "cell_type": "code",
   "execution_count": 5,
   "id": "8424dc1e",
   "metadata": {},
   "outputs": [],
   "source": [
    "sp3_amine_smiles = \"[15N][14C@H]([13C])C1=C(F)C=CC=C1\""
   ]
  },
  {
   "cell_type": "code",
   "execution_count": 6,
   "id": "ef256958",
   "metadata": {},
   "outputs": [
    {
     "data": {
      "image/png": "[encoded data removed]",
      "text/plain": [
       "<rdkit.Chem.rdchem.Mol at 0x1ee473af220>"
      ]
     },
     "execution_count": 6,
     "metadata": {},
     "output_type": "execute_result"
    }
   ],
   "source": [
    "# sp3_amine_smiles = \"[15N][14C][13C]C1CCC(N)C1\"\n",
    "couple_amine = Chem.MolFromSmiles(sp3_amine_smiles)\n",
    "couple_amine"
   ]
  },
  {
   "cell_type": "code",
   "execution_count": 7,
   "id": "bd843449",
   "metadata": {},
   "outputs": [],
   "source": [
    "am2 = Chem.MolFromSmarts(\"[CX3]=[CX3][NH2]\")\n",
    "ac2 = Chem.MolFromSmarts(\"[CX3][CX3][CX3](=O)[OX2H1]\")\n",
    "am3 = Chem.MolFromSmarts(\"[13C][14C][15N]\")\n",
    "ac3 = Chem.MolFromSmarts(\"[15C][16C][17C](=[17O])[18O]\")\n",
    "\n",
    "\n",
    "group_dict = {\"ac2\":ac2, \"ac3\":ac3,\"am2\":am2,\"am3\":am3}\n",
    "\n",
    "# make a mapping dictionary.\n",
    "# the dictionary is basically, first entry is amine C1. second entry is amine C2. \n",
    "# this changes depending on the matrix, and how the smarts for the matcher is written. \n",
    "\n",
    "# number of entries in the amat\n",
    "amat_indices = range(8)\n",
    "# which entry each index should map to\n",
    "mapping_order = [0,1,3,4,5,2,6,7]\n",
    "# mapping_order = [3,4,5,0,1,2,6,7]\n",
    "\n",
    "# amat index -> amine/acid match index\n",
    "amat2ind = {k:v for k,v in zip(amat_indices, mapping_order)}\n",
    "\n",
    "bond_dict = {1:Chem.BondType.SINGLE, 2:Chem.BondType.DOUBLE, 3:Chem.BondType.TRIPLE}"
   ]
  },
  {
   "cell_type": "markdown",
   "id": "42a25bb9",
   "metadata": {},
   "source": [
    "### check that the substruct matching hits the right region"
   ]
  },
  {
   "cell_type": "code",
   "execution_count": 8,
   "id": "f1a42b1d",
   "metadata": {},
   "outputs": [
    {
     "data": {
      "image/png": "[encoded data removed]",
      "text/plain": [
       "<rdkit.Chem.rdchem.Mol at 0x1ee473ae860>"
      ]
     },
     "execution_count": 8,
     "metadata": {},
     "output_type": "execute_result"
    }
   ],
   "source": [
    "couple_acid.GetSubstructMatch(ac3)\n",
    "couple_acid"
   ]
  },
  {
   "cell_type": "code",
   "execution_count": 9,
   "id": "1420cfed",
   "metadata": {},
   "outputs": [
    {
     "data": {
      "image/png": "[encoded data removed]",
      "text/plain": [
       "<rdkit.Chem.rdchem.Mol at 0x1ee473af220>"
      ]
     },
     "execution_count": 9,
     "metadata": {},
     "output_type": "execute_result"
    }
   ],
   "source": [
    "couple_amine.GetSubstructMatch(am3)\n",
    "couple_amine"
   ]
  },
  {
   "cell_type": "markdown",
   "id": "0f5b3c0b",
   "metadata": {},
   "source": [
    "### the product matrices and product distances need to be computed before the code below is run."
   ]
  },
  {
   "cell_type": "code",
   "execution_count": 10,
   "id": "34ec809c",
   "metadata": {},
   "outputs": [],
   "source": [
    "if not os.path.exists(\"./ac3drug_am3small/\"):\n",
    "    os.makedirs(\"./ac3drug_am3small/\")"
   ]
  },
  {
   "cell_type": "code",
   "execution_count": 11,
   "id": "5c6dfcbf",
   "metadata": {},
   "outputs": [],
   "source": [
    "def run_enumeration(file_tag):\n",
    "    index_start = file_tag * 1000000\n",
    "    file_tag_str = str(file_tag).zfill(2)\n",
    "\n",
    "    dmats = np.load(f\"../rxn_mats/dmats_ac3_am3_{file_tag_str}.npy\")\n",
    "    amats_valid = pd.read_csv(f\"../data_files/smiles_min_dist_6/smiles_md6_{file_tag_str}.csv\",index_col=0)\n",
    "    \n",
    "    amats_valid = amats_valid[amats_valid.ac3_am3 <= 6].copy()\n",
    "    amats_valid.reset_index(drop=True,inplace=True)\n",
    "    \n",
    "    out_file = open(f\"./ac3drug_am3small/matrix_coupling_{file_tag_str}.csv\",\"w\")\n",
    "    \n",
    "    out_file.write(\"rmat_tag,pdt_smiles\\n\")\n",
    "    \n",
    "    for i in amats_valid.local_index:\n",
    "        \n",
    "        try:\n",
    "            matrix_index = index_start + i\n",
    "            m = apply_amat(couple_acid,\"ac3\",couple_amine,\"am3\",dmats[i])\n",
    "            s = Chem.MolToSmiles(m,isomericSmiles=True)\n",
    "            out_file.write(f\"{index_start+i},{s}\\n\")\n",
    "        except:\n",
    "#             print(i)\n",
    "            continue\n",
    "    out_file.close()\n",
    "    "
   ]
  },
  {
   "cell_type": "markdown",
   "id": "57d7351c",
   "metadata": {},
   "source": [
    "### run the coupling script"
   ]
  },
  {
   "cell_type": "code",
   "execution_count": 12,
   "id": "0919f63b",
   "metadata": {},
   "outputs": [
    {
     "data": {
      "application/vnd.jupyter.widget-view+json": {
       "model_id": "7bf1700315ab428081e5d44a63050349",
       "version_major": 2,
       "version_minor": 0
      },
      "text/plain": [
       "  0%|          | 0/56 [00:00<?, ?it/s]"
      ]
     },
     "metadata": {},
     "output_type": "display_data"
    }
   ],
   "source": [
    "# 2 minutes on a single core\n",
    "for i in tqdm(range(56)):\n",
    "    run_enumeration(i)"
   ]
  },
  {
   "cell_type": "markdown",
   "id": "4d2a9de3",
   "metadata": {},
   "source": [
    "### for processing - we only want products that have at least one atom from the acid, and amine portions"
   ]
  },
  {
   "cell_type": "code",
   "execution_count": 13,
   "id": "1e027f4c",
   "metadata": {},
   "outputs": [],
   "source": [
    "acid_parts = [\"[15C]\",\"[16C]\",\"[17C]\",\"[15c]\",\"[16c]\",\"[17c]\",\"[17O]\",\"[18O]\",\"[17o]\",\"[18o]\"]\n",
    "amine_parts = [\"[13C]\",\"[14C]\",\"[13c]\",\"[14c]\",\"[15N]\",\"[15n]\"]\n",
    "\n",
    "def check_smiles(s):\n",
    "    coupled_smiles = []\n",
    "    split_smiles = s.split(\".\")\n",
    "    \n",
    "    for ss in split_smiles:\n",
    "        if ss.count(\"F\") == 2:\n",
    "            if any([i in ss for i in acid_parts]) and any([i in ss for i in amine_parts]):\n",
    "                coupled_smiles.append(ss)\n",
    "                \n",
    "    if len(coupled_smiles) == 0:\n",
    "        return \"C\"\n",
    "    \n",
    "    else:\n",
    "        atom_counts = [count_atoms(s) for s in coupled_smiles]\n",
    "        largest_frag_ind = np.argmax(atom_counts)\n",
    "        return coupled_smiles[largest_frag_ind]\n",
    "            \n",
    "def count_atoms(s):\n",
    "    alphab = \"CONcon\"\n",
    "    return len([i for i in s if i in alphab])            "
   ]
  },
  {
   "cell_type": "code",
   "execution_count": 14,
   "id": "265f884e",
   "metadata": {},
   "outputs": [
    {
     "data": {
      "application/vnd.jupyter.widget-view+json": {
       "model_id": "cfee2f3a90f244f2912ae9f37e3d9998",
       "version_major": 2,
       "version_minor": 0
      },
      "text/plain": [
       "  0%|          | 0/56 [00:00<?, ?it/s]"
      ]
     },
     "metadata": {},
     "output_type": "display_data"
    }
   ],
   "source": [
    "all_coupling_data = []\n",
    "for file_tag in tqdm(range(56)):\n",
    "    \n",
    "    file_tag_str = str(file_tag).zfill(2)\n",
    "    \n",
    "    distance_data = pd.read_csv(f\"../data_files/smiles_min_dist_6/smiles_md6_{file_tag_str}.csv\")\n",
    "    coupling_data = pd.read_csv(f\"./ac3drug_am3small/matrix_coupling_{file_tag_str}.csv\")\n",
    "\n",
    "    raw_tags = list(coupling_data.rmat_tag - file_tag*1000000)\n",
    "    coupling_dists = list(distance_data[distance_data.local_index.isin(raw_tags)].ac3_am3)\n",
    "\n",
    "    coupling_data[\"distance\"] = coupling_dists\n",
    "\n",
    "\n",
    "    largest_frag = []\n",
    "    for s in coupling_data.pdt_smiles:\n",
    "        largest_frag.append(check_smiles(s))\n",
    "    coupling_data[\"largest_frag\"] = largest_frag\n",
    "    \n",
    "    # remove duplicates\n",
    "    coupling_data.sort_values(\"distance\",inplace=True)\n",
    "    coupling_data.drop_duplicates(subset=\"largest_frag\",inplace=True)\n",
    "    coupling_data.sort_values(\"rmat_tag\",inplace=True)\n",
    "\n",
    "\n",
    "    all_coupling_data.append(coupling_data)"
   ]
  },
  {
   "cell_type": "markdown",
   "id": "6ad3fc38",
   "metadata": {},
   "source": [
    "### clean up"
   ]
  },
  {
   "cell_type": "code",
   "execution_count": 15,
   "id": "f82aef66",
   "metadata": {},
   "outputs": [],
   "source": [
    "all_coupling_df = pd.concat(all_coupling_data)\n",
    "all_coupling_df.sort_values(\"distance\",inplace=True)\n",
    "\n",
    "all_coupling_df.drop_duplicates(subset=\"largest_frag\",inplace=True)\n",
    "all_coupling_df.sort_values(\"rmat_tag\",inplace=True)\n",
    "\n",
    "all_coupling_df = all_coupling_df[all_coupling_df.largest_frag!=\"C\"].copy()"
   ]
  },
  {
   "cell_type": "code",
   "execution_count": 16,
   "id": "102409f5",
   "metadata": {},
   "outputs": [
    {
     "data": {
      "text/html": [
       "<div>\n",
       "<style scoped>\n",
       "    .dataframe tbody tr th:only-of-type {\n",
       "        vertical-align: middle;\n",
       "    }\n",
       "\n",
       "    .dataframe tbody tr th {\n",
       "        vertical-align: top;\n",
       "    }\n",
       "\n",
       "    .dataframe thead th {\n",
       "        text-align: right;\n",
       "    }\n",
       "</style>\n",
       "<table border=\"1\" class=\"dataframe\">\n",
       "  <thead>\n",
       "    <tr style=\"text-align: right;\">\n",
       "      <th></th>\n",
       "      <th>rmat_tag</th>\n",
       "      <th>pdt_smiles</th>\n",
       "      <th>distance</th>\n",
       "      <th>largest_frag</th>\n",
       "    </tr>\n",
       "  </thead>\n",
       "  <tbody>\n",
       "    <tr>\n",
       "      <th>599</th>\n",
       "      <td>41194</td>\n",
       "      <td>C[15C].[13C].[15N][17O][17C]([16CH]c1ccc(N2Cc3...</td>\n",
       "      <td>6.0</td>\n",
       "      <td>[15N][17O][17C]([16CH]c1ccc(N2Cc3c(F)cccc3C2=O...</td>\n",
       "    </tr>\n",
       "    <tr>\n",
       "      <th>603</th>\n",
       "      <td>41213</td>\n",
       "      <td>C[15C].[13C].[15N][17C]([17O])([16CH]c1ccc(N2C...</td>\n",
       "      <td>6.0</td>\n",
       "      <td>[15N][17C]([17O])([16CH]c1ccc(N2Cc3c(F)cccc3C2...</td>\n",
       "    </tr>\n",
       "    <tr>\n",
       "      <th>607</th>\n",
       "      <td>41316</td>\n",
       "      <td>C[15C].[13C].[15N][16C@H](c1ccc(N2Cc3c(F)cccc3...</td>\n",
       "      <td>6.0</td>\n",
       "      <td>[15N][16C@H](c1ccc(N2Cc3c(F)cccc3C2=O)cc1)[17C...</td>\n",
       "    </tr>\n",
       "    <tr>\n",
       "      <th>609</th>\n",
       "      <td>41320</td>\n",
       "      <td>C[15C].[13C].[15N][16C@H](c1ccc(N2Cc3c(F)cccc3...</td>\n",
       "      <td>5.0</td>\n",
       "      <td>[15N][16C@H](c1ccc(N2Cc3c(F)cccc3C2=O)cc1)[17C...</td>\n",
       "    </tr>\n",
       "    <tr>\n",
       "      <th>618</th>\n",
       "      <td>42829</td>\n",
       "      <td>C[15C][15N][16C@H](c1ccc(N2Cc3c(F)cccc3C2=O)cc...</td>\n",
       "      <td>6.0</td>\n",
       "      <td>C[15C][15N][16C@H](c1ccc(N2Cc3c(F)cccc3C2=O)cc...</td>\n",
       "    </tr>\n",
       "    <tr>\n",
       "      <th>...</th>\n",
       "      <td>...</td>\n",
       "      <td>...</td>\n",
       "      <td>...</td>\n",
       "      <td>...</td>\n",
       "    </tr>\n",
       "    <tr>\n",
       "      <th>150</th>\n",
       "      <td>54975474</td>\n",
       "      <td>C[15C](=[13C]=[14CH]c1ccccc1F)[16C@@H]([17C]=[...</td>\n",
       "      <td>5.0</td>\n",
       "      <td>C[15C](=[13C]=[14CH]c1ccccc1F)[16C@@H]([17C]=[...</td>\n",
       "    </tr>\n",
       "    <tr>\n",
       "      <th>152</th>\n",
       "      <td>54975477</td>\n",
       "      <td>C[15C](=[13C]=[14CH]c1ccccc1F)[16C@H](c1ccc(N2...</td>\n",
       "      <td>4.0</td>\n",
       "      <td>C[15C](=[13C]=[14CH]c1ccccc1F)[16C@H](c1ccc(N2...</td>\n",
       "    </tr>\n",
       "    <tr>\n",
       "      <th>153</th>\n",
       "      <td>54975478</td>\n",
       "      <td>C[15C](=[13C]=[14CH]c1ccccc1F)[16C@H](c1ccc(N2...</td>\n",
       "      <td>5.0</td>\n",
       "      <td>C[15C](=[13C]=[14CH]c1ccccc1F)[16C@H](c1ccc(N2...</td>\n",
       "    </tr>\n",
       "    <tr>\n",
       "      <th>154</th>\n",
       "      <td>54975507</td>\n",
       "      <td>C[15C](=[13C]=[14CH]c1ccccc1F)[16C@H](c1ccc(N2...</td>\n",
       "      <td>6.0</td>\n",
       "      <td>C[15C](=[13C]=[14CH]c1ccccc1F)[16C@H](c1ccc(N2...</td>\n",
       "    </tr>\n",
       "    <tr>\n",
       "      <th>155</th>\n",
       "      <td>54975512</td>\n",
       "      <td>C[15C](=[13C]=[14CH]c1ccccc1F)[16C@H](c1ccc(N2...</td>\n",
       "      <td>6.0</td>\n",
       "      <td>C[15C](=[13C]=[14CH]c1ccccc1F)[16C@H](c1ccc(N2...</td>\n",
       "    </tr>\n",
       "  </tbody>\n",
       "</table>\n",
       "<p>21242 rows × 4 columns</p>\n",
       "</div>"
      ],
      "text/plain": [
       "     rmat_tag                                         pdt_smiles  distance  \\\n",
       "599     41194  C[15C].[13C].[15N][17O][17C]([16CH]c1ccc(N2Cc3...       6.0   \n",
       "603     41213  C[15C].[13C].[15N][17C]([17O])([16CH]c1ccc(N2C...       6.0   \n",
       "607     41316  C[15C].[13C].[15N][16C@H](c1ccc(N2Cc3c(F)cccc3...       6.0   \n",
       "609     41320  C[15C].[13C].[15N][16C@H](c1ccc(N2Cc3c(F)cccc3...       5.0   \n",
       "618     42829  C[15C][15N][16C@H](c1ccc(N2Cc3c(F)cccc3C2=O)cc...       6.0   \n",
       "..        ...                                                ...       ...   \n",
       "150  54975474  C[15C](=[13C]=[14CH]c1ccccc1F)[16C@@H]([17C]=[...       5.0   \n",
       "152  54975477  C[15C](=[13C]=[14CH]c1ccccc1F)[16C@H](c1ccc(N2...       4.0   \n",
       "153  54975478  C[15C](=[13C]=[14CH]c1ccccc1F)[16C@H](c1ccc(N2...       5.0   \n",
       "154  54975507  C[15C](=[13C]=[14CH]c1ccccc1F)[16C@H](c1ccc(N2...       6.0   \n",
       "155  54975512  C[15C](=[13C]=[14CH]c1ccccc1F)[16C@H](c1ccc(N2...       6.0   \n",
       "\n",
       "                                          largest_frag  \n",
       "599  [15N][17O][17C]([16CH]c1ccc(N2Cc3c(F)cccc3C2=O...  \n",
       "603  [15N][17C]([17O])([16CH]c1ccc(N2Cc3c(F)cccc3C2...  \n",
       "607  [15N][16C@H](c1ccc(N2Cc3c(F)cccc3C2=O)cc1)[17C...  \n",
       "609  [15N][16C@H](c1ccc(N2Cc3c(F)cccc3C2=O)cc1)[17C...  \n",
       "618  C[15C][15N][16C@H](c1ccc(N2Cc3c(F)cccc3C2=O)cc...  \n",
       "..                                                 ...  \n",
       "150  C[15C](=[13C]=[14CH]c1ccccc1F)[16C@@H]([17C]=[...  \n",
       "152  C[15C](=[13C]=[14CH]c1ccccc1F)[16C@H](c1ccc(N2...  \n",
       "153  C[15C](=[13C]=[14CH]c1ccccc1F)[16C@H](c1ccc(N2...  \n",
       "154  C[15C](=[13C]=[14CH]c1ccccc1F)[16C@H](c1ccc(N2...  \n",
       "155  C[15C](=[13C]=[14CH]c1ccccc1F)[16C@H](c1ccc(N2...  \n",
       "\n",
       "[21242 rows x 4 columns]"
      ]
     },
     "execution_count": 16,
     "metadata": {},
     "output_type": "execute_result"
    }
   ],
   "source": [
    "all_coupling_df"
   ]
  },
  {
   "cell_type": "markdown",
   "id": "df7e610d",
   "metadata": {},
   "source": [
    "### ring strain filter"
   ]
  },
  {
   "cell_type": "code",
   "execution_count": 17,
   "id": "ac8f4ab9",
   "metadata": {},
   "outputs": [],
   "source": [
    "def check_bredt(s):\n",
    "    m = Chem.MolFromSmiles(s)\n",
    "\n",
    "    if not any([m.HasSubstructMatch(patt) for patt in myrules]):\n",
    "        return True\n",
    "    else:\n",
    "        return False"
   ]
  },
  {
   "cell_type": "code",
   "execution_count": 18,
   "id": "55ce8d1b",
   "metadata": {},
   "outputs": [
    {
     "data": {
      "application/vnd.jupyter.widget-view+json": {
       "model_id": "a39d7698d73843e092e03b95a8109b82",
       "version_major": 2,
       "version_minor": 0
      },
      "text/plain": [
       "  0%|          | 0/21242 [00:00<?, ?it/s]"
      ]
     },
     "metadata": {},
     "output_type": "display_data"
    }
   ],
   "source": [
    "bredt_check = []\n",
    "for frg in tqdm(all_coupling_df.largest_frag):\n",
    "    bredt_check.append(check_bredt(frg))"
   ]
  },
  {
   "cell_type": "code",
   "execution_count": 19,
   "id": "be5a9620",
   "metadata": {},
   "outputs": [],
   "source": [
    "all_coupling_df[\"bredt\"] = bredt_check"
   ]
  },
  {
   "cell_type": "code",
   "execution_count": 20,
   "id": "1a557109",
   "metadata": {},
   "outputs": [
    {
     "data": {
      "text/html": [
       "<div>\n",
       "<style scoped>\n",
       "    .dataframe tbody tr th:only-of-type {\n",
       "        vertical-align: middle;\n",
       "    }\n",
       "\n",
       "    .dataframe tbody tr th {\n",
       "        vertical-align: top;\n",
       "    }\n",
       "\n",
       "    .dataframe thead th {\n",
       "        text-align: right;\n",
       "    }\n",
       "</style>\n",
       "<table border=\"1\" class=\"dataframe\">\n",
       "  <thead>\n",
       "    <tr style=\"text-align: right;\">\n",
       "      <th></th>\n",
       "      <th>rmat_tag</th>\n",
       "      <th>pdt_smiles</th>\n",
       "      <th>distance</th>\n",
       "      <th>largest_frag</th>\n",
       "      <th>bredt</th>\n",
       "    </tr>\n",
       "  </thead>\n",
       "  <tbody>\n",
       "    <tr>\n",
       "      <th>0</th>\n",
       "      <td>41194</td>\n",
       "      <td>C[15C].[13C].[15N][17O][17C]([16CH]c1ccc(N2Cc3...</td>\n",
       "      <td>6.0</td>\n",
       "      <td>[15N][17O][17C]([16CH]c1ccc(N2Cc3c(F)cccc3C2=O...</td>\n",
       "      <td>True</td>\n",
       "    </tr>\n",
       "    <tr>\n",
       "      <th>1</th>\n",
       "      <td>41213</td>\n",
       "      <td>C[15C].[13C].[15N][17C]([17O])([16CH]c1ccc(N2C...</td>\n",
       "      <td>6.0</td>\n",
       "      <td>[15N][17C]([17O])([16CH]c1ccc(N2Cc3c(F)cccc3C2...</td>\n",
       "      <td>True</td>\n",
       "    </tr>\n",
       "    <tr>\n",
       "      <th>2</th>\n",
       "      <td>41316</td>\n",
       "      <td>C[15C].[13C].[15N][16C@H](c1ccc(N2Cc3c(F)cccc3...</td>\n",
       "      <td>6.0</td>\n",
       "      <td>[15N][16C@H](c1ccc(N2Cc3c(F)cccc3C2=O)cc1)[17C...</td>\n",
       "      <td>True</td>\n",
       "    </tr>\n",
       "    <tr>\n",
       "      <th>3</th>\n",
       "      <td>41320</td>\n",
       "      <td>C[15C].[13C].[15N][16C@H](c1ccc(N2Cc3c(F)cccc3...</td>\n",
       "      <td>5.0</td>\n",
       "      <td>[15N][16C@H](c1ccc(N2Cc3c(F)cccc3C2=O)cc1)[17C...</td>\n",
       "      <td>True</td>\n",
       "    </tr>\n",
       "    <tr>\n",
       "      <th>4</th>\n",
       "      <td>42829</td>\n",
       "      <td>C[15C][15N][16C@H](c1ccc(N2Cc3c(F)cccc3C2=O)cc...</td>\n",
       "      <td>6.0</td>\n",
       "      <td>C[15C][15N][16C@H](c1ccc(N2Cc3c(F)cccc3C2=O)cc...</td>\n",
       "      <td>True</td>\n",
       "    </tr>\n",
       "  </tbody>\n",
       "</table>\n",
       "</div>"
      ],
      "text/plain": [
       "  rmat_tag                                         pdt_smiles  distance  \\\n",
       "0    41194  C[15C].[13C].[15N][17O][17C]([16CH]c1ccc(N2Cc3...       6.0   \n",
       "1    41213  C[15C].[13C].[15N][17C]([17O])([16CH]c1ccc(N2C...       6.0   \n",
       "2    41316  C[15C].[13C].[15N][16C@H](c1ccc(N2Cc3c(F)cccc3...       6.0   \n",
       "3    41320  C[15C].[13C].[15N][16C@H](c1ccc(N2Cc3c(F)cccc3...       5.0   \n",
       "4    42829  C[15C][15N][16C@H](c1ccc(N2Cc3c(F)cccc3C2=O)cc...       6.0   \n",
       "\n",
       "                                        largest_frag  bredt  \n",
       "0  [15N][17O][17C]([16CH]c1ccc(N2Cc3c(F)cccc3C2=O...   True  \n",
       "1  [15N][17C]([17O])([16CH]c1ccc(N2Cc3c(F)cccc3C2...   True  \n",
       "2  [15N][16C@H](c1ccc(N2Cc3c(F)cccc3C2=O)cc1)[17C...   True  \n",
       "3  [15N][16C@H](c1ccc(N2Cc3c(F)cccc3C2=O)cc1)[17C...   True  \n",
       "4  C[15C][15N][16C@H](c1ccc(N2Cc3c(F)cccc3C2=O)cc...   True  "
      ]
     },
     "execution_count": 20,
     "metadata": {},
     "output_type": "execute_result"
    }
   ],
   "source": [
    "all_coupling_df_bredt = all_coupling_df[all_coupling_df.bredt].copy()\n",
    "all_coupling_df_bredt.reset_index(drop=True,inplace=True)\n",
    "all_coupling_df_bredt.head()"
   ]
  },
  {
   "cell_type": "markdown",
   "id": "719d0130",
   "metadata": {},
   "source": [
    "### clean up the isotope tags"
   ]
  },
  {
   "cell_type": "code",
   "execution_count": 21,
   "id": "dbb62ab6",
   "metadata": {},
   "outputs": [],
   "source": [
    "acid_parts = [\"[15C]\",\"[16C]\",\"[17C]\",\"[15c]\",\"[16c]\",\"[17c]\",\"[17O]\",\"[18O]\",\"[17o]\",\"[18o]\"]\n",
    "amine_parts = [\"[13C]\",\"[14C]\",\"[13c]\",\"[14c]\",\"[15N]\",\"[15n]\"]\n",
    "tag_part = Chem.MolFromSmarts(\"[F]\")\n",
    "# replace isotopes with non-isotopes\n",
    "def clean_structure(s):\n",
    "    temp = s\n",
    "    \n",
    "    for i in acid_parts + amine_parts:\n",
    "        temp = temp.replace(i,i[-2])\n",
    "        \n",
    "    temp_m = Chem.MolFromSmiles(temp)\n",
    "    temp_out = AllChem.DeleteSubstructs(temp_m,tag_part)\n",
    "    \n",
    "    return Chem.MolToSmiles(temp_out,isomericSmiles=True)\n",
    "\n",
    "# replace isotopic stereocenters with non-isotopic ones\n",
    "def clean_stereo_C(s):\n",
    "    temp = s\n",
    "    iso = [\"[16CH]\",\"[16C@H]\",\"[16C@@H]\",\"[14CH]\",\"[14C@H]\",\"[14C@@H]\"]\n",
    "    non_iso = [\"C\",\"[C@H]\",\"[C@@H]\",\"C\",\"[C@H]\",\"[C@@H]\"]\n",
    "    for i in range(len(iso)):\n",
    "        temp = temp.replace(iso[i],non_iso[i])\n",
    "        \n",
    "    return temp"
   ]
  },
  {
   "cell_type": "code",
   "execution_count": 22,
   "id": "23adef25",
   "metadata": {},
   "outputs": [
    {
     "data": {
      "application/vnd.jupyter.widget-view+json": {
       "model_id": "39ecb03fae97457a938c2cbe33585677",
       "version_major": 2,
       "version_minor": 0
      },
      "text/plain": [
       "  0%|          | 0/20997 [00:00<?, ?it/s]"
      ]
     },
     "metadata": {},
     "output_type": "display_data"
    }
   ],
   "source": [
    "s_cleaned = []\n",
    "for s in tqdm(list(all_coupling_df_bredt['largest_frag'])):\n",
    "    s_cleaned.append(clean_structure(s))"
   ]
  },
  {
   "cell_type": "code",
   "execution_count": 23,
   "id": "f4c83502",
   "metadata": {},
   "outputs": [],
   "source": [
    "stereo_cleaned = []\n",
    "for s in s_cleaned:\n",
    "    stereo_cleaned.append(clean_stereo_C(s))\n",
    "    \n",
    "all_coupling_df_bredt[\"largest_cleaned\"] = stereo_cleaned"
   ]
  },
  {
   "cell_type": "code",
   "execution_count": 24,
   "id": "58b6177a",
   "metadata": {},
   "outputs": [
    {
     "data": {
      "text/html": [
       "<div>\n",
       "<style scoped>\n",
       "    .dataframe tbody tr th:only-of-type {\n",
       "        vertical-align: middle;\n",
       "    }\n",
       "\n",
       "    .dataframe tbody tr th {\n",
       "        vertical-align: top;\n",
       "    }\n",
       "\n",
       "    .dataframe thead th {\n",
       "        text-align: right;\n",
       "    }\n",
       "</style>\n",
       "<table border=\"1\" class=\"dataframe\">\n",
       "  <thead>\n",
       "    <tr style=\"text-align: right;\">\n",
       "      <th></th>\n",
       "      <th>rmat_tag</th>\n",
       "      <th>pdt_smiles</th>\n",
       "      <th>distance</th>\n",
       "      <th>largest_frag</th>\n",
       "      <th>bredt</th>\n",
       "      <th>largest_cleaned</th>\n",
       "    </tr>\n",
       "  </thead>\n",
       "  <tbody>\n",
       "    <tr>\n",
       "      <th>16650</th>\n",
       "      <td>44332191</td>\n",
       "      <td>C[15C]([13C][14C@@H]([15N])c1ccccc1F)[16C@H](c...</td>\n",
       "      <td>1.0</td>\n",
       "      <td>C[15C]([13C][14C@@H]([15N])c1ccccc1F)[16C@H](c...</td>\n",
       "      <td>True</td>\n",
       "      <td>CC(C[C@@H](N)c1ccccc1)[C@@H](C(=O)O)c1ccc(N2Cc...</td>\n",
       "    </tr>\n",
       "    <tr>\n",
       "      <th>8575</th>\n",
       "      <td>34889467</td>\n",
       "      <td>C[15C][16C@H](c1ccc(N2Cc3c(F)cccc3C2=O)cc1)[17...</td>\n",
       "      <td>1.0</td>\n",
       "      <td>C[15C][16C@H](c1ccc(N2Cc3c(F)cccc3C2=O)cc1)[17...</td>\n",
       "      <td>True</td>\n",
       "      <td>CC[C@@H](C(=O)OC[C@@H](N)c1ccccc1)c1ccc(N2Cc3c...</td>\n",
       "    </tr>\n",
       "    <tr>\n",
       "      <th>6894</th>\n",
       "      <td>34093102</td>\n",
       "      <td>C[15C][16C@H](c1ccc(N2Cc3c(F)cccc3C2=O)cc1)[17...</td>\n",
       "      <td>1.0</td>\n",
       "      <td>C[15C][16C@H](c1ccc(N2Cc3c(F)cccc3C2=O)cc1)[17...</td>\n",
       "      <td>True</td>\n",
       "      <td>CC[C@@H](C(=O)ON[C@H](C)c1ccccc1)c1ccc(N2Cc3cc...</td>\n",
       "    </tr>\n",
       "    <tr>\n",
       "      <th>7151</th>\n",
       "      <td>34095151</td>\n",
       "      <td>C[15C]([15N][14C@H]([13C])c1ccccc1F)[16C@H](c1...</td>\n",
       "      <td>1.0</td>\n",
       "      <td>C[15C]([15N][14C@H]([13C])c1ccccc1F)[16C@H](c1...</td>\n",
       "      <td>True</td>\n",
       "      <td>CC(N[C@H](C)c1ccccc1)[C@@H](C(=O)O)c1ccc(N2Cc3...</td>\n",
       "    </tr>\n",
       "    <tr>\n",
       "      <th>7143</th>\n",
       "      <td>34095143</td>\n",
       "      <td>C[15C]([15N][14C@H]([13C])c1ccccc1F)[16C@H](c1...</td>\n",
       "      <td>2.0</td>\n",
       "      <td>C[15C]([15N][14C@H]([13C])c1ccccc1F)[16C@H](c1...</td>\n",
       "      <td>True</td>\n",
       "      <td>CC(N[C@H](C)c1ccccc1)[C@H](c1ccc(N2Cc3ccccc3C2...</td>\n",
       "    </tr>\n",
       "  </tbody>\n",
       "</table>\n",
       "</div>"
      ],
      "text/plain": [
       "       rmat_tag                                         pdt_smiles  distance  \\\n",
       "16650  44332191  C[15C]([13C][14C@@H]([15N])c1ccccc1F)[16C@H](c...       1.0   \n",
       "8575   34889467  C[15C][16C@H](c1ccc(N2Cc3c(F)cccc3C2=O)cc1)[17...       1.0   \n",
       "6894   34093102  C[15C][16C@H](c1ccc(N2Cc3c(F)cccc3C2=O)cc1)[17...       1.0   \n",
       "7151   34095151  C[15C]([15N][14C@H]([13C])c1ccccc1F)[16C@H](c1...       1.0   \n",
       "7143   34095143  C[15C]([15N][14C@H]([13C])c1ccccc1F)[16C@H](c1...       2.0   \n",
       "\n",
       "                                            largest_frag  bredt  \\\n",
       "16650  C[15C]([13C][14C@@H]([15N])c1ccccc1F)[16C@H](c...   True   \n",
       "8575   C[15C][16C@H](c1ccc(N2Cc3c(F)cccc3C2=O)cc1)[17...   True   \n",
       "6894   C[15C][16C@H](c1ccc(N2Cc3c(F)cccc3C2=O)cc1)[17...   True   \n",
       "7151   C[15C]([15N][14C@H]([13C])c1ccccc1F)[16C@H](c1...   True   \n",
       "7143   C[15C]([15N][14C@H]([13C])c1ccccc1F)[16C@H](c1...   True   \n",
       "\n",
       "                                         largest_cleaned  \n",
       "16650  CC(C[C@@H](N)c1ccccc1)[C@@H](C(=O)O)c1ccc(N2Cc...  \n",
       "8575   CC[C@@H](C(=O)OC[C@@H](N)c1ccccc1)c1ccc(N2Cc3c...  \n",
       "6894   CC[C@@H](C(=O)ON[C@H](C)c1ccccc1)c1ccc(N2Cc3cc...  \n",
       "7151   CC(N[C@H](C)c1ccccc1)[C@@H](C(=O)O)c1ccc(N2Cc3...  \n",
       "7143   CC(N[C@H](C)c1ccccc1)[C@H](c1ccc(N2Cc3ccccc3C2...  "
      ]
     },
     "execution_count": 24,
     "metadata": {},
     "output_type": "execute_result"
    }
   ],
   "source": [
    "all_coupling_df_bredt.sort_values(\"distance\",inplace=True)\n",
    "all_coupling_df_bredt.drop_duplicates(subset=\"largest_cleaned\",inplace=True)\n",
    "all_coupling_df_bredt.head()"
   ]
  },
  {
   "cell_type": "markdown",
   "id": "23eef45f",
   "metadata": {},
   "source": [
    "### save."
   ]
  },
  {
   "cell_type": "code",
   "execution_count": 25,
   "id": "a39d36bd",
   "metadata": {},
   "outputs": [],
   "source": [
    "all_coupling_df_bredt[[\"rmat_tag\",\"distance\",\"largest_frag\",\"largest_cleaned\"]].to_csv(\"./ac3drug_am3small/ac3drug_am3small_smiles.csv\",index=False)"
   ]
  }
 ],
 "metadata": {
  "kernelspec": {
   "display_name": "Python 3 (ipykernel)",
   "language": "python",
   "name": "python3"
  },
  "language_info": {
   "codemirror_mode": {
    "name": "ipython",
    "version": 3
   },
   "file_extension": ".py",
   "mimetype": "text/x-python",
   "name": "python",
   "nbconvert_exporter": "python",
   "pygments_lexer": "ipython3",
   "version": "3.10.8"
  }
 },
 "nbformat": 4,
 "nbformat_minor": 5
}
