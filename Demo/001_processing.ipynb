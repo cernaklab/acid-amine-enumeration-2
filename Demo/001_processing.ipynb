{
 "cells": [
  {
   "cell_type": "markdown",
   "id": "69a70651",
   "metadata": {},
   "source": [
    "## Computes number of atoms and minimum bond edit distance for all products "
   ]
  },
  {
   "cell_type": "code",
   "execution_count": 1,
   "id": "eleven-equilibrium",
   "metadata": {},
   "outputs": [],
   "source": [
    "from collections import defaultdict\n",
    "import numpy as np\n",
    "\n",
    "import matplotlib.pyplot as plt\n",
    "import pandas as pd\n",
    "\n",
    "from rdkit import Chem\n",
    "from rdkit.Chem import AllChem\n",
    "from rdkit.Chem import Atom, BondType\n",
    "\n",
    "from tqdm.notebook import tqdm\n",
    "\n",
    "import os\n",
    "\n",
    "import SM_amats\n",
    "import processing_utils\n",
    "import multiprocessing as mp"
   ]
  },
  {
   "cell_type": "code",
   "execution_count": 2,
   "id": "9a74be25",
   "metadata": {},
   "outputs": [],
   "source": [
    "if not os.path.exists(\"./data_files/smiles_with_all_dists\"):\n",
    "    os.makedirs(\"./data_files/smiles_with_all_dists\")"
   ]
  },
  {
   "cell_type": "markdown",
   "id": "5eb22ee1",
   "metadata": {},
   "source": [
    "### various utility functions"
   ]
  },
  {
   "cell_type": "code",
   "execution_count": 3,
   "id": "opening-canal",
   "metadata": {},
   "outputs": [],
   "source": [
    "def canonize_smiles(s):\n",
    "    return Chem.MolToSmiles(Chem.MolFromSmiles(s))\n",
    "\n",
    "\n",
    "alphabet = \"cnoCNO\"\n",
    "alphabet = [i for i in alphabet]\n",
    "alphabet.sort()\n",
    "\n",
    "# a quick way to get heavy atom count without going through the mol object\n",
    "# only for CNO systems - if there are others, more atoms will need to be included in the alphabet variable.\n",
    "\n",
    "def count_letters(s):\n",
    "    # counts number of relevant letters in a string\n",
    "    result = len([char for char in s if char in alphabet])\n",
    "    return result"
   ]
  },
  {
   "cell_type": "code",
   "execution_count": 4,
   "id": "9865b004",
   "metadata": {},
   "outputs": [
    {
     "data": {
      "application/vnd.jupyter.widget-view+json": {
       "model_id": "811be5115db94ee180e3f473b7cc7ddd",
       "version_major": 2,
       "version_minor": 0
      },
      "text/plain": [
       "  0%|          | 0/14 [00:00<?, ?it/s]"
      ]
     },
     "metadata": {},
     "output_type": "display_data"
    },
    {
     "data": {
      "application/vnd.jupyter.widget-view+json": {
       "model_id": "2eec368aa045431ab773be5f47d80743",
       "version_major": 2,
       "version_minor": 0
      },
      "text/plain": [
       "  0%|          | 0/4 [00:00<?, ?it/s]"
      ]
     },
     "metadata": {},
     "output_type": "display_data"
    },
    {
     "data": {
      "application/vnd.jupyter.widget-view+json": {
       "model_id": "efdd39aff76945a68fde975a329af567",
       "version_major": 2,
       "version_minor": 0
      },
      "text/plain": [
       "  0%|          | 0/4 [00:00<?, ?it/s]"
      ]
     },
     "metadata": {},
     "output_type": "display_data"
    },
    {
     "data": {
      "application/vnd.jupyter.widget-view+json": {
       "model_id": "7a17e3e61e6549daab84d302168ff5c2",
       "version_major": 2,
       "version_minor": 0
      },
      "text/plain": [
       "  0%|          | 0/4 [00:00<?, ?it/s]"
      ]
     },
     "metadata": {},
     "output_type": "display_data"
    },
    {
     "data": {
      "application/vnd.jupyter.widget-view+json": {
       "model_id": "33622777dcba4b61b18129bdab5b5eba",
       "version_major": 2,
       "version_minor": 0
      },
      "text/plain": [
       "  0%|          | 0/4 [00:00<?, ?it/s]"
      ]
     },
     "metadata": {},
     "output_type": "display_data"
    },
    {
     "data": {
      "application/vnd.jupyter.widget-view+json": {
       "model_id": "00a956ee621b465e9bd0914b88f01c85",
       "version_major": 2,
       "version_minor": 0
      },
      "text/plain": [
       "  0%|          | 0/4 [00:00<?, ?it/s]"
      ]
     },
     "metadata": {},
     "output_type": "display_data"
    },
    {
     "data": {
      "application/vnd.jupyter.widget-view+json": {
       "model_id": "3350868a389f4020bb1d9e06036e61f8",
       "version_major": 2,
       "version_minor": 0
      },
      "text/plain": [
       "  0%|          | 0/4 [00:00<?, ?it/s]"
      ]
     },
     "metadata": {},
     "output_type": "display_data"
    },
    {
     "data": {
      "application/vnd.jupyter.widget-view+json": {
       "model_id": "56e516efd2984546bb5d5a5e4efc914a",
       "version_major": 2,
       "version_minor": 0
      },
      "text/plain": [
       "  0%|          | 0/4 [00:00<?, ?it/s]"
      ]
     },
     "metadata": {},
     "output_type": "display_data"
    },
    {
     "data": {
      "application/vnd.jupyter.widget-view+json": {
       "model_id": "f36ba6a5e44345f08363e6248c795a23",
       "version_major": 2,
       "version_minor": 0
      },
      "text/plain": [
       "  0%|          | 0/4 [00:00<?, ?it/s]"
      ]
     },
     "metadata": {},
     "output_type": "display_data"
    },
    {
     "data": {
      "application/vnd.jupyter.widget-view+json": {
       "model_id": "2912f84945b149f09ff2a244547be953",
       "version_major": 2,
       "version_minor": 0
      },
      "text/plain": [
       "  0%|          | 0/4 [00:00<?, ?it/s]"
      ]
     },
     "metadata": {},
     "output_type": "display_data"
    },
    {
     "data": {
      "application/vnd.jupyter.widget-view+json": {
       "model_id": "f12a852066bc4fa48747c73589cd732f",
       "version_major": 2,
       "version_minor": 0
      },
      "text/plain": [
       "  0%|          | 0/4 [00:00<?, ?it/s]"
      ]
     },
     "metadata": {},
     "output_type": "display_data"
    },
    {
     "data": {
      "application/vnd.jupyter.widget-view+json": {
       "model_id": "06d4dea900fa4fdf9e9558ff1f4aa92a",
       "version_major": 2,
       "version_minor": 0
      },
      "text/plain": [
       "  0%|          | 0/4 [00:00<?, ?it/s]"
      ]
     },
     "metadata": {},
     "output_type": "display_data"
    },
    {
     "data": {
      "application/vnd.jupyter.widget-view+json": {
       "model_id": "6926383806be4a1384a5cd77a3e14987",
       "version_major": 2,
       "version_minor": 0
      },
      "text/plain": [
       "  0%|          | 0/4 [00:00<?, ?it/s]"
      ]
     },
     "metadata": {},
     "output_type": "display_data"
    },
    {
     "data": {
      "application/vnd.jupyter.widget-view+json": {
       "model_id": "0727acfd0c2b459497cfa3e74dcddc62",
       "version_major": 2,
       "version_minor": 0
      },
      "text/plain": [
       "  0%|          | 0/4 [00:00<?, ?it/s]"
      ]
     },
     "metadata": {},
     "output_type": "display_data"
    },
    {
     "data": {
      "application/vnd.jupyter.widget-view+json": {
       "model_id": "bf5f1d0891f243789783dad5056ed0bd",
       "version_major": 2,
       "version_minor": 0
      },
      "text/plain": [
       "  0%|          | 0/4 [00:00<?, ?it/s]"
      ]
     },
     "metadata": {},
     "output_type": "display_data"
    }
   ],
   "source": [
    "# can be pretty memory-intensive.\n",
    "\n",
    "result = []\n",
    "\n",
    "for i in tqdm(range(14)):\n",
    "    _ = processing_utils.compile_smiles_dists(i)\n",
    "    "
   ]
  },
  {
   "cell_type": "markdown",
   "id": "428b9073",
   "metadata": {},
   "source": [
    "### make a default dict that collects the minimum distance, for each time a certain SMILES appears"
   ]
  },
  {
   "cell_type": "code",
   "execution_count": null,
   "id": "dfaf715d",
   "metadata": {},
   "outputs": [],
   "source": [
    "sd = defaultdict(list)\n",
    "\n",
    "for file_index in tqdm(range(18)):\n",
    "    \n",
    "    file_tag = str(file_index).zfill(2)\n",
    "    data = pd.read_csv(f\"./data_files/smiles_with_all_dists/smiles_with_all_dists_{file_tag}.csv\")\n",
    "    dist_array = np.array(data[list(data)[1:]])\n",
    "    \n",
    "    # get minumum distances across all 4 hybridization combinations, for atoms =< 4 heavy atoms.\n",
    "    data[\"min_dist_all\"] = np.min(dist_array,axis=1)\n",
    "    \n",
    "    for r in data.itertuples():\n",
    "        split_smiles = r.smiles.split(\".\")\n",
    "    \n",
    "        for ss in split_smiles:\n",
    "                       \n",
    "            atom_count = int(count_letters(ss))\n",
    "            if atom_count >= 4:\n",
    "                sd[ss].append(r.min_dist_all)\n",
    "        \n",
    "    data = []"
   ]
  },
  {
   "cell_type": "markdown",
   "id": "ccdaba61",
   "metadata": {},
   "source": [
    "### canonize entries. Done here to minimize work duplication."
   ]
  },
  {
   "cell_type": "code",
   "execution_count": null,
   "id": "c100f98a",
   "metadata": {},
   "outputs": [],
   "source": [
    "# less than 1 min\n",
    "sd2 = defaultdict(list)\n",
    "for k in tqdm(sd.keys()):\n",
    "    canon_smiles = canonize_smiles(k)\n",
    "    sd2[canon_smiles].append(np.min(sd[k]))\n",
    "sd = []"
   ]
  },
  {
   "cell_type": "code",
   "execution_count": null,
   "id": "156ea521",
   "metadata": {},
   "outputs": [],
   "source": [
    "data_raw = pd.DataFrame(data={\"smiles\":sd2.keys(),\n",
    "                              \"min_dist_all\":[min(i) for i in sd2.values()],\n",
    "                             \"natoms\":[count_letters(s) for s in sd2.keys()]})\n",
    "\n",
    "data_raw.head()"
   ]
  },
  {
   "cell_type": "code",
   "execution_count": null,
   "id": "fa83cbbc",
   "metadata": {},
   "outputs": [],
   "source": [
    "data_raw.to_csv(\"./data_files/smiles_min_dist_natoms.csv\")"
   ]
  },
  {
   "cell_type": "markdown",
   "id": "8ffe475a",
   "metadata": {},
   "source": [
    "### we do the same, but only retrieving product systems that have less than 6 bond edits"
   ]
  },
  {
   "cell_type": "code",
   "execution_count": null,
   "id": "145bd0d7",
   "metadata": {},
   "outputs": [],
   "source": [
    "if not os.path.exists(\"./data_files/smiles_min_dist_6\"):\n",
    "    os.makedirs(\"./data_files/smiles_min_dist_6\")"
   ]
  },
  {
   "cell_type": "code",
   "execution_count": null,
   "id": "915de3f6",
   "metadata": {},
   "outputs": [],
   "source": [
    "for file_index in tqdm(range(18)):\n",
    "    \n",
    "    file_tag = str(file_index).zfill(2)\n",
    "    data = pd.read_csv(f\"./data_files/smiles_with_all_dists/smiles_with_all_dists_{file_tag}.csv\")\n",
    "    dist_array = np.array(data[list(data)[1:]])\n",
    "    \n",
    "    # get minumum distances across all 4 hybridization combinations.\n",
    "    data[\"min_dist_all\"] = np.min(dist_array,axis=1)\n",
    "    data[\"local_index\"] = data.index\n",
    "    data = data[data.min_dist_all <= 6].copy()\n",
    "    data.reset_index(drop=True,inplace=True)\n",
    "    \n",
    "    data.to_csv(f\"./data_files/smiles_min_dist_6/smiles_md6_{file_tag}.csv\")\n",
    "        \n",
    "    data = []"
   ]
  }
 ],
 "metadata": {
  "kernelspec": {
   "display_name": "Python 3 (ipykernel)",
   "language": "python",
   "name": "python3"
  },
  "language_info": {
   "codemirror_mode": {
    "name": "ipython",
    "version": 3
   },
   "file_extension": ".py",
   "mimetype": "text/x-python",
   "name": "python",
   "nbconvert_exporter": "python",
   "pygments_lexer": "ipython3",
   "version": "3.10.8"
  }
 },
 "nbformat": 4,
 "nbformat_minor": 5
}
