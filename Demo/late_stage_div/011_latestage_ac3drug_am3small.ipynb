{
 "cells": [
  {
   "cell_type": "markdown",
   "id": "3e8f8bd2",
   "metadata": {},
   "source": [
    "### late-stage diversification, sp3 acid druglike with sp3 amine"
   ]
  },
  {
   "cell_type": "code",
   "execution_count": 1,
   "id": "e9254f51",
   "metadata": {},
   "outputs": [],
   "source": [
    "from rdkit import Chem\n",
    "from rdkit.Chem import AllChem\n",
    "from rdkit.Chem.Draw import IPythonConsole\n",
    "# from rdkit.Chem.Draw import MolDrawing, DrawingOptions, MolToImage\n",
    "\n",
    "from rdkit import RDLogger\n",
    "lg = RDLogger.logger()\n",
    "lg.setLevel(RDLogger.CRITICAL)\n",
    "\n",
    "import numpy as np\n",
    "import pandas as pd\n",
    "import os\n",
    "\n",
    "from tqdm.notebook import tqdm\n",
    "from tqdm.contrib.concurrent import process_map"
   ]
  },
  {
   "cell_type": "code",
   "execution_count": 2,
   "id": "36cddb5f",
   "metadata": {},
   "outputs": [],
   "source": [
    "def apply_amat(acid,acid_match,amine,amine_match,rmat):\n",
    "    \"\"\"\n",
    "    needs the smarts of the acid and amine pre-defined. maybe an external dictionary.\n",
    "    \"\"\"\n",
    "    # combine molecules and make a writable version\n",
    "    both = Chem.CombineMols(acid,amine)\n",
    "    bothW = Chem.RWMol(both)\n",
    "    Chem.Kekulize(both,clearAromaticFlags=True)\n",
    "    Chem.Kekulize(bothW,clearAromaticFlags=True)\n",
    "    \n",
    "    # get the indices for the acid and amine matches. \n",
    "    amine_atoms = both.GetSubstructMatch(group_dict[amine_match])\n",
    "    acid_atoms = both.GetSubstructMatch(group_dict[acid_match])\n",
    "    \n",
    "    if not (amine_atoms and acid_atoms):\n",
    "        print(\"substruct match not found\")\n",
    "        return\n",
    "    # join the indices\n",
    "    atom_list = amine_atoms + acid_atoms\n",
    "#     print(atom_list)\n",
    "    \n",
    "    # go through the amat to find places where the change is not 0\n",
    "    side_len = len(rmat)\n",
    "    \n",
    "    if side_len != len(atom_list):\n",
    "        print(\"matrix length does not equal number of matched atoms\")\n",
    "        return\n",
    "    for r in range(side_len):\n",
    "        for c in range(r+1,side_len):\n",
    "            bond_order_change = rmat[r][c]\n",
    "            if bond_order_change != 0: \n",
    "                atom1 = atom_list[amat2ind[r]]\n",
    "                atom2 = atom_list[amat2ind[c]]\n",
    "                \n",
    "                # get the current bond order\n",
    "                current_bond = both.GetBondBetweenAtoms(atom1,atom2)\n",
    "                if current_bond: \n",
    "                    current_bond_order = current_bond.GetBondTypeAsDouble()                \n",
    "                else: \n",
    "                    current_bond_order = 0\n",
    "                    \n",
    "                new_bond_order = current_bond_order + bond_order_change\n",
    "                \n",
    "                if new_bond_order not in [0,1,2,3]:\n",
    "                    print(\"invalid new bond order\")\n",
    "                    return None\n",
    "                # make bond changes\n",
    "                \n",
    "                bothW.RemoveBond(atom1,atom2)\n",
    "                \n",
    "                if new_bond_order > 0:\n",
    "                    bothW.AddBond(atom1,atom2, bond_dict[new_bond_order])\n",
    "\n",
    "    try:\n",
    "        Chem.SanitizeMol(bothW)\n",
    "\n",
    "    except:\n",
    "#         print(\"illegal structure\")\n",
    "        return None\n",
    "\n",
    "    # may need to become smiles if we want to multitarget, as well as have fragments included.\n",
    "    return bothW\n"
   ]
  },
  {
   "cell_type": "markdown",
   "id": "1a304642",
   "metadata": {},
   "source": [
    "### we tag the alpha and beta carbons as isotopes, for more precise matching"
   ]
  },
  {
   "cell_type": "code",
   "execution_count": 3,
   "id": "f98f710b",
   "metadata": {},
   "outputs": [],
   "source": [
    "sp3_acid_smiles = \"O=C1N(C2=CC=C([16C@H]([17C]([18O])=[17O])[15C]C)C=C2)CC3=CC=CC=C31\""
   ]
  },
  {
   "cell_type": "code",
   "execution_count": 4,
   "id": "36a4b6b1",
   "metadata": {},
   "outputs": [
    {
     "data": {
      "image/png": "[encoded data removed]",
      "text/plain": [
       "<rdkit.Chem.rdchem.Mol at 0x1c70c02e920>"
      ]
     },
     "execution_count": 4,
     "metadata": {},
     "output_type": "execute_result"
    }
   ],
   "source": [
    "# sp3_acid_smiles = '[17O]=[17C]([18O])[16C]([15C]c1cnc[nH]1)N1C(=O)c2ccccc2C1=O'\n",
    "enamine_acid = Chem.MolFromSmiles(sp3_acid_smiles)\n",
    "enamine_acid"
   ]
  },
  {
   "cell_type": "code",
   "execution_count": 5,
   "id": "8424dc1e",
   "metadata": {},
   "outputs": [],
   "source": [
    "sp3_amine_smiles = \"[15N][14C@H]([13C])C1=CC=CC=C1\""
   ]
  },
  {
   "cell_type": "code",
   "execution_count": 6,
   "id": "ef256958",
   "metadata": {},
   "outputs": [
    {
     "data": {
      "image/png": "[encoded data removed]",
      "text/plain": [
       "<rdkit.Chem.rdchem.Mol at 0x1c70c02f460>"
      ]
     },
     "execution_count": 6,
     "metadata": {},
     "output_type": "execute_result"
    }
   ],
   "source": [
    "# sp3_amine_smiles = \"[15N][14C][13C]C1CCC(N)C1\"\n",
    "enamine_amine = Chem.MolFromSmiles(sp3_amine_smiles)\n",
    "enamine_amine"
   ]
  },
  {
   "cell_type": "code",
   "execution_count": 7,
   "id": "bd843449",
   "metadata": {},
   "outputs": [],
   "source": [
    "am2 = Chem.MolFromSmarts(\"[CX3]=[CX3][NH2]\")\n",
    "ac2 = Chem.MolFromSmarts(\"[CX3][CX3][CX3](=O)[OX2H1]\")\n",
    "am3 = Chem.MolFromSmarts(\"[13C][14C][15N]\")\n",
    "ac3 = Chem.MolFromSmarts(\"[15C][16C][17C](=[17O])[18O]\")\n",
    "\n",
    "\n",
    "group_dict = {\"ac2\":ac2, \"ac3\":ac3,\"am2\":am2,\"am3\":am3}\n",
    "\n",
    "# make a mapping dictionary.\n",
    "# the dictionary is basically, first entry is amine C1. second entry is amine C2. \n",
    "# this changes depending on the matrix, and how the smarts for the matcher is written. \n",
    "\n",
    "# number of entries in the amat\n",
    "amat_indices = range(8)\n",
    "# which entry each index should map to\n",
    "mapping_order = [0,1,3,4,5,2,6,7]\n",
    "# mapping_order = [3,4,5,0,1,2,6,7]\n",
    "\n",
    "# amat index -> amine/acid match index\n",
    "amat2ind = {k:v for k,v in zip(amat_indices, mapping_order)}\n",
    "\n",
    "bond_dict = {1:Chem.BondType.SINGLE, 2:Chem.BondType.DOUBLE, 3:Chem.BondType.TRIPLE}"
   ]
  },
  {
   "cell_type": "markdown",
   "id": "42a25bb9",
   "metadata": {},
   "source": [
    "### check that the substruct matching hits the right region"
   ]
  },
  {
   "cell_type": "code",
   "execution_count": 8,
   "id": "f1a42b1d",
   "metadata": {},
   "outputs": [
    {
     "data": {
      "image/png": "[encoded data removed]",
      "text/plain": [
       "<rdkit.Chem.rdchem.Mol at 0x1c70c02e920>"
      ]
     },
     "execution_count": 8,
     "metadata": {},
     "output_type": "execute_result"
    }
   ],
   "source": [
    "enamine_acid.GetSubstructMatch(ac3)\n",
    "enamine_acid"
   ]
  },
  {
   "cell_type": "code",
   "execution_count": 9,
   "id": "1420cfed",
   "metadata": {},
   "outputs": [
    {
     "data": {
      "image/png": "[encoded data removed]",
      "text/plain": [
       "<rdkit.Chem.rdchem.Mol at 0x1c70c02f460>"
      ]
     },
     "execution_count": 9,
     "metadata": {},
     "output_type": "execute_result"
    }
   ],
   "source": [
    "enamine_amine.GetSubstructMatch(am3)\n",
    "enamine_amine"
   ]
  },
  {
   "cell_type": "markdown",
   "id": "0f5b3c0b",
   "metadata": {},
   "source": [
    "### the product matrices and product distances need to be computed before the code below is run."
   ]
  },
  {
   "cell_type": "code",
   "execution_count": 10,
   "id": "34ec809c",
   "metadata": {},
   "outputs": [],
   "source": [
    "if not os.path.exists(\"./ac3drug_am3small/\"):\n",
    "    os.makedirs(\"./ac3drug_am3small/\")"
   ]
  },
  {
   "cell_type": "code",
   "execution_count": 11,
   "id": "5c6dfcbf",
   "metadata": {},
   "outputs": [],
   "source": [
    "def run_enumeration(file_tag):\n",
    "    index_start = file_tag * 100000\n",
    "    file_tag = str(file_tag).zfill(2)\n",
    "\n",
    "    dmats = np.load(f\"../rxn_mats/dmats_ac3_am3_{file_tag}.npy\")\n",
    "    out_file = open(f\"./ac3drug_am3small/matrix_coupling_{file_tag}.csv\",\"w\")\n",
    "    out_file.write(\"rmat_tag,pdt_smiles\\n\")\n",
    "    \n",
    "    for i, dmat in enumerate(dmats):\n",
    "        \n",
    "        try:\n",
    "            matrix_index = index_start + i\n",
    "            m = apply_amat(enamine_acid,\"ac3\",enamine_amine,\"am3\",dmat)\n",
    "            s = Chem.MolToSmiles(m,isomericSmiles=True)\n",
    "            out_file.write(f\"{index_start+i},{s}\\n\")\n",
    "        except:\n",
    "            continue\n",
    "    out_file.close()\n",
    "    "
   ]
  },
  {
   "cell_type": "markdown",
   "id": "57d7351c",
   "metadata": {},
   "source": [
    "### run the coupling script"
   ]
  },
  {
   "cell_type": "code",
   "execution_count": 12,
   "id": "54d02463",
   "metadata": {},
   "outputs": [
    {
     "data": {
      "application/vnd.jupyter.widget-view+json": {
       "model_id": "8039933f34b44ae495b3c41bc0021800",
       "version_major": 2,
       "version_minor": 0
      },
      "text/plain": [
       "  0%|          | 0/18 [00:00<?, ?it/s]"
      ]
     },
     "metadata": {},
     "output_type": "display_data"
    }
   ],
   "source": [
    "# 15 minutes on 1 core\n",
    "for i in tqdm(range(18)):\n",
    "    run_enumeration(i)"
   ]
  },
  {
   "cell_type": "markdown",
   "id": "4d2a9de3",
   "metadata": {},
   "source": [
    "### for processing - we only want products that have at least one atom from the acid, and amine portions"
   ]
  },
  {
   "cell_type": "code",
   "execution_count": 13,
   "id": "1e027f4c",
   "metadata": {},
   "outputs": [],
   "source": [
    "acid_parts = [\"[15C]\",\"[16C]\",\"[17C]\",\"[15c]\",\"[16c]\",\"[17c]\",\"[17O]\",\"[18O]\",\"[17o]\",\"[18o]\"]\n",
    "amine_parts = [\"[13C]\",\"[14C]\",\"[13c]\",\"[14c]\",\"[15N]\",\"[15n]\"]\n",
    "\n",
    "def check_smiles(s):\n",
    "    coupled_smiles = []\n",
    "    split_smiles = s.split(\".\")\n",
    "    \n",
    "    for ss in split_smiles:\n",
    "        if any([i in ss for i in acid_parts]) and any([i in ss for i in amine_parts]):\n",
    "            coupled_smiles.append(ss)\n",
    "    if len(coupled_smiles) == 0:\n",
    "        return \"C\"\n",
    "    \n",
    "    else:\n",
    "        atom_counts = [count_atoms(s) for s in coupled_smiles]\n",
    "        largest_frag_ind = np.argmax(atom_counts)\n",
    "        return coupled_smiles[largest_frag_ind]\n",
    "            \n",
    "def count_atoms(s):\n",
    "    alphab = \"CONcon\"\n",
    "    return len([i for i in s if i in alphab])            "
   ]
  },
  {
   "cell_type": "code",
   "execution_count": 14,
   "id": "265f884e",
   "metadata": {},
   "outputs": [
    {
     "data": {
      "application/vnd.jupyter.widget-view+json": {
       "model_id": "db7830c95fb44038956144eadbac0625",
       "version_major": 2,
       "version_minor": 0
      },
      "text/plain": [
       "  0%|          | 0/18 [00:00<?, ?it/s]"
      ]
     },
     "metadata": {},
     "output_type": "display_data"
    }
   ],
   "source": [
    "all_coupling_data = []\n",
    "for file_tag in tqdm(range(18)):\n",
    "    \n",
    "    distance_data = pd.read_csv(f\"../data_files/smiles_with_all_dists/smiles_with_all_dists_{str(file_tag).zfill(2)}.csv\")\n",
    "    coupling_data = pd.read_csv(f\"./ac3drug_am3small/matrix_coupling_{str(file_tag).zfill(2)}.csv\")\n",
    "\n",
    "    raw_tags = list(coupling_data.rmat_tag - file_tag*100000)\n",
    "    coupling_dists = list(distance_data.iloc[raw_tags].ac3_am3)\n",
    "\n",
    "    coupling_data[\"distance\"] = coupling_dists\n",
    "\n",
    "\n",
    "    largest_frag = []\n",
    "    for s in coupling_data.pdt_smiles:\n",
    "        largest_frag.append(check_smiles(s))\n",
    "    coupling_data[\"largest_frag\"] = largest_frag\n",
    "    \n",
    "    # remove duplicates\n",
    "    coupling_data.sort_values(\"distance\",inplace=True)\n",
    "    coupling_data.drop_duplicates(subset=\"largest_frag\",inplace=True)\n",
    "    coupling_data.sort_values(\"rmat_tag\",inplace=True)\n",
    "\n",
    "\n",
    "    all_coupling_data.append(coupling_data)"
   ]
  },
  {
   "cell_type": "markdown",
   "id": "6ad3fc38",
   "metadata": {},
   "source": [
    "### clean up"
   ]
  },
  {
   "cell_type": "code",
   "execution_count": 15,
   "id": "27610c6b",
   "metadata": {},
   "outputs": [],
   "source": [
    "all_coupling_df = pd.concat(all_coupling_data)\n",
    "all_coupling_df.sort_values(\"distance\",inplace=True)"
   ]
  },
  {
   "cell_type": "code",
   "execution_count": 17,
   "id": "f82aef66",
   "metadata": {},
   "outputs": [],
   "source": [
    "all_coupling_df.drop_duplicates(subset=\"largest_frag\",inplace=True)\n",
    "all_coupling_df.sort_values(\"rmat_tag\",inplace=True)\n",
    "\n",
    "all_coupling_df = all_coupling_df[all_coupling_df.largest_frag!=\"C\"].copy()"
   ]
  },
  {
   "cell_type": "markdown",
   "id": "df7e610d",
   "metadata": {},
   "source": [
    "### ring strain filter"
   ]
  },
  {
   "cell_type": "code",
   "execution_count": 20,
   "id": "ea080045",
   "metadata": {},
   "outputs": [],
   "source": [
    "ring_triple_bond = Chem.MolFromSmarts(\"[*!R0]#[*!R0]\")\n",
    "cyclopropene = Chem.MolFromSmarts(\"[*!R0]1=[*!R0]~[*]1\")\n",
    "ring_allene = Chem.MolFromSmarts(\"[*!R0]=[*!R0]=[*!R0]\")\n",
    "ab_211_2 = Chem.MolFromSmarts(\"*1(~*2)=*~*~*2~*1\")\n",
    "ab_211_1 = Chem.MolFromSmarts(\"*1(~*2)=*~*2~*~*1\")\n",
    "ab_220_2 = Chem.MolFromSmarts(\"*12~*~*~*1=*~*2\") \n",
    "ab_220_0 = Chem.MolFromSmarts(\"*1(~*~*2)=*2~*~*1\")\n",
    "ab_221_2 = Chem.MolFromSmarts(\"*1(~*2)~*~*~*2=*~*1\")\n",
    "ab_221_1 = Chem.MolFromSmarts(\"*12=*~*(~*~*2)~*~*1\")\n",
    "ab_222_2 = Chem.MolFromSmarts(\"*12~*~*~*(~*~*2)=*~*1\")\n",
    "ab_210_2 = Chem.MolFromSmarts(\"*12~*~*=*1~*2\")\n",
    "ab_210_0 = Chem.MolFromSmarts(\"*1(~*2)=*2~*~*1\")\n",
    "ab_210_1 = Chem.MolFromSmarts(\"*12~*~*~*1=*2\")\n",
    "ab_114_1 = Chem.MolFromSmarts(\"*1(~*2)=*~*2~*~*~*~*1\")\n",
    "ab_114_4 = Chem.MolFromSmarts(\"*1(~*2)=*~*~*~*~*2~*1\")\n",
    "ab_123_1 = Chem.MolFromSmarts(\"*12=*~*(~*~*~*2)~*~*1\")\n",
    "ab_123_2 = Chem.MolFromSmarts(\"*12=*~*~*(~*~*~*2)~*1\")\n",
    "ab_123_3 = Chem.MolFromSmarts(\"*1(~*~*2)=*~*~*~*2~*1\")\n",
    "\n",
    "myrules = [ring_triple_bond,cyclopropene,ring_allene,ab_211_2,ab_211_1,ab_220_2,ab_220_0,\n",
    "           ab_221_2,ab_221_1,ab_222_2,ab_210_2,ab_210_0,ab_210_1,ab_114_1,ab_114_4,ab_123_1,ab_123_2,ab_123_3]"
   ]
  },
  {
   "cell_type": "code",
   "execution_count": 21,
   "id": "ac8f4ab9",
   "metadata": {},
   "outputs": [],
   "source": [
    "def check_bredt(s):\n",
    "    m = Chem.MolFromSmiles(s)\n",
    "\n",
    "    if not any([m.HasSubstructMatch(patt) for patt in myrules]):\n",
    "        return True\n",
    "    else:\n",
    "        return False"
   ]
  },
  {
   "cell_type": "code",
   "execution_count": 22,
   "id": "094c4507",
   "metadata": {},
   "outputs": [
    {
     "data": {
      "application/vnd.jupyter.widget-view+json": {
       "model_id": "ac41ea0f831a4f738b92d19aa85062a8",
       "version_major": 2,
       "version_minor": 0
      },
      "text/plain": [
       "  0%|          | 0/94548 [00:00<?, ?it/s]"
      ]
     },
     "metadata": {},
     "output_type": "display_data"
    }
   ],
   "source": [
    "# 1 minute\n",
    "bredt_check = []\n",
    "\n",
    "for fr in tqdm(all_coupling_df.largest_frag):\n",
    "    bredt_check.append(check_bredt(fr))"
   ]
  },
  {
   "cell_type": "code",
   "execution_count": 23,
   "id": "1a557109",
   "metadata": {},
   "outputs": [],
   "source": [
    "all_coupling_df[\"bredt\"] = bredt_check\n",
    "all_coupling_df_bredt = all_coupling_df[all_coupling_df.bredt].copy()\n",
    "all_coupling_df_bredt.reset_index(drop=True,inplace=True)"
   ]
  },
  {
   "cell_type": "markdown",
   "id": "719d0130",
   "metadata": {},
   "source": [
    "### clean up the isotope tags"
   ]
  },
  {
   "cell_type": "code",
   "execution_count": 24,
   "id": "dbb62ab6",
   "metadata": {},
   "outputs": [],
   "source": [
    "acid_parts = [\"[15C]\",\"[16C]\",\"[17C]\",\"[15c]\",\"[16c]\",\"[17c]\",\"[17O]\",\"[18O]\",\"[17o]\",\"[18o]\"]\n",
    "amine_parts = [\"[13C]\",\"[14C]\",\"[13c]\",\"[14c]\",\"[15N]\",\"[15n]\"]\n",
    "\n",
    "# replace isotopes with non-isotopes\n",
    "def clean_structure(s):\n",
    "    temp = s\n",
    "    \n",
    "    for i in acid_parts + amine_parts:\n",
    "        temp = temp.replace(i,i[-2])\n",
    "    return temp\n",
    "\n",
    "# replace isotopic stereocenters with non-isotopic ones\n",
    "def clean_stereo_C(s):\n",
    "    temp = s\n",
    "    iso = [\"[16CH]\",\"[16C@H]\",\"[16C@@H]\",\"[14CH]\",\"[14C@H]\",\"[14C@@H]\"]\n",
    "    non_iso = [\"C\",\"[C@H]\",\"[C@@H]\",\"C\",\"[C@H]\",\"[C@@H]\"]\n",
    "    for i in range(len(iso)):\n",
    "        temp = temp.replace(iso[i],non_iso[i])\n",
    "        \n",
    "    return temp"
   ]
  },
  {
   "cell_type": "code",
   "execution_count": 25,
   "id": "23adef25",
   "metadata": {},
   "outputs": [
    {
     "data": {
      "application/vnd.jupyter.widget-view+json": {
       "model_id": "f87a62df95e74c619682c6578c1129b8",
       "version_major": 2,
       "version_minor": 0
      },
      "text/plain": [
       "  0%|          | 0/92452 [00:00<?, ?it/s]"
      ]
     },
     "metadata": {},
     "output_type": "display_data"
    }
   ],
   "source": [
    "s_cleaned = []\n",
    "for s in tqdm(list(all_coupling_df_bredt['largest_frag'])):\n",
    "    s_cleaned.append(clean_structure(s))"
   ]
  },
  {
   "cell_type": "code",
   "execution_count": 26,
   "id": "f4c83502",
   "metadata": {},
   "outputs": [],
   "source": [
    "stereo_cleaned = []\n",
    "for s in s_cleaned:\n",
    "    stereo_cleaned.append(clean_stereo_C(s))\n",
    "    \n",
    "all_coupling_df_bredt[\"largest_cleaned\"] = stereo_cleaned"
   ]
  },
  {
   "cell_type": "code",
   "execution_count": 27,
   "id": "58b6177a",
   "metadata": {},
   "outputs": [],
   "source": [
    "all_coupling_df_bredt.sort_values(\"distance\",inplace=True)\n",
    "all_coupling_df_bredt.drop_duplicates(subset=\"largest_cleaned\",inplace=True)"
   ]
  },
  {
   "cell_type": "markdown",
   "id": "23eef45f",
   "metadata": {},
   "source": [
    "### save."
   ]
  },
  {
   "cell_type": "code",
   "execution_count": 28,
   "id": "a39d36bd",
   "metadata": {},
   "outputs": [],
   "source": [
    "all_coupling_df_bredt[[\"rmat_tag\",\"distance\",\"largest_frag\",\"largest_cleaned\"]].to_csv(\"./ac3drug_am3small/ac3drug_am3small_smiles.csv\",index=False)"
   ]
  }
 ],
 "metadata": {
  "kernelspec": {
   "display_name": "Python 3 (ipykernel)",
   "language": "python",
   "name": "python3"
  },
  "language_info": {
   "codemirror_mode": {
    "name": "ipython",
    "version": 3
   },
   "file_extension": ".py",
   "mimetype": "text/x-python",
   "name": "python",
   "nbconvert_exporter": "python",
   "pygments_lexer": "ipython3",
   "version": "3.10.4"
  }
 },
 "nbformat": 4,
 "nbformat_minor": 5
}
