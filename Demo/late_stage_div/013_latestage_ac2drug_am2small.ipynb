{
 "cells": [
  {
   "cell_type": "markdown",
   "id": "17dd0d85",
   "metadata": {},
   "source": [
    "### late-stage diversification, sp2 acid druglike with sp2 amine"
   ]
  },
  {
   "cell_type": "code",
   "execution_count": 1,
   "id": "e9254f51",
   "metadata": {},
   "outputs": [],
   "source": [
    "from rdkit import Chem\n",
    "from rdkit.Chem import AllChem\n",
    "from rdkit.Chem.Draw import IPythonConsole\n",
    "# from rdkit.Chem.Draw import MolDrawing, DrawingOptions, MolToImage\n",
    "\n",
    "from rdkit import RDLogger\n",
    "lg = RDLogger.logger()\n",
    "lg.setLevel(RDLogger.CRITICAL)\n",
    "\n",
    "import numpy as np\n",
    "import pandas as pd\n",
    "import os\n",
    "\n",
    "from tqdm.notebook import tqdm"
   ]
  },
  {
   "cell_type": "code",
   "execution_count": 2,
   "id": "36cddb5f",
   "metadata": {},
   "outputs": [],
   "source": [
    "def apply_amat(acid,acid_match,amine,amine_match,rmat):\n",
    "    \"\"\"\n",
    "    needs the smarts of the acid and amine pre-defined. maybe an external dictionary.\n",
    "    acid - acid mol\n",
    "    acid_match - the SMARTS pattern matching the acid to transform\n",
    "    amine - amine mol\n",
    "    amine_match - the SMARTS pattern matching the amine to transform\n",
    "    rmat - reaction matrix\n",
    "    \n",
    "    output: RWMol of the transformed product\n",
    "    \"\"\"\n",
    "    # combine molecules and make a writable version\n",
    "    both = Chem.CombineMols(acid,amine)\n",
    "    bothW = Chem.RWMol(both)\n",
    "    Chem.Kekulize(both,clearAromaticFlags=True)\n",
    "    Chem.Kekulize(bothW,clearAromaticFlags=True)\n",
    "    \n",
    "    # get the indices for the acid and amine matches.\n",
    "    amine_atoms = both.GetSubstructMatch(group_dict[amine_match])\n",
    "    acid_atoms = both.GetSubstructMatch(group_dict[acid_match])\n",
    "    \n",
    "    if not (amine_atoms and acid_atoms):\n",
    "        print(\"substruct match not found\")\n",
    "        return\n",
    "    # join the indices\n",
    "    atom_list = amine_atoms + acid_atoms\n",
    "    \n",
    "    # go through the amat to find places where the change is not 0\n",
    "    side_len = len(rmat)\n",
    "    \n",
    "    if side_len != len(atom_list):\n",
    "        print(\"matrix length does not equal number of matched atoms\")\n",
    "        return\n",
    "    for r in range(side_len):\n",
    "        for c in range(r+1,side_len):\n",
    "            bond_order_change = rmat[r][c]\n",
    "            if bond_order_change != 0: \n",
    "                atom1 = atom_list[amat2ind[r]]\n",
    "                atom2 = atom_list[amat2ind[c]]\n",
    "                # get the current bond order\n",
    "                current_bond = both.GetBondBetweenAtoms(atom1,atom2)\n",
    "                if current_bond: \n",
    "                    current_bond_order = current_bond.GetBondTypeAsDouble()\n",
    "                                       \n",
    "                else: \n",
    "                    current_bond_order = 0\n",
    "                new_bond_order = current_bond_order + bond_order_change\n",
    "\n",
    "                if new_bond_order not in [0,1,2,3]:\n",
    "                    return None\n",
    "               \n",
    "                bothW.RemoveBond(atom1,atom2)\n",
    "                \n",
    "                if new_bond_order > 0:\n",
    "                    bothW.AddBond(atom1,atom2, bond_dict[new_bond_order])\n",
    "                        \n",
    "    try:\n",
    "        Chem.SanitizeMol(bothW)\n",
    "\n",
    "    except:\n",
    "        return None\n",
    "\n",
    "    # may need to become smiles if we want to multitarget, as well as have fragments included.\n",
    "    return bothW\n"
   ]
  },
  {
   "cell_type": "code",
   "execution_count": 3,
   "id": "a9ffb653",
   "metadata": {},
   "outputs": [],
   "source": [
    "sp2_acid_smiles = \"[17O]=[17C]([18O])[16C]1=[15C]C=C(C(C2CCCCC2)=C(C3=CC=CC=C3)N4CC(N5CCOCC5)=O)C4=C1\""
   ]
  },
  {
   "cell_type": "code",
   "execution_count": 4,
   "id": "36a4b6b1",
   "metadata": {},
   "outputs": [
    {
     "data": {
      "image/png": "[encoded data removed]",
      "text/plain": [
       "<rdkit.Chem.rdchem.Mol at 0x23d33f6b5e0>"
      ]
     },
     "execution_count": 4,
     "metadata": {},
     "output_type": "execute_result"
    }
   ],
   "source": [
    "# sp3_acid_smiles = '[17O]=[17C]([18O])[16C]([15C]c1cnc[nH]1)N1C(=O)c2ccccc2C1=O'\n",
    "enamine_acid = Chem.MolFromSmiles(sp2_acid_smiles)\n",
    "Chem.Kekulize(enamine_acid,clearAromaticFlags=True)\n",
    "enamine_acid"
   ]
  },
  {
   "cell_type": "code",
   "execution_count": 5,
   "id": "4a6876cb",
   "metadata": {},
   "outputs": [],
   "source": [
    "sp2_amine_smiles = \"[15N][14C]1=[13C]C(Cl)=CC(Cl)=C1\""
   ]
  },
  {
   "cell_type": "code",
   "execution_count": 6,
   "id": "ef256958",
   "metadata": {},
   "outputs": [
    {
     "data": {
      "image/png": "[encoded data removed]",
      "text/plain": [
       "<rdkit.Chem.rdchem.Mol at 0x23d647aada0>"
      ]
     },
     "execution_count": 6,
     "metadata": {},
     "output_type": "execute_result"
    }
   ],
   "source": [
    "# sp3_amine_smiles = \"[15N][14C][13C]C1CCC(N)C1\"\n",
    "enamine_amine = Chem.MolFromSmiles(sp2_amine_smiles)\n",
    "Chem.Kekulize(enamine_amine,clearAromaticFlags=True)\n",
    "enamine_amine"
   ]
  },
  {
   "cell_type": "code",
   "execution_count": 7,
   "id": "bd843449",
   "metadata": {},
   "outputs": [],
   "source": [
    "am2 = Chem.MolFromSmarts(\"[13C]=[14C][15N]\")\n",
    "ac2 = Chem.MolFromSmarts(\"[15C]=[16C][17C](=[17O])[18O]\")\n",
    "am3 = Chem.MolFromSmarts(\"[13C][14C][15N]\")\n",
    "ac3 = Chem.MolFromSmarts(\"[15C][16C][17C](=[17O])[18O]\")\n",
    "\n",
    "\n",
    "group_dict = {\"ac2\":ac2, \"ac3\":ac3,\"am2\":am2,\"am3\":am3}\n",
    "\n",
    "# the amat2ind is basically, first entry is amine C1. second entry is amine c2. \n",
    "# this changes depending on the matrix, and how the smarts for the matcher is written. \n",
    "\n",
    "# number of entries in the amat\n",
    "amat_indices = range(8)\n",
    "# which entry each index should map to\n",
    "mapping_order = [0,1,3,4,5,2,6,7]\n",
    "# mapping_order = [3,4,5,0,1,2,6,7]\n",
    "\n",
    "\n",
    "# amat index -> amine/acid match index\n",
    "amat2ind = {k:v for k,v in zip(amat_indices, mapping_order)}\n",
    "\n",
    "bond_dict = {1:Chem.BondType.SINGLE, 2:Chem.BondType.DOUBLE, 3:Chem.BondType.TRIPLE}\n"
   ]
  },
  {
   "cell_type": "code",
   "execution_count": 8,
   "id": "f1a42b1d",
   "metadata": {},
   "outputs": [
    {
     "data": {
      "image/png": "[encoded data removed]",
      "text/plain": [
       "<rdkit.Chem.rdchem.Mol at 0x23d33f6b5e0>"
      ]
     },
     "execution_count": 8,
     "metadata": {},
     "output_type": "execute_result"
    }
   ],
   "source": [
    "# enamine_acid.GetSubstructMatch(Chem.)\n",
    "enamine_acid.GetSubstructMatch(ac2)\n",
    "enamine_acid"
   ]
  },
  {
   "cell_type": "code",
   "execution_count": 9,
   "id": "1420cfed",
   "metadata": {},
   "outputs": [
    {
     "data": {
      "image/png": "[encoded data removed]",
      "text/plain": [
       "<rdkit.Chem.rdchem.Mol at 0x23d647aada0>"
      ]
     },
     "execution_count": 9,
     "metadata": {},
     "output_type": "execute_result"
    }
   ],
   "source": [
    "enamine_amine.GetSubstructMatch(am2)\n",
    "enamine_amine"
   ]
  },
  {
   "cell_type": "code",
   "execution_count": null,
   "id": "caa3aac2",
   "metadata": {},
   "outputs": [],
   "source": [
    "if not os.path.exists(\"./ac2drug_am2small/\"):\n",
    "    os.makedirs(\"./ac2drug_am2small/\")"
   ]
  },
  {
   "cell_type": "code",
   "execution_count": null,
   "id": "5c6dfcbf",
   "metadata": {},
   "outputs": [],
   "source": [
    "def run_enumeration(file_ind):\n",
    "    index_start = file_ind * 100000\n",
    "    file_tag = str(file_ind).zfill(2)\n",
    "\n",
    "    dmats = np.load(f\"../rxn_mats/dmats_ac2_am2_{file_tag}.npy\")\n",
    "    out_file = open(f\"./ac2drug_am2small/matrix_coupling_{file_tag}.csv\",\"w\")\n",
    "    out_file.write(\"rmat_tag,pdt_smiles\\n\")\n",
    "    \n",
    "    for i, dmat in enumerate(dmats):\n",
    "\n",
    "        try:\n",
    "            matrix_index = index_start + i\n",
    "            m = apply_amat(enamine_acid,\"ac2\",enamine_amine,\"am2\",dmat)\n",
    "            s = Chem.MolToSmiles(m,isomericSmiles=True)\n",
    "            out_file.write(f\"{index_start+i},{s}\\n\")\n",
    "        except:\n",
    "            continue\n",
    "    out_file.close()\n",
    "    "
   ]
  },
  {
   "cell_type": "code",
   "execution_count": 10,
   "id": "6bc84295",
   "metadata": {},
   "outputs": [],
   "source": [
    "run_range = range(18)"
   ]
  },
  {
   "cell_type": "code",
   "execution_count": null,
   "id": "0919f63b",
   "metadata": {},
   "outputs": [],
   "source": [
    "for i in tqdm(run_range):\n",
    "    run_enumeration(i)"
   ]
  },
  {
   "cell_type": "markdown",
   "id": "4d2a9de3",
   "metadata": {},
   "source": [
    "### for processing - we only want products that have at least one atom from the acid, and amine portions"
   ]
  },
  {
   "cell_type": "code",
   "execution_count": 11,
   "id": "1e027f4c",
   "metadata": {},
   "outputs": [],
   "source": [
    "acid_parts = [\"[15C]\",\"[16C]\",\"[17C]\",\"[15c]\",\"[16c]\",\"[17c]\",\"[17O]\",\"[18O]\",\"[17o]\",\"[18o]\"]\n",
    "amine_parts = [\"[13C]\",\"[14C]\",\"[13c]\",\"[14c]\",\"[15N]\",\"[15n]\"]\n",
    "\n",
    "def check_smiles(s):\n",
    "    coupled_smiles = []\n",
    "    split_smiles = s.split(\".\")\n",
    "    \n",
    "    for ss in split_smiles:\n",
    "        if any([i in ss for i in acid_parts]) and any([i in ss for i in amine_parts]):\n",
    "            coupled_smiles.append(ss)\n",
    "    if len(coupled_smiles) == 0:\n",
    "        return \"C\"\n",
    "    \n",
    "    else:\n",
    "        atom_counts = [count_atoms(s) for s in coupled_smiles]\n",
    "        largest_frag_ind = np.argmax(atom_counts)\n",
    "        return coupled_smiles[largest_frag_ind]\n",
    "            \n",
    "def count_atoms(s):\n",
    "    alphab = \"CONcon\"\n",
    "    return len([i for i in s if i in alphab])  \n",
    "\n",
    "def clean_structure(s):\n",
    "    temp = s\n",
    "    for i in acid_parts + amine_parts:\n",
    "        temp = temp.replace(i,i[-2])\n",
    "        \n",
    "    return temp"
   ]
  },
  {
   "cell_type": "code",
   "execution_count": 12,
   "id": "265f884e",
   "metadata": {},
   "outputs": [
    {
     "data": {
      "application/vnd.jupyter.widget-view+json": {
       "model_id": "cb55196c85f84dc98d5f321b65fa4709",
       "version_major": 2,
       "version_minor": 0
      },
      "text/plain": [
       "  0%|          | 0/18 [00:00<?, ?it/s]"
      ]
     },
     "metadata": {},
     "output_type": "display_data"
    }
   ],
   "source": [
    "all_coupling_data = []\n",
    "for file_ind in tqdm(run_range):\n",
    "    \n",
    "    file_tag = str(file_ind).zfill(2)\n",
    "    distance_data = pd.read_csv(f\"../data_files/smiles_with_all_dists/smiles_with_all_dists_{str(file_tag).zfill(2)}.csv\")\n",
    "    coupling_data = pd.read_csv(f\"./ac2drug_am2small/matrix_coupling_{file_tag}.csv\")\n",
    "    \n",
    "    raw_tags = list(coupling_data.rmat_tag - file_ind*100000)\n",
    "    coupling_dists = list(distance_data.iloc[raw_tags].ac2_am2)\n",
    "    coupling_data[\"distance\"] = coupling_dists\n",
    "\n",
    "    largest_frag = []\n",
    "    for s in coupling_data.pdt_smiles:\n",
    "        largest_frag.append(check_smiles(s))\n",
    "    coupling_data[\"largest_frag\"] = largest_frag\n",
    "    \n",
    "    # remove duplicates\n",
    "    coupling_data.sort_values(\"distance\",inplace=True)\n",
    "    coupling_data.drop_duplicates(subset=\"largest_frag\",inplace=True)\n",
    "    coupling_data.sort_values(\"rmat_tag\",inplace=True)\n",
    "\n",
    "\n",
    "    all_coupling_data.append(coupling_data)"
   ]
  },
  {
   "cell_type": "markdown",
   "id": "32cf5fe3",
   "metadata": {},
   "source": [
    "### clean up"
   ]
  },
  {
   "cell_type": "code",
   "execution_count": 29,
   "id": "4f525d8e",
   "metadata": {},
   "outputs": [],
   "source": [
    "all_coupling_df = pd.concat(all_coupling_data)\n",
    "all_coupling_df.sort_values(\"distance\",inplace=True)"
   ]
  },
  {
   "cell_type": "code",
   "execution_count": 30,
   "id": "55f5da4b",
   "metadata": {},
   "outputs": [],
   "source": [
    "all_coupling_df.drop_duplicates(subset=\"largest_frag\",inplace=True)\n",
    "all_coupling_df.sort_values(\"rmat_tag\",inplace=True)"
   ]
  },
  {
   "cell_type": "code",
   "execution_count": 31,
   "id": "f6a77429",
   "metadata": {},
   "outputs": [],
   "source": [
    "all_coupling_df = all_coupling_df[all_coupling_df.largest_frag!=\"C\"].copy()"
   ]
  },
  {
   "cell_type": "markdown",
   "id": "b94901ff",
   "metadata": {},
   "source": [
    "### ring strain filter"
   ]
  },
  {
   "cell_type": "code",
   "execution_count": 32,
   "id": "ea080045",
   "metadata": {},
   "outputs": [],
   "source": [
    "ring_triple_bond = Chem.MolFromSmarts(\"[*!R0]#[*!R0]\")\n",
    "cyclopropene = Chem.MolFromSmarts(\"[*!R0]1=[*!R0]~[*]1\")\n",
    "ring_allene = Chem.MolFromSmarts(\"[*!R0]=[*!R0]=[*!R0]\")\n",
    "ab_211_2 = Chem.MolFromSmarts(\"*1(~*2)=*~*~*2~*1\")\n",
    "ab_211_1 = Chem.MolFromSmarts(\"*1(~*2)=*~*2~*~*1\")\n",
    "ab_220_2 = Chem.MolFromSmarts(\"*12~*~*~*1=*~*2\") \n",
    "ab_220_0 = Chem.MolFromSmarts(\"*1(~*~*2)=*2~*~*1\")\n",
    "ab_221_2 = Chem.MolFromSmarts(\"*1(~*2)~*~*~*2=*~*1\")\n",
    "ab_221_1 = Chem.MolFromSmarts(\"*12=*~*(~*~*2)~*~*1\")\n",
    "ab_222_2 = Chem.MolFromSmarts(\"*12~*~*~*(~*~*2)=*~*1\")\n",
    "ab_210_2 = Chem.MolFromSmarts(\"*12~*~*=*1~*2\")\n",
    "ab_210_0 = Chem.MolFromSmarts(\"*1(~*2)=*2~*~*1\")\n",
    "ab_210_1 = Chem.MolFromSmarts(\"*12~*~*~*1=*2\")\n",
    "ab_114_1 = Chem.MolFromSmarts(\"*1(~*2)=*~*2~*~*~*~*1\")\n",
    "ab_114_4 = Chem.MolFromSmarts(\"*1(~*2)=*~*~*~*~*2~*1\")\n",
    "ab_123_1 = Chem.MolFromSmarts(\"*12=*~*(~*~*~*2)~*~*1\")\n",
    "ab_123_2 = Chem.MolFromSmarts(\"*12=*~*~*(~*~*~*2)~*1\")\n",
    "ab_123_3 = Chem.MolFromSmarts(\"*1(~*~*2)=*~*~*~*2~*1\")\n",
    "\n",
    "myrules = [ring_triple_bond,cyclopropene,ring_allene,ab_211_2,ab_211_1,ab_220_2,ab_220_0,\n",
    "           ab_221_2,ab_221_1,ab_222_2,ab_210_2,ab_210_0,ab_210_1,ab_114_1,ab_114_4,ab_123_1,ab_123_2,ab_123_3]\n"
   ]
  },
  {
   "cell_type": "code",
   "execution_count": 33,
   "id": "ac8f4ab9",
   "metadata": {},
   "outputs": [],
   "source": [
    "def check_bredt(s):\n",
    "    m = Chem.MolFromSmiles(s)\n",
    "    if not m:\n",
    "        return False\n",
    "    if not any([m.HasSubstructMatch(patt) for patt in myrules]):\n",
    "        return True\n",
    "    else:\n",
    "        return False"
   ]
  },
  {
   "cell_type": "markdown",
   "id": "2c6f3f42",
   "metadata": {},
   "source": [
    "### reduce for managable file size"
   ]
  },
  {
   "cell_type": "code",
   "execution_count": 34,
   "id": "0386032d",
   "metadata": {},
   "outputs": [],
   "source": [
    "all_coupling_df = all_coupling_df.iloc[::5].copy()"
   ]
  },
  {
   "cell_type": "code",
   "execution_count": 35,
   "id": "1ff3f2fc",
   "metadata": {},
   "outputs": [
    {
     "data": {
      "application/vnd.jupyter.widget-view+json": {
       "model_id": "811c55d7ee194f628c56a6579549a365",
       "version_major": 2,
       "version_minor": 0
      },
      "text/plain": [
       "  0%|          | 0/88552 [00:00<?, ?it/s]"
      ]
     },
     "metadata": {},
     "output_type": "display_data"
    }
   ],
   "source": [
    "# 1 minute\n",
    "bredt_check = []\n",
    "\n",
    "for fr in tqdm(all_coupling_df[\"largest_frag\"]):\n",
    "    bredt_check.append(check_bredt(fr))"
   ]
  },
  {
   "cell_type": "code",
   "execution_count": 24,
   "id": "4c76231b",
   "metadata": {},
   "outputs": [],
   "source": [
    "all_coupling_df[\"bredt\"] = bredt_check\n",
    "all_coupling_df = all_coupling_df[all_coupling_df.bredt].copy()"
   ]
  },
  {
   "cell_type": "markdown",
   "id": "0e2d3789",
   "metadata": {},
   "source": [
    "### clean tagged isotopes from structures"
   ]
  },
  {
   "cell_type": "code",
   "execution_count": 25,
   "id": "f7673ba5",
   "metadata": {},
   "outputs": [
    {
     "data": {
      "application/vnd.jupyter.widget-view+json": {
       "model_id": "ae1c05d539604816966910a94035a1c1",
       "version_major": 2,
       "version_minor": 0
      },
      "text/plain": [
       "  0%|          | 0/100182 [00:00<?, ?it/s]"
      ]
     },
     "metadata": {},
     "output_type": "display_data"
    }
   ],
   "source": [
    "s_cleaned = []\n",
    "for s in tqdm(list(all_coupling_df['largest_frag'])):\n",
    "    s_cleaned.append(clean_structure(s))"
   ]
  },
  {
   "cell_type": "code",
   "execution_count": 26,
   "id": "819a49df",
   "metadata": {},
   "outputs": [],
   "source": [
    "all_coupling_df[\"largest_cleaned\"] = s_cleaned\n",
    "all_coupling_df.sort_values(\"distance\",inplace=True)\n",
    "all_coupling_df.drop_duplicates(subset=\"largest_cleaned\",inplace=True)"
   ]
  },
  {
   "cell_type": "markdown",
   "id": "bcede156",
   "metadata": {},
   "source": [
    "### drop half the entries to reduce file size"
   ]
  },
  {
   "cell_type": "code",
   "execution_count": 27,
   "id": "58b6177a",
   "metadata": {},
   "outputs": [
    {
     "data": {
      "text/html": [
       "<div>\n",
       "<style scoped>\n",
       "    .dataframe tbody tr th:only-of-type {\n",
       "        vertical-align: middle;\n",
       "    }\n",
       "\n",
       "    .dataframe tbody tr th {\n",
       "        vertical-align: top;\n",
       "    }\n",
       "\n",
       "    .dataframe thead th {\n",
       "        text-align: right;\n",
       "    }\n",
       "</style>\n",
       "<table border=\"1\" class=\"dataframe\">\n",
       "  <thead>\n",
       "    <tr style=\"text-align: right;\">\n",
       "      <th></th>\n",
       "      <th>rmat_tag</th>\n",
       "      <th>pdt_smiles</th>\n",
       "      <th>distance</th>\n",
       "      <th>largest_frag</th>\n",
       "      <th>bredt</th>\n",
       "      <th>largest_cleaned</th>\n",
       "    </tr>\n",
       "  </thead>\n",
       "  <tbody>\n",
       "    <tr>\n",
       "      <th>16360</th>\n",
       "      <td>1642738</td>\n",
       "      <td>O=C(Cn1c(-c2ccccc2)c(C2CCCCC2)c2c[15c]([14C]34...</td>\n",
       "      <td>3.0</td>\n",
       "      <td>O=C(Cn1c(-c2ccccc2)c(C2CCCCC2)c2c[15c]([14C]34...</td>\n",
       "      <td>True</td>\n",
       "      <td>O=C(Cn1c(-c2ccccc2)c(C2CCCCC2)c2cc(C34C=C(Cl)C...</td>\n",
       "    </tr>\n",
       "    <tr>\n",
       "      <th>15505</th>\n",
       "      <td>1640393</td>\n",
       "      <td>O=C(Cn1c(-c2ccccc2)c(C2CCCCC2)c2c1=C[16C]([17C...</td>\n",
       "      <td>4.0</td>\n",
       "      <td>O=C(Cn1c(-c2ccccc2)c(C2CCCCC2)c2c1=C[16C]([17C...</td>\n",
       "      <td>True</td>\n",
       "      <td>O=C(Cn1c(-c2ccccc2)c(C2CCCCC2)c2c1=CC(C(=O)O)C...</td>\n",
       "    </tr>\n",
       "    <tr>\n",
       "      <th>36257</th>\n",
       "      <td>1378120</td>\n",
       "      <td>O=C(Cn1c(-c2ccccc2)c(C2CCCCC2)c2c[15c][16c]([1...</td>\n",
       "      <td>4.0</td>\n",
       "      <td>[18O][14C]12C=C(Cl)C=C(Cl)[13C]1[15N]2</td>\n",
       "      <td>True</td>\n",
       "      <td>OC12C=C(Cl)C=C(Cl)C1N2</td>\n",
       "    </tr>\n",
       "    <tr>\n",
       "      <th>36357</th>\n",
       "      <td>1378375</td>\n",
       "      <td>O=C(Cn1c(-c2ccccc2)c(C2CCCCC2)c2c[15c]3[16c](c...</td>\n",
       "      <td>4.0</td>\n",
       "      <td>O=C(Cn1c(-c2ccccc2)c(C2CCCCC2)c2c[15c]3[16c](c...</td>\n",
       "      <td>True</td>\n",
       "      <td>O=C(Cn1c(-c2ccccc2)c(C2CCCCC2)c2cc3c(cc21)C(=O...</td>\n",
       "    </tr>\n",
       "    <tr>\n",
       "      <th>22195</th>\n",
       "      <td>452554</td>\n",
       "      <td>[13C]C(Cl)=CC(Cl)=C[14C]([15N])[16C]1([17C](=[...</td>\n",
       "      <td>4.0</td>\n",
       "      <td>[13C]C(Cl)=CC(Cl)=C[14C]([15N])[16C]1([17C](=[...</td>\n",
       "      <td>True</td>\n",
       "      <td>CC(Cl)=CC(Cl)=CC(N)C1(C(=O)O)C=c2c(c(C3CCCCC3)...</td>\n",
       "    </tr>\n",
       "    <tr>\n",
       "      <th>...</th>\n",
       "      <td>...</td>\n",
       "      <td>...</td>\n",
       "      <td>...</td>\n",
       "      <td>...</td>\n",
       "      <td>...</td>\n",
       "      <td>...</td>\n",
       "    </tr>\n",
       "    <tr>\n",
       "      <th>24752</th>\n",
       "      <td>577400</td>\n",
       "      <td>[13C]C(Cl)=CC(Cl)=C[14C]1=[17C]2[15C](=[17O])C...</td>\n",
       "      <td>19.0</td>\n",
       "      <td>[13C]C(Cl)=CC(Cl)=C[14C]1=[17C]2[15C](=[17O])C...</td>\n",
       "      <td>True</td>\n",
       "      <td>CC(Cl)=CC(Cl)=CC1=C2C(=O)C=c3c(C4CCCCC4)c(-c4c...</td>\n",
       "    </tr>\n",
       "    <tr>\n",
       "      <th>9094</th>\n",
       "      <td>520366</td>\n",
       "      <td>[13C]C(Cl)=CC(Cl)=C[14C]12[18O][16C]13C=c1c(c(...</td>\n",
       "      <td>19.0</td>\n",
       "      <td>[13C]C(Cl)=CC(Cl)=C[14C]12[18O][16C]13C=c1c(c(...</td>\n",
       "      <td>True</td>\n",
       "      <td>CC(Cl)=CC(Cl)=CC12OC13C=c1c(c(C4CCCCC4)c(-c4cc...</td>\n",
       "    </tr>\n",
       "    <tr>\n",
       "      <th>23137</th>\n",
       "      <td>360705</td>\n",
       "      <td>[13C]C(Cl)=CC(Cl)=C[14C]#[17C][15C]1=[15N][16C...</td>\n",
       "      <td>19.0</td>\n",
       "      <td>[13C]C(Cl)=CC(Cl)=C[14C]#[17C][15C]1=[15N][16C...</td>\n",
       "      <td>True</td>\n",
       "      <td>CC(Cl)=CC(Cl)=CC#CC1=NC2(C=c3c(c(C4CCCCC4)c(-c...</td>\n",
       "    </tr>\n",
       "    <tr>\n",
       "      <th>7788</th>\n",
       "      <td>1043029</td>\n",
       "      <td>[13C]C(Cl)=CC(Cl)=C[14C]1([17C]#[15N])[15C]23C...</td>\n",
       "      <td>19.0</td>\n",
       "      <td>[13C]C(Cl)=CC(Cl)=C[14C]1([17C]#[15N])[15C]23C...</td>\n",
       "      <td>True</td>\n",
       "      <td>CC(Cl)=CC(Cl)=CC1(C#N)C23C=c4c(C5CCCCC5)c(-c5c...</td>\n",
       "    </tr>\n",
       "    <tr>\n",
       "      <th>17107</th>\n",
       "      <td>677070</td>\n",
       "      <td>[13C]C(Cl)=CC(Cl)=C[14C]1=[16C]2C=c3c(c(C4CCCC...</td>\n",
       "      <td>19.0</td>\n",
       "      <td>[13C]C(Cl)=CC(Cl)=C[14C]1=[16C]2C=c3c(c(C4CCCC...</td>\n",
       "      <td>True</td>\n",
       "      <td>CC(Cl)=CC(Cl)=CC1=C2C=c3c(c(C4CCCCC4)c(-c4cccc...</td>\n",
       "    </tr>\n",
       "  </tbody>\n",
       "</table>\n",
       "<p>89240 rows × 6 columns</p>\n",
       "</div>"
      ],
      "text/plain": [
       "       rmat_tag                                         pdt_smiles  distance  \\\n",
       "16360   1642738  O=C(Cn1c(-c2ccccc2)c(C2CCCCC2)c2c[15c]([14C]34...       3.0   \n",
       "15505   1640393  O=C(Cn1c(-c2ccccc2)c(C2CCCCC2)c2c1=C[16C]([17C...       4.0   \n",
       "36257   1378120  O=C(Cn1c(-c2ccccc2)c(C2CCCCC2)c2c[15c][16c]([1...       4.0   \n",
       "36357   1378375  O=C(Cn1c(-c2ccccc2)c(C2CCCCC2)c2c[15c]3[16c](c...       4.0   \n",
       "22195    452554  [13C]C(Cl)=CC(Cl)=C[14C]([15N])[16C]1([17C](=[...       4.0   \n",
       "...         ...                                                ...       ...   \n",
       "24752    577400  [13C]C(Cl)=CC(Cl)=C[14C]1=[17C]2[15C](=[17O])C...      19.0   \n",
       "9094     520366  [13C]C(Cl)=CC(Cl)=C[14C]12[18O][16C]13C=c1c(c(...      19.0   \n",
       "23137    360705  [13C]C(Cl)=CC(Cl)=C[14C]#[17C][15C]1=[15N][16C...      19.0   \n",
       "7788    1043029  [13C]C(Cl)=CC(Cl)=C[14C]1([17C]#[15N])[15C]23C...      19.0   \n",
       "17107    677070  [13C]C(Cl)=CC(Cl)=C[14C]1=[16C]2C=c3c(c(C4CCCC...      19.0   \n",
       "\n",
       "                                            largest_frag  bredt  \\\n",
       "16360  O=C(Cn1c(-c2ccccc2)c(C2CCCCC2)c2c[15c]([14C]34...   True   \n",
       "15505  O=C(Cn1c(-c2ccccc2)c(C2CCCCC2)c2c1=C[16C]([17C...   True   \n",
       "36257             [18O][14C]12C=C(Cl)C=C(Cl)[13C]1[15N]2   True   \n",
       "36357  O=C(Cn1c(-c2ccccc2)c(C2CCCCC2)c2c[15c]3[16c](c...   True   \n",
       "22195  [13C]C(Cl)=CC(Cl)=C[14C]([15N])[16C]1([17C](=[...   True   \n",
       "...                                                  ...    ...   \n",
       "24752  [13C]C(Cl)=CC(Cl)=C[14C]1=[17C]2[15C](=[17O])C...   True   \n",
       "9094   [13C]C(Cl)=CC(Cl)=C[14C]12[18O][16C]13C=c1c(c(...   True   \n",
       "23137  [13C]C(Cl)=CC(Cl)=C[14C]#[17C][15C]1=[15N][16C...   True   \n",
       "7788   [13C]C(Cl)=CC(Cl)=C[14C]1([17C]#[15N])[15C]23C...   True   \n",
       "17107  [13C]C(Cl)=CC(Cl)=C[14C]1=[16C]2C=c3c(c(C4CCCC...   True   \n",
       "\n",
       "                                         largest_cleaned  \n",
       "16360  O=C(Cn1c(-c2ccccc2)c(C2CCCCC2)c2cc(C34C=C(Cl)C...  \n",
       "15505  O=C(Cn1c(-c2ccccc2)c(C2CCCCC2)c2c1=CC(C(=O)O)C...  \n",
       "36257                             OC12C=C(Cl)C=C(Cl)C1N2  \n",
       "36357  O=C(Cn1c(-c2ccccc2)c(C2CCCCC2)c2cc3c(cc21)C(=O...  \n",
       "22195  CC(Cl)=CC(Cl)=CC(N)C1(C(=O)O)C=c2c(c(C3CCCCC3)...  \n",
       "...                                                  ...  \n",
       "24752  CC(Cl)=CC(Cl)=CC1=C2C(=O)C=c3c(C4CCCCC4)c(-c4c...  \n",
       "9094   CC(Cl)=CC(Cl)=CC12OC13C=c1c(c(C4CCCCC4)c(-c4cc...  \n",
       "23137  CC(Cl)=CC(Cl)=CC#CC1=NC2(C=c3c(c(C4CCCCC4)c(-c...  \n",
       "7788   CC(Cl)=CC(Cl)=CC1(C#N)C23C=c4c(C5CCCCC5)c(-c5c...  \n",
       "17107  CC(Cl)=CC(Cl)=CC1=C2C=c3c(c(C4CCCCC4)c(-c4cccc...  \n",
       "\n",
       "[89240 rows x 6 columns]"
      ]
     },
     "execution_count": 27,
     "metadata": {},
     "output_type": "execute_result"
    }
   ],
   "source": [
    "all_coupling_df"
   ]
  },
  {
   "cell_type": "markdown",
   "id": "ee6962b1",
   "metadata": {},
   "source": [
    "### save entire dataset \n",
    "### no aromaticity here because no reactions in this set preserves aromaticity"
   ]
  },
  {
   "cell_type": "code",
   "execution_count": 28,
   "id": "a39d36bd",
   "metadata": {},
   "outputs": [],
   "source": [
    "all_coupling_df[[\"rmat_tag\",\"distance\",\"largest_frag\",\"largest_cleaned\"]].to_csv(\"./ac2drug_am2small/ac2drug_am2small_smiles.csv\",index=False)"
   ]
  }
 ],
 "metadata": {
  "kernelspec": {
   "display_name": "Python 3 (ipykernel)",
   "language": "python",
   "name": "python3"
  },
  "language_info": {
   "codemirror_mode": {
    "name": "ipython",
    "version": 3
   },
   "file_extension": ".py",
   "mimetype": "text/x-python",
   "name": "python",
   "nbconvert_exporter": "python",
   "pygments_lexer": "ipython3",
   "version": "3.10.4"
  }
 },
 "nbformat": 4,
 "nbformat_minor": 5
}
