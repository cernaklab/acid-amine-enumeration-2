{
 "cells": [
  {
   "cell_type": "markdown",
   "id": "305eda64",
   "metadata": {},
   "source": [
    "### continuation of 013"
   ]
  },
  {
   "cell_type": "markdown",
   "id": "75eeb0ac",
   "metadata": {},
   "source": [
    "### setup"
   ]
  },
  {
   "cell_type": "code",
   "execution_count": 1,
   "id": "e9254f51",
   "metadata": {},
   "outputs": [],
   "source": [
    "from rdkit import Chem\n",
    "from rdkit.Chem import AllChem\n",
    "from rdkit.Chem.Draw import IPythonConsole\n",
    "# from rdkit.Chem.Draw import MolDrawing, DrawingOptions, MolToImage\n",
    "\n",
    "from rdkit import RDLogger\n",
    "lg = RDLogger.logger()\n",
    "lg.setLevel(RDLogger.CRITICAL)\n",
    "\n",
    "import numpy as np\n",
    "\n",
    "from tqdm.notebook import tqdm\n",
    "\n",
    "import pandas as pd"
   ]
  },
  {
   "cell_type": "code",
   "execution_count": 2,
   "id": "36cddb5f",
   "metadata": {},
   "outputs": [],
   "source": [
    "def apply_amat(acid,acid_match,amine,amine_match,rmat):\n",
    "    \"\"\"\n",
    "    needs the smarts of the acid and amine pre-defined. maybe an external dictionary.\n",
    "    \"\"\"\n",
    "    # combine molecules and make a writable version\n",
    "    both = Chem.CombineMols(acid,amine)\n",
    "    bothW = Chem.RWMol(both)\n",
    "    Chem.Kekulize(both,clearAromaticFlags=True)\n",
    "    Chem.Kekulize(bothW,clearAromaticFlags=True)\n",
    "    # get the indices for the acid and amine matches\n",
    "    amine_atoms = both.GetSubstructMatch(group_dict[amine_match])\n",
    "    acid_atoms = both.GetSubstructMatch(group_dict[acid_match])\n",
    "    \n",
    "    if not (amine_atoms and acid_atoms):\n",
    "        print(\"substruct match not found\")\n",
    "        return\n",
    "    # join the indices\n",
    "    atom_list = amine_atoms + acid_atoms\n",
    "    \n",
    "    # go through the amat to find places where the change is not 0\n",
    "    side_len = len(rmat)\n",
    "    \n",
    "    if side_len != len(atom_list):\n",
    "        print(\"matrix length does not equal number of matched atoms\")\n",
    "        return\n",
    "    for r in range(side_len):\n",
    "        for c in range(r+1,side_len):\n",
    "            bond_order_change = rmat[r][c]\n",
    "            if bond_order_change != 0: \n",
    "                atom1 = atom_list[amat2ind[r]]\n",
    "                atom2 = atom_list[amat2ind[c]]\n",
    "                # get the current bond order\n",
    "                current_bond = both.GetBondBetweenAtoms(atom1,atom2)\n",
    "                if current_bond: \n",
    "                    current_bond_order = current_bond.GetBondTypeAsDouble()                            \n",
    "                else: \n",
    "                    current_bond_order = 0\n",
    "\n",
    "                \n",
    "                new_bond_order = current_bond_order + bond_order_change\n",
    "                \n",
    "                if new_bond_order not in [0,1,2,3]:\n",
    "                    return None\n",
    "                # make bond changes\n",
    "                \n",
    "                bothW.RemoveBond(atom1,atom2)\n",
    "                \n",
    "                if new_bond_order > 0:\n",
    "                    bothW.AddBond(atom1,atom2, bond_dict[new_bond_order])\n",
    "                        \n",
    "    try:\n",
    "        Chem.SanitizeMol(bothW)\n",
    "\n",
    "    except:\n",
    "#         print(\"illegal structure\")\n",
    "        return None\n",
    "\n",
    "    # may need to become smiles if we want to multitarget, as well as have fragments included.\n",
    "    return bothW\n",
    "\n",
    "# bb = apply_amat(ac, \"ac3\",am, \"am2\",rmat)"
   ]
  },
  {
   "cell_type": "markdown",
   "id": "3525ba5f",
   "metadata": {},
   "source": [
    "### encode basic acid and amine"
   ]
  },
  {
   "cell_type": "code",
   "execution_count": 3,
   "id": "36a4b6b1",
   "metadata": {},
   "outputs": [
    {
     "data": {
      "image/png": "[encoded data removed]",
      "text/plain": [
       "<rdkit.Chem.rdchem.Mol at 0x24d797cb100>"
      ]
     },
     "execution_count": 3,
     "metadata": {},
     "output_type": "execute_result"
    }
   ],
   "source": [
    "sp2_acid_smiles = '[17O]=[17C]([18O])[16C]=[15C]'\n",
    "basic_acid = Chem.MolFromSmiles(sp2_acid_smiles)\n",
    "basic_acid"
   ]
  },
  {
   "cell_type": "code",
   "execution_count": 4,
   "id": "ef256958",
   "metadata": {},
   "outputs": [
    {
     "data": {
      "image/png": "[encoded data removed]",
      "text/plain": [
       "<rdkit.Chem.rdchem.Mol at 0x24d2a072380>"
      ]
     },
     "execution_count": 4,
     "metadata": {},
     "output_type": "execute_result"
    }
   ],
   "source": [
    "sp2_amine_smiles = \"[15N][14C]=[13C]\"\n",
    "basic_amine = Chem.MolFromSmiles(sp2_amine_smiles)\n",
    "basic_amine"
   ]
  },
  {
   "cell_type": "code",
   "execution_count": 5,
   "id": "bd843449",
   "metadata": {},
   "outputs": [],
   "source": [
    "am2 = Chem.MolFromSmarts(\"[13C]=[14C][15N]\")\n",
    "ac2 = Chem.MolFromSmarts(\"[15C]=[16C][17C](=[17O])[18O]\")\n",
    "am3 = Chem.MolFromSmarts(\"[13C][14C][15N]\")\n",
    "ac3 = Chem.MolFromSmarts(\"[15C][16C][17C](=[17O])[18O]\")\n",
    "\n",
    "\n",
    "group_dict = {\"ac2\":ac2, \"ac3\":ac3,\"am2\":am2,\"am3\":am3}\n",
    "# the dictionary is basically like, first entry is amine C1. second entry is amine c2. \n",
    "# this changes depending on the matrix, and how the smarts for the matcher is written. \n",
    "\n",
    "# number of entries in the amat\n",
    "amat_indices = range(8)\n",
    "# which entry each index should map to\n",
    "mapping_order = [0,1,3,4,5,2,6,7]\n",
    "# mapping_order = [3,4,5,0,1,2,6,7]\n",
    "\n",
    "\n",
    "# amat index -> amine/acid match index\n",
    "amat2ind = {k:v for k,v in zip(amat_indices, mapping_order)}\n",
    "\n",
    "bond_dict = {1:Chem.BondType.SINGLE, 2:Chem.BondType.DOUBLE, 3:Chem.BondType.TRIPLE}\n"
   ]
  },
  {
   "cell_type": "markdown",
   "id": "03596892",
   "metadata": {},
   "source": [
    "### check that the substruct matching hits the right region"
   ]
  },
  {
   "cell_type": "code",
   "execution_count": 6,
   "id": "f1a42b1d",
   "metadata": {},
   "outputs": [
    {
     "data": {
      "image/png": "[encoded data removed]",
      "text/plain": [
       "<rdkit.Chem.rdchem.Mol at 0x24d797cb100>"
      ]
     },
     "execution_count": 6,
     "metadata": {},
     "output_type": "execute_result"
    }
   ],
   "source": [
    "basic_acid.GetSubstructMatch(ac2)\n",
    "basic_acid"
   ]
  },
  {
   "cell_type": "code",
   "execution_count": 7,
   "id": "1420cfed",
   "metadata": {},
   "outputs": [
    {
     "data": {
      "image/png": "[encoded data removed]",
      "text/plain": [
       "<rdkit.Chem.rdchem.Mol at 0x24d2a072380>"
      ]
     },
     "execution_count": 7,
     "metadata": {},
     "output_type": "execute_result"
    }
   ],
   "source": [
    "basic_amine.GetSubstructMatch(am2)\n",
    "basic_amine"
   ]
  },
  {
   "cell_type": "code",
   "execution_count": 8,
   "id": "dfff455a",
   "metadata": {},
   "outputs": [],
   "source": [
    "large_data = pd.read_csv(\"./ac2drug_am2small/ac2drug_am2small_smiles.csv\")"
   ]
  },
  {
   "cell_type": "code",
   "execution_count": 9,
   "id": "d39d4796",
   "metadata": {},
   "outputs": [
    {
     "data": {
      "text/html": [
       "<div>\n",
       "<style scoped>\n",
       "    .dataframe tbody tr th:only-of-type {\n",
       "        vertical-align: middle;\n",
       "    }\n",
       "\n",
       "    .dataframe tbody tr th {\n",
       "        vertical-align: top;\n",
       "    }\n",
       "\n",
       "    .dataframe thead th {\n",
       "        text-align: right;\n",
       "    }\n",
       "</style>\n",
       "<table border=\"1\" class=\"dataframe\">\n",
       "  <thead>\n",
       "    <tr style=\"text-align: right;\">\n",
       "      <th></th>\n",
       "      <th>rmat_tag</th>\n",
       "      <th>distance</th>\n",
       "      <th>largest_frag</th>\n",
       "      <th>largest_cleaned</th>\n",
       "    </tr>\n",
       "  </thead>\n",
       "  <tbody>\n",
       "    <tr>\n",
       "      <th>0</th>\n",
       "      <td>1373390</td>\n",
       "      <td>3.0</td>\n",
       "      <td>O=C(Cn1c(-c2ccccc2)c(C2CCCCC2)c2c[15c]([15N]3[...</td>\n",
       "      <td>O=C(Cn1c(-c2ccccc2)c(C2CCCCC2)c2cc(N3C4C(Cl)=C...</td>\n",
       "    </tr>\n",
       "    <tr>\n",
       "      <th>1</th>\n",
       "      <td>1642738</td>\n",
       "      <td>3.0</td>\n",
       "      <td>O=C(Cn1c(-c2ccccc2)c(C2CCCCC2)c2c[15c]([14C]34...</td>\n",
       "      <td>O=C(Cn1c(-c2ccccc2)c(C2CCCCC2)c2cc(C34C=C(Cl)C...</td>\n",
       "    </tr>\n",
       "    <tr>\n",
       "      <th>2</th>\n",
       "      <td>814047</td>\n",
       "      <td>3.0</td>\n",
       "      <td>[13C]C(Cl)=CC(Cl)=C[14C]([15N])[15c]1cc2c(C3CC...</td>\n",
       "      <td>CC(Cl)=CC(Cl)=CC(N)c1cc2c(C3CCCCC3)c(-c3ccccc3...</td>\n",
       "    </tr>\n",
       "    <tr>\n",
       "      <th>3</th>\n",
       "      <td>1378122</td>\n",
       "      <td>3.0</td>\n",
       "      <td>O=C(Cn1c(-c2ccccc2)c(C2CCCCC2)c2c[15c][16c]([1...</td>\n",
       "      <td>O=C(Cn1c(-c2ccccc2)c(C2CCCCC2)c2ccc(C(=O)OC34C...</td>\n",
       "    </tr>\n",
       "    <tr>\n",
       "      <th>4</th>\n",
       "      <td>255870</td>\n",
       "      <td>4.0</td>\n",
       "      <td>[13C]C(Cl)=CC(Cl)=C[14C]([15N])[17C](=[17O])[18O]</td>\n",
       "      <td>CC(Cl)=CC(Cl)=CC(N)C(=O)O</td>\n",
       "    </tr>\n",
       "  </tbody>\n",
       "</table>\n",
       "</div>"
      ],
      "text/plain": [
       "   rmat_tag  distance                                       largest_frag  \\\n",
       "0   1373390       3.0  O=C(Cn1c(-c2ccccc2)c(C2CCCCC2)c2c[15c]([15N]3[...   \n",
       "1   1642738       3.0  O=C(Cn1c(-c2ccccc2)c(C2CCCCC2)c2c[15c]([14C]34...   \n",
       "2    814047       3.0  [13C]C(Cl)=CC(Cl)=C[14C]([15N])[15c]1cc2c(C3CC...   \n",
       "3   1378122       3.0  O=C(Cn1c(-c2ccccc2)c(C2CCCCC2)c2c[15c][16c]([1...   \n",
       "4    255870       4.0  [13C]C(Cl)=CC(Cl)=C[14C]([15N])[17C](=[17O])[18O]   \n",
       "\n",
       "                                     largest_cleaned  \n",
       "0  O=C(Cn1c(-c2ccccc2)c(C2CCCCC2)c2cc(N3C4C(Cl)=C...  \n",
       "1  O=C(Cn1c(-c2ccccc2)c(C2CCCCC2)c2cc(C34C=C(Cl)C...  \n",
       "2  CC(Cl)=CC(Cl)=CC(N)c1cc2c(C3CCCCC3)c(-c3ccccc3...  \n",
       "3  O=C(Cn1c(-c2ccccc2)c(C2CCCCC2)c2ccc(C(=O)OC34C...  \n",
       "4                          CC(Cl)=CC(Cl)=CC(N)C(=O)O  "
      ]
     },
     "execution_count": 9,
     "metadata": {},
     "output_type": "execute_result"
    }
   ],
   "source": [
    "large_data.head()"
   ]
  },
  {
   "cell_type": "code",
   "execution_count": 10,
   "id": "0583f1e6",
   "metadata": {},
   "outputs": [],
   "source": [
    "valid_rmat_inds = np.array(list(large_data.rmat_tag))\n",
    "valid_rmat_inds.sort()"
   ]
  },
  {
   "cell_type": "code",
   "execution_count": 11,
   "id": "743f327c",
   "metadata": {},
   "outputs": [
    {
     "data": {
      "text/html": [
       "<div>\n",
       "<style scoped>\n",
       "    .dataframe tbody tr th:only-of-type {\n",
       "        vertical-align: middle;\n",
       "    }\n",
       "\n",
       "    .dataframe tbody tr th {\n",
       "        vertical-align: top;\n",
       "    }\n",
       "\n",
       "    .dataframe thead th {\n",
       "        text-align: right;\n",
       "    }\n",
       "</style>\n",
       "<table border=\"1\" class=\"dataframe\">\n",
       "  <thead>\n",
       "    <tr style=\"text-align: right;\">\n",
       "      <th></th>\n",
       "      <th>rmat_tag</th>\n",
       "      <th>distance</th>\n",
       "      <th>largest_frag</th>\n",
       "      <th>largest_cleaned</th>\n",
       "    </tr>\n",
       "  </thead>\n",
       "  <tbody>\n",
       "    <tr>\n",
       "      <th>70034</th>\n",
       "      <td>142</td>\n",
       "      <td>13.0</td>\n",
       "      <td>[15C]C=c1c(C2CCCCC2)c(-c2ccccc2)n(CC(=O)N2CCOC...</td>\n",
       "      <td>CC=c1c(C2CCCCC2)c(-c2ccccc2)n(CC(=O)N2CCOCC2)c...</td>\n",
       "    </tr>\n",
       "    <tr>\n",
       "      <th>70019</th>\n",
       "      <td>143</td>\n",
       "      <td>13.0</td>\n",
       "      <td>[15C]C=c1c(C2CCCCC2)c(-c2ccccc2)n(CC(=O)N2CCOC...</td>\n",
       "      <td>CC=c1c(C2CCCCC2)c(-c2ccccc2)n(CC(=O)N2CCOCC2)c...</td>\n",
       "    </tr>\n",
       "    <tr>\n",
       "      <th>34746</th>\n",
       "      <td>146</td>\n",
       "      <td>11.0</td>\n",
       "      <td>[15C]C=c1c(C2CCCCC2)c(-c2ccccc2)n(CC(=O)N2CCOC...</td>\n",
       "      <td>CC=c1c(C2CCCCC2)c(-c2ccccc2)n(CC(=O)N2CCOCC2)c...</td>\n",
       "    </tr>\n",
       "  </tbody>\n",
       "</table>\n",
       "</div>"
      ],
      "text/plain": [
       "       rmat_tag  distance                                       largest_frag  \\\n",
       "70034       142      13.0  [15C]C=c1c(C2CCCCC2)c(-c2ccccc2)n(CC(=O)N2CCOC...   \n",
       "70019       143      13.0  [15C]C=c1c(C2CCCCC2)c(-c2ccccc2)n(CC(=O)N2CCOC...   \n",
       "34746       146      11.0  [15C]C=c1c(C2CCCCC2)c(-c2ccccc2)n(CC(=O)N2CCOC...   \n",
       "\n",
       "                                         largest_cleaned  \n",
       "70034  CC=c1c(C2CCCCC2)c(-c2ccccc2)n(CC(=O)N2CCOCC2)c...  \n",
       "70019  CC=c1c(C2CCCCC2)c(-c2ccccc2)n(CC(=O)N2CCOCC2)c...  \n",
       "34746  CC=c1c(C2CCCCC2)c(-c2ccccc2)n(CC(=O)N2CCOCC2)c...  "
      ]
     },
     "execution_count": 11,
     "metadata": {},
     "output_type": "execute_result"
    }
   ],
   "source": [
    "large_data.sort_values(\"rmat_tag\",inplace=True)\n",
    "large_data.head(3)"
   ]
  },
  {
   "cell_type": "markdown",
   "id": "34295753",
   "metadata": {},
   "source": [
    "### compile which parts of the 8-atom reaction center are in the coupled product"
   ]
  },
  {
   "cell_type": "code",
   "execution_count": 12,
   "id": "737fcb49",
   "metadata": {},
   "outputs": [
    {
     "data": {
      "application/vnd.jupyter.widget-view+json": {
       "model_id": "2829bbb6df6f4f74bb06c57847815a17",
       "version_major": 2,
       "version_minor": 0
      },
      "text/plain": [
       "  0%|          | 0/108019 [00:00<?, ?it/s]"
      ]
     },
     "metadata": {},
     "output_type": "display_data"
    }
   ],
   "source": [
    "acid_parts = [\"[15C]\",\"[16C]\",\"[17C]\",\"[15c]\",\"[16c]\",\"[17c]\",\"[17O]\",\"[18O]\",\"[17o]\",\"[18o]\"]\n",
    "amine_parts = [\"[13C]\",\"[14C]\",\"[13c]\",\"[14c]\",\"[15N]\",\"[15n]\"]\n",
    "\n",
    "frags = []\n",
    "for s in tqdm(list(large_data.largest_frag)):\n",
    "    frags.append([i for i in acid_parts+amine_parts if i in s])"
   ]
  },
  {
   "cell_type": "code",
   "execution_count": 13,
   "id": "694ddc61",
   "metadata": {},
   "outputs": [],
   "source": [
    "def run_enumeration(file_ind):\n",
    "    index_start = file_ind * 100000\n",
    "    index_end = (file_ind+1) * 100000\n",
    "\n",
    "    valid_ind_locs = np.where(np.logical_and(valid_rmat_inds>= index_start,valid_rmat_inds < index_end))[0]\n",
    "\n",
    "    # get the rmat inds needed\n",
    "    rmat_inds_to_use = valid_rmat_inds[valid_ind_locs]\n",
    "\n",
    "    # the local index for that particular file.\n",
    "    rmat_inds_local = rmat_inds_to_use - file_ind * 100000\n",
    "    # rmat_inds_to_use is the true rmat_tag\n",
    "\n",
    "\n",
    "    file_tag = str(file_ind).zfill(2)\n",
    "    dmats = np.load(f\"../rxn_mats/dmats_ac2_am2_{file_tag}.npy\")\n",
    "    dmats_to_use = dmats[rmat_inds_local]\n",
    "\n",
    "    out_file = open(f\"./ac2drug_am2small/rxn_center_only_{file_tag}.csv\",\"w\")\n",
    "    out_file.write(\"rmat_tag,pdt_smiles\\n\")\n",
    "    for i,dmat in enumerate(dmats_to_use):\n",
    "\n",
    "\n",
    "        try:\n",
    "            matrix_index = rmat_inds_to_use[i]\n",
    "            m = apply_amat(basic_acid,\"ac2\",basic_amine,\"am2\",dmat)\n",
    "            s = Chem.MolToSmiles(m,isomericSmiles=True)\n",
    "            out_file.write(f\"{matrix_index},{s}\\n\")\n",
    "\n",
    "        except:\n",
    "            continue\n",
    "\n",
    "    out_file.close()\n"
   ]
  },
  {
   "cell_type": "code",
   "execution_count": 14,
   "id": "a3d759e4",
   "metadata": {},
   "outputs": [],
   "source": [
    "run_range = range(18)\n",
    "# run_range = np.arange(0,56,5)"
   ]
  },
  {
   "cell_type": "code",
   "execution_count": 15,
   "id": "23e34ec1",
   "metadata": {},
   "outputs": [
    {
     "data": {
      "application/vnd.jupyter.widget-view+json": {
       "model_id": "6fb04c5cd98645a5824da0ea889b0791",
       "version_major": 2,
       "version_minor": 0
      },
      "text/plain": [
       "  0%|          | 0/18 [00:00<?, ?it/s]"
      ]
     },
     "metadata": {},
     "output_type": "display_data"
    }
   ],
   "source": [
    "for i in tqdm(run_range):\n",
    "    run_enumeration(i)"
   ]
  },
  {
   "cell_type": "code",
   "execution_count": 16,
   "id": "25e74382",
   "metadata": {},
   "outputs": [],
   "source": [
    "small_pd = pd.concat([pd.read_csv(f\"./ac2drug_am2small/rxn_center_only_{str(i).zfill(2)}.csv\") for i in range(18)])"
   ]
  },
  {
   "cell_type": "code",
   "execution_count": 17,
   "id": "3f830b85",
   "metadata": {},
   "outputs": [],
   "source": [
    "def count_atoms(s):\n",
    "    alphab = \"CONcon\"\n",
    "    return len([i for i in s if i in alphab]) \n",
    "\n",
    "def clean_structure(s):\n",
    "    temp = s\n",
    "    \n",
    "    for i in acid_parts + amine_parts:\n",
    "        temp = temp.replace(i,i[-2])\n",
    "    return temp"
   ]
  },
  {
   "cell_type": "code",
   "execution_count": 18,
   "id": "49150d17",
   "metadata": {},
   "outputs": [],
   "source": [
    "# make all the letters capital"
   ]
  },
  {
   "cell_type": "code",
   "execution_count": 25,
   "id": "ac126370",
   "metadata": {},
   "outputs": [
    {
     "data": {
      "application/vnd.jupyter.widget-view+json": {
       "model_id": "b9259c1b374946af9d0fd6b11e1f5da7",
       "version_major": 2,
       "version_minor": 0
      },
      "text/plain": [
       "0it [00:00, ?it/s]"
      ]
     },
     "metadata": {},
     "output_type": "display_data"
    }
   ],
   "source": [
    "relev_all = []\n",
    "for i_s,s in tqdm(enumerate(small_pd.pdt_smiles)):\n",
    "    split_s = s.split(\".\")\n",
    "    \n",
    "    # consider both aromatic and non-aromatic\n",
    "    frg = frags[i_s]\n",
    "    frg += [i.upper() for i in frg]\n",
    "    \n",
    "    relev_part = []\n",
    "    for ss in split_s:\n",
    "        if any([i in ss for i in frg]):\n",
    "            relev_part.append(ss)\n",
    "    \n",
    "    if len(relev_part) > 1:\n",
    "        atom_counts = [count_atoms(r) for r in relev_part]\n",
    "        max_atom_ind = np.argmax(atom_counts)\n",
    "        relev_part = relev_part[max_atom_ind]\n",
    "        \n",
    "    try:\n",
    "        relev_all.append(relev_part)\n",
    "            \n",
    "    except:\n",
    "        print(frg)\n",
    "        print(split_s)\n",
    "        print()"
   ]
  },
  {
   "cell_type": "code",
   "execution_count": 41,
   "id": "ecee7ca2",
   "metadata": {},
   "outputs": [],
   "source": [
    "relev_full = []\n",
    "for r in relev_all:\n",
    "    if len(r[0]) == 1:\n",
    "        relev_full.append(r)\n",
    "        \n",
    "    else:\n",
    "        relev_full.append(r[0])"
   ]
  },
  {
   "cell_type": "code",
   "execution_count": 43,
   "id": "8c2d68bd",
   "metadata": {},
   "outputs": [],
   "source": [
    "small_pd[\"frag_in_large\"] = relev_full\n",
    "small_pd[\"pdt_cleaned\"] = [clean_structure(s) for s in list(small_pd.frag_in_large)]"
   ]
  },
  {
   "cell_type": "code",
   "execution_count": 45,
   "id": "4023cd26",
   "metadata": {},
   "outputs": [],
   "source": [
    "small_pd.to_csv(\"./ac2drug_am2small/ac2drug_am2small_rxn_centers.csv\",index=False)"
   ]
  }
 ],
 "metadata": {
  "kernelspec": {
   "display_name": "Python 3 (ipykernel)",
   "language": "python",
   "name": "python3"
  },
  "language_info": {
   "codemirror_mode": {
    "name": "ipython",
    "version": 3
   },
   "file_extension": ".py",
   "mimetype": "text/x-python",
   "name": "python",
   "nbconvert_exporter": "python",
   "pygments_lexer": "ipython3",
   "version": "3.10.4"
  }
 },
 "nbformat": 4,
 "nbformat_minor": 5
}
