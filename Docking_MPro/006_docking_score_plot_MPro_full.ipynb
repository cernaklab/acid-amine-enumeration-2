{
 "cells": [
  {
   "cell_type": "code",
   "execution_count": 1,
   "metadata": {},
   "outputs": [],
   "source": [
    "from rdkit import Chem\n",
    "from rdkit.Chem.Draw import IPythonConsole\n",
    "\n",
    "import pandas as pd\n",
    "import seaborn as sns\n",
    "\n",
    "import numpy as np\n",
    "\n",
    "import matplotlib.pyplot as plt\n",
    "\n",
    "import utils\n",
    "import multiprocessing as mp\n",
    "import plotting_utils"
   ]
  },
  {
   "cell_type": "code",
   "execution_count": 2,
   "metadata": {},
   "outputs": [],
   "source": [
    "from tqdm.notebook import tqdm"
   ]
  },
  {
   "cell_type": "code",
   "execution_count": 3,
   "metadata": {},
   "outputs": [],
   "source": [
    "def get_NO_count(s):\n",
    "    # just a SMILES character check\n",
    "    # other elements that contain N and O in their strings have already been filtered\n",
    "    return np.sum([s.count(i) for i in \"NOno\"])"
   ]
  },
  {
   "cell_type": "code",
   "execution_count": 4,
   "metadata": {},
   "outputs": [],
   "source": [
    "def get_raw_tag(t):\n",
    "    t1 = t.split(\"-\")[1]\n",
    "    t2 = t1.split(\"_\")[0]\n",
    "    \n",
    "    return t2"
   ]
  },
  {
   "cell_type": "code",
   "execution_count": 5,
   "metadata": {},
   "outputs": [],
   "source": [
    "e1 = pd.read_csv(\"./docking_scores/enumeration_0107.csv\")\n",
    "e2 = pd.read_csv(\"./docking_scores/enumeration_0195.csv\")\n",
    "e3 = pd.read_csv(\"./docking_scores/enumeration_0387.csv\")"
   ]
  },
  {
   "cell_type": "code",
   "execution_count": 6,
   "metadata": {},
   "outputs": [],
   "source": [
    "e1.columns = ['smiles','tag','score']\n",
    "e2.columns = ['smiles','tag','score']\n",
    "e3.columns = ['smiles','tag','score']"
   ]
  },
  {
   "cell_type": "code",
   "execution_count": 7,
   "metadata": {},
   "outputs": [],
   "source": [
    "a1 = pd.read_csv(\"docking_scores/amide_scores_0107.csv\")\n",
    "a2 = pd.read_csv(\"docking_scores/amide_scores_0195.csv\")\n",
    "a3 = pd.read_csv(\"docking_scores/amide_scores_0387.csv\")"
   ]
  },
  {
   "cell_type": "code",
   "execution_count": 8,
   "metadata": {},
   "outputs": [],
   "source": [
    "a1.columns = ['smiles','tag','score']\n",
    "a2.columns = ['smiles','tag','score']\n",
    "a3.columns = ['smiles','tag','score']"
   ]
  },
  {
   "cell_type": "code",
   "execution_count": 9,
   "metadata": {},
   "outputs": [
    {
     "data": {
      "application/vnd.jupyter.widget-view+json": {
       "model_id": "7282b0dd8c5342e3a75fe82810e3183f",
       "version_major": 2,
       "version_minor": 0
      },
      "text/plain": [
       "  0%|          | 0/56 [00:00<?, ?it/s]"
      ]
     },
     "metadata": {},
     "output_type": "display_data"
    }
   ],
   "source": [
    "# Read reaction distances\n",
    "dist_dict = {}\n",
    "\n",
    "for file_tag in tqdm(range(56)):\n",
    "\n",
    "    file_string = str(file_tag).zfill(2)\n",
    "\n",
    "    data = pd.read_csv(f\"../data_files/smiles_with_all_dists/smiles_with_all_dists_{file_string}.csv\")\n",
    "\n",
    "    data[\"tag\"] = file_tag*1000000 + data.index\n",
    "    \n",
    "    for r in data.itertuples():\n",
    "        dist_dict[r.tag] = r.ac3_am3"
   ]
  },
  {
   "cell_type": "code",
   "execution_count": 10,
   "metadata": {},
   "outputs": [],
   "source": [
    "for df in [e1,e2,e3]:\n",
    "    df[\"raw_tag\"] = df.tag.apply(get_raw_tag)\n",
    "    df[\"distance\"] = [dist_dict[int(i)] for i in df[\"raw_tag\"]]\n",
    "    "
   ]
  },
  {
   "cell_type": "code",
   "execution_count": 11,
   "metadata": {},
   "outputs": [],
   "source": [
    "if __name__ == '__main__':\n",
    "    with mp.Pool(32) as p:\n",
    "        n1 = p.map(plotting_utils.check_neutral, a1.smiles,chunksize=10000)\n",
    "        n2 = p.map(plotting_utils.check_neutral, a2.smiles,chunksize=10000)\n",
    "        n3 = p.map(plotting_utils.check_neutral, a3.smiles,chunksize=10000)\n"
   ]
  },
  {
   "cell_type": "code",
   "execution_count": 12,
   "metadata": {},
   "outputs": [],
   "source": [
    "a1[\"neutral\"] = n1\n",
    "a2[\"neutral\"] = n2\n",
    "a3[\"neutral\"] = n3"
   ]
  },
  {
   "cell_type": "code",
   "execution_count": 13,
   "metadata": {},
   "outputs": [],
   "source": [
    "a1[\"NO_count\"] = a1.smiles.apply(get_NO_count)\n",
    "a2[\"NO_count\"] = a2.smiles.apply(get_NO_count)\n",
    "a3[\"NO_count\"] = a3.smiles.apply(get_NO_count)"
   ]
  },
  {
   "cell_type": "code",
   "execution_count": 14,
   "metadata": {},
   "outputs": [],
   "source": [
    "a1 = a1[(a1.neutral) & (a1.NO_count <= 8)].copy()\n",
    "a2 = a2[(a2.neutral) & (a2.NO_count <= 8)].copy()\n",
    "a3 = a3[(a3.neutral) & (a3.NO_count <= 8)].copy()"
   ]
  },
  {
   "cell_type": "code",
   "execution_count": 15,
   "metadata": {},
   "outputs": [],
   "source": [
    "a1.drop_duplicates(subset=\"smiles\",inplace=True)\n",
    "a2.drop_duplicates(subset=\"smiles\",inplace=True)\n",
    "a3.drop_duplicates(subset=\"smiles\",inplace=True)\n",
    "\n",
    "a1.reset_index(inplace=True,drop=True)\n",
    "a2.reset_index(inplace=True,drop=True)\n",
    "a3.reset_index(inplace=True,drop=True)"
   ]
  },
  {
   "cell_type": "code",
   "execution_count": 16,
   "metadata": {},
   "outputs": [],
   "source": [
    "# if __name__ == '__main__':\n",
    "#     with mp.Pool(32) as p:\n",
    "#         n1 = p.map(plotting_utils.getnumatoms, a1.smiles,chunksize=10000)\n",
    "#         n2 = p.map(plotting_utils.getnumatoms, a2.smiles,chunksize=10000)\n",
    "#         n3 = p.map(plotting_utils.getnumatoms, a3.smiles,chunksize=10000)\n",
    "\n",
    "# a1[\"n_atoms\"] = n1\n",
    "# a2[\"n_atoms\"] = n2\n",
    "# a3[\"n_atoms\"] = n3"
   ]
  },
  {
   "cell_type": "code",
   "execution_count": 17,
   "metadata": {},
   "outputs": [],
   "source": [
    "# plot FC against score for all 3 confs????"
   ]
  },
  {
   "cell_type": "code",
   "execution_count": 18,
   "metadata": {},
   "outputs": [],
   "source": [
    "conf_dict = {1:\"0107\",2:\"0195\",3:\"0387\"}"
   ]
  },
  {
   "cell_type": "code",
   "execution_count": 19,
   "metadata": {},
   "outputs": [],
   "source": [
    "def addtoalldata(score_list,datasource,conformer):\n",
    "    for score in score_list:\n",
    "        all_data.append([conformer,datasource,score])\n",
    "    "
   ]
  },
  {
   "cell_type": "code",
   "execution_count": 20,
   "metadata": {},
   "outputs": [],
   "source": [
    "e1_plot = e1[e1.distance <=6]\n",
    "e2_plot = e2[e2.distance <=6]\n",
    "e3_plot = e3[e3.distance <=6]"
   ]
  },
  {
   "cell_type": "code",
   "execution_count": 21,
   "metadata": {},
   "outputs": [],
   "source": [
    "a1_plot = a1\n",
    "a2_plot = a2\n",
    "a3_plot = a3"
   ]
  },
  {
   "cell_type": "code",
   "execution_count": 22,
   "metadata": {},
   "outputs": [],
   "source": [
    "all_data = []"
   ]
  },
  {
   "cell_type": "code",
   "execution_count": 23,
   "metadata": {},
   "outputs": [],
   "source": [
    "addtoalldata(e1_plot.score,\"enumerated\",conf_dict[1])\n",
    "addtoalldata(e2_plot.score,\"enumerated\",conf_dict[2])\n",
    "addtoalldata(e3_plot.score,\"enumerated\",conf_dict[3])"
   ]
  },
  {
   "cell_type": "code",
   "execution_count": 24,
   "metadata": {},
   "outputs": [],
   "source": [
    "addtoalldata(a1_plot.score,\"amides\",conf_dict[1])\n",
    "addtoalldata(a2_plot.score,\"amides\",conf_dict[2])\n",
    "addtoalldata(a3_plot.score,\"amides\",conf_dict[3])"
   ]
  },
  {
   "cell_type": "code",
   "execution_count": 25,
   "metadata": {},
   "outputs": [],
   "source": [
    "data = pd.DataFrame(all_data,columns = [\"conformer\",\"source\",\"score\"])"
   ]
  },
  {
   "cell_type": "code",
   "execution_count": 26,
   "metadata": {},
   "outputs": [],
   "source": [
    "all_medians = []\n",
    "for source in [\"enumerated\", \"amides\"]:\n",
    "    for conf in [\"0107\",\"0195\",\"0387\"]:\n",
    "        sub_grid = data[(data.source == source) & (data.conformer == conf)]\n",
    "        median_score = np.median(list(sub_grid.score))\n",
    "        all_medians.append(median_score)"
   ]
  },
  {
   "cell_type": "code",
   "execution_count": 27,
   "metadata": {},
   "outputs": [
    {
     "data": {
      "text/plain": [
       "[-11.607792854309082,\n",
       " -9.617698669433594,\n",
       " -8.430373192,\n",
       " -10.494426727294922,\n",
       " -8.624309539794922,\n",
       " -6.0813329219818115]"
      ]
     },
     "execution_count": 27,
     "metadata": {},
     "output_type": "execute_result"
    }
   ],
   "source": [
    "all_medians"
   ]
  },
  {
   "cell_type": "code",
   "execution_count": 28,
   "metadata": {},
   "outputs": [
    {
     "data": {
      "image/png": "[encoded data removed]",
      "text/plain": [
       "<Figure size 900x300 with 3 Axes>"
      ]
     },
     "metadata": {},
     "output_type": "display_data"
    }
   ],
   "source": [
    "pal = sns.cubehelix_palette(10, rot=-.25, light=.7)\n",
    "sns.set(rc={'figure.figsize':(10,12)})\n",
    "sns.set(style=\"white\", rc={\"axes.facecolor\": (0, 0, 0, 0)},font_scale=1.5)\n",
    "\n",
    "g = sns.FacetGrid(data,col=\"conformer\",hue=\"source\",margin_titles=True,sharex=False,sharey=False,palette=\"plasma\")\n",
    "sns.set(font_scale=1.0)\n",
    "g.set(yticks=[])\n",
    "g.map(sns.kdeplot, \"score\",clip_on=True,fill=True,bw_method=0.2);\n",
    "\n",
    "\n",
    "x_lims = (-16,-4)\n",
    "for i, ax in enumerate(g.axes.flat): # set every-other axis for testing purposes\n",
    "\n",
    "    ax.axvline(all_medians[i],color=\"purple\")\n",
    "    ax.axvline(all_medians[i+3],color=\"orange\")\n",
    "    ax.set_title(\"\")\n",
    "    ax.set_xticks([-15,-10,-5])\n",
    "    ax.set_xlabel(\"\")\n",
    "\n",
    "    ax.set_xlim(x_lims)\n",
    "plt.subplots_adjust(top=0.9)    \n",
    "# g.fig.suptitle('Docking scores across conformers',fontsize=15)\n",
    "plt.savefig((\"mPro_with_amide_score_unfiltered2.svg\"))\n",
    "plt.legend()\n",
    "plt.show()\n"
   ]
  }
 ],
 "metadata": {
  "kernelspec": {
   "display_name": "Python 3 (ipykernel)",
   "language": "python",
   "name": "python3"
  },
  "language_info": {
   "codemirror_mode": {
    "name": "ipython",
    "version": 3
   },
   "file_extension": ".py",
   "mimetype": "text/x-python",
   "name": "python",
   "nbconvert_exporter": "python",
   "pygments_lexer": "ipython3",
   "version": "3.10.8"
  }
 },
 "nbformat": 4,
 "nbformat_minor": 4
}
