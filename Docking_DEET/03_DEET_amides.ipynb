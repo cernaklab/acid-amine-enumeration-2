{
 "cells": [
  {
   "cell_type": "code",
   "execution_count": 1,
   "id": "ed0d3ad4",
   "metadata": {},
   "outputs": [],
   "source": [
    "from rdkit import Chem\n",
    "import pandas as pd\n",
    "\n",
    "from rdkit.Chem.Draw import IPythonConsole\n",
    "from tqdm.notebook import tqdm\n",
    "\n",
    "from rdkit.Chem.AllChem import ReactionFromSmarts\n",
    "\n",
    "import matplotlib.pyplot as plt\n",
    "\n",
    "import numpy as np\n",
    "\n",
    "import coupling_utils\n",
    "import multiprocessing as mp"
   ]
  },
  {
   "cell_type": "code",
   "execution_count": 2,
   "id": "8c9addfa",
   "metadata": {},
   "outputs": [],
   "source": [
    "def get_NO_count(smiles):\n",
    "    return(np.sum([smiles.count(char) for char in \"NnOo\"]))"
   ]
  },
  {
   "cell_type": "code",
   "execution_count": 3,
   "id": "be1c62ec",
   "metadata": {},
   "outputs": [],
   "source": [
    "deet_acid = Chem.MolFromSmiles(\"OC(=O)c1cc(C)ccc1\")"
   ]
  },
  {
   "cell_type": "code",
   "execution_count": 4,
   "id": "f3e24b68",
   "metadata": {
    "scrolled": true
   },
   "outputs": [
    {
     "data": {
      "image/png": "[encoded data removed]",
      "text/plain": [
       "<rdkit.Chem.rdchem.Mol at 0x1ecc3172b00>"
      ]
     },
     "execution_count": 4,
     "metadata": {},
     "output_type": "execute_result"
    }
   ],
   "source": [
    "deet_acid"
   ]
  },
  {
   "cell_type": "code",
   "execution_count": 5,
   "id": "278b436c",
   "metadata": {},
   "outputs": [
    {
     "data": {
      "application/vnd.jupyter.widget-view+json": {
       "model_id": "8a9ac31ef22048bc9bafaa6576952b01",
       "version_major": 2,
       "version_minor": 0
      },
      "text/plain": [
       "  0%|          | 0/112 [00:00<?, ?it/s]"
      ]
     },
     "metadata": {},
     "output_type": "display_data"
    }
   ],
   "source": [
    "pubchem_small_amines = []\n",
    "\n",
    "for file_ind in tqdm(range(112)):\n",
    "    \n",
    "    file_tag = str(file_ind).zfill(3)\n",
    "    amines = pd.read_csv(f\"../Docking_MPro/pubchem/pubchem_small_{file_tag}.txt\",names = [\"smiles\",\"size\",\"FC\"])\n",
    "    amines[\"NO_count\"] = amines.smiles.apply(get_NO_count)\n",
    "    pubchem_small_amines.append(amines)"
   ]
  },
  {
   "cell_type": "code",
   "execution_count": 6,
   "id": "ed869138",
   "metadata": {},
   "outputs": [],
   "source": [
    "amines = pd.concat(pubchem_small_amines)\n",
    "\n",
    "amines.drop_duplicates(\"smiles\",inplace=True)\n",
    "\n",
    "amines.reset_index(drop=True,inplace=True)"
   ]
  },
  {
   "cell_type": "code",
   "execution_count": 7,
   "id": "dda30fe4",
   "metadata": {},
   "outputs": [],
   "source": [
    "NOs = []\n",
    "for i in range(np.max(amines.NO_count)):\n",
    "    NOs.append((i, len(amines[amines.NO_count <= i])))\n"
   ]
  },
  {
   "cell_type": "code",
   "execution_count": 8,
   "id": "cda4a886",
   "metadata": {},
   "outputs": [
    {
     "data": {
      "text/plain": [
       "[(0, 0),\n",
       " (1, 245140),\n",
       " (2, 812075),\n",
       " (3, 1466910),\n",
       " (4, 1959111),\n",
       " (5, 2214614),\n",
       " (6, 2317487),\n",
       " (7, 2350268),\n",
       " (8, 2359711),\n",
       " (9, 2362497),\n",
       " (10, 2363626),\n",
       " (11, 2363958),\n",
       " (12, 2364021)]"
      ]
     },
     "execution_count": 8,
     "metadata": {},
     "output_type": "execute_result"
    }
   ],
   "source": [
    "NOs"
   ]
  },
  {
   "cell_type": "code",
   "execution_count": 9,
   "id": "25dcc98d",
   "metadata": {},
   "outputs": [],
   "source": [
    "small_amines = list(amines[amines.NO_count <= 3].smiles)"
   ]
  },
  {
   "cell_type": "code",
   "execution_count": 10,
   "id": "f5f7fe97",
   "metadata": {},
   "outputs": [],
   "source": [
    "if __name__ == '__main__':\n",
    "    with mp.Pool(32) as p:\n",
    "        result = p.map(coupling_utils.couple_amide, small_amines,chunksize=100000)"
   ]
  },
  {
   "cell_type": "code",
   "execution_count": 11,
   "id": "9cf2ef47",
   "metadata": {},
   "outputs": [
    {
     "data": {
      "text/html": [
       "<div>\n",
       "<style scoped>\n",
       "    .dataframe tbody tr th:only-of-type {\n",
       "        vertical-align: middle;\n",
       "    }\n",
       "\n",
       "    .dataframe tbody tr th {\n",
       "        vertical-align: top;\n",
       "    }\n",
       "\n",
       "    .dataframe thead th {\n",
       "        text-align: right;\n",
       "    }\n",
       "</style>\n",
       "<table border=\"1\" class=\"dataframe\">\n",
       "  <thead>\n",
       "    <tr style=\"text-align: right;\">\n",
       "      <th></th>\n",
       "      <th>smiles</th>\n",
       "    </tr>\n",
       "  </thead>\n",
       "  <tbody>\n",
       "    <tr>\n",
       "      <th>0</th>\n",
       "      <td>Cc1cccc(C(=O)NCC(C)O)c1</td>\n",
       "    </tr>\n",
       "    <tr>\n",
       "      <th>1</th>\n",
       "      <td>Cc1cccc(C(=O)NCCC=O)c1</td>\n",
       "    </tr>\n",
       "    <tr>\n",
       "      <th>2</th>\n",
       "      <td>Cc1cccc(C(=O)NC(CCl)C(=O)O)c1</td>\n",
       "    </tr>\n",
       "    <tr>\n",
       "      <th>3</th>\n",
       "      <td>Cc1cccc(C(=O)NCCCC=O)c1</td>\n",
       "    </tr>\n",
       "    <tr>\n",
       "      <th>4</th>\n",
       "      <td>Cc1cccc(C(=O)NCCCC(=O)O)c1</td>\n",
       "    </tr>\n",
       "  </tbody>\n",
       "</table>\n",
       "</div>"
      ],
      "text/plain": [
       "                          smiles\n",
       "0        Cc1cccc(C(=O)NCC(C)O)c1\n",
       "1         Cc1cccc(C(=O)NCCC=O)c1\n",
       "2  Cc1cccc(C(=O)NC(CCl)C(=O)O)c1\n",
       "3        Cc1cccc(C(=O)NCCCC=O)c1\n",
       "4     Cc1cccc(C(=O)NCCCC(=O)O)c1"
      ]
     },
     "execution_count": 11,
     "metadata": {},
     "output_type": "execute_result"
    }
   ],
   "source": [
    "out = pd.DataFrame({\"smiles\":result})\n",
    "\n",
    "out.head()"
   ]
  },
  {
   "cell_type": "code",
   "execution_count": 12,
   "id": "5d8b496c",
   "metadata": {},
   "outputs": [],
   "source": [
    "out[\"smiles\"].to_csv(\"./DEET_products/DEET_amides.csv\")"
   ]
  }
 ],
 "metadata": {
  "kernelspec": {
   "display_name": "Python 3 (ipykernel)",
   "language": "python",
   "name": "python3"
  },
  "language_info": {
   "codemirror_mode": {
    "name": "ipython",
    "version": 3
   },
   "file_extension": ".py",
   "mimetype": "text/x-python",
   "name": "python",
   "nbconvert_exporter": "python",
   "pygments_lexer": "ipython3",
   "version": "3.10.8"
  }
 },
 "nbformat": 4,
 "nbformat_minor": 5
}
