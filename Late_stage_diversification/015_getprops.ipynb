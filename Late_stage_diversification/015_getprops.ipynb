{
 "cells": [
  {
   "cell_type": "markdown",
   "id": "017280df",
   "metadata": {},
   "source": [
    "### get molecular properties of the late-stage diversified systems"
   ]
  },
  {
   "cell_type": "code",
   "execution_count": 1,
   "id": "b532d187",
   "metadata": {},
   "outputs": [],
   "source": [
    "from rdkit import Chem\n",
    "import pandas as pd\n",
    "import numpy as np\n",
    "\n",
    "from rdkit.Chem import AllChem, rdMolDescriptors, Descriptors\n",
    "from rdkit.Chem.EnumerateStereoisomers import EnumerateStereoisomers, StereoEnumerationOptions\n",
    "from tqdm.notebook import tqdm\n",
    "\n",
    "from rdkit import RDLogger\n",
    "lg = RDLogger.logger()\n",
    "lg.setLevel(RDLogger.CRITICAL)\n",
    "\n",
    "import multiprocessing as mp\n",
    "import molprops_utils"
   ]
  },
  {
   "cell_type": "markdown",
   "id": "2d63656e",
   "metadata": {},
   "source": [
    "### physicochemical properties - for joint distribution plots."
   ]
  },
  {
   "cell_type": "code",
   "execution_count": 2,
   "id": "575818e3",
   "metadata": {},
   "outputs": [],
   "source": [
    "def get_df_props(input_filename,output_filename,smiles_column):\n",
    "    data = pd.read_csv(input_filename)\n",
    "    all_molprops = []\n",
    "    \n",
    "    for s in tqdm(data[smiles_column]):\n",
    "        all_molprops.append(molprops_utils.getallprops(s))\n",
    "\n",
    "    data[\"allprops\"] = all_molprops\n",
    "    data[[\"LogP\",\"MW\",\"HBD\",\"HBA\",\"PSA\",\"ROTB\",\"FSP3\",\"SSSR\",\"QED\"]] = data.allprops.tolist()\n",
    "    data.drop(\"allprops\",axis=1,inplace=True)\n",
    "    data.to_csv(output_filename,index=False)\n",
    "    \n",
    "    "
   ]
  },
  {
   "cell_type": "markdown",
   "id": "686059ce",
   "metadata": {},
   "source": [
    "### for sp3 system"
   ]
  },
  {
   "cell_type": "code",
   "execution_count": 3,
   "id": "d2149f40",
   "metadata": {},
   "outputs": [],
   "source": [
    "input_filename = \"./ac3drug_am3small/ac3drug_am3small_full_4rings.csv\"\n",
    "\n",
    "output_filename = \"./ac3drug_am3small/ac3drug_am3small_props.csv\"\n",
    "smiles_column = \"largest_cleaned\""
   ]
  },
  {
   "cell_type": "code",
   "execution_count": 4,
   "id": "089014dd",
   "metadata": {},
   "outputs": [
    {
     "data": {
      "application/vnd.jupyter.widget-view+json": {
       "model_id": "3c4250ba0f3941268f57e7666db24a1d",
       "version_major": 2,
       "version_minor": 0
      },
      "text/plain": [
       "  0%|          | 0/14153 [00:00<?, ?it/s]"
      ]
     },
     "metadata": {},
     "output_type": "display_data"
    }
   ],
   "source": [
    "get_df_props(input_filename,output_filename,smiles_column)"
   ]
  },
  {
   "cell_type": "code",
   "execution_count": 5,
   "id": "1d097dab",
   "metadata": {},
   "outputs": [],
   "source": [
    "input_filename = \"./ac3drug_am3small/ac3drug_am3small_rxnctr_4rings.csv\"\n",
    "\n",
    "output_filename = \"./ac3drug_am3small/ac3drug_am3small_rxn_centers_props.csv\"\n",
    "smiles_column = \"pdt_cleaned\""
   ]
  },
  {
   "cell_type": "code",
   "execution_count": 6,
   "id": "21577393",
   "metadata": {},
   "outputs": [
    {
     "data": {
      "application/vnd.jupyter.widget-view+json": {
       "model_id": "807d4057ed6a41d495ceaf596692d2d4",
       "version_major": 2,
       "version_minor": 0
      },
      "text/plain": [
       "  0%|          | 0/14153 [00:00<?, ?it/s]"
      ]
     },
     "metadata": {},
     "output_type": "display_data"
    }
   ],
   "source": [
    "get_df_props(input_filename,output_filename,smiles_column)"
   ]
  },
  {
   "cell_type": "markdown",
   "id": "24a5643f",
   "metadata": {},
   "source": [
    "### for sp2 system"
   ]
  },
  {
   "cell_type": "code",
   "execution_count": 7,
   "id": "572818a7",
   "metadata": {},
   "outputs": [],
   "source": [
    "input_filename = \"./ac2drug_am2small/ac2drug_am2small_full_4rings.csv\"\n",
    "\n",
    "output_filename = \"./ac2drug_am2small/ac2drug_am2small_aromatic_props.csv\"\n",
    "smiles_column = \"largest_cleaned\""
   ]
  },
  {
   "cell_type": "code",
   "execution_count": 8,
   "id": "403c0df7",
   "metadata": {},
   "outputs": [
    {
     "data": {
      "application/vnd.jupyter.widget-view+json": {
       "model_id": "aa2dbab8365a428f815b0a63c56f113e",
       "version_major": 2,
       "version_minor": 0
      },
      "text/plain": [
       "  0%|          | 0/9839 [00:00<?, ?it/s]"
      ]
     },
     "metadata": {},
     "output_type": "display_data"
    }
   ],
   "source": [
    "get_df_props(input_filename,output_filename,smiles_column)"
   ]
  },
  {
   "cell_type": "code",
   "execution_count": 9,
   "id": "322a7401",
   "metadata": {},
   "outputs": [],
   "source": [
    "input_filename = \"./ac2drug_am2small/ac2drug_am2small_rxnctr_4rings.csv\"\n",
    "\n",
    "output_filename = \"./ac2drug_am2small/ac2drug_am2small_rxn_centers_props.csv\"\n",
    "smiles_column = \"pdt_cleaned\""
   ]
  },
  {
   "cell_type": "code",
   "execution_count": 10,
   "id": "2dc985bb",
   "metadata": {},
   "outputs": [
    {
     "data": {
      "application/vnd.jupyter.widget-view+json": {
       "model_id": "e197c756a0d443bb8a705b160daf741b",
       "version_major": 2,
       "version_minor": 0
      },
      "text/plain": [
       "  0%|          | 0/9839 [00:00<?, ?it/s]"
      ]
     },
     "metadata": {},
     "output_type": "display_data"
    }
   ],
   "source": [
    "get_df_props(input_filename,output_filename,smiles_column)"
   ]
  },
  {
   "cell_type": "markdown",
   "id": "2326c106",
   "metadata": {},
   "source": [
    "## PMI"
   ]
  },
  {
   "cell_type": "markdown",
   "id": "e18cb86c",
   "metadata": {},
   "source": [
    "## make the stereocenters"
   ]
  },
  {
   "cell_type": "code",
   "execution_count": 11,
   "id": "973fa62f",
   "metadata": {},
   "outputs": [],
   "source": [
    "opts = StereoEnumerationOptions(unique=True,onlyUnassigned=False,tryEmbedding=False)"
   ]
  },
  {
   "cell_type": "markdown",
   "id": "84b5cbb6",
   "metadata": {},
   "source": [
    "## sp3 system"
   ]
  },
  {
   "cell_type": "code",
   "execution_count": 12,
   "id": "7fda6be4",
   "metadata": {},
   "outputs": [
    {
     "data": {
      "application/vnd.jupyter.widget-view+json": {
       "model_id": "fe5980f6f7e54c22abede44461d42d00",
       "version_major": 2,
       "version_minor": 0
      },
      "text/plain": [
       "  0%|          | 0/14169 [00:00<?, ?it/s]"
      ]
     },
     "metadata": {},
     "output_type": "display_data"
    }
   ],
   "source": [
    "full_system = pd.read_csv(\"./ac3drug_am3small/ac3drug_am3small_smiles.csv\")\n",
    "rxn_center  = pd.read_csv(\"./ac3drug_am3small/ac3drug_am3small_rxn_centers.csv\")\n",
    "\n",
    "# filter ring count \n",
    "\n",
    "SSSR = []\n",
    "for s in tqdm(rxn_center.pdt_cleaned):\n",
    "    m = Chem.MolFromSmiles(s)\n",
    "    SSSR.append(len(Chem.GetSymmSSSR(m)))\n",
    "\n",
    "rxn_center[\"SSSR\"] = SSSR\n",
    "\n",
    "# save dataset with only 4 rings and below\n",
    "rxn_center[rxn_center.SSSR <= 4].to_csv(\"./ac3drug_am3small/ac3drug_am3small_rxnctr_4rings.csv\",index=False)\n",
    "\n",
    "# use the reaction center ring count to filter the full molecular system\n",
    "valid_rmat_tags = rxn_center[rxn_center.SSSR <= 4].rmat_tag\n",
    "full_system[full_system.rmat_tag.isin(valid_rmat_tags)].to_csv(\"./ac3drug_am3small/ac3drug_am3small_full_4rings.csv\",index=False)"
   ]
  },
  {
   "cell_type": "code",
   "execution_count": 13,
   "id": "33c8998c",
   "metadata": {},
   "outputs": [
    {
     "data": {
      "application/vnd.jupyter.widget-view+json": {
       "model_id": "28f96023032d460f927c988b2871654a",
       "version_major": 2,
       "version_minor": 0
      },
      "text/plain": [
       "  0%|          | 0/14153 [00:00<?, ?it/s]"
      ]
     },
     "metadata": {},
     "output_type": "display_data"
    }
   ],
   "source": [
    "input_filename = \"./ac3drug_am3small/ac3drug_am3small_full_4rings.csv\"\n",
    "\n",
    "output_filename = \"./ac3drug_am3small/ac3drug_am3small_full_4rings_stereo.csv\"\n",
    "smiles_column = \"largest_cleaned\"\n",
    "\n",
    "molprops_utils.get_stereoisomers(input_filename,output_filename,smiles_column)"
   ]
  },
  {
   "cell_type": "code",
   "execution_count": 14,
   "id": "3f5d04ef",
   "metadata": {},
   "outputs": [
    {
     "data": {
      "application/vnd.jupyter.widget-view+json": {
       "model_id": "78ad76a38c9c4cc6bc9d620fd0491865",
       "version_major": 2,
       "version_minor": 0
      },
      "text/plain": [
       "  0%|          | 0/14153 [00:00<?, ?it/s]"
      ]
     },
     "metadata": {},
     "output_type": "display_data"
    }
   ],
   "source": [
    "input_filename = \"./ac3drug_am3small/ac3drug_am3small_rxnctr_4rings.csv\"\n",
    "\n",
    "output_filename = \"./ac3drug_am3small/ac3drug_am3small_rxnctr_stereos.csv\"\n",
    "smiles_column = \"pdt_cleaned\"\n",
    "\n",
    "molprops_utils.get_stereoisomers(input_filename,output_filename,smiles_column)"
   ]
  },
  {
   "cell_type": "markdown",
   "id": "bbf556ea",
   "metadata": {},
   "source": [
    "## sp2 system"
   ]
  },
  {
   "cell_type": "code",
   "execution_count": 15,
   "id": "a0221bb0",
   "metadata": {},
   "outputs": [
    {
     "data": {
      "application/vnd.jupyter.widget-view+json": {
       "model_id": "e7b53b9d4ed547ffaed6c73192fd7279",
       "version_major": 2,
       "version_minor": 0
      },
      "text/plain": [
       "  0%|          | 0/9842 [00:00<?, ?it/s]"
      ]
     },
     "metadata": {},
     "output_type": "display_data"
    }
   ],
   "source": [
    "full_system = pd.read_csv(\"./ac2drug_am2small/ac2drug_am2small_aromatic.csv\")\n",
    "rxn_center  = pd.read_csv(\"./ac2drug_am2small/ac2drug_am2small_rxn_centers.csv\")\n",
    "\n",
    "SSSR = []\n",
    "for s in tqdm(rxn_center.pdt_cleaned):\n",
    "    m = Chem.MolFromSmiles(s)\n",
    "    SSSR.append(len(Chem.GetSymmSSSR(m)))\n",
    "    \n",
    "rxn_center[\"SSSR\"] = SSSR\n",
    "\n",
    "valid_rmat_tags = rxn_center[rxn_center.SSSR <= 4].rmat_tag\n",
    "\n",
    "rxn_center[rxn_center.SSSR <= 4].to_csv(\"./ac2drug_am2small/ac2drug_am2small_rxnctr_4rings.csv\",index=False)\n",
    "\n",
    "full_system[full_system.rmat_tag.isin(valid_rmat_tags)].to_csv(\"./ac2drug_am2small/ac2drug_am2small_full_4rings.csv\",index=False)"
   ]
  },
  {
   "cell_type": "code",
   "execution_count": 16,
   "id": "06f5a6ee",
   "metadata": {},
   "outputs": [
    {
     "data": {
      "application/vnd.jupyter.widget-view+json": {
       "model_id": "d41e841e0f9040c09ca8d993d6571f2d",
       "version_major": 2,
       "version_minor": 0
      },
      "text/plain": [
       "  0%|          | 0/9839 [00:00<?, ?it/s]"
      ]
     },
     "metadata": {},
     "output_type": "display_data"
    }
   ],
   "source": [
    "input_filename = \"./ac2drug_am2small/ac2drug_am2small_full_4rings.csv\"\n",
    "\n",
    "output_filename = \"./ac2drug_am2small/ac2drug_am2small_aromatic_stereos.csv\"\n",
    "smiles_column = \"largest_cleaned\"\n",
    "\n",
    "molprops_utils.get_stereoisomers(input_filename,output_filename,smiles_column)"
   ]
  },
  {
   "cell_type": "markdown",
   "id": "98da1550",
   "metadata": {},
   "source": [
    "## Calculate PMI"
   ]
  },
  {
   "cell_type": "markdown",
   "id": "a17c0000",
   "metadata": {},
   "source": [
    "### sp3 system"
   ]
  },
  {
   "cell_type": "markdown",
   "id": "91a7b4b0",
   "metadata": {},
   "source": [
    "### full molecule"
   ]
  },
  {
   "cell_type": "code",
   "execution_count": 17,
   "id": "5631e4c9",
   "metadata": {},
   "outputs": [],
   "source": [
    "input_filename = \"./ac3drug_am3small/ac3drug_am3small_full_4rings_stereo.csv\"\n",
    "output_filename = \"./ac3drug_am3small/ac3drug_am3small_stereo_pmi.csv\"\n",
    "smiles_column = \"smiles\""
   ]
  },
  {
   "cell_type": "code",
   "execution_count": 18,
   "id": "fc0127ad",
   "metadata": {},
   "outputs": [],
   "source": [
    "data = pd.read_csv(input_filename,index_col=0)"
   ]
  },
  {
   "cell_type": "code",
   "execution_count": 19,
   "id": "f9304168",
   "metadata": {},
   "outputs": [],
   "source": [
    "if __name__ == '__main__':\n",
    "    with mp.Pool(32) as p:\n",
    "        result = p.map(molprops_utils.cal_pmi, data.smiles,chunksize=1000)"
   ]
  },
  {
   "cell_type": "code",
   "execution_count": 20,
   "id": "3e726d37",
   "metadata": {},
   "outputs": [],
   "source": [
    "data[\"pmi_x\"] = np.array(result)[:,0]\n",
    "data[\"pmi_y\"] = np.array(result)[:,1]\n",
    "data.to_csv(output_filename,index=False)"
   ]
  },
  {
   "cell_type": "markdown",
   "id": "be4dc870",
   "metadata": {},
   "source": [
    "### reaction center"
   ]
  },
  {
   "cell_type": "code",
   "execution_count": 21,
   "id": "00ad222c",
   "metadata": {},
   "outputs": [],
   "source": [
    "input_filename = \"./ac3drug_am3small/ac3drug_am3small_rxnctr_stereos.csv\"\n",
    "output_filename = \"./ac3drug_am3small/ac3drug_am3small_rxnctr_pmi.csv\"\n",
    "smiles_column = \"smiles\""
   ]
  },
  {
   "cell_type": "code",
   "execution_count": 22,
   "id": "796fcc92",
   "metadata": {},
   "outputs": [],
   "source": [
    "data = pd.read_csv(input_filename)"
   ]
  },
  {
   "cell_type": "code",
   "execution_count": 23,
   "id": "8203b9ca",
   "metadata": {},
   "outputs": [],
   "source": [
    "if __name__ == '__main__':\n",
    "    with mp.Pool(32) as p:\n",
    "        result = p.map(molprops_utils.cal_pmi, data.smiles,chunksize=1000)"
   ]
  },
  {
   "cell_type": "code",
   "execution_count": 24,
   "id": "a1bb677a",
   "metadata": {},
   "outputs": [],
   "source": [
    "data[\"pmi_x\"] = np.array(result)[:,0]\n",
    "data[\"pmi_y\"] = np.array(result)[:,1]\n",
    "data.to_csv(output_filename,index=False)"
   ]
  },
  {
   "cell_type": "markdown",
   "id": "dccbac84",
   "metadata": {},
   "source": [
    "### sp2 system"
   ]
  },
  {
   "cell_type": "markdown",
   "id": "ad8fe3e3",
   "metadata": {},
   "source": [
    "### full molecule"
   ]
  },
  {
   "cell_type": "code",
   "execution_count": 25,
   "id": "066cd763",
   "metadata": {},
   "outputs": [],
   "source": [
    "input_filename = \"./ac2drug_am2small/ac2drug_am2small_aromatic_stereos.csv\"\n",
    "output_filename = \"./ac2drug_am2small/ac2drug_am2small_aromatic_pmi.csv\"\n",
    "smiles_column = \"smiles\""
   ]
  },
  {
   "cell_type": "code",
   "execution_count": 26,
   "id": "f410373e",
   "metadata": {},
   "outputs": [],
   "source": [
    "data = pd.read_csv(input_filename)"
   ]
  },
  {
   "cell_type": "code",
   "execution_count": 27,
   "id": "c41a441c",
   "metadata": {},
   "outputs": [],
   "source": [
    "if __name__ == '__main__':\n",
    "    with mp.Pool(32) as p:\n",
    "        result = p.map(molprops_utils.cal_pmi, data.smiles,chunksize=1000)"
   ]
  },
  {
   "cell_type": "code",
   "execution_count": 28,
   "id": "e22b4826",
   "metadata": {},
   "outputs": [],
   "source": [
    "data[\"pmi_x\"] = np.array(result)[:,0]\n",
    "data[\"pmi_y\"] = np.array(result)[:,1]\n",
    "data.to_csv(output_filename,index=False)"
   ]
  },
  {
   "cell_type": "markdown",
   "id": "3dd74560",
   "metadata": {},
   "source": [
    "### reaction center"
   ]
  },
  {
   "cell_type": "code",
   "execution_count": 29,
   "id": "96e89ad5",
   "metadata": {},
   "outputs": [],
   "source": [
    "input_filename = \"./ac2drug_am2small/ac2drug_am2small_rxnctr_stereos.csv\"\n",
    "output_filename = \"./ac2drug_am2small/ac2drug_am2small_rxnctr_pmi.csv\"\n",
    "smiles_column = \"smiles\""
   ]
  },
  {
   "cell_type": "code",
   "execution_count": 30,
   "id": "e48902d6",
   "metadata": {},
   "outputs": [],
   "source": [
    "data = pd.read_csv(input_filename)"
   ]
  },
  {
   "cell_type": "code",
   "execution_count": 31,
   "id": "e5d005cc",
   "metadata": {},
   "outputs": [],
   "source": [
    "if __name__ == '__main__':\n",
    "    with mp.Pool(32) as p:\n",
    "        result = p.map(molprops_utils.cal_pmi, data.smiles,chunksize=1000)"
   ]
  },
  {
   "cell_type": "code",
   "execution_count": 32,
   "id": "d3949675",
   "metadata": {},
   "outputs": [],
   "source": [
    "data[\"pmi_x\"] = np.array(result)[:,0]\n",
    "data[\"pmi_y\"] = np.array(result)[:,1]\n",
    "data.to_csv(output_filename,index=False)"
   ]
  }
 ],
 "metadata": {
  "kernelspec": {
   "display_name": "Python 3 (ipykernel)",
   "language": "python",
   "name": "python3"
  },
  "language_info": {
   "codemirror_mode": {
    "name": "ipython",
    "version": 3
   },
   "file_extension": ".py",
   "mimetype": "text/x-python",
   "name": "python",
   "nbconvert_exporter": "python",
   "pygments_lexer": "ipython3",
   "version": "3.10.8"
  }
 },
 "nbformat": 4,
 "nbformat_minor": 5
}
