{
 "cells": [
  {
   "cell_type": "markdown",
   "metadata": {},
   "source": [
    "### Write link files for chord diagrams. This is for the circos package."
   ]
  },
  {
   "cell_type": "markdown",
   "metadata": {},
   "source": [
    "Download circos here: http://circos.ca/software/download/\n",
    "\n",
    "There are pre-written files in the ./circos directory: \n",
    "- circos_athamontanolide.conf\n",
    "- circos_noscapine.conf\n",
    "- ticks.conf\n",
    "- kary_single_plainbands.txt\n",
    "\n",
    "These are configuration files used by the circos package, used to adjust the appearance of the chord diagram.\n",
    "\n"
   ]
  },
  {
   "cell_type": "code",
   "execution_count": 1,
   "metadata": {},
   "outputs": [
    {
     "name": "stderr",
     "output_type": "stream",
     "text": [
      "RDKit WARNING: [19:53:16] Enabling RDKit 2019.09.3 jupyter extensions\n"
     ]
    }
   ],
   "source": [
    "from rdkit import Chem\n",
    "import pandas as pd\n",
    "import numpy as np\n",
    "\n",
    "import matplotlib.pyplot as plt\n",
    "from matplotlib import cm\n",
    "\n",
    "from tqdm.notebook import tqdm"
   ]
  },
  {
   "cell_type": "code",
   "execution_count": 2,
   "metadata": {},
   "outputs": [],
   "source": [
    "col_map = plt.cm.get_cmap('plasma')\n",
    "\n",
    "def rgb_convert(rgb,alpha):\n",
    "    \"\"\" rgb is a tuple of rgb in 0-1\n",
    "    alpha is the alpha. redundancy!\"\"\"\n",
    "\n",
    "    rgb = [round(255*x,5) for x in rgb[:3]]\n",
    "\n",
    "    return f\"({rgb[0]},{rgb[1]},{rgb[2]},{alpha})\""
   ]
  },
  {
   "cell_type": "markdown",
   "metadata": {},
   "source": [
    "### load data"
   ]
  },
  {
   "cell_type": "code",
   "execution_count": 3,
   "metadata": {},
   "outputs": [
    {
     "data": {
      "text/html": [
       "<div>\n",
       "<style scoped>\n",
       "    .dataframe tbody tr th:only-of-type {\n",
       "        vertical-align: middle;\n",
       "    }\n",
       "\n",
       "    .dataframe tbody tr th {\n",
       "        vertical-align: top;\n",
       "    }\n",
       "\n",
       "    .dataframe thead th {\n",
       "        text-align: right;\n",
       "    }\n",
       "</style>\n",
       "<table border=\"1\" class=\"dataframe\">\n",
       "  <thead>\n",
       "    <tr style=\"text-align: right;\">\n",
       "      <th></th>\n",
       "      <th>smiles</th>\n",
       "      <th>min_dist_all</th>\n",
       "      <th>natoms</th>\n",
       "      <th>drugbank_matches</th>\n",
       "    </tr>\n",
       "  </thead>\n",
       "  <tbody>\n",
       "    <tr>\n",
       "      <th>0</th>\n",
       "      <td>CCC(=O)O</td>\n",
       "      <td>0.0</td>\n",
       "      <td>5</td>\n",
       "      <td>2356</td>\n",
       "    </tr>\n",
       "    <tr>\n",
       "      <th>1</th>\n",
       "      <td>C=CC(=O)O</td>\n",
       "      <td>0.0</td>\n",
       "      <td>5</td>\n",
       "      <td>321</td>\n",
       "    </tr>\n",
       "    <tr>\n",
       "      <th>2</th>\n",
       "      <td>C=CNC=CC(=O)O</td>\n",
       "      <td>1.0</td>\n",
       "      <td>8</td>\n",
       "      <td>26</td>\n",
       "    </tr>\n",
       "    <tr>\n",
       "      <th>3</th>\n",
       "      <td>CCC(=O)OCCN</td>\n",
       "      <td>1.0</td>\n",
       "      <td>8</td>\n",
       "      <td>82</td>\n",
       "    </tr>\n",
       "    <tr>\n",
       "      <th>4</th>\n",
       "      <td>C=CNOC(=O)CC</td>\n",
       "      <td>1.0</td>\n",
       "      <td>8</td>\n",
       "      <td>0</td>\n",
       "    </tr>\n",
       "  </tbody>\n",
       "</table>\n",
       "</div>"
      ],
      "text/plain": [
       "          smiles  min_dist_all  natoms  drugbank_matches\n",
       "0       CCC(=O)O           0.0       5              2356\n",
       "1      C=CC(=O)O           0.0       5               321\n",
       "2  C=CNC=CC(=O)O           1.0       8                26\n",
       "3    CCC(=O)OCCN           1.0       8                82\n",
       "4   C=CNOC(=O)CC           1.0       8                 0"
      ]
     },
     "execution_count": 3,
     "metadata": {},
     "output_type": "execute_result"
    }
   ],
   "source": [
    "# swap out the data later...\n",
    "data = pd.read_csv(\"../data_files/acid_amine_smiles_mindist_dbank.csv\",index_col=0)\n",
    "data.sort_values(\"min_dist_all\",inplace=True)\n",
    "data.reset_index(drop=True,inplace=True)\n",
    "data.head()"
   ]
  },
  {
   "cell_type": "markdown",
   "metadata": {},
   "source": [
    "### load drug and search"
   ]
  },
  {
   "cell_type": "code",
   "execution_count": 4,
   "metadata": {},
   "outputs": [],
   "source": [
    "noscapine = \"O=C2O[C@@H](c1ccc(OC)c(OC)c12)[C@@H]5N(C)CCc4c5c(OC)c3OCOc3c4\""
   ]
  },
  {
   "cell_type": "code",
   "execution_count": 5,
   "metadata": {},
   "outputs": [
    {
     "data": {
      "application/vnd.jupyter.widget-view+json": {
       "model_id": "d37a8cafc71b405bafc289c8988b2703",
       "version_major": 2,
       "version_minor": 0
      },
      "text/plain": [
       "  0%|          | 0/222747 [00:00<?, ?it/s]"
      ]
     },
     "metadata": {},
     "output_type": "display_data"
    }
   ],
   "source": [
    "search_molecule = Chem.MolFromSmiles(noscapine)\n",
    "match_data = []\n",
    "\n",
    "for s in tqdm(data.smiles):\n",
    "    m = Chem.MolFromSmiles(s)\n",
    "    match_data.append(len(search_molecule.GetSubstructMatches(m)))"
   ]
  },
  {
   "cell_type": "code",
   "execution_count": 6,
   "metadata": {},
   "outputs": [],
   "source": [
    "data[\"nmatches\"] = match_data\n",
    "data.sort_values(\"nmatches\",ascending=True,inplace=True)"
   ]
  },
  {
   "cell_type": "markdown",
   "metadata": {},
   "source": [
    "### process and write linker file"
   ]
  },
  {
   "cell_type": "code",
   "execution_count": 7,
   "metadata": {},
   "outputs": [],
   "source": [
    "# color and location settings\n",
    "# location on the black band - arbitrary\n",
    "ndrug=10\n",
    "\n",
    "chr_name1 = \"drug\"\n",
    "chr_name2 = \"aciami\"\n",
    "\n",
    "# color_log: whether to color by log of matches, or not\n",
    "# interp10: whether to cap the matches at 10.\n",
    "# alpha: the line transparency\n",
    "color_log = False\n",
    "interp10 = True\n",
    "alpha = 0.5\n",
    "\n",
    "\n",
    "nhits = data['nmatches'].values\n",
    "\n",
    "if color_log: nhits = np.log10(nhits)\n",
    "\n",
    "if interp10:\n",
    "    inter = np.interp(nhits,(1,10),(-0,+1))\n",
    "else:\n",
    "    n_max = nhits.max()\n",
    "    n_min = nhits.min()\n",
    "    inter = np.interp(nhits,(n_min,n_max),(-0,+1))\n",
    "\n",
    "line_colors = [rgb_convert(col_map(i),alpha) for i in inter]\n",
    "\n",
    "f_out = open(\"./circos/circos_links_noscapine.txt\",\"w\")\n",
    "\n",
    "for i, line in enumerate(data.itertuples()):\n",
    "    if line.nmatches>0:\n",
    "        link_line = f\"{chr_name1} {ndrug} {ndrug+1} {chr_name2} {line.Index} {line.Index+1} color={line_colors[i]}\\n\"\n",
    "        f_out.write(link_line)\n",
    "    \n",
    "f_out.close()\n",
    "    \n"
   ]
  },
  {
   "cell_type": "markdown",
   "metadata": {},
   "source": [
    "### do the same for athamontanolide"
   ]
  },
  {
   "cell_type": "code",
   "execution_count": 8,
   "metadata": {},
   "outputs": [
    {
     "data": {
      "application/vnd.jupyter.widget-view+json": {
       "model_id": "a9ef49a4f9814740be2faff8f4e06b03",
       "version_major": 2,
       "version_minor": 0
      },
      "text/plain": [
       "  0%|          | 0/222747 [00:00<?, ?it/s]"
      ]
     },
     "metadata": {},
     "output_type": "display_data"
    }
   ],
   "source": [
    "athamontanolide = \"O=C1C(C2[C@@H](OC(C)=O)CC(C)=C3C=C[C@](C)(O)C3C2O1)=C\"\n",
    "\n",
    "search_molecule = Chem.MolFromSmiles(athamontanolide)\n",
    "match_data = []\n",
    "\n",
    "for s in tqdm(data.smiles):\n",
    "    m = Chem.MolFromSmiles(s)\n",
    "    match_data.append(len(search_molecule.GetSubstructMatches(m)))\n",
    "    \n",
    "data[\"nmatches\"] = match_data\n",
    "data.sort_values(\"nmatches\",ascending=True,inplace=True)"
   ]
  },
  {
   "cell_type": "code",
   "execution_count": 9,
   "metadata": {},
   "outputs": [],
   "source": [
    "# color and location settings\n",
    "ndrug=5\n",
    "\n",
    "chr_name1 = \"drug\"\n",
    "chr_name2 = \"aciami\"\n",
    "\n",
    "# color_log: whether to color by log of matches, or not\n",
    "# interp10: whether to cap the matches at 10.\n",
    "# alpha: the line transparency\n",
    "color_log = False\n",
    "interp10 = True\n",
    "alpha = 0.5\n",
    "\n",
    "\n",
    "nhits = data['nmatches'].values\n",
    "\n",
    "if color_log: nhits = np.log10(nhits)\n",
    "\n",
    "if interp10:\n",
    "    inter = np.interp(nhits,(1,10),(-0,+1))\n",
    "else:\n",
    "    n_max = nhits.max()\n",
    "    n_min = nhits.min()\n",
    "    inter = np.interp(nhits,(n_min,n_max),(-0,+1))\n",
    "\n",
    "line_colors = [rgb_convert(col_map(i),alpha) for i in inter]\n",
    "\n",
    "f_out = open(\"./circos/circos_links_athamontanolide.txt\",\"w\")\n",
    "\n",
    "for i, line in enumerate(data.itertuples()):\n",
    "    if line.nmatches>0:\n",
    "        link_line = f\"{chr_name1} {ndrug} {ndrug+1} {chr_name2} {line.Index} {line.Index+1} color={line_colors[i]}\\n\"\n",
    "        f_out.write(link_line)\n",
    "    \n",
    "f_out.close()\n",
    "    \n"
   ]
  },
  {
   "cell_type": "markdown",
   "metadata": {},
   "source": [
    "### draw chord diagrams"
   ]
  },
  {
   "cell_type": "code",
   "execution_count": 11,
   "metadata": {},
   "outputs": [],
   "source": [
    "import os "
   ]
  },
  {
   "cell_type": "code",
   "execution_count": 10,
   "metadata": {},
   "outputs": [
    {
     "name": "stdout",
     "output_type": "stream",
     "text": [
      "debuggroup summary 0.18s welcome to circos v0.69-8 15 Jun 2019 on Perl 5.026001\n",
      "debuggroup summary 0.21s current working directory /mnt/c/Users/Cernak/Desktop/qcr/8_atoms/acid_amine/zzz_paper_quarantine_zone\n",
      "debuggroup summary 0.21s command ../../../../circos-0.69-9/bin/circos -conf ./circos/circos_athamontanolide.conf\n",
      "debuggroup summary 0.21s loading configuration from file ./circos/circos_athamontanolide.conf\n",
      "debuggroup summary 0.21s found conf file ./circos/circos_athamontanolide.conf\n",
      "debuggroup summary 0.30s debug will appear for these features: output,summary\n",
      "debuggroup summary 0.30s bitmap output image ./circos.png\n",
      "debuggroup summary 0.30s parsing karyotype and organizing ideograms\n",
      "debuggroup summary 0.32s karyotype has 2 chromosomes of total size 223,017\n",
      "debuggroup summary 0.32s applying global and local scaling\n",
      "debuggroup summary 0.32s allocating image, colors and brushes\n",
      "debuggroup summary 1.32s drawing 2 ideograms of total size 223,017\n",
      "debuggroup summary 1.32s drawing highlights and ideograms\n",
      "debuggroup summary 1.38s found conf file /mnt/c/Users/Cernak/Desktop/circos-0.69-9/bin/../etc/tracks/link.conf\n",
      "debuggroup summary 1.39s process track_0 link circos/circos_links_athamontanolide.txt\n",
      "debuggroup summary 1.40s drawing link track_0 z 0\n",
      "debuggroup output 1.46s generating output\n",
      "debuggroup output 1.72s created PNG image ./circos.png (326 kb)\n"
     ]
    }
   ],
   "source": [
    "# draw for athamontanolide\n",
    "# replace the path below with your local circos install.\n",
    "\n",
    "!../../../../circos-0.69-9/bin/circos -conf ./circos/circos_athamontanolide.conf\n",
    "\n",
    "# move output into the circos folder\n",
    "os.rename(\"./circos.png\",\"./circos/circos_athamontanolide.png\")"
   ]
  },
  {
   "cell_type": "code",
   "execution_count": 13,
   "metadata": {},
   "outputs": [
    {
     "name": "stdout",
     "output_type": "stream",
     "text": [
      "debuggroup summary 0.16s welcome to circos v0.69-8 15 Jun 2019 on Perl 5.026001\n",
      "debuggroup summary 0.18s current working directory /mnt/c/Users/Cernak/Desktop/qcr/8_atoms/acid_amine/zzz_paper_quarantine_zone\n",
      "debuggroup summary 0.18s command ../../../../circos-0.69-9/bin/circos -conf ./circos/circos_noscapine.conf\n",
      "debuggroup summary 0.18s loading configuration from file ./circos/circos_noscapine.conf\n",
      "debuggroup summary 0.18s found conf file ./circos/circos_noscapine.conf\n",
      "debuggroup summary 0.27s debug will appear for these features: output,summary\n",
      "debuggroup summary 0.27s bitmap output image ./circos.png\n",
      "debuggroup summary 0.27s parsing karyotype and organizing ideograms\n",
      "debuggroup summary 0.28s karyotype has 2 chromosomes of total size 223,017\n",
      "debuggroup summary 0.29s applying global and local scaling\n",
      "debuggroup summary 0.29s allocating image, colors and brushes\n",
      "debuggroup summary 1.23s drawing 2 ideograms of total size 223,017\n",
      "debuggroup summary 1.23s drawing highlights and ideograms\n",
      "debuggroup summary 1.29s found conf file /mnt/c/Users/Cernak/Desktop/circos-0.69-9/bin/../etc/tracks/link.conf\n",
      "debuggroup summary 1.29s process track_0 link circos/circos_links_noscapine.txt\n",
      "debuggroup summary 1.30s drawing link track_0 z 0\n",
      "debuggroup output 1.34s generating output\n",
      "debuggroup output 1.58s created PNG image ./circos.png (275 kb)\n"
     ]
    }
   ],
   "source": [
    "# draw for noscapine\n",
    "# replace the path below with your local circos install.\n",
    "\n",
    "!../../../../circos-0.69-9/bin/circos -conf ./circos/circos_noscapine.conf\n",
    "os.rename(\"./circos.png\",\"./circos/circos_noscapine.png\")"
   ]
  }
 ],
 "metadata": {
  "kernelspec": {
   "display_name": "Python 3",
   "language": "python",
   "name": "python3"
  },
  "language_info": {
   "codemirror_mode": {
    "name": "ipython",
    "version": 3
   },
   "file_extension": ".py",
   "mimetype": "text/x-python",
   "name": "python",
   "nbconvert_exporter": "python",
   "pygments_lexer": "ipython3",
   "version": "3.6.12"
  }
 },
 "nbformat": 4,
 "nbformat_minor": 2
}
