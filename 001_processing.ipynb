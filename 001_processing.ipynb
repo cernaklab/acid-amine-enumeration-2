{
 "cells": [
  {
   "cell_type": "markdown",
   "id": "69a70651",
   "metadata": {},
   "source": [
    "## Computes number of atoms and minimum bond edit distance for all products "
   ]
  },
  {
   "cell_type": "code",
   "execution_count": 1,
   "id": "eleven-equilibrium",
   "metadata": {},
   "outputs": [
    {
     "name": "stderr",
     "output_type": "stream",
     "text": [
      "RDKit WARNING: [17:15:00] Enabling RDKit 2019.09.3 jupyter extensions\n"
     ]
    }
   ],
   "source": [
    "from collections import defaultdict\n",
    "import numpy as np\n",
    "\n",
    "import matplotlib.pyplot as plt\n",
    "\n",
    "import pandas as pd\n",
    "\n",
    "from rdkit import Chem\n",
    "from rdkit.Chem import AllChem\n",
    "from rdkit.Chem import Atom, BondType\n",
    "\n",
    "from tqdm.notebook import tqdm\n",
    "from tqdm.contrib.concurrent import process_map\n",
    "\n",
    "import os\n",
    "\n",
    "import SM_amats"
   ]
  },
  {
   "cell_type": "code",
   "execution_count": 2,
   "id": "9a74be25",
   "metadata": {},
   "outputs": [],
   "source": [
    "if not os.path.exists(\"./data_files/smiles_with_all_dists\"):\n",
    "    os.makedirs(\"./data_files/smiles_with_all_dists\")"
   ]
  },
  {
   "cell_type": "markdown",
   "id": "5eb22ee1",
   "metadata": {},
   "source": [
    "### various utility functions"
   ]
  },
  {
   "cell_type": "code",
   "execution_count": 3,
   "id": "c69594e3",
   "metadata": {},
   "outputs": [],
   "source": [
    "# change this for the different atoms\n",
    "atoms = [6,6,6,6,6,7,8,8]\n",
    "\n",
    "def molFromAdjMat(atoms, amat):\n",
    "    \"\"\"Creates a mol object from an adjacency matrix.\n",
    "    Inputs:\n",
    "    atoms: list of atomic numbers of atoms, by row\n",
    "    amat: adjacency matrix. Has to have same length as atoms (obviously)\n",
    "    Output: mol object\n",
    "    \"\"\"\n",
    "\n",
    "    m = Chem.RWMol()\n",
    "    # add in the separate atoms\n",
    "    for a in atoms: m.AddAtom(Atom(a))\n",
    "    side_len = len(amat)\n",
    "    for r in range(side_len):\n",
    "        for c in range(r+1,side_len):\n",
    "            bond_order = amat[r][c]\n",
    "            if bond_order > 0:\n",
    "                if bond_order == 1: m.AddBond(r,c,BondType.SINGLE)\n",
    "                if bond_order == 2: m.AddBond(r,c,BondType.DOUBLE)\n",
    "                if bond_order == 3: m.AddBond(r,c,BondType.TRIPLE)\n",
    "    try:\n",
    "        Chem.SanitizeMol(m)\n",
    "    except: \n",
    "        m = Chem.MolFromSmiles(\"C\")\n",
    "    return m"
   ]
  },
  {
   "cell_type": "code",
   "execution_count": 4,
   "id": "opening-canal",
   "metadata": {},
   "outputs": [],
   "source": [
    "def canonize_smiles(s):\n",
    "    return Chem.MolToSmiles(Chem.MolFromSmiles(s))\n",
    "\n",
    "\n",
    "alphabet = \"cnoCNO\"\n",
    "alphabet = [i for i in alphabet]\n",
    "alphabet.sort()\n",
    "\n",
    "# a quick way to get heavy atom count without going through the mol object\n",
    "# only for CNO systems - if there are others, more atoms will need to be included in the alphabet variable.\n",
    "\n",
    "def count_letters(s):\n",
    "    # counts number of relevant letters in a string\n",
    "    result = len([char for char in s if char in alphabet])\n",
    "    return result"
   ]
  },
  {
   "cell_type": "code",
   "execution_count": 5,
   "id": "05e680a6",
   "metadata": {},
   "outputs": [],
   "source": [
    "def compile_smiles_dists(file_index):\n",
    "    \n",
    "    \"\"\"\n",
    "    given a file index for product matrices, for all products, \n",
    "    compute graph edit distance from each starting material hybridization combination\n",
    "    outputs a csv file.    \n",
    "    \"\"\"\n",
    "    \n",
    "    # load products\n",
    "    atoms = [6,6,6,6,6,7,8,8]\n",
    "\n",
    "    file_tag = str(file_index).zfill(2)\n",
    "    amat_file = f\"./product_amats/pdt_amat_{file_tag}_int8.npy\"\n",
    "    amats = np.load(amat_file)\n",
    "\n",
    "    # make product smiles\n",
    "    mols = [molFromAdjMat(atoms,amat) for amat in amats]\n",
    "    smiles = [Chem.MolToSmiles(m) for m in mols]\n",
    "    mols = []\n",
    "\n",
    "    data_df_dict = {}\n",
    "    data_df_dict[\"smiles\"] = smiles\n",
    "    \n",
    "    hybrid_combos = [\"ac2_am2\",\"ac2_am3\",\"ac3_am2\",\"ac3_am3\"]\n",
    "    for hc in tqdm(hybrid_combos):\n",
    "        # load transformation file and take the sum of bond edits\n",
    "        dmat_file = f\"./rxn_mats/dmats_{hc}_{file_tag}.npy\"\n",
    "        dmats = np.load(dmat_file)\n",
    "        bond_change_sums = [sum(sum(np.abs(dmat)))/2 for dmat in dmats]\n",
    "        data_df_dict[hc] = bond_change_sums\n",
    "\n",
    "    out_df = pd.DataFrame(data=data_df_dict)   \n",
    "    out_df.to_csv(f\"./data_files/smiles_with_all_dists/smiles_with_all_dists_{file_tag}.csv\",index=False)"
   ]
  },
  {
   "cell_type": "code",
   "execution_count": null,
   "id": "9865b004",
   "metadata": {},
   "outputs": [],
   "source": [
    "# can be pretty memory-intensive. reduce max_workers if needed.\n",
    "# 50 minutes on 4 cores\n",
    "\n",
    "_ = process_map(compile_smiles_dists, range(56), max_workers = 4)\n",
    "\n",
    "out_df = []"
   ]
  },
  {
   "cell_type": "markdown",
   "id": "428b9073",
   "metadata": {},
   "source": [
    "### make a default dict that collects the minimum distance, for each time a certain SMILES appears"
   ]
  },
  {
   "cell_type": "code",
   "execution_count": 6,
   "id": "dfaf715d",
   "metadata": {},
   "outputs": [
    {
     "data": {
      "application/vnd.jupyter.widget-view+json": {
       "model_id": "a4e4c6a805ed4139afe938a15bb0cbb5",
       "version_major": 2,
       "version_minor": 0
      },
      "text/plain": [
       "  0%|          | 0/56 [00:00<?, ?it/s]"
      ]
     },
     "metadata": {},
     "output_type": "display_data"
    }
   ],
   "source": [
    "sd = defaultdict(list)\n",
    "\n",
    "for file_index in tqdm(range(56)):\n",
    "    \n",
    "    file_tag = str(file_index).zfill(2)\n",
    "    data = pd.read_csv(f\"./data_files/smiles_with_all_dists/smiles_with_all_dists_{file_tag}.csv\")\n",
    "    dist_array = np.array(data[list(data)[1:]])\n",
    "    \n",
    "    # get minumum distances across all 4 hybridization combinations, for atoms =< 4 heavy atoms.\n",
    "    data[\"min_dist_all\"] = np.min(dist_array,axis=1)\n",
    "    \n",
    "    for r in data.itertuples():\n",
    "        split_smiles = r.smiles.split(\".\")\n",
    "    \n",
    "        for ss in split_smiles:\n",
    "                       \n",
    "            atom_count = int(count_letters(ss))\n",
    "            if atom_count >= 4:\n",
    "                sd[ss].append(r.min_dist_all)\n",
    "        \n",
    "    data = []"
   ]
  },
  {
   "cell_type": "markdown",
   "id": "ccdaba61",
   "metadata": {},
   "source": [
    "### canonize entries. Done here to minimize work duplication."
   ]
  },
  {
   "cell_type": "code",
   "execution_count": null,
   "id": "c100f98a",
   "metadata": {},
   "outputs": [],
   "source": [
    "# less than 1 min\n",
    "sd2 = defaultdict(list)\n",
    "for k in tqdm(sd.keys()):\n",
    "    canon_smiles = canonize_smiles(k)\n",
    "    sd2[canon_smiles].append(np.min(sd[k]))\n",
    "sd = []"
   ]
  },
  {
   "cell_type": "code",
   "execution_count": 25,
   "id": "156ea521",
   "metadata": {},
   "outputs": [
    {
     "data": {
      "text/html": [
       "<div>\n",
       "<style scoped>\n",
       "    .dataframe tbody tr th:only-of-type {\n",
       "        vertical-align: middle;\n",
       "    }\n",
       "\n",
       "    .dataframe tbody tr th {\n",
       "        vertical-align: top;\n",
       "    }\n",
       "\n",
       "    .dataframe thead th {\n",
       "        text-align: right;\n",
       "    }\n",
       "</style>\n",
       "<table border=\"1\" class=\"dataframe\">\n",
       "  <thead>\n",
       "    <tr style=\"text-align: right;\">\n",
       "      <th></th>\n",
       "      <th>smiles</th>\n",
       "      <th>min_dist_all</th>\n",
       "      <th>natoms</th>\n",
       "    </tr>\n",
       "  </thead>\n",
       "  <tbody>\n",
       "    <tr>\n",
       "      <th>0</th>\n",
       "      <td>COON</td>\n",
       "      <td>6.0</td>\n",
       "      <td>4</td>\n",
       "    </tr>\n",
       "    <tr>\n",
       "      <th>1</th>\n",
       "      <td>CONO</td>\n",
       "      <td>6.0</td>\n",
       "      <td>4</td>\n",
       "    </tr>\n",
       "    <tr>\n",
       "      <th>2</th>\n",
       "      <td>CON=O</td>\n",
       "      <td>7.0</td>\n",
       "      <td>4</td>\n",
       "    </tr>\n",
       "    <tr>\n",
       "      <th>3</th>\n",
       "      <td>NOCO</td>\n",
       "      <td>4.0</td>\n",
       "      <td>4</td>\n",
       "    </tr>\n",
       "    <tr>\n",
       "      <th>4</th>\n",
       "      <td>C1ONO1</td>\n",
       "      <td>5.0</td>\n",
       "      <td>4</td>\n",
       "    </tr>\n",
       "  </tbody>\n",
       "</table>\n",
       "</div>"
      ],
      "text/plain": [
       "   smiles  min_dist_all  natoms\n",
       "0    COON           6.0       4\n",
       "1    CONO           6.0       4\n",
       "2   CON=O           7.0       4\n",
       "3    NOCO           4.0       4\n",
       "4  C1ONO1           5.0       4"
      ]
     },
     "execution_count": 25,
     "metadata": {},
     "output_type": "execute_result"
    }
   ],
   "source": [
    "data_raw = pd.DataFrame(data={\"smiles\":sd2.keys(),\n",
    "                              \"min_dist_all\":[min(i) for i in sd2.values()],\n",
    "                             \"natoms\":[count_letters(s) for s in sd2.keys()]})\n",
    "\n",
    "data_raw.head()"
   ]
  },
  {
   "cell_type": "code",
   "execution_count": 28,
   "id": "fa83cbbc",
   "metadata": {},
   "outputs": [],
   "source": [
    "data_raw.to_csv(\"./data_files/smiles_min_dist_natoms.csv\")"
   ]
  },
  {
   "cell_type": "code",
   "execution_count": 30,
   "id": "990b6937",
   "metadata": {},
   "outputs": [],
   "source": [
    "# !rm -r ./data_files/smiles_with_all_dists/"
   ]
  }
 ],
 "metadata": {
  "kernelspec": {
   "display_name": "Python 3",
   "language": "python",
   "name": "python3"
  },
  "language_info": {
   "codemirror_mode": {
    "name": "ipython",
    "version": 3
   },
   "file_extension": ".py",
   "mimetype": "text/x-python",
   "name": "python",
   "nbconvert_exporter": "python",
   "pygments_lexer": "ipython3",
   "version": "3.6.12"
  }
 },
 "nbformat": 4,
 "nbformat_minor": 5
}
