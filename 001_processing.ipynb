{
 "cells": [
  {
   "cell_type": "markdown",
   "id": "69a70651",
   "metadata": {},
   "source": [
    "## computes number of atoms and minimum bond edit distance "
   ]
  },
  {
   "cell_type": "code",
   "execution_count": null,
   "id": "eleven-equilibrium",
   "metadata": {},
   "outputs": [],
   "source": [
    "from collections import defaultdict\n",
    "import numpy as np\n",
    "\n",
    "import matplotlib.pyplot as plt\n",
    "\n",
    "import pandas as pd\n",
    "\n",
    "from rdkit import Chem\n",
    "from rdkit.Chem import AllChem\n",
    "from rdkit.Chem import Atom, BondType\n",
    "\n",
    "from tqdm.notebook import tqdm\n",
    "from tqdm.contrib.concurrent import process_map"
   ]
  },
  {
   "cell_type": "markdown",
   "id": "08e54204",
   "metadata": {},
   "source": [
    "### matrices of starting systems\n",
    "ac3 = sp3 acid, am3 = sp3 amine, etc"
   ]
  },
  {
   "cell_type": "code",
   "execution_count": null,
   "id": "partial-squad",
   "metadata": {},
   "outputs": [],
   "source": [
    "ac3_am3 = [[0, 1, 0, 0, 0, 0, 0, 0],\n",
    "           [1, 0, 0, 0, 0, 1, 0, 0],\n",
    "           [0, 0, 0, 1, 0, 0, 0, 0],\n",
    "           [0, 0, 1, 0, 1, 0, 0, 0],\n",
    "           [0, 0, 0, 1, 0, 0, 2, 1],\n",
    "           [0, 1, 0, 0, 0, 0, 0, 0],\n",
    "           [0, 0, 0, 0, 2, 0, 0, 0],\n",
    "           [0, 0, 0, 0, 1, 0, 0, 0]]\n",
    "\n",
    "\n",
    "ac2_am3 = [[0, 1, 0, 0, 0, 0, 0, 0],\n",
    "           [1, 0, 0, 0, 0, 1, 0, 0],\n",
    "           [0, 0, 0, 2, 0, 0, 0, 0],\n",
    "           [0, 0, 2, 0, 1, 0, 0, 0],\n",
    "           [0, 0, 0, 1, 0, 0, 2, 1],\n",
    "           [0, 1, 0, 0, 0, 0, 0, 0],\n",
    "           [0, 0, 0, 0, 2, 0, 0, 0],\n",
    "           [0, 0, 0, 0, 1, 0, 0, 0]]\n",
    "\n",
    "ac3_am2 = [[0, 2, 0, 0, 0, 0, 0, 0],\n",
    "           [2, 0, 0, 0, 0, 1, 0, 0],\n",
    "           [0, 0, 0, 1, 0, 0, 0, 0],\n",
    "           [0, 0, 1, 0, 1, 0, 0, 0],\n",
    "           [0, 0, 0, 1, 0, 0, 2, 1],\n",
    "           [0, 1, 0, 0, 0, 0, 0, 0],\n",
    "           [0, 0, 0, 0, 2, 0, 0, 0],\n",
    "           [0, 0, 0, 0, 1, 0, 0, 0]]\n",
    "\n",
    "ac2_am2 = [[0, 2, 0, 0, 0, 0, 0, 0],\n",
    "           [2, 0, 0, 0, 0, 1, 0, 0],\n",
    "           [0, 0, 0, 2, 0, 0, 0, 0],\n",
    "           [0, 0, 2, 0, 1, 0, 0, 0],\n",
    "           [0, 0, 0, 1, 0, 0, 2, 1],\n",
    "           [0, 1, 0, 0, 0, 0, 0, 0],\n",
    "           [0, 0, 0, 0, 2, 0, 0, 0],\n",
    "           [0, 0, 0, 0, 1, 0, 0, 0]]\n"
   ]
  },
  {
   "cell_type": "markdown",
   "id": "5eb22ee1",
   "metadata": {},
   "source": [
    "various utility functions"
   ]
  },
  {
   "cell_type": "code",
   "execution_count": null,
   "id": "c69594e3",
   "metadata": {},
   "outputs": [],
   "source": [
    "# change this for the different atoms\n",
    "atoms = [6,6,6,6,6,7,8,8]\n",
    "\n",
    "def molFromAdjMat(atoms, amat):\n",
    "    \"\"\"Creates a mol object from an adjacency matrix.\n",
    "    Inputs:\n",
    "    atoms: list of atomic numbers of atoms, by row\n",
    "    amat: adjacency matrix. Has to have same length as atoms (obviously)\n",
    "    Output: mol object\n",
    "    Might need to add a try clause for sanitize\"\"\"\n",
    "\n",
    "    m = Chem.RWMol()\n",
    "    # add in the separate atoms\n",
    "    for a in atoms: m.AddAtom(Atom(a))\n",
    "    side_len = len(amat)\n",
    "    for r in range(side_len):\n",
    "        for c in range(r+1,side_len):\n",
    "            bond_order = amat[r][c]\n",
    "            if bond_order > 0:\n",
    "                if bond_order == 1: m.AddBond(r,c,BondType.SINGLE)\n",
    "                if bond_order == 2: m.AddBond(r,c,BondType.DOUBLE)\n",
    "                if bond_order == 3: m.AddBond(r,c,BondType.TRIPLE)\n",
    "    try:\n",
    "        Chem.SanitizeMol(m)\n",
    "    except: \n",
    "        m = Chem.MolFromSmiles(\"C\")\n",
    "    return m"
   ]
  },
  {
   "cell_type": "code",
   "execution_count": null,
   "id": "opening-canal",
   "metadata": {},
   "outputs": [],
   "source": [
    "def canonize_smiles(s):\n",
    "    return Chem.MolToSmiles(Chem.MolFromSmiles(s))\n",
    "\n",
    "\n",
    "alphabet = \"cnoCNO\"\n",
    "alphabet = [i for i in alphabet]\n",
    "alphabet.sort()\n",
    "\n",
    "# a quick way to get heavy atom count without going through the mol object\n",
    "def count_letters(s):\n",
    "    # counts number of relevant letters in a string\n",
    "    result = len([char for char in s if char in alphabet])\n",
    "    return result"
   ]
  },
  {
   "cell_type": "code",
   "execution_count": null,
   "id": "05e680a6",
   "metadata": {},
   "outputs": [],
   "source": [
    "def compile_smiles_dists(file_index):\n",
    "    atoms = [6,6,6,6,6,7,8,8]\n",
    "\n",
    "    file_tag = str(file_index).zfill(2)\n",
    "    amat_file = f\"./product_amats/pdt_amat_{file_tag}_int8.npy\"\n",
    "    amats = np.load(amat_file)\n",
    "\n",
    "    hybrid_combos = [\"ac2am2\",\"ac2am3\",\"ac3am2\",\"ac3am3\"]\n",
    "    mols = [molFromAdjMat(atoms,amat) for amat in amats]\n",
    "    smiles = [Chem.MolToSmiles(m) for m in mols]\n",
    "    mols = []\n",
    "#     print(\"mols get\")\n",
    "    data_df_dict = {}\n",
    "    data_df_dict[\"smiles\"] = smiles\n",
    "    for hc in hybrid_combos:\n",
    "#         print(hc)\n",
    "\n",
    "        dmat_file = f\"./backup/dmats_{hc}_{file_tag}.npy\"\n",
    "\n",
    "\n",
    "        dmats = np.load(dmat_file)\n",
    "        bond_change_sums = [sum(sum(np.abs(dmat)))/2 for dmat in dmats]\n",
    "        data_df_dict[hc] = bond_change_sums\n",
    "\n",
    "    out_df = pd.DataFrame(data=data_df_dict)   \n",
    "    out_df.to_csv(f\"./data_files/smiles_with_all_dists_{file_tag}.csv\",index=False)"
   ]
  },
  {
   "cell_type": "code",
   "execution_count": null,
   "id": "9865b004",
   "metadata": {},
   "outputs": [],
   "source": [
    "foo = process_map(compile_smiles_dists, range(56), max_workers = 16)\n",
    "\n",
    "out_df = []"
   ]
  },
  {
   "cell_type": "code",
   "execution_count": null,
   "id": "dfaf715d",
   "metadata": {},
   "outputs": [],
   "source": [
    "sd = defaultdict(list)\n",
    "for file_index in tqdm(range(56)):\n",
    "    \n",
    "    file_tag = str(file_index).zfill(2)\n",
    "    data = pd.read_csv(f\"./data_files/smiles_with_all_dists_{file_tag}.csv\")\n",
    "    dist_array = np.array(data[list(data)[1:]])\n",
    "    data[\"min_dist_all\"] = np.min(dist_array,axis=1)\n",
    "    \n",
    "    for r in data.itertuples():\n",
    "        split_smiles = r.smiles.split(\".\")\n",
    "    \n",
    "        for ss in split_smiles:\n",
    "            atom_count = int(count_letters(ss))\n",
    "            if atom_count >= 4:\n",
    "                sd[ss].append(r.min_dist_all)\n",
    "        \n",
    "    data = []"
   ]
  },
  {
   "cell_type": "code",
   "execution_count": null,
   "id": "156ea521",
   "metadata": {},
   "outputs": [],
   "source": [
    "sd2 = {}\n",
    "\n",
    "for k in sd.keys():\n",
    "    sd2[k] = np.min(sd[k])\n",
    "\n",
    "sd = []\n",
    "\n",
    "data_raw = pd.DataFrame(data={\"smiles\":sd2.keys(),\"min_dist_all\":sd2.values()})\n",
    "\n",
    "data_raw.head()"
   ]
  },
  {
   "cell_type": "code",
   "execution_count": null,
   "id": "fa83cbbc",
   "metadata": {},
   "outputs": [],
   "source": [
    "smiles_raw = list(data_raw.smiles)\n",
    "\n",
    "natoms = [count_letters(s) for s in smiles_raw]\n",
    "\n",
    "data_raw[\"natoms\"] = natoms\n",
    "data_raw.to_csv(\"./data_files/smiles_min_dist_natoms.csv\")"
   ]
  },
  {
   "cell_type": "markdown",
   "id": "f94bcfe2",
   "metadata": {},
   "source": [
    "clean up if needed"
   ]
  },
  {
   "cell_type": "code",
   "execution_count": null,
   "id": "990b6937",
   "metadata": {},
   "outputs": [],
   "source": [
    "# !rm ./data_files/smiles_with_all_dists*"
   ]
  }
 ],
 "metadata": {
  "kernelspec": {
   "display_name": "Python 3",
   "language": "python",
   "name": "python3"
  },
  "language_info": {
   "codemirror_mode": {
    "name": "ipython",
    "version": 3
   },
   "file_extension": ".py",
   "mimetype": "text/x-python",
   "name": "python",
   "nbconvert_exporter": "python",
   "pygments_lexer": "ipython3",
   "version": "3.6.12"
  }
 },
 "nbformat": 4,
 "nbformat_minor": 5
}
