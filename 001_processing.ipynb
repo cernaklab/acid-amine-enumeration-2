{
 "cells": [
  {
   "cell_type": "markdown",
   "id": "69a70651",
   "metadata": {},
   "source": [
    "## Computes number of atoms and minimum bond edit distance for all products "
   ]
  },
  {
   "cell_type": "code",
   "execution_count": 1,
   "id": "eleven-equilibrium",
   "metadata": {},
   "outputs": [],
   "source": [
    "from collections import defaultdict\n",
    "import numpy as np\n",
    "\n",
    "import matplotlib.pyplot as plt\n",
    "\n",
    "import pandas as pd\n",
    "\n",
    "from rdkit import Chem\n",
    "from rdkit.Chem import AllChem\n",
    "from rdkit.Chem import Atom, BondType\n",
    "\n",
    "from tqdm.notebook import tqdm\n",
    "\n",
    "import os\n",
    "\n",
    "import SM_amats\n",
    "import processing_utils\n",
    "import multiprocessing as mp"
   ]
  },
  {
   "cell_type": "code",
   "execution_count": 2,
   "id": "9a74be25",
   "metadata": {},
   "outputs": [],
   "source": [
    "if not os.path.exists(\"./data_files/smiles_with_all_dists\"):\n",
    "    os.makedirs(\"./data_files/smiles_with_all_dists\")"
   ]
  },
  {
   "cell_type": "markdown",
   "id": "5eb22ee1",
   "metadata": {},
   "source": [
    "### various utility functions"
   ]
  },
  {
   "cell_type": "code",
   "execution_count": 3,
   "id": "opening-canal",
   "metadata": {},
   "outputs": [],
   "source": [
    "def canonize_smiles(s):\n",
    "    return Chem.MolToSmiles(Chem.MolFromSmiles(s))\n",
    "\n",
    "\n",
    "alphabet = \"cnoCNO\"\n",
    "alphabet = [i for i in alphabet]\n",
    "alphabet.sort()\n",
    "\n",
    "# a quick way to get heavy atom count without going through the mol object\n",
    "# only for CNO systems - if there are others, more atoms will need to be included in the alphabet variable.\n",
    "\n",
    "def count_letters(s):\n",
    "    # counts number of relevant letters in a string\n",
    "    result = len([char for char in s if char in alphabet])\n",
    "    return result"
   ]
  },
  {
   "cell_type": "code",
   "execution_count": 4,
   "id": "9865b004",
   "metadata": {},
   "outputs": [],
   "source": [
    "# can be pretty memory-intensive. reduce workers if needed.\n",
    "# 50 minutes on 4 cores\n",
    "\n",
    "if __name__ == '__main__':\n",
    "    with mp.Pool(8) as p:\n",
    "        result = p.map(processing_utils.compile_smiles_dists, range(56),chunksize=1)"
   ]
  },
  {
   "cell_type": "markdown",
   "id": "428b9073",
   "metadata": {},
   "source": [
    "### make a default dict that collects the minimum distance, for each time a certain SMILES appears"
   ]
  },
  {
   "cell_type": "code",
   "execution_count": 5,
   "id": "dfaf715d",
   "metadata": {},
   "outputs": [
    {
     "data": {
      "application/vnd.jupyter.widget-view+json": {
       "model_id": "1888c249ff334b74806225fd4161fe80",
       "version_major": 2,
       "version_minor": 0
      },
      "text/plain": [
       "  0%|          | 0/56 [00:00<?, ?it/s]"
      ]
     },
     "metadata": {},
     "output_type": "display_data"
    }
   ],
   "source": [
    "sd = defaultdict(list)\n",
    "\n",
    "for file_index in tqdm(range(56)):\n",
    "    \n",
    "    file_tag = str(file_index).zfill(2)\n",
    "    data = pd.read_csv(f\"./data_files/smiles_with_all_dists/smiles_with_all_dists_{file_tag}.csv\")\n",
    "    dist_array = np.array(data[list(data)[1:]])\n",
    "    \n",
    "    # get minumum distances across all 4 hybridization combinations, for atoms =< 4 heavy atoms.\n",
    "    data[\"min_dist_all\"] = np.min(dist_array,axis=1)\n",
    "    \n",
    "    for r in data.itertuples():\n",
    "        split_smiles = r.smiles.split(\".\")\n",
    "    \n",
    "        for ss in split_smiles:\n",
    "                       \n",
    "            atom_count = int(count_letters(ss))\n",
    "            if atom_count >= 4:\n",
    "                sd[ss].append(r.min_dist_all)\n",
    "        \n",
    "    data = []"
   ]
  },
  {
   "cell_type": "markdown",
   "id": "ccdaba61",
   "metadata": {},
   "source": [
    "### canonize entries. Done here to minimize work duplication."
   ]
  },
  {
   "cell_type": "code",
   "execution_count": 6,
   "id": "c100f98a",
   "metadata": {},
   "outputs": [
    {
     "data": {
      "application/vnd.jupyter.widget-view+json": {
       "model_id": "3c3fb76c66784d1d9c468a20f081a84e",
       "version_major": 2,
       "version_minor": 0
      },
      "text/plain": [
       "  0%|          | 0/222752 [00:00<?, ?it/s]"
      ]
     },
     "metadata": {},
     "output_type": "display_data"
    }
   ],
   "source": [
    "# less than 1 min\n",
    "sd2 = defaultdict(list)\n",
    "for k in tqdm(sd.keys()):\n",
    "    canon_smiles = canonize_smiles(k)\n",
    "    sd2[canon_smiles].append(np.min(sd[k]))\n",
    "sd = []"
   ]
  },
  {
   "cell_type": "code",
   "execution_count": 12,
   "id": "156ea521",
   "metadata": {},
   "outputs": [
    {
     "data": {
      "text/html": [
       "<div>\n",
       "<style scoped>\n",
       "    .dataframe tbody tr th:only-of-type {\n",
       "        vertical-align: middle;\n",
       "    }\n",
       "\n",
       "    .dataframe tbody tr th {\n",
       "        vertical-align: top;\n",
       "    }\n",
       "\n",
       "    .dataframe thead th {\n",
       "        text-align: right;\n",
       "    }\n",
       "</style>\n",
       "<table border=\"1\" class=\"dataframe\">\n",
       "  <thead>\n",
       "    <tr style=\"text-align: right;\">\n",
       "      <th></th>\n",
       "      <th>smiles</th>\n",
       "      <th>min_dist_all</th>\n",
       "      <th>natoms</th>\n",
       "    </tr>\n",
       "  </thead>\n",
       "  <tbody>\n",
       "    <tr>\n",
       "      <th>0</th>\n",
       "      <td>COON</td>\n",
       "      <td>6.0</td>\n",
       "      <td>4</td>\n",
       "    </tr>\n",
       "    <tr>\n",
       "      <th>1</th>\n",
       "      <td>CONO</td>\n",
       "      <td>6.0</td>\n",
       "      <td>4</td>\n",
       "    </tr>\n",
       "    <tr>\n",
       "      <th>2</th>\n",
       "      <td>CON=O</td>\n",
       "      <td>7.0</td>\n",
       "      <td>4</td>\n",
       "    </tr>\n",
       "    <tr>\n",
       "      <th>3</th>\n",
       "      <td>NOCO</td>\n",
       "      <td>4.0</td>\n",
       "      <td>4</td>\n",
       "    </tr>\n",
       "    <tr>\n",
       "      <th>4</th>\n",
       "      <td>C1ONO1</td>\n",
       "      <td>5.0</td>\n",
       "      <td>4</td>\n",
       "    </tr>\n",
       "  </tbody>\n",
       "</table>\n",
       "</div>"
      ],
      "text/plain": [
       "   smiles  min_dist_all  natoms\n",
       "0    COON           6.0       4\n",
       "1    CONO           6.0       4\n",
       "2   CON=O           7.0       4\n",
       "3    NOCO           4.0       4\n",
       "4  C1ONO1           5.0       4"
      ]
     },
     "execution_count": 12,
     "metadata": {},
     "output_type": "execute_result"
    }
   ],
   "source": [
    "data_raw = pd.DataFrame(data={\"smiles\":sd2.keys(),\n",
    "                              \"min_dist_all\":[min(i) for i in sd2.values()],\n",
    "                             \"natoms\":[count_letters(s) for s in sd2.keys()]})\n",
    "\n",
    "data_raw.head()"
   ]
  },
  {
   "cell_type": "code",
   "execution_count": 13,
   "id": "fa83cbbc",
   "metadata": {},
   "outputs": [],
   "source": [
    "data_raw.to_csv(\"./data_files/smiles_min_dist_natoms.csv\")"
   ]
  },
  {
   "cell_type": "markdown",
   "id": "8ffe475a",
   "metadata": {},
   "source": [
    "### we do the same, but only retrieving product systems that have less than 6 bond edits"
   ]
  },
  {
   "cell_type": "code",
   "execution_count": 14,
   "id": "145bd0d7",
   "metadata": {},
   "outputs": [],
   "source": [
    "if not os.path.exists(\"./data_files/smiles_min_dist_6\"):\n",
    "    os.makedirs(\"./data_files/smiles_min_dist_6\")"
   ]
  },
  {
   "cell_type": "code",
   "execution_count": 15,
   "id": "915de3f6",
   "metadata": {},
   "outputs": [
    {
     "data": {
      "application/vnd.jupyter.widget-view+json": {
       "model_id": "1a95c0b629c64328afeb9f1af69b005f",
       "version_major": 2,
       "version_minor": 0
      },
      "text/plain": [
       "  0%|          | 0/56 [00:00<?, ?it/s]"
      ]
     },
     "metadata": {},
     "output_type": "display_data"
    }
   ],
   "source": [
    "for file_index in tqdm(range(56)):\n",
    "    \n",
    "    file_tag = str(file_index).zfill(2)\n",
    "    data = pd.read_csv(f\"./data_files/smiles_with_all_dists/smiles_with_all_dists_{file_tag}.csv\")\n",
    "    dist_array = np.array(data[list(data)[1:]])\n",
    "    \n",
    "    # get minumum distances across all 4 hybridization combinations.\n",
    "    data[\"min_dist_all\"] = np.min(dist_array,axis=1)\n",
    "    data[\"local_index\"] = data.index\n",
    "    data = data[data.min_dist_all <= 6].copy()\n",
    "    data.reset_index(drop=True,inplace=True)\n",
    "    \n",
    "    data.to_csv(f\"./data_files/smiles_min_dist_6/smiles_md6_{file_tag}.csv\")\n",
    "        \n",
    "    data = []"
   ]
  }
 ],
 "metadata": {
  "kernelspec": {
   "display_name": "Python 3 (ipykernel)",
   "language": "python",
   "name": "python3"
  },
  "language_info": {
   "codemirror_mode": {
    "name": "ipython",
    "version": 3
   },
   "file_extension": ".py",
   "mimetype": "text/x-python",
   "name": "python",
   "nbconvert_exporter": "python",
   "pygments_lexer": "ipython3",
   "version": "3.10.8"
  }
 },
 "nbformat": 4,
 "nbformat_minor": 5
}
