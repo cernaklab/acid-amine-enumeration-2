{
 "cells": [
  {
   "cell_type": "markdown",
   "id": "fe991d26",
   "metadata": {},
   "source": [
    "### Search enumerated structures within the Drugbank database"
   ]
  },
  {
   "cell_type": "code",
   "execution_count": 1,
   "id": "pediatric-incident",
   "metadata": {},
   "outputs": [],
   "source": [
    "import pandas as pd\n",
    "from rdkit import Chem\n",
    "import numpy as np\n",
    "import matplotlib.pyplot as plt\n",
    "import multiprocessing as mp\n",
    "\n",
    "from tqdm.notebook import tqdm\n",
    "import processing_utils"
   ]
  },
  {
   "cell_type": "markdown",
   "id": "7c7efbcb",
   "metadata": {},
   "source": [
    "### Load structures from Drugbank - can be replaced by any other database.\n",
    "downloaded from https://go.drugbank.com/releases/latest#structures"
   ]
  },
  {
   "cell_type": "code",
   "execution_count": 2,
   "id": "b7be7a2b",
   "metadata": {},
   "outputs": [],
   "source": [
    "drugs = Chem.SDMolSupplier(\"./drugbank_structures.sdf\")\n",
    "drugs = [i for i in drugs if i]\n",
    "for d in drugs:\n",
    "    # cleanup\n",
    "    Chem.SanitizeMol(d)\n",
    "    \n",
    "    # Kekulization removed.\n",
    "#     Chem.Kekulize(d,clearAromaticFlags=True)"
   ]
  },
  {
   "cell_type": "code",
   "execution_count": 3,
   "id": "concrete-lancaster",
   "metadata": {},
   "outputs": [],
   "source": [
    "data = pd.read_csv(\"./data_files/smiles_min_dist_natoms.csv\",index_col=0)"
   ]
  },
  {
   "cell_type": "markdown",
   "id": "2d319201",
   "metadata": {},
   "source": [
    "### run search"
   ]
  },
  {
   "cell_type": "code",
   "execution_count": null,
   "id": "plastic-sugar",
   "metadata": {},
   "outputs": [],
   "source": [
    "# 20 minutes at chunksize = 10000, max_workers = 24\n",
    "map_input = [[s,drugs,False] for s in data.smiles]\n",
    "\n",
    "if __name__ == '__main__':\n",
    "    with mp.Pool(32) as p:\n",
    "        result = p.starmap(processing_utils.search_in_database, map_input,chunksize=1000)"
   ]
  },
  {
   "cell_type": "code",
   "execution_count": null,
   "id": "28ec6e03",
   "metadata": {},
   "outputs": [],
   "source": [
    "data[\"drugbank_matches\"] = result"
   ]
  },
  {
   "cell_type": "code",
   "execution_count": null,
   "id": "spatial-sacrifice",
   "metadata": {},
   "outputs": [],
   "source": [
    "# take a look\n",
    "data.head()"
   ]
  },
  {
   "cell_type": "code",
   "execution_count": 9,
   "id": "sophisticated-still",
   "metadata": {},
   "outputs": [],
   "source": [
    "# save to csv as a backup \n",
    "data.to_csv(\"./data_files/smiles_min_dist_dbank.csv\")"
   ]
  }
 ],
 "metadata": {
  "kernelspec": {
   "display_name": "Python 3 (ipykernel)",
   "language": "python",
   "name": "python3"
  },
  "language_info": {
   "codemirror_mode": {
    "name": "ipython",
    "version": 3
   },
   "file_extension": ".py",
   "mimetype": "text/x-python",
   "name": "python",
   "nbconvert_exporter": "python",
   "pygments_lexer": "ipython3",
   "version": "3.10.8"
  }
 },
 "nbformat": 4,
 "nbformat_minor": 5
}
