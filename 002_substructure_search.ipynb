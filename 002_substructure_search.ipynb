{
 "cells": [
  {
   "cell_type": "code",
   "execution_count": 1,
   "id": "pediatric-incident",
   "metadata": {},
   "outputs": [],
   "source": [
    "import pandas as pd\n",
    "from rdkit import Chem\n",
    "import numpy as np\n",
    "import matplotlib.pyplot as plt\n",
    "import multiprocessing as mp\n",
    "\n",
    "from tqdm.notebook import tqdm\n",
    "\n",
    "from tqdm.contrib.concurrent import process_map"
   ]
  },
  {
   "cell_type": "code",
   "execution_count": 2,
   "id": "concrete-lancaster",
   "metadata": {},
   "outputs": [],
   "source": [
    "data = pd.read_csv(\"./data_files/smiles_min_dist_natoms.csv\",index_col=0)"
   ]
  },
  {
   "cell_type": "code",
   "execution_count": 6,
   "id": "regular-reliance",
   "metadata": {},
   "outputs": [],
   "source": [
    "drugs = Chem.SDMolSupplier(\"./drugbank_structures.sdf\")\n",
    "drugs = [i for i in drugs if i]\n",
    "for d in drugs:\n",
    "    Chem.SanitizeMol(d)\n",
    "#     Chem.Kekulize(d,clearAromaticFlags=True)"
   ]
  },
  {
   "cell_type": "code",
   "execution_count": 7,
   "id": "53e10642",
   "metadata": {},
   "outputs": [],
   "source": [
    "# the one just for number of lines - used for the entire drugbank\n",
    "def rowfunc(smiles):\n",
    "    # search the smiles in \"row\" through all the structures in \"database\"\n",
    "    substruct = Chem.MolFromSmiles(smiles)\n",
    "    Chem.SanitizeMol(substruct)\n",
    "#     Chem.Kekulize(substruct,clearAromaticFlags=True)\n",
    "    \n",
    "    substruct_matches = 0\n",
    "    for database_mol in tqdm(drugs):\n",
    "        if database_mol.HasSubstructMatch(substruct):\n",
    "            substruct_matches += 1\n",
    "    return substruct_matches"
   ]
  },
  {
   "cell_type": "code",
   "execution_count": null,
   "id": "plastic-sugar",
   "metadata": {},
   "outputs": [
    {
     "data": {
      "application/vnd.jupyter.widget-view+json": {
       "model_id": "becf77331a454df08b986d3fe0e54c97",
       "version_major": 2,
       "version_minor": 0
      },
      "text/plain": [
       "  0%|          | 0/222747 [00:00<?, ?it/s]"
      ]
     },
     "metadata": {},
     "output_type": "display_data"
    }
   ],
   "source": [
    "\n",
    "result = process_map(rowfunc, list(data.smiles), chunksize=1000)\n"
   ]
  },
  {
   "cell_type": "code",
   "execution_count": null,
   "id": "28ec6e03",
   "metadata": {},
   "outputs": [],
   "source": [
    "data[\"drugbank_matches\"] = result"
   ]
  },
  {
   "cell_type": "code",
   "execution_count": null,
   "id": "2a714c8e",
   "metadata": {},
   "outputs": [],
   "source": [
    "data.sort_values(\"drugbank_matches\")"
   ]
  },
  {
   "cell_type": "code",
   "execution_count": null,
   "id": "spatial-sacrifice",
   "metadata": {},
   "outputs": [],
   "source": [
    "data"
   ]
  },
  {
   "cell_type": "code",
   "execution_count": null,
   "id": "sophisticated-still",
   "metadata": {},
   "outputs": [],
   "source": [
    "# can save to csv as a backup \n",
    "# data.to_csv(\"./data_files/acid_amine_smiles_mindist_dbank.csv\")"
   ]
  },
  {
   "cell_type": "markdown",
   "id": "polar-ranking",
   "metadata": {},
   "source": [
    "## search within the covid-19 antivirals\n",
    "formatted for chord diagram\n"
   ]
  },
  {
   "cell_type": "code",
   "execution_count": 4,
   "id": "vocational-laugh",
   "metadata": {},
   "outputs": [],
   "source": [
    "data = pd.read_csv(\"./data_files/acid_amine_smiles_mindist_dbank.csv\",index_col=0)"
   ]
  },
  {
   "cell_type": "code",
   "execution_count": 5,
   "id": "otherwise-encoding",
   "metadata": {},
   "outputs": [],
   "source": [
    "data1 = data.sort_values(\"min_dist_all\")"
   ]
  },
  {
   "cell_type": "code",
   "execution_count": 7,
   "id": "third-technology",
   "metadata": {},
   "outputs": [],
   "source": [
    "match_smiles = list(data1.smiles)"
   ]
  },
  {
   "cell_type": "code",
   "execution_count": 8,
   "id": "injured-daughter",
   "metadata": {},
   "outputs": [],
   "source": [
    "CA_smiles = list(pd.read_csv(\"./data_files/covid_antiviral_smiles.csv\").smiles)"
   ]
  },
  {
   "cell_type": "code",
   "execution_count": 9,
   "id": "neutral-damages",
   "metadata": {},
   "outputs": [],
   "source": [
    "CA_mols = [Chem.MolFromSmiles(s) for s in CA_smiles]\n",
    "for m in CA_mols:\n",
    "    Chem.SanitizeMol(m)\n",
    "#     Chem.Kekulize(m,clearAromaticFlags=False)"
   ]
  },
  {
   "cell_type": "code",
   "execution_count": null,
   "id": "controlled-thirty",
   "metadata": {},
   "outputs": [],
   "source": [
    "# comprehensive one for circos plots\n",
    "def get_matches_all(database,matcher,output_filename):\n",
    "    results = []\n",
    "    out_file = open(output_filename,\"w\")\n",
    "    out_file.write(\"ndrug,nsub,nmatches,smiles\\n\")\n",
    "    # loop through database (the smiles of the drugs, etc that you want to match with)\n",
    "\n",
    "    for i_d, d in enumerate(tqdm(database)):\n",
    "        \n",
    "        database_mol = d\n",
    "        Chem.SanitizeMol(database_mol)\n",
    "#         Chem.Kekulize(database_mol,clearAromaticFlags=True)\n",
    "        \n",
    "        # loop through the set of smiles to match (enumerated substructs)\n",
    "        for i_r, r in enumerate(tqdm(matcher.itertuples())):\n",
    "            sub = Chem.MolFromSmiles(r.smiles)\n",
    "            Chem.SanitizeMol(sub)\n",
    "#             Chem.Kekulize(sub,clearAromaticFlags=True)\n",
    "            matches = database_mol.GetSubstructMatches(sub)\n",
    "            if matches: \n",
    "                out_file.write(f\"{i_d},{i_r},{len(matches)},{r.smiles}\\n\")\n",
    "    out_file.close()\n",
    "    return \"done\""
   ]
  },
  {
   "cell_type": "code",
   "execution_count": null,
   "id": "accessible-consideration",
   "metadata": {
    "scrolled": true
   },
   "outputs": [],
   "source": [
    "get_matches_all(CA_mols,data1,\"./data_files/C19av_matches_by_mindist.csv\")"
   ]
  }
 ],
 "metadata": {
  "kernelspec": {
   "display_name": "Python 3 (ipykernel)",
   "language": "python",
   "name": "python3"
  },
  "language_info": {
   "codemirror_mode": {
    "name": "ipython",
    "version": 3
   },
   "file_extension": ".py",
   "mimetype": "text/x-python",
   "name": "python",
   "nbconvert_exporter": "python",
   "pygments_lexer": "ipython3",
   "version": "3.10.4"
  }
 },
 "nbformat": 4,
 "nbformat_minor": 5
}
