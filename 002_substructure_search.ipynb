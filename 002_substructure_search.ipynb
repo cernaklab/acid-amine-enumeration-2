{
 "cells": [
  {
   "cell_type": "markdown",
   "id": "fe991d26",
   "metadata": {},
   "source": [
    "### Search enumerated structures within the Drugbank database"
   ]
  },
  {
   "cell_type": "code",
   "execution_count": 2,
   "id": "pediatric-incident",
   "metadata": {},
   "outputs": [
    {
     "name": "stderr",
     "output_type": "stream",
     "text": [
      "RDKit WARNING: [19:38:50] Enabling RDKit 2019.09.3 jupyter extensions\n"
     ]
    }
   ],
   "source": [
    "import pandas as pd\n",
    "from rdkit import Chem\n",
    "import numpy as np\n",
    "import matplotlib.pyplot as plt\n",
    "import multiprocessing as mp\n",
    "\n",
    "from tqdm.notebook import tqdm\n",
    "\n",
    "from tqdm.contrib.concurrent import process_map"
   ]
  },
  {
   "cell_type": "markdown",
   "id": "7c7efbcb",
   "metadata": {},
   "source": [
    "### Load structures from Drugbank - can be replaced by any other database.\n",
    "downloaded from https://go.drugbank.com/releases/latest#structures"
   ]
  },
  {
   "cell_type": "code",
   "execution_count": 3,
   "id": "b7be7a2b",
   "metadata": {
    "collapsed": true
   },
   "outputs": [
    {
     "name": "stderr",
     "output_type": "stream",
     "text": [
      "RDKit ERROR: [19:38:52] Explicit valence for atom # 0 Cl, 5, is greater than permitted\n",
      "RDKit ERROR: [19:38:52] ERROR: Could not sanitize molecule ending on line 288741\n",
      "RDKit ERROR: [19:38:52] ERROR: Explicit valence for atom # 0 Cl, 5, is greater than permitted\n",
      "RDKit ERROR: [19:38:52] Explicit valence for atom # 39 N, 5, is greater than permitted\n",
      "RDKit ERROR: [19:38:52] ERROR: Could not sanitize molecule ending on line 327780\n",
      "RDKit ERROR: [19:38:52] ERROR: Explicit valence for atom # 39 N, 5, is greater than permitted\n",
      "RDKit ERROR: [19:38:52] Explicit valence for atom # 19 O, 3, is greater than permitted\n",
      "RDKit ERROR: [19:38:52] ERROR: Could not sanitize molecule ending on line 398763\n",
      "RDKit ERROR: [19:38:52] ERROR: Explicit valence for atom # 19 O, 3, is greater than permitted\n",
      "RDKit ERROR: [19:38:52] Explicit valence for atom # 1 N, 4, is greater than permitted\n",
      "RDKit ERROR: [19:38:52] ERROR: Could not sanitize molecule ending on line 522182\n",
      "RDKit ERROR: [19:38:52] ERROR: Explicit valence for atom # 1 N, 4, is greater than permitted\n",
      "RDKit ERROR: [19:38:53] Explicit valence for atom # 1 N, 4, is greater than permitted\n",
      "RDKit ERROR: [19:38:53] ERROR: Could not sanitize molecule ending on line 577461\n",
      "RDKit ERROR: [19:38:53] ERROR: Explicit valence for atom # 1 N, 4, is greater than permitted\n",
      "RDKit ERROR: [19:38:53] Explicit valence for atom # 12 N, 4, is greater than permitted\n",
      "RDKit ERROR: [19:38:53] ERROR: Could not sanitize molecule ending on line 613009\n",
      "RDKit ERROR: [19:38:53] ERROR: Explicit valence for atom # 12 N, 4, is greater than permitted\n",
      "RDKit ERROR: [19:38:53] Explicit valence for atom # 20 N, 4, is greater than permitted\n",
      "RDKit ERROR: [19:38:53] ERROR: Could not sanitize molecule ending on line 633609\n",
      "RDKit ERROR: [19:38:53] ERROR: Explicit valence for atom # 20 N, 4, is greater than permitted\n",
      "RDKit ERROR: [19:38:53] Explicit valence for atom # 0 Be, 3, is greater than permitted\n",
      "RDKit ERROR: [19:38:53] ERROR: Could not sanitize molecule ending on line 1087676\n",
      "RDKit ERROR: [19:38:53] ERROR: Explicit valence for atom # 0 Be, 3, is greater than permitted\n",
      "RDKit ERROR: [19:38:53] Explicit valence for atom # 28 N, 4, is greater than permitted\n",
      "RDKit ERROR: [19:38:53] ERROR: Could not sanitize molecule ending on line 1244012\n",
      "RDKit ERROR: [19:38:53] ERROR: Explicit valence for atom # 28 N, 4, is greater than permitted\n",
      "RDKit ERROR: [19:38:54] Explicit valence for atom # 1 Cl, 4, is greater than permitted\n",
      "RDKit ERROR: [19:38:54] ERROR: Could not sanitize molecule ending on line 1430739\n",
      "RDKit ERROR: [19:38:54] ERROR: Explicit valence for atom # 1 Cl, 4, is greater than permitted\n",
      "RDKit ERROR: [19:38:54] Explicit valence for atom # 7 K, 2, is greater than permitted\n",
      "RDKit ERROR: [19:38:54] ERROR: Could not sanitize molecule ending on line 1673556\n",
      "RDKit WARNING: [19:38:54] Warning: conflicting stereochemistry at atom 21 ignored.\n",
      "RDKit WARNING: [19:38:54] Warning: conflicting stereochemistry at atom 21 ignored.\n",
      "RDKit WARNING: [19:38:54] Warning: conflicting stereochemistry at atom 26 ignored.\n",
      "RDKit WARNING: [19:38:54] Warning: conflicting stereochemistry at atom 41 ignored.\n",
      "RDKit WARNING: [19:38:54] Warning: conflicting stereochemistry at atom 41 ignored.\n",
      "RDKit WARNING: [19:38:54] Warning: conflicting stereochemistry at atom 83 ignored.\n",
      "RDKit WARNING: [19:38:54] Warning: conflicting stereochemistry at atom 83 ignored.\n",
      "RDKit WARNING: [19:38:54] Warning: conflicting stereochemistry at atom 107 ignored.\n",
      "RDKit WARNING: [19:38:54] Warning: conflicting stereochemistry at atom 107 ignored.\n",
      "RDKit WARNING: [19:38:54] Warning: conflicting stereochemistry at atom 26 ignored.\n",
      "RDKit WARNING: [19:38:54] Warning: conflicting stereochemistry at atom 26 ignored.\n",
      "RDKit WARNING: [19:38:54] Warning: conflicting stereochemistry at atom 26 ignored.\n",
      "RDKit WARNING: [19:38:54] Warning: conflicting stereochemistry at atom 41 ignored.\n",
      "RDKit WARNING: [19:38:54] Warning: conflicting stereochemistry at atom 41 ignored.\n",
      "RDKit WARNING: [19:38:54] Warning: conflicting stereochemistry at atom 137 ignored.\n",
      "RDKit WARNING: [19:38:54] Warning: conflicting stereochemistry at atom 137 ignored.\n",
      "RDKit WARNING: [19:38:54] Warning: conflicting stereochemistry at atom 9 ignored.\n",
      "RDKit WARNING: [19:38:54] Warning: conflicting stereochemistry at atom 9 ignored.\n",
      "RDKit WARNING: [19:38:54] Warning: conflicting stereochemistry at atom 18 ignored.\n",
      "RDKit WARNING: [19:38:54] Warning: conflicting stereochemistry at atom 18 ignored.\n",
      "RDKit WARNING: [19:38:54] Warning: conflicting stereochemistry at atom 28 ignored.\n",
      "RDKit WARNING: [19:38:54] Warning: conflicting stereochemistry at atom 28 ignored.\n",
      "RDKit WARNING: [19:38:54] Warning: conflicting stereochemistry at atom 55 ignored.\n",
      "RDKit WARNING: [19:38:54] Warning: conflicting stereochemistry at atom 55 ignored.\n",
      "RDKit WARNING: [19:38:54] Warning: conflicting stereochemistry at atom 86 ignored.\n",
      "RDKit WARNING: [19:38:54] Warning: conflicting stereochemistry at atom 86 ignored.\n",
      "RDKit WARNING: [19:38:54] WARNING: not removing hydrogen atom without neighbors\n",
      "RDKit WARNING: [19:38:54] WARNING: not removing hydrogen atom without neighbors\n",
      "RDKit WARNING: [19:38:54] WARNING: not removing hydrogen atom without neighbors\n",
      "RDKit WARNING: [19:38:54] Warning: conflicting stereochemistry at atom 4 ignored.\n",
      "RDKit WARNING: [19:38:54] Warning: conflicting stereochemistry at atom 4 ignored.\n",
      "RDKit WARNING: [19:38:54] Warning: conflicting stereochemistry at atom 14 ignored.\n",
      "RDKit WARNING: [19:38:54] Warning: conflicting stereochemistry at atom 17 ignored.\n",
      "RDKit WARNING: [19:38:54] Warning: conflicting stereochemistry at atom 17 ignored.\n",
      "RDKit WARNING: [19:38:54] Warning: conflicting stereochemistry at atom 14 ignored.\n",
      "RDKit WARNING: [19:38:54] Warning: conflicting stereochemistry at atom 57 ignored.\n",
      "RDKit WARNING: [19:38:54] Warning: conflicting stereochemistry at atom 57 ignored.\n",
      "RDKit WARNING: [19:38:54] Warning: conflicting stereochemistry at atom 66 ignored.\n",
      "RDKit WARNING: [19:38:54] Warning: conflicting stereochemistry at atom 66 ignored.\n",
      "RDKit WARNING: [19:38:54] Warning: conflicting stereochemistry at atom 95 ignored.\n",
      "RDKit WARNING: [19:38:54] Warning: conflicting stereochemistry at atom 95 ignored.\n",
      "RDKit WARNING: [19:38:54] Warning: conflicting stereochemistry at atom 8 ignored.\n",
      "RDKit WARNING: [19:38:54] Warning: conflicting stereochemistry at atom 8 ignored.\n",
      "RDKit WARNING: [19:38:54] Warning: conflicting stereochemistry at atom 14 ignored.\n",
      "RDKit WARNING: [19:38:54] Warning: conflicting stereochemistry at atom 14 ignored.\n",
      "RDKit WARNING: [19:38:54] Warning: conflicting stereochemistry at atom 51 ignored.\n",
      "RDKit WARNING: [19:38:54] Warning: conflicting stereochemistry at atom 56 ignored.\n",
      "RDKit WARNING: [19:38:54] Warning: conflicting stereochemistry at atom 56 ignored.\n",
      "RDKit WARNING: [19:38:54] Warning: conflicting stereochemistry at atom 51 ignored.\n",
      "RDKit ERROR: [19:38:54] ERROR: Explicit valence for atom # 7 K, 2, is greater than permitted\n",
      "RDKit ERROR: [19:38:54] Explicit valence for atom # 10 N, 4, is greater than permitted\n",
      "RDKit ERROR: [19:38:54] ERROR: Could not sanitize molecule ending on line 1873271\n"
     ]
    }
   ],
   "source": [
    "drugs = Chem.SDMolSupplier(\"./drugbank_structures.sdf\")\n",
    "drugs = [i for i in drugs if i]\n",
    "for d in drugs:\n",
    "    # cleanup\n",
    "    Chem.SanitizeMol(d)\n",
    "    \n",
    "    # Kekulization removed.\n",
    "#     Chem.Kekulize(d,clearAromaticFlags=True)"
   ]
  },
  {
   "cell_type": "code",
   "execution_count": 4,
   "id": "concrete-lancaster",
   "metadata": {},
   "outputs": [],
   "source": [
    "data = pd.read_csv(\"./data_files/smiles_min_dist_natoms.csv\",index_col=0)"
   ]
  },
  {
   "cell_type": "markdown",
   "id": "eb624de2",
   "metadata": {},
   "source": [
    "### a function to search for motif matches in the Drugbank database"
   ]
  },
  {
   "cell_type": "code",
   "execution_count": 8,
   "id": "53e10642",
   "metadata": {},
   "outputs": [],
   "source": [
    "# the one just for number of lines - used for the entire drugbank\n",
    "def rowfunc(smiles):\n",
    "    # search the smiles in \"row\" through all the structures in \"database\"\n",
    "    substruct = Chem.MolFromSmiles(smiles)\n",
    "    Chem.SanitizeMol(substruct)\n",
    "    \n",
    "    # used to Kekulize, but currently not implemented.\n",
    "    # SanitizeMol will cause aromatic bonds to be encoded as such.\n",
    "    \n",
    "#     Chem.Kekulize(substruct,clearAromaticFlags=True)\n",
    "    \n",
    "    substruct_matches = 0\n",
    "    for database_mol in drugs:\n",
    "        if database_mol.HasSubstructMatch(substruct):\n",
    "            substruct_matches += 1\n",
    "    return substruct_matches"
   ]
  },
  {
   "cell_type": "markdown",
   "id": "2d319201",
   "metadata": {},
   "source": [
    "### run search"
   ]
  },
  {
   "cell_type": "code",
   "execution_count": 12,
   "id": "plastic-sugar",
   "metadata": {},
   "outputs": [
    {
     "data": {
      "application/vnd.jupyter.widget-view+json": {
       "model_id": "7f5d969cfb224f6481f2e443c47dbea1",
       "version_major": 2,
       "version_minor": 0
      },
      "text/plain": [
       "  0%|          | 0/222739 [00:00<?, ?it/s]"
      ]
     },
     "metadata": {},
     "output_type": "display_data"
    },
    {
     "name": "stderr",
     "output_type": "stream",
     "text": [
      "RDKit WARNING: [19:44:13] WARNING: could not find number of expected rings. Switching to an approximate ring finding algorithm.\n",
      "RDKit WARNING: [19:44:13] WARNING: could not find number of expected rings. Switching to an approximate ring finding algorithm.\n"
     ]
    }
   ],
   "source": [
    "# 20 minutes at chunksize = 10000, max_workers = 24\n",
    "\n",
    "result = process_map(rowfunc, list(data.smiles), chunksize=10000,max_workers=24)\n"
   ]
  },
  {
   "cell_type": "code",
   "execution_count": 13,
   "id": "28ec6e03",
   "metadata": {},
   "outputs": [],
   "source": [
    "data[\"drugbank_matches\"] = result"
   ]
  },
  {
   "cell_type": "code",
   "execution_count": 15,
   "id": "spatial-sacrifice",
   "metadata": {},
   "outputs": [
    {
     "data": {
      "text/html": [
       "<div>\n",
       "<style scoped>\n",
       "    .dataframe tbody tr th:only-of-type {\n",
       "        vertical-align: middle;\n",
       "    }\n",
       "\n",
       "    .dataframe tbody tr th {\n",
       "        vertical-align: top;\n",
       "    }\n",
       "\n",
       "    .dataframe thead th {\n",
       "        text-align: right;\n",
       "    }\n",
       "</style>\n",
       "<table border=\"1\" class=\"dataframe\">\n",
       "  <thead>\n",
       "    <tr style=\"text-align: right;\">\n",
       "      <th></th>\n",
       "      <th>smiles</th>\n",
       "      <th>min_dist_all</th>\n",
       "      <th>natoms</th>\n",
       "      <th>drugbank_matches</th>\n",
       "    </tr>\n",
       "  </thead>\n",
       "  <tbody>\n",
       "    <tr>\n",
       "      <th>0</th>\n",
       "      <td>COON</td>\n",
       "      <td>6.0</td>\n",
       "      <td>4</td>\n",
       "      <td>0</td>\n",
       "    </tr>\n",
       "    <tr>\n",
       "      <th>1</th>\n",
       "      <td>CONO</td>\n",
       "      <td>6.0</td>\n",
       "      <td>4</td>\n",
       "      <td>18</td>\n",
       "    </tr>\n",
       "    <tr>\n",
       "      <th>2</th>\n",
       "      <td>CON=O</td>\n",
       "      <td>7.0</td>\n",
       "      <td>4</td>\n",
       "      <td>19</td>\n",
       "    </tr>\n",
       "    <tr>\n",
       "      <th>3</th>\n",
       "      <td>NOCO</td>\n",
       "      <td>4.0</td>\n",
       "      <td>4</td>\n",
       "      <td>4</td>\n",
       "    </tr>\n",
       "    <tr>\n",
       "      <th>4</th>\n",
       "      <td>C1ONO1</td>\n",
       "      <td>5.0</td>\n",
       "      <td>4</td>\n",
       "      <td>0</td>\n",
       "    </tr>\n",
       "  </tbody>\n",
       "</table>\n",
       "</div>"
      ],
      "text/plain": [
       "   smiles  min_dist_all  natoms  drugbank_matches\n",
       "0    COON           6.0       4                 0\n",
       "1    CONO           6.0       4                18\n",
       "2   CON=O           7.0       4                19\n",
       "3    NOCO           4.0       4                 4\n",
       "4  C1ONO1           5.0       4                 0"
      ]
     },
     "execution_count": 15,
     "metadata": {},
     "output_type": "execute_result"
    }
   ],
   "source": [
    "# take a look\n",
    "data.head()"
   ]
  },
  {
   "cell_type": "code",
   "execution_count": 16,
   "id": "sophisticated-still",
   "metadata": {},
   "outputs": [],
   "source": [
    "# save to csv as a backup \n",
    "data.to_csv(\"./data_files/smiles_min_dist_dbank.csv\")"
   ]
  }
 ],
 "metadata": {
  "kernelspec": {
   "display_name": "Python 3",
   "language": "python",
   "name": "python3"
  },
  "language_info": {
   "codemirror_mode": {
    "name": "ipython",
    "version": 3
   },
   "file_extension": ".py",
   "mimetype": "text/x-python",
   "name": "python",
   "nbconvert_exporter": "python",
   "pygments_lexer": "ipython3",
   "version": "3.6.12"
  }
 },
 "nbformat": 4,
 "nbformat_minor": 5
}
