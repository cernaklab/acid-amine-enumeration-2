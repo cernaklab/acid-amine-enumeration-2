{
 "cells": [
  {
   "cell_type": "code",
   "execution_count": null,
   "id": "pediatric-incident",
   "metadata": {},
   "outputs": [],
   "source": [
    "import pandas as pd\n",
    "from rdkit import Chem\n",
    "import numpy as np\n",
    "import matplotlib.pyplot as plt\n",
    "import multiprocessing as mp\n",
    "\n",
    "from tqdm.notebook import tqdm\n",
    "\n",
    "from tqdm.contrib.concurrent import process_map"
   ]
  },
  {
   "cell_type": "code",
   "execution_count": null,
   "id": "concrete-lancaster",
   "metadata": {},
   "outputs": [],
   "source": [
    "data = pd.read_csv(\"./data_files/smiles_min_dist_natoms.csv\",index_col=0)"
   ]
  },
  {
   "cell_type": "code",
   "execution_count": null,
   "id": "regular-reliance",
   "metadata": {},
   "outputs": [],
   "source": [
    "drugs = Chem.SDMolSupplier(\"./drugbank_structures.sdf\")\n",
    "drugs = [i for i in drugs if i]\n",
    "for d in drugs:\n",
    "    Chem.SanitizeMol(d)\n",
    "    \n",
    "    # Kekulization removed.\n",
    "#     Chem.Kekulize(d,clearAromaticFlags=True)"
   ]
  },
  {
   "cell_type": "code",
   "execution_count": null,
   "id": "53e10642",
   "metadata": {},
   "outputs": [],
   "source": [
    "# the one just for number of lines - used for the entire drugbank\n",
    "def rowfunc(smiles):\n",
    "    # search the smiles in \"row\" through all the structures in \"database\"\n",
    "    substruct = Chem.MolFromSmiles(smiles)\n",
    "    Chem.SanitizeMol(substruct)\n",
    "    \n",
    "    # used to Kekulize, but currently not implemented.\n",
    "    # SanitizeMol will cause aromatic bonds to be encoded as such.\n",
    "    \n",
    "#     Chem.Kekulize(substruct,clearAromaticFlags=True)\n",
    "    \n",
    "    substruct_matches = 0\n",
    "    for database_mol in tqdm(drugs):\n",
    "        if database_mol.HasSubstructMatch(substruct):\n",
    "            substruct_matches += 1\n",
    "    return substruct_matches"
   ]
  },
  {
   "cell_type": "code",
   "execution_count": null,
   "id": "plastic-sugar",
   "metadata": {},
   "outputs": [],
   "source": [
    "\n",
    "result = process_map(rowfunc, list(data.smiles), chunksize=1000)\n"
   ]
  },
  {
   "cell_type": "code",
   "execution_count": null,
   "id": "28ec6e03",
   "metadata": {},
   "outputs": [],
   "source": [
    "data[\"drugbank_matches\"] = result"
   ]
  },
  {
   "cell_type": "code",
   "execution_count": null,
   "id": "2a714c8e",
   "metadata": {},
   "outputs": [],
   "source": [
    "data.sort_values(\"drugbank_matches\")"
   ]
  },
  {
   "cell_type": "code",
   "execution_count": null,
   "id": "spatial-sacrifice",
   "metadata": {},
   "outputs": [],
   "source": [
    "# take a look\n",
    "data.head()"
   ]
  },
  {
   "cell_type": "code",
   "execution_count": null,
   "id": "sophisticated-still",
   "metadata": {},
   "outputs": [],
   "source": [
    "# save to csv as a backup \n",
    "data.to_csv(\"./data_files/acid_amine_smiles_mindist_dbank.csv\")"
   ]
  }
 ],
 "metadata": {
  "kernelspec": {
   "display_name": "Python 3",
   "language": "python",
   "name": "python3"
  },
  "language_info": {
   "codemirror_mode": {
    "name": "ipython",
    "version": 3
   },
   "file_extension": ".py",
   "mimetype": "text/x-python",
   "name": "python",
   "nbconvert_exporter": "python",
   "pygments_lexer": "ipython3",
   "version": "3.6.12"
  }
 },
 "nbformat": 4,
 "nbformat_minor": 5
}
