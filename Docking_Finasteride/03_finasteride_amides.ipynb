{
 "cells": [
  {
   "cell_type": "code",
   "execution_count": 1,
   "id": "ed0d3ad4",
   "metadata": {},
   "outputs": [],
   "source": [
    "from rdkit import Chem\n",
    "import pandas as pd\n",
    "\n",
    "from rdkit.Chem.Draw import IPythonConsole\n",
    "from tqdm.notebook import tqdm\n",
    "from rdkit.Chem.AllChem import ReactionFromSmarts\n",
    "\n",
    "import matplotlib.pyplot as plt\n",
    "\n",
    "import numpy as np\n",
    "\n",
    "from tqdm.notebook import tqdm\n",
    "\n",
    "import coupling_utils\n",
    "import multiprocessing as mp"
   ]
  },
  {
   "cell_type": "code",
   "execution_count": 2,
   "id": "8c9addfa",
   "metadata": {},
   "outputs": [],
   "source": [
    "def get_NO_count(smiles):\n",
    "    return(np.sum([smiles.count(char) for char in \"NnOo\"]))"
   ]
  },
  {
   "cell_type": "code",
   "execution_count": 3,
   "id": "be1c62ec",
   "metadata": {},
   "outputs": [],
   "source": [
    "finasteride_acid = Chem.MolFromSmiles(\"[H][C@@]12CC[C@H](C(O)=O)[C@@]1(C)CC[C@@]3([H])[C@@]2([H])CC[C@@]4([H])NC(C=C[C@]34C)=O\")"
   ]
  },
  {
   "cell_type": "code",
   "execution_count": 4,
   "id": "f3e24b68",
   "metadata": {
    "scrolled": true
   },
   "outputs": [
    {
     "data": {
      "image/png": "[encoded data removed]",
      "text/plain": [
       "<rdkit.Chem.rdchem.Mol at 0x27531432920>"
      ]
     },
     "execution_count": 4,
     "metadata": {},
     "output_type": "execute_result"
    }
   ],
   "source": [
    "finasteride_acid"
   ]
  },
  {
   "cell_type": "code",
   "execution_count": 5,
   "id": "6f31d865",
   "metadata": {},
   "outputs": [],
   "source": [
    "amidep = Chem.MolFromSmarts('[N;$(NC=[O,S,N])]')"
   ]
  },
  {
   "cell_type": "code",
   "execution_count": 6,
   "id": "a4f0b13c",
   "metadata": {},
   "outputs": [],
   "source": [
    "#"
   ]
  },
  {
   "cell_type": "code",
   "execution_count": 8,
   "id": "17498a9a",
   "metadata": {},
   "outputs": [
    {
     "data": {
      "application/vnd.jupyter.widget-view+json": {
       "model_id": "446ce7cce5cc48f39229dc1dce77c0a5",
       "version_major": 2,
       "version_minor": 0
      },
      "text/plain": [
       "  0%|          | 0/112 [00:00<?, ?it/s]"
      ]
     },
     "metadata": {},
     "output_type": "display_data"
    }
   ],
   "source": [
    "pubchem_small_amines = []\n",
    "\n",
    "for file_ind in tqdm(range(112)):\n",
    "    \n",
    "    file_tag = str(file_ind).zfill(3)\n",
    "    amines = pd.read_csv(f\"../Docking_MPro/pubchem/pubchem_small_{file_tag}.txt\",names = [\"smiles\",\"size\",\"FC\"])\n",
    "    amines[\"NO_count\"] = amines.smiles.apply(get_NO_count)\n",
    "    pubchem_small_amines.append(amines)"
   ]
  },
  {
   "cell_type": "code",
   "execution_count": 9,
   "id": "3f509eee",
   "metadata": {},
   "outputs": [],
   "source": [
    "amines = pd.concat(pubchem_small_amines)"
   ]
  },
  {
   "cell_type": "code",
   "execution_count": 10,
   "id": "f7d8d90f",
   "metadata": {},
   "outputs": [],
   "source": [
    "amines.drop_duplicates(\"smiles\",inplace=True)"
   ]
  },
  {
   "cell_type": "code",
   "execution_count": 11,
   "id": "28d70593",
   "metadata": {},
   "outputs": [],
   "source": [
    "amines.reset_index(drop=True,inplace=True)"
   ]
  },
  {
   "cell_type": "code",
   "execution_count": 12,
   "id": "dda30fe4",
   "metadata": {},
   "outputs": [],
   "source": [
    "NOs = []\n",
    "for i in range(np.max(amines.NO_count)):\n",
    "    NOs.append((i, len(amines[amines.NO_count <= i])))\n"
   ]
  },
  {
   "cell_type": "code",
   "execution_count": 13,
   "id": "66733a88",
   "metadata": {},
   "outputs": [],
   "source": [
    "amideN = Chem.MolFromSmarts('[N;$(NC=[O,S,N])]')\n",
    "amidecoup = ReactionFromSmarts('[C:1](=[O:2])[OH1].[N!H0:3]>>[C:1](=[O:2])[N:3]')"
   ]
  },
  {
   "cell_type": "code",
   "execution_count": 14,
   "id": "25dcc98d",
   "metadata": {},
   "outputs": [],
   "source": [
    "small_amines = list(amines[amines.NO_count <= 3].smiles)"
   ]
  },
  {
   "cell_type": "code",
   "execution_count": null,
   "id": "8e697a25",
   "metadata": {},
   "outputs": [],
   "source": [
    "if __name__ == '__main__':\n",
    "    with mp.Pool(32) as p:\n",
    "        result = p.map(coupling_utils.couple_amide, small_amines,chunksize=100000)\n"
   ]
  },
  {
   "cell_type": "code",
   "execution_count": null,
   "id": "7267fdf4",
   "metadata": {},
   "outputs": [],
   "source": [
    "out = pd.DataFrame({\"smiles\":result})"
   ]
  },
  {
   "cell_type": "code",
   "execution_count": null,
   "id": "8b79e0eb",
   "metadata": {},
   "outputs": [],
   "source": [
    "out.head()"
   ]
  },
  {
   "cell_type": "code",
   "execution_count": null,
   "id": "c100b260",
   "metadata": {},
   "outputs": [],
   "source": [
    "out.to_csv(\"./Finasteride_products/Finasteride_amides.csv\")"
   ]
  }
 ],
 "metadata": {
  "kernelspec": {
   "display_name": "Python 3 (ipykernel)",
   "language": "python",
   "name": "python3"
  },
  "language_info": {
   "codemirror_mode": {
    "name": "ipython",
    "version": 3
   },
   "file_extension": ".py",
   "mimetype": "text/x-python",
   "name": "python",
   "nbconvert_exporter": "python",
   "pygments_lexer": "ipython3",
   "version": "3.10.8"
  }
 },
 "nbformat": 4,
 "nbformat_minor": 5
}
