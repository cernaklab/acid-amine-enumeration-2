{
 "cells": [
  {
   "cell_type": "markdown",
   "id": "complete-hybrid",
   "metadata": {},
   "source": [
    "some basic analysis of the smiles."
   ]
  },
  {
   "cell_type": "code",
   "execution_count": null,
   "id": "typical-colors",
   "metadata": {},
   "outputs": [],
   "source": [
    "import pandas as pd\n",
    "from collections import defaultdict\n",
    "\n",
    "from tqdm.notebook import tqdm\n",
    "\n",
    "import numpy as np\n",
    "\n",
    "from rdkit import Chem\n",
    "from rdkit.Chem import AllChem, Draw\n",
    "from rdkit.Chem import rdMolDescriptors, Descriptors\n",
    "\n",
    "import matplotlib.pyplot as plt\n",
    "\n",
    "import seaborn as sns\n",
    "\n",
    "from tqdm.contrib.concurrent import process_map"
   ]
  },
  {
   "cell_type": "code",
   "execution_count": null,
   "id": "1d05d981",
   "metadata": {},
   "outputs": [],
   "source": [
    "from mpl_toolkits.axes_grid1 import make_axes_locatable"
   ]
  },
  {
   "cell_type": "code",
   "execution_count": null,
   "id": "15e722cf",
   "metadata": {},
   "outputs": [],
   "source": [
    "def getLogP(x): return Chem.rdMolDescriptors.CalcCrippenDescriptors(x)[0]\n",
    "def getMW(x): return Chem.Descriptors.MolWt(x)\n",
    "def getHBD(x): return Chem.rdMolDescriptors.CalcNumHBD(x)\n",
    "def getHBA(x): return Chem.rdMolDescriptors.CalcNumHBA(x)\n",
    "def getPSA(x): return Chem.rdMolDescriptors.CalcTPSA(x)\n",
    "def getROTB(x): return Chem.rdMolDescriptors.CalcNumRotatableBonds(x)\n",
    "def getAROM(x): return Chem.rdMolDescriptors.CalcNumAromaticRings(x)\n",
    "def getFSP3(x): return Chem.rdMolDescriptors.CalcFractionCSP3(x)\n",
    "def getFC(x): return Chem.rdmolops.GetFormalCharge(x)\n",
    "def getQED(x): return Chem.QED.qed(x)\n",
    "def getSSSR(x): return Chem.GetSSSR(x)\n",
    "\n",
    "def getallprops(s):\n",
    "    x = Chem.MolFromSmiles(s)\n",
    "    return [getLogP(x),getMW(x),getHBD(x),getHBA(x),getPSA(x),getROTB(x),getFSP3(x),getSSSR(x),getQED(x)]"
   ]
  },
  {
   "cell_type": "code",
   "execution_count": null,
   "id": "98480005",
   "metadata": {},
   "outputs": [],
   "source": [
    "def interpolate_data_df(df):\n",
    "    \"\"\"takes a dataframe of values and does interpolation\"\"\"\n",
    "    \n",
    "    prop_dict = {}\n",
    "    minmax_dict = {}\n",
    "    \n",
    "    for p in list(df):\n",
    "        minv = np.min(df[p])\n",
    "        maxv = np.max(df[p])\n",
    "        minmax_dict[p] = (minv,maxv)\n",
    "        prop_dict[p] = np.interp(df[p],(minv,maxv),(0,1))\n",
    "        \n",
    "    df_out = pd.DataFrame(data=prop_dict)    \n",
    "    return df_out, minmax_dict\n",
    "\n",
    "\n",
    "# a new helper function\n",
    "def interp_point(data_point,minmax_dict):\n",
    "    dict_out = {}\n",
    "    for i,k in enumerate(minmax_dict.keys()):\n",
    "        minv,maxv = minmax_dict[k]\n",
    "        dict_out[k] = np.interp(data_point[i],(minv,maxv),(0,1))\n",
    "        \n",
    "    return dict_out\n"
   ]
  },
  {
   "cell_type": "code",
   "execution_count": null,
   "id": "d42bc579",
   "metadata": {},
   "outputs": [],
   "source": [
    "data = pd.read_csv(\"./data_files/acid_amine_smiles_mindist_dbank.csv\",index_col=0)\n",
    "data.sort_values(\"drugbank_matches\",inplace=True,ascending=False)"
   ]
  },
  {
   "cell_type": "code",
   "execution_count": null,
   "id": "88c8a327",
   "metadata": {},
   "outputs": [],
   "source": [
    "all_elems = []\n",
    "for r in data.itertuples():\n",
    "    s = r.smiles\n",
    "    elems = \"C\"\n",
    "    if \"N\" in s or \"n\" in s:\n",
    "        elems += \"N\"\n",
    "        \n",
    "    if \"O\" in s or \"o\" in s:\n",
    "        elems += \"O\"\n",
    "    all_elems.append(elems)"
   ]
  },
  {
   "cell_type": "code",
   "execution_count": null,
   "id": "e58df1f6",
   "metadata": {},
   "outputs": [],
   "source": [
    "data[\"elems\"] = all_elems\n",
    "\n",
    "data_plot = data[:100].copy()\n",
    "\n",
    "data_plot.head()"
   ]
  },
  {
   "cell_type": "code",
   "execution_count": null,
   "id": "0885e0e6",
   "metadata": {},
   "outputs": [],
   "source": [
    "data_plot[\"rank\"] = range(1,len(data_plot)+1)"
   ]
  },
  {
   "cell_type": "code",
   "execution_count": null,
   "id": "d480c6cf",
   "metadata": {},
   "outputs": [],
   "source": [
    "data_plot.head()"
   ]
  },
  {
   "cell_type": "markdown",
   "id": "80ead79b",
   "metadata": {},
   "source": [
    "1 inch = 25.4 mm"
   ]
  },
  {
   "cell_type": "code",
   "execution_count": null,
   "id": "8452f00e",
   "metadata": {},
   "outputs": [],
   "source": [
    "# plot bar charts of top occurring substructures\n",
    "\n",
    "for elem in [\"C\",\"CN\",\"CO\",\"CNO\"]:\n",
    "    mm = 1/25.4\n",
    "    data_plot_2 = data_plot[data_plot.elems==elem]\n",
    "    \n",
    "    \n",
    "    print(elem, list(data_plot_2[\"smiles\"])[:5])\n",
    "    plt.figure(figsize=(101*mm,25*mm))\n",
    "    plt.bar(range(len(data_plot_2)),data_plot_2.drugbank_matches,color=\"k\")\n",
    "    ax = plt.gca()\n",
    "    ax.set_yticks([0,max(data_plot_2[\"drugbank_matches\"])])\n",
    "    ax.set_xticks(range(0,len(data_plot_2),2))\n",
    "    \n",
    "    ax.set_yticklabels([0,max(data_plot_2[\"drugbank_matches\"])],size=6,font=\"Arial\")\n",
    "    ax.set_xticklabels(list(data_plot_2[\"rank\"])[::2],rotation=45,size=6,font=\"Arial\")\n",
    "\n",
    "    plt.tight_layout()\n",
    "    \n",
    "#     save if desired\n",
    "#     plt.xlabel(elem,font=\"Arial\",fontsize=20)\n",
    "#     plt.ylabel(\"Frequency\",font=\"Arial\",fontsize=20)\n",
    "#     plt.savefig(f\"bar_{elem}.png\",dpi=900)"
   ]
  },
  {
   "cell_type": "code",
   "execution_count": null,
   "id": "211c3c8e",
   "metadata": {},
   "outputs": [],
   "source": [
    "# plot it all in 1 bar\n",
    "x_plt = np.arange(len(data_plot))\n",
    "y_plt = np.array(data_plot.drugbank_matches)\n",
    "\n",
    "mask_c = np.array(data_plot.elems == \"C\")\n",
    "mask_n = np.array(data_plot.elems == \"CN\")\n",
    "mask_o = np.array(data_plot.elems == \"CO\")\n",
    "mask_no = np.array(data_plot.elems == \"CNO\")\n",
    "\n",
    "# k = 4\n",
    "# legends_temp = [str(i) for i in list(data1.drugbank_matches[k*50:(k+1)*50])]\n",
    "# Chem.Draw.MolsToGridImage([Chem.MolFromSmiles(s) for s in data1.smiles[k*50:(k+1)*50]],molsPerRow=5,legends=legends_temp)\n",
    "\n",
    "\n",
    "plt.figure(figsize=(15,3))\n",
    "plt.bar(x_plt[mask_o], y_plt[mask_o], color = (160/255,27/255,155/255,1))\n",
    "plt.bar(x_plt[mask_n], y_plt[mask_n], color = (31/255,5/255,142/255,1))\n",
    "plt.bar(x_plt[mask_c], y_plt[mask_c], color = 'black')\n",
    "plt.bar(x_plt[mask_no], y_plt[mask_no], color = (240/255,129/255,77/255,1))\n",
    "\n",
    "ax = plt.gca()\n",
    "\n",
    "x_labs = [0,20,40,60,80,100]\n",
    "y_labs = [0,2000,4000,6000]\n",
    "ax.set_xticks(x_labs)\n",
    "ax.set_yticks(y_labs)\n",
    "ax.set_xticklabels(x_labs, fontsize=16, fontfamily=\"arial\")\n",
    "ax.set_yticklabels(y_labs, fontsize=16, fontfamily=\"arial\")\n",
    "\n",
    "\n",
    "plt.xlabel(\"Substructure\",font=\"Arial\",fontsize=20)\n",
    "plt.ylabel(\"Frequency\",font=\"Arial\",fontsize=20)\n",
    "# plt.title(\"Top 100 most frequent DrugBank matches\",fontsize=50,font=\"Arial\")\n",
    "plt.tight_layout()\n",
    "# plt.savefig(\"fig6_bar.png\",dpi=900)\n",
    "plt.show()"
   ]
  },
  {
   "cell_type": "markdown",
   "id": "8393d2d1",
   "metadata": {},
   "source": [
    "### compute physicochemical properties"
   ]
  },
  {
   "cell_type": "code",
   "execution_count": null,
   "id": "a8c0b62e",
   "metadata": {},
   "outputs": [],
   "source": [
    "all_molprops = process_map(getallprops,list(data.smiles),max_workers=32,chunksize=100)\n",
    "\n",
    "data[\"allprops\"] = all_molprops\n",
    "data[[\"LogP\",\"MW\",\"HBD\",\"HBA\",\"PSA\",\"ROTB\",\"FSP3\",\"SSSR\",\"QED\"]] = data.allprops.tolist()\n",
    "\n",
    "data.drop(\"allprops\",axis=1,inplace=True)\n",
    "all_molprops = []"
   ]
  },
  {
   "cell_type": "markdown",
   "id": "671b1196",
   "metadata": {},
   "source": [
    "## save and re-read, for safety"
   ]
  },
  {
   "cell_type": "code",
   "execution_count": null,
   "id": "fd6d1dd2",
   "metadata": {},
   "outputs": [],
   "source": [
    "data.to_csv(\"./data_files/acid_amine_props.csv\",index=False)"
   ]
  },
  {
   "cell_type": "code",
   "execution_count": null,
   "id": "71ad501c",
   "metadata": {},
   "outputs": [],
   "source": [
    "\n",
    "data= pd.read_csv(\"./data_files/acid_amine_props.csv\")"
   ]
  },
  {
   "cell_type": "code",
   "execution_count": null,
   "id": "4e41032c",
   "metadata": {},
   "outputs": [],
   "source": [
    "amide_props = np.array(getallprops(\"CCC(NCC)=O\"))"
   ]
  },
  {
   "cell_type": "code",
   "execution_count": null,
   "id": "6334c4ae",
   "metadata": {},
   "outputs": [],
   "source": [
    "data.head()"
   ]
  },
  {
   "cell_type": "markdown",
   "id": "dfd9804a",
   "metadata": {},
   "source": [
    "### interpolate for plotting\n",
    "the interpolation is for better control of axes. Can also be done without interpolation."
   ]
  },
  {
   "cell_type": "code",
   "execution_count": null,
   "id": "b385a2a2",
   "metadata": {},
   "outputs": [],
   "source": [
    "props_interp, minmax_dict =  interpolate_data_df(data[[\"LogP\",\"MW\",\"HBD\",\"HBA\",\"PSA\",\"ROTB\",\"FSP3\",\"SSSR\",\"QED\"]])\n",
    "\n",
    "# interpolated difference for *plotting location*\n",
    "amide_interp = interp_point(amide_props,minmax_dict)"
   ]
  },
  {
   "cell_type": "code",
   "execution_count": null,
   "id": "7246cce9",
   "metadata": {},
   "outputs": [],
   "source": [
    "props_interp = props_interp[['HBD', 'PSA', 'FSP3', 'MW', 'HBA', 'QED', 'LogP', 'ROTB', 'SSSR']].copy()\n",
    "df_plot = props_interp.melt(var_name = \"property\")\n"
   ]
  },
  {
   "cell_type": "code",
   "execution_count": null,
   "id": "3a7ec43d",
   "metadata": {},
   "outputs": [],
   "source": [
    "x_locs_vals = {}\n",
    "for k in amide_interp.keys():\n",
    "    i = minmax_dict[k]\n",
    "    minmax_interp = np.interp(i,(min(i),max(i)),(0,1))\n",
    "    x_locs_vals[k] = [minmax_interp[0],amide_interp[k],minmax_interp[1]]\n",
    "    "
   ]
  },
  {
   "cell_type": "code",
   "execution_count": null,
   "id": "bea9293e",
   "metadata": {},
   "outputs": [],
   "source": [
    "x_locs_vals"
   ]
  },
  {
   "cell_type": "code",
   "execution_count": null,
   "id": "f55c9106",
   "metadata": {},
   "outputs": [],
   "source": [
    "for ik, k in enumerate(minmax_dict.keys()):\n",
    "    i = minmax_dict[k]\n",
    "#     print(k,i[0],amide_props[ik],i[1])"
   ]
  },
  {
   "cell_type": "code",
   "execution_count": null,
   "id": "52d73896",
   "metadata": {},
   "outputs": [],
   "source": [
    "# for plotting purposes only\n",
    "\n",
    "x_locs_text = {'LogP': [-3.2, 0.53, 2.2],\n",
    " 'MW': [48, 101, 119],\n",
    " 'HBD': [0, 1, 3],\n",
    " 'HBA': [0, 1, 3],\n",
    " 'PSA': [0, 29, 66],\n",
    " 'ROTB': [0, 2, 5],\n",
    " 'FSP3': [0.0, 0.8, 1.0],\n",
    " 'SSSR': [0, 0, 13],\n",
    " 'QED': [0.1, 0.5, 0.6],\n",
    " 'Rings': [0, 0, 13]}\n",
    "\n"
   ]
  },
  {
   "cell_type": "markdown",
   "id": "a61a544b",
   "metadata": {},
   "source": [
    "### plot kernel density figures"
   ]
  },
  {
   "cell_type": "code",
   "execution_count": null,
   "id": "17f46a18",
   "metadata": {},
   "outputs": [],
   "source": [
    "pal = sns.cubehelix_palette(10, rot=-.25, light=.7)\n",
    "sns.set(style=\"white\", rc={\"axes.facecolor\": (0, 0, 0, 0)},font_scale=1.2)\n",
    "g = sns.FacetGrid(df_plot,col = \"property\",\n",
    "                  aspect=1,height=1.16798*2.5,col_wrap=3,\n",
    "                  sharex=False,sharey=False,palette=\"plasma\")\n",
    "\n",
    "g.map(sns.kdeplot, \"value\",clip_on=True,shade=True,bw_method=0.2);\n",
    "g.set(yticks=[])\n",
    "\n",
    "g.despine(top=False, right=False)\n",
    "titles = ['HBD', 'PSA', 'FSP3', 'MW', 'HBA', 'QED', 'LogP', 'SSSR','ROTB']\n",
    "\n",
    "for i, ax in enumerate(g.axes.flat): # set every-other axis for testing purposes\n",
    "    title = titles[i]\n",
    "    \n",
    "    \n",
    "    M_loc = amide_interp[title]\n",
    "    ax.set_ylabel(\"\")\n",
    "    ax.set_xticks([])\n",
    "    # removed for publishing purposes\n",
    "#     ax.set_xticks(x_locs_vals[title])\n",
    "#     ax.set_xticklabels(x_locs_text[title],rotation=45)\n",
    "    ax.set_xlim(-.5,1.5)\n",
    "    greys = 0.65\n",
    "    ax.axvline(x_locs_vals[title][1], color=(greys,greys,greys), linewidth=2)\n",
    "    if title == \"SSSR\":\n",
    "        ax.set_title(\"Rings\", fontweight='bold',fontsize=15)\n",
    "    else:\n",
    "        ax.set_title(title, fontweight='bold',fontsize=15)\n",
    "\n",
    "g.set_xlabels(\"\")\n",
    "# plt.tight_layout()\n",
    "plt.subplots_adjust(hspace=0.41)\n",
    "\n",
    "# g.fig.suptitle(r\"Molecular Properties\",fontweight='bold',fontsize=16)\n",
    "# plt.savefig(f\"./figures/fig3_KDEs_3.png\",dpi=900)"
   ]
  },
  {
   "cell_type": "code",
   "execution_count": null,
   "id": "520b41c8",
   "metadata": {},
   "outputs": [],
   "source": [
    "def cal_pmi(s):\n",
    "    try:\n",
    "        m = Chem.MolFromSmiles(s)\n",
    "        Chem.SanitizeMol(m)\n",
    "        mol = Chem.AddHs(m)\n",
    "        AllChem.EmbedMolecule(mol)\n",
    "        x = Chem.Descriptors3D.NPR1(mol)\n",
    "        y = Chem.Descriptors3D.NPR2(mol)\n",
    "        return x, y\n",
    "    except:\n",
    "        return None,None"
   ]
  },
  {
   "cell_type": "code",
   "execution_count": null,
   "id": "ff9a0b1c",
   "metadata": {},
   "outputs": [],
   "source": [
    "pmi = process_map(cal_pmi,list(data.smiles),max_workers=24,chunksize=1000)"
   ]
  },
  {
   "cell_type": "code",
   "execution_count": null,
   "id": "3e18bf33",
   "metadata": {},
   "outputs": [],
   "source": [
    "data[\"pmi\"] = pmi\n",
    "data[[\"pmi_x\",\"pmi_y\"]] = data.pmi.tolist()\n",
    "data.drop(\"pmi\",axis=1,inplace=True)"
   ]
  },
  {
   "cell_type": "code",
   "execution_count": null,
   "id": "c5c04896",
   "metadata": {},
   "outputs": [],
   "source": [
    "data_for2d = data[np.isfinite(data.pmi_x)].copy()\n",
    "\n",
    "data_for2d.head()\n",
    "\n",
    "# data_in_db = data_for2d[data_for2d.drugbank_matches>0]"
   ]
  },
  {
   "cell_type": "code",
   "execution_count": null,
   "id": "c621cc46",
   "metadata": {},
   "outputs": [],
   "source": [
    "amide_smiles = [Chem.MolToSmiles(Chem.MolFromSmiles(s)) for s in \"CCC(NCC)=O.C=CC(NCC)=O.C=CC(NC=C)=O.CCC(NC=C)=O\".split(\".\")]\n",
    "\n",
    "amide_data = data_for2d[data_for2d.smiles.isin(amide_smiles)]\n"
   ]
  },
  {
   "cell_type": "code",
   "execution_count": null,
   "id": "0aad6231",
   "metadata": {},
   "outputs": [],
   "source": [
    "data_for2d[[\"smiles\",\"pmi_x\",\"pmi_y\"]].to_csv(\"./data_files/acid_amine_pmi.csv\")"
   ]
  },
  {
   "cell_type": "code",
   "execution_count": null,
   "id": "34fc8e34",
   "metadata": {},
   "outputs": [],
   "source": [
    "# import matplotlib.pyplot as plt\n",
    "\n",
    "fig, ax = plt.subplots(figsize=(18,18),dpi=600)\n",
    "\n",
    "h = ax.hist2d(list(data_for2d.pmi_x), list(data_for2d.pmi_y),bins=100,cmin=1,cmap=\"plasma\")\n",
    "\n",
    "\n",
    "ax.set_xlim((0,1))\n",
    "ax.set_ylim((0.5,1))\n",
    "ax.plot([0,.5], [1,0.5],color='gray')\n",
    "ax.plot([.5,1], [0.5,1],color='gray')\n",
    "ax.plot([0,1], [1,1],color='gray')\n",
    "x0,x1 = ax.get_xlim()\n",
    "y0,y1 = ax.get_ylim()\n",
    "ax.set_aspect(abs(x1-x0)/abs(y1-y0))\n",
    "divider = make_axes_locatable(ax)\n",
    "\n",
    "\n",
    "# # the 4 amides \n",
    "ax.scatter(amide_data.pmi_x,amide_data.pmi_y,color=\"k\")\n",
    "ax.set_xticks([])\n",
    "ax.set_yticks([])\n",
    "\n",
    "# fig.savefig('pmi_all200k_density_900.png', dpi=900)\n",
    "# plt.close(fig)"
   ]
  }
 ],
 "metadata": {
  "kernelspec": {
   "display_name": "Python 3",
   "language": "python",
   "name": "python3"
  },
  "language_info": {
   "codemirror_mode": {
    "name": "ipython",
    "version": 3
   },
   "file_extension": ".py",
   "mimetype": "text/x-python",
   "name": "python",
   "nbconvert_exporter": "python",
   "pygments_lexer": "ipython3",
   "version": "3.6.12"
  }
 },
 "nbformat": 4,
 "nbformat_minor": 5
}
