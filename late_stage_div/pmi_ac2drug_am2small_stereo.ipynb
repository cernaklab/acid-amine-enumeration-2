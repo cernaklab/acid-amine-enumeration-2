{
 "cells": [
  {
   "cell_type": "code",
   "execution_count": 1,
   "id": "3ad2d750",
   "metadata": {},
   "outputs": [
    {
     "name": "stderr",
     "output_type": "stream",
     "text": [
      "RDKit WARNING: [17:41:44] Enabling RDKit 2019.09.3 jupyter extensions\n"
     ]
    }
   ],
   "source": [
    "from rdkit import Chem\n",
    "from rdkit.Chem import AllChem\n",
    "from rdkit.Chem.Draw import IPythonConsole\n",
    "# from rdkit.Chem.Draw import MolDrawing, DrawingOptions, MolToImage\n",
    "\n",
    "from rdkit import RDLogger\n",
    "lg = RDLogger.logger()\n",
    "lg.setLevel(RDLogger.CRITICAL)\n",
    "\n",
    "import numpy as np\n",
    "\n",
    "from tqdm.notebook import tqdm\n",
    "\n",
    "from tqdm.contrib.concurrent import process_map\n",
    "\n",
    "import pandas as pd"
   ]
  },
  {
   "cell_type": "code",
   "execution_count": 2,
   "id": "6ba369bc",
   "metadata": {},
   "outputs": [],
   "source": [
    "from rdkit.Chem import rdMolDescriptors, Descriptors"
   ]
  },
  {
   "cell_type": "code",
   "execution_count": 3,
   "id": "e92fc157",
   "metadata": {},
   "outputs": [],
   "source": [
    "def cal_pmi(s):\n",
    "    try:\n",
    "        m = Chem.MolFromSmiles(s)\n",
    "        mol = Chem.AddHs(m)\n",
    "        AllChem.EmbedMolecule(mol)\n",
    "        x = Chem.Descriptors3D.NPR1(mol)\n",
    "        y = Chem.Descriptors3D.NPR2(mol)\n",
    "        return x, y\n",
    "    except:\n",
    "        return None,None"
   ]
  },
  {
   "cell_type": "code",
   "execution_count": 6,
   "id": "03875de0",
   "metadata": {},
   "outputs": [],
   "source": [
    "def run_cal_pmi(i):\n",
    "    ind_start = i*100000\n",
    "    ind_end = (i+1)*100000\n",
    "    all_pmi = []\n",
    "    smiles_to_run = smiles[ind_start:ind_end]\n",
    "    for s in tqdm(smiles_to_run):\n",
    "        all_pmi.append(cal_pmi(s))\n",
    "    pmi_x = [i[0] for i in all_pmi]\n",
    "    pmi_y = [i[1] for i in all_pmi]\n",
    "    out_df = pd.DataFrame({\"smiles\":smiles,\"pmi_x\":pmi_x,\"pmi_y\":pmi_y})\n",
    "    out_df.to_csv(f\"pmi_{use_filename.split('.')[0]}_{i}.csv\")\n",
    "    "
   ]
  },
  {
   "cell_type": "code",
   "execution_count": 7,
   "id": "d1c9d59b",
   "metadata": {},
   "outputs": [],
   "source": [
    "use_filename = \"stereo_sp3_large.csv\""
   ]
  },
  {
   "cell_type": "code",
   "execution_count": 8,
   "id": "9f644b13",
   "metadata": {},
   "outputs": [],
   "source": [
    "data = pd.read_csv(use_filename)"
   ]
  },
  {
   "cell_type": "code",
   "execution_count": 9,
   "id": "ec8d77f3",
   "metadata": {},
   "outputs": [
    {
     "data": {
      "text/html": [
       "<div>\n",
       "<style scoped>\n",
       "    .dataframe tbody tr th:only-of-type {\n",
       "        vertical-align: middle;\n",
       "    }\n",
       "\n",
       "    .dataframe tbody tr th {\n",
       "        vertical-align: top;\n",
       "    }\n",
       "\n",
       "    .dataframe thead th {\n",
       "        text-align: right;\n",
       "    }\n",
       "</style>\n",
       "<table border=\"1\" class=\"dataframe\">\n",
       "  <thead>\n",
       "    <tr style=\"text-align: right;\">\n",
       "      <th></th>\n",
       "      <th>smiles</th>\n",
       "    </tr>\n",
       "  </thead>\n",
       "  <tbody>\n",
       "    <tr>\n",
       "      <th>0</th>\n",
       "      <td>C[C@H](N[C@H](C)c1ccccc1)[C@@H](C(=O)O)c1ccc(N...</td>\n",
       "    </tr>\n",
       "    <tr>\n",
       "      <th>1</th>\n",
       "      <td>C[C@@H](N[C@H](C)c1ccccc1)[C@@H](C(=O)O)c1ccc(...</td>\n",
       "    </tr>\n",
       "    <tr>\n",
       "      <th>2</th>\n",
       "      <td>CC[C@@H](C(=O)OC[C@@H](N)c1ccccc1)c1ccc(N2Cc3c...</td>\n",
       "    </tr>\n",
       "    <tr>\n",
       "      <th>3</th>\n",
       "      <td>C[C@H](C[C@@H](N)c1ccccc1)[C@@H](C(=O)O)c1ccc(...</td>\n",
       "    </tr>\n",
       "    <tr>\n",
       "      <th>4</th>\n",
       "      <td>C[C@@H](C[C@@H](N)c1ccccc1)[C@@H](C(=O)O)c1ccc...</td>\n",
       "    </tr>\n",
       "  </tbody>\n",
       "</table>\n",
       "</div>"
      ],
      "text/plain": [
       "                                              smiles\n",
       "0  C[C@H](N[C@H](C)c1ccccc1)[C@@H](C(=O)O)c1ccc(N...\n",
       "1  C[C@@H](N[C@H](C)c1ccccc1)[C@@H](C(=O)O)c1ccc(...\n",
       "2  CC[C@@H](C(=O)OC[C@@H](N)c1ccccc1)c1ccc(N2Cc3c...\n",
       "3  C[C@H](C[C@@H](N)c1ccccc1)[C@@H](C(=O)O)c1ccc(...\n",
       "4  C[C@@H](C[C@@H](N)c1ccccc1)[C@@H](C(=O)O)c1ccc..."
      ]
     },
     "execution_count": 9,
     "metadata": {},
     "output_type": "execute_result"
    }
   ],
   "source": [
    "data.head()"
   ]
  },
  {
   "cell_type": "code",
   "execution_count": 10,
   "id": "c0041cbe",
   "metadata": {},
   "outputs": [],
   "source": [
    "smiles = list(data.smiles)"
   ]
  },
  {
   "cell_type": "code",
   "execution_count": 11,
   "id": "de1f7889",
   "metadata": {},
   "outputs": [],
   "source": [
    "smiles = list(set(smiles))"
   ]
  },
  {
   "cell_type": "code",
   "execution_count": 12,
   "id": "c0224e6e",
   "metadata": {},
   "outputs": [
    {
     "data": {
      "text/plain": [
       "3178433"
      ]
     },
     "execution_count": 12,
     "metadata": {},
     "output_type": "execute_result"
    }
   ],
   "source": [
    "len(smiles)"
   ]
  },
  {
   "cell_type": "code",
   "execution_count": null,
   "id": "7f6a2ce6",
   "metadata": {},
   "outputs": [
    {
     "data": {
      "application/vnd.jupyter.widget-view+json": {
       "model_id": "32993f499ed24ac0a88c0857e15bf9af",
       "version_major": 2,
       "version_minor": 0
      },
      "text/plain": [
       "  0%|          | 0/100000 [00:00<?, ?it/s]"
      ]
     },
     "metadata": {},
     "output_type": "display_data"
    }
   ],
   "source": [
    "run_cal_pmi(3)"
   ]
  },
  {
   "cell_type": "code",
   "execution_count": null,
   "id": "37470b73",
   "metadata": {},
   "outputs": [
    {
     "data": {
      "application/vnd.jupyter.widget-view+json": {
       "model_id": "e8bcc2ecbe504a6d89a118ed56f27128",
       "version_major": 2,
       "version_minor": 0
      },
      "text/plain": [
       "  0%|          | 0/3178433 [00:00<?, ?it/s]"
      ]
     },
     "metadata": {},
     "output_type": "display_data"
    }
   ],
   "source": [
    "result = process_map(cal_pmi,smiles,max_workers=48,chunksize=1000)"
   ]
  },
  {
   "cell_type": "code",
   "execution_count": 21,
   "id": "2777f23d",
   "metadata": {},
   "outputs": [],
   "source": [
    "data[\"pmi_x\"] = [i[0] for i in result]\n",
    "data[\"pmi_y\"] = [i[1] for i in result]"
   ]
  },
  {
   "cell_type": "code",
   "execution_count": 22,
   "id": "952b2fae",
   "metadata": {},
   "outputs": [
    {
     "data": {
      "text/html": [
       "<div>\n",
       "<style scoped>\n",
       "    .dataframe tbody tr th:only-of-type {\n",
       "        vertical-align: middle;\n",
       "    }\n",
       "\n",
       "    .dataframe tbody tr th {\n",
       "        vertical-align: top;\n",
       "    }\n",
       "\n",
       "    .dataframe thead th {\n",
       "        text-align: right;\n",
       "    }\n",
       "</style>\n",
       "<table border=\"1\" class=\"dataframe\">\n",
       "  <thead>\n",
       "    <tr style=\"text-align: right;\">\n",
       "      <th></th>\n",
       "      <th>smiles</th>\n",
       "      <th>pmi_x</th>\n",
       "      <th>pmi_y</th>\n",
       "    </tr>\n",
       "  </thead>\n",
       "  <tbody>\n",
       "    <tr>\n",
       "      <th>0</th>\n",
       "      <td>C=COc1ccno1</td>\n",
       "      <td>0.163239</td>\n",
       "      <td>0.889160</td>\n",
       "    </tr>\n",
       "    <tr>\n",
       "      <th>1</th>\n",
       "      <td>C=COOC1=CC=N1</td>\n",
       "      <td>0.117137</td>\n",
       "      <td>0.962207</td>\n",
       "    </tr>\n",
       "    <tr>\n",
       "      <th>2</th>\n",
       "      <td>C=COC1=CC=N1</td>\n",
       "      <td>0.197921</td>\n",
       "      <td>0.820305</td>\n",
       "    </tr>\n",
       "    <tr>\n",
       "      <th>3</th>\n",
       "      <td>C=Cc1ccno1</td>\n",
       "      <td>0.209901</td>\n",
       "      <td>0.790099</td>\n",
       "    </tr>\n",
       "    <tr>\n",
       "      <th>4</th>\n",
       "      <td>C=CC1=CC=NOO1</td>\n",
       "      <td>0.234393</td>\n",
       "      <td>0.765607</td>\n",
       "    </tr>\n",
       "  </tbody>\n",
       "</table>\n",
       "</div>"
      ],
      "text/plain": [
       "          smiles     pmi_x     pmi_y\n",
       "0    C=COc1ccno1  0.163239  0.889160\n",
       "1  C=COOC1=CC=N1  0.117137  0.962207\n",
       "2   C=COC1=CC=N1  0.197921  0.820305\n",
       "3     C=Cc1ccno1  0.209901  0.790099\n",
       "4  C=CC1=CC=NOO1  0.234393  0.765607"
      ]
     },
     "execution_count": 22,
     "metadata": {},
     "output_type": "execute_result"
    }
   ],
   "source": [
    "data.head()"
   ]
  },
  {
   "cell_type": "code",
   "execution_count": 23,
   "id": "09fa586f",
   "metadata": {},
   "outputs": [],
   "source": [
    "data.to_csv(f\"pmi_{use_filename}\")"
   ]
  },
  {
   "cell_type": "markdown",
   "id": "ef52d391",
   "metadata": {},
   "source": [
    "1000 per minute on 8 cores\n",
    "6000 per minute on 48 cores"
   ]
  },
  {
   "cell_type": "code",
   "execution_count": null,
   "id": "8477c73d",
   "metadata": {},
   "outputs": [],
   "source": []
  },
  {
   "cell_type": "code",
   "execution_count": null,
   "id": "9b624610",
   "metadata": {},
   "outputs": [],
   "source": []
  },
  {
   "cell_type": "code",
   "execution_count": null,
   "id": "f81f1012",
   "metadata": {},
   "outputs": [],
   "source": []
  },
  {
   "cell_type": "code",
   "execution_count": null,
   "id": "22026966",
   "metadata": {},
   "outputs": [],
   "source": []
  },
  {
   "cell_type": "code",
   "execution_count": 22,
   "id": "86bcc45d",
   "metadata": {},
   "outputs": [],
   "source": [
    "data.to_csv(\"pmi_ac2drug_am2small_small.csv\")"
   ]
  },
  {
   "cell_type": "code",
   "execution_count": 26,
   "id": "2b140912",
   "metadata": {},
   "outputs": [],
   "source": [
    "data2 = pd.read_csv(\"coupled_aromatic_ac2drug_am2small.csv\")"
   ]
  },
  {
   "cell_type": "code",
   "execution_count": 27,
   "id": "028b1da9",
   "metadata": {},
   "outputs": [
    {
     "data": {
      "text/html": [
       "<div>\n",
       "<style scoped>\n",
       "    .dataframe tbody tr th:only-of-type {\n",
       "        vertical-align: middle;\n",
       "    }\n",
       "\n",
       "    .dataframe tbody tr th {\n",
       "        vertical-align: top;\n",
       "    }\n",
       "\n",
       "    .dataframe thead th {\n",
       "        text-align: right;\n",
       "    }\n",
       "</style>\n",
       "<table border=\"1\" class=\"dataframe\">\n",
       "  <thead>\n",
       "    <tr style=\"text-align: right;\">\n",
       "      <th></th>\n",
       "      <th>rmat_tag</th>\n",
       "      <th>distance</th>\n",
       "      <th>largest_frag</th>\n",
       "      <th>largest_cleaned</th>\n",
       "    </tr>\n",
       "  </thead>\n",
       "  <tbody>\n",
       "    <tr>\n",
       "      <th>0</th>\n",
       "      <td>50231461</td>\n",
       "      <td>1.0</td>\n",
       "      <td>O=C(Cn1c(-c2ccccc2)c(C2CCCCC2)c2c[15c]([15N][1...</td>\n",
       "      <td>O=C(Cn1c(-c2ccccc2)c(C2CCCCC2)c2cc(Nc3cc(Cl)cc...</td>\n",
       "    </tr>\n",
       "    <tr>\n",
       "      <th>1</th>\n",
       "      <td>53844353</td>\n",
       "      <td>1.0</td>\n",
       "      <td>[15N][14c]1cc(Cl)cc(Cl)[13c]1-[15c]1cc2c(C3CCC...</td>\n",
       "      <td>Nc1cc(Cl)cc(Cl)c1-c1cc2c(C3CCCCC3)c(-c3ccccc3)...</td>\n",
       "    </tr>\n",
       "    <tr>\n",
       "      <th>2</th>\n",
       "      <td>50626702</td>\n",
       "      <td>1.0</td>\n",
       "      <td>[15N][14c]1cc(Cl)cc(Cl)[13c]1[18O][17C](=[17O]...</td>\n",
       "      <td>Nc1cc(Cl)cc(Cl)c1OC(=O)c1cc2c(cc1)c(C1CCCCC1)c...</td>\n",
       "    </tr>\n",
       "    <tr>\n",
       "      <th>3</th>\n",
       "      <td>50230203</td>\n",
       "      <td>1.0</td>\n",
       "      <td>O=C(Cn1c(-c2ccccc2)c(C2CCCCC2)c2c[15c][16c]([1...</td>\n",
       "      <td>O=C(Cn1c(-c2ccccc2)c(C2CCCCC2)c2ccc(C(=O)ONc3c...</td>\n",
       "    </tr>\n",
       "    <tr>\n",
       "      <th>4</th>\n",
       "      <td>53844354</td>\n",
       "      <td>2.0</td>\n",
       "      <td>O=C(Cn1c(-c2ccccc2)c(C2CCCCC2)c2c[15c]3[16c](c...</td>\n",
       "      <td>O=C(Cn1c(-c2ccccc2)c(C2CCCCC2)c2cc3c(cc21)C(=O...</td>\n",
       "    </tr>\n",
       "    <tr>\n",
       "      <th>...</th>\n",
       "      <td>...</td>\n",
       "      <td>...</td>\n",
       "      <td>...</td>\n",
       "      <td>...</td>\n",
       "    </tr>\n",
       "    <tr>\n",
       "      <th>7235</th>\n",
       "      <td>39341506</td>\n",
       "      <td>14.0</td>\n",
       "      <td>O=C(Cn1c(-c2ccccc2)c(C2CCCCC2)c2c[15c]3[16c](c...</td>\n",
       "      <td>O=C(Cn1c(-c2ccccc2)c(C2CCCCC2)c2cc3c(cc21)=c1c...</td>\n",
       "    </tr>\n",
       "    <tr>\n",
       "      <th>7236</th>\n",
       "      <td>39341510</td>\n",
       "      <td>14.0</td>\n",
       "      <td>O=C(Cn1c(-c2ccccc2)c(C2CCCCC2)c2c[15c]3[16c](c...</td>\n",
       "      <td>O=C(Cn1c(-c2ccccc2)c(C2CCCCC2)c2cc3c(cc21)=c1c...</td>\n",
       "    </tr>\n",
       "    <tr>\n",
       "      <th>7237</th>\n",
       "      <td>43275542</td>\n",
       "      <td>14.0</td>\n",
       "      <td>O=C(Cn1c(-c2ccccc2)c(C2CCCCC2)c2c[15c]3[16c](c...</td>\n",
       "      <td>O=C(Cn1c(-c2ccccc2)c(C2CCCCC2)c2cc3c(cc21)=c1c...</td>\n",
       "    </tr>\n",
       "    <tr>\n",
       "      <th>7238</th>\n",
       "      <td>43275556</td>\n",
       "      <td>14.0</td>\n",
       "      <td>O=C(Cn1c(-c2ccccc2)c(C2CCCCC2)c2c[15c]3[16c](c...</td>\n",
       "      <td>O=C(Cn1c(-c2ccccc2)c(C2CCCCC2)c2cc3c(cc21)=c1c...</td>\n",
       "    </tr>\n",
       "    <tr>\n",
       "      <th>7239</th>\n",
       "      <td>43275560</td>\n",
       "      <td>14.0</td>\n",
       "      <td>O=C(Cn1c(-c2ccccc2)c(C2CCCCC2)c2c[15c]3[16c](c...</td>\n",
       "      <td>O=C(Cn1c(-c2ccccc2)c(C2CCCCC2)c2cc3c(cc21)=c1c...</td>\n",
       "    </tr>\n",
       "  </tbody>\n",
       "</table>\n",
       "<p>7240 rows × 4 columns</p>\n",
       "</div>"
      ],
      "text/plain": [
       "      rmat_tag  distance                                       largest_frag  \\\n",
       "0     50231461       1.0  O=C(Cn1c(-c2ccccc2)c(C2CCCCC2)c2c[15c]([15N][1...   \n",
       "1     53844353       1.0  [15N][14c]1cc(Cl)cc(Cl)[13c]1-[15c]1cc2c(C3CCC...   \n",
       "2     50626702       1.0  [15N][14c]1cc(Cl)cc(Cl)[13c]1[18O][17C](=[17O]...   \n",
       "3     50230203       1.0  O=C(Cn1c(-c2ccccc2)c(C2CCCCC2)c2c[15c][16c]([1...   \n",
       "4     53844354       2.0  O=C(Cn1c(-c2ccccc2)c(C2CCCCC2)c2c[15c]3[16c](c...   \n",
       "...        ...       ...                                                ...   \n",
       "7235  39341506      14.0  O=C(Cn1c(-c2ccccc2)c(C2CCCCC2)c2c[15c]3[16c](c...   \n",
       "7236  39341510      14.0  O=C(Cn1c(-c2ccccc2)c(C2CCCCC2)c2c[15c]3[16c](c...   \n",
       "7237  43275542      14.0  O=C(Cn1c(-c2ccccc2)c(C2CCCCC2)c2c[15c]3[16c](c...   \n",
       "7238  43275556      14.0  O=C(Cn1c(-c2ccccc2)c(C2CCCCC2)c2c[15c]3[16c](c...   \n",
       "7239  43275560      14.0  O=C(Cn1c(-c2ccccc2)c(C2CCCCC2)c2c[15c]3[16c](c...   \n",
       "\n",
       "                                        largest_cleaned  \n",
       "0     O=C(Cn1c(-c2ccccc2)c(C2CCCCC2)c2cc(Nc3cc(Cl)cc...  \n",
       "1     Nc1cc(Cl)cc(Cl)c1-c1cc2c(C3CCCCC3)c(-c3ccccc3)...  \n",
       "2     Nc1cc(Cl)cc(Cl)c1OC(=O)c1cc2c(cc1)c(C1CCCCC1)c...  \n",
       "3     O=C(Cn1c(-c2ccccc2)c(C2CCCCC2)c2ccc(C(=O)ONc3c...  \n",
       "4     O=C(Cn1c(-c2ccccc2)c(C2CCCCC2)c2cc3c(cc21)C(=O...  \n",
       "...                                                 ...  \n",
       "7235  O=C(Cn1c(-c2ccccc2)c(C2CCCCC2)c2cc3c(cc21)=c1c...  \n",
       "7236  O=C(Cn1c(-c2ccccc2)c(C2CCCCC2)c2cc3c(cc21)=c1c...  \n",
       "7237  O=C(Cn1c(-c2ccccc2)c(C2CCCCC2)c2cc3c(cc21)=c1c...  \n",
       "7238  O=C(Cn1c(-c2ccccc2)c(C2CCCCC2)c2cc3c(cc21)=c1c...  \n",
       "7239  O=C(Cn1c(-c2ccccc2)c(C2CCCCC2)c2cc3c(cc21)=c1c...  \n",
       "\n",
       "[7240 rows x 4 columns]"
      ]
     },
     "execution_count": 27,
     "metadata": {},
     "output_type": "execute_result"
    }
   ],
   "source": [
    "data2"
   ]
  },
  {
   "cell_type": "code",
   "execution_count": 28,
   "id": "fcb526d7",
   "metadata": {},
   "outputs": [],
   "source": [
    "smiles = list(data2.largest_frag)"
   ]
  },
  {
   "cell_type": "code",
   "execution_count": 30,
   "id": "86df207b",
   "metadata": {},
   "outputs": [],
   "source": [
    "result = process_map(cal_pmi,smiles,max_workers=16,chunksize=500)"
   ]
  },
  {
   "cell_type": "code",
   "execution_count": 14,
   "id": "9b869d1c",
   "metadata": {},
   "outputs": [],
   "source": [
    "result = np.array(result)"
   ]
  },
  {
   "cell_type": "code",
   "execution_count": 15,
   "id": "18219acf",
   "metadata": {},
   "outputs": [],
   "source": [
    "data2[\"pmi_x\"] = result[:,0]\n",
    "data2[\"pmi_y\"] = result[:,1]"
   ]
  },
  {
   "cell_type": "code",
   "execution_count": 16,
   "id": "447f3c8d",
   "metadata": {},
   "outputs": [
    {
     "data": {
      "text/html": [
       "<div>\n",
       "<style scoped>\n",
       "    .dataframe tbody tr th:only-of-type {\n",
       "        vertical-align: middle;\n",
       "    }\n",
       "\n",
       "    .dataframe tbody tr th {\n",
       "        vertical-align: top;\n",
       "    }\n",
       "\n",
       "    .dataframe thead th {\n",
       "        text-align: right;\n",
       "    }\n",
       "</style>\n",
       "<table border=\"1\" class=\"dataframe\">\n",
       "  <thead>\n",
       "    <tr style=\"text-align: right;\">\n",
       "      <th></th>\n",
       "      <th>rmat_tag</th>\n",
       "      <th>distance</th>\n",
       "      <th>largest_frag</th>\n",
       "      <th>largest_cleaned</th>\n",
       "      <th>pmi_x</th>\n",
       "      <th>pmi_y</th>\n",
       "    </tr>\n",
       "  </thead>\n",
       "  <tbody>\n",
       "    <tr>\n",
       "      <th>0</th>\n",
       "      <td>50231461</td>\n",
       "      <td>3.0</td>\n",
       "      <td>O=C(Cn1c(-c2ccccc2)c(C2CCCCC2)c2c[15c]([15N][1...</td>\n",
       "      <td>O=C(Cn1c(-c2ccccc2)c(C2CCCCC2)c2cc(Nc3cc(Cl)cc...</td>\n",
       "      <td>0.32488</td>\n",
       "      <td>0.791645</td>\n",
       "    </tr>\n",
       "    <tr>\n",
       "      <th>1</th>\n",
       "      <td>53844353</td>\n",
       "      <td>3.0</td>\n",
       "      <td>[15N][14c]1cc(Cl)cc(Cl)[13c]1-[15c]1cc2c(C3CCC...</td>\n",
       "      <td>Nc1cc(Cl)cc(Cl)c1-c1cc2c(C3CCCCC3)c(-c3ccccc3)...</td>\n",
       "      <td>0.388706</td>\n",
       "      <td>0.733463</td>\n",
       "    </tr>\n",
       "    <tr>\n",
       "      <th>2</th>\n",
       "      <td>50626702</td>\n",
       "      <td>3.0</td>\n",
       "      <td>[15N][14c]1cc(Cl)cc(Cl)[13c]1[18O][17C](=[17O]...</td>\n",
       "      <td>Nc1cc(Cl)cc(Cl)c1OC(=O)c1cc2c(cc1)c(C1CCCCC1)c...</td>\n",
       "      <td>0.298142</td>\n",
       "      <td>0.794647</td>\n",
       "    </tr>\n",
       "    <tr>\n",
       "      <th>3</th>\n",
       "      <td>50230203</td>\n",
       "      <td>3.0</td>\n",
       "      <td>O=C(Cn1c(-c2ccccc2)c(C2CCCCC2)c2c[15c][16c]([1...</td>\n",
       "      <td>O=C(Cn1c(-c2ccccc2)c(C2CCCCC2)c2ccc(C(=O)ONc3c...</td>\n",
       "      <td>0.301793</td>\n",
       "      <td>0.797943</td>\n",
       "    </tr>\n",
       "    <tr>\n",
       "      <th>4</th>\n",
       "      <td>50231462</td>\n",
       "      <td>4.0</td>\n",
       "      <td>O=C(Cn1c(-c2ccccc2)c(C2CCCCC2)c2c[15c]3[16c](c...</td>\n",
       "      <td>O=C(Cn1c(-c2ccccc2)c(C2CCCCC2)c2cc3c(cc21)C(=O...</td>\n",
       "      <td>0.314681</td>\n",
       "      <td>0.78479</td>\n",
       "    </tr>\n",
       "    <tr>\n",
       "      <th>...</th>\n",
       "      <td>...</td>\n",
       "      <td>...</td>\n",
       "      <td>...</td>\n",
       "      <td>...</td>\n",
       "      <td>...</td>\n",
       "      <td>...</td>\n",
       "    </tr>\n",
       "    <tr>\n",
       "      <th>7235</th>\n",
       "      <td>50290366</td>\n",
       "      <td>14.0</td>\n",
       "      <td>O=C(Cn1c(-c2ccccc2)c(C2CCCCC2)c2c[15c]3[16c](c...</td>\n",
       "      <td>O=C(Cn1c(-c2ccccc2)c(C2CCCCC2)c2cc3c(cc21)OON=...</td>\n",
       "      <td>0.312885</td>\n",
       "      <td>0.727153</td>\n",
       "    </tr>\n",
       "    <tr>\n",
       "      <th>7236</th>\n",
       "      <td>51733479</td>\n",
       "      <td>14.0</td>\n",
       "      <td>O=C(Cn1c(-c2ccccc2)c(C2CCCCC2)c2c[15c]([17C]3=...</td>\n",
       "      <td>O=C(Cn1c(-c2ccccc2)c(C2CCCCC2)c2cc(C3=NOOc4cc(...</td>\n",
       "      <td>0.317694</td>\n",
       "      <td>0.732366</td>\n",
       "    </tr>\n",
       "    <tr>\n",
       "      <th>7237</th>\n",
       "      <td>52733260</td>\n",
       "      <td>14.0</td>\n",
       "      <td>O=C(Cn1c(-c2ccccc2)c(C2CCCCC2)c2c[15c]3[16c](c...</td>\n",
       "      <td>O=C(Cn1c(-c2ccccc2)c(C2CCCCC2)c2cc3c(cc21)-c1c...</td>\n",
       "      <td>0.415783</td>\n",
       "      <td>0.627639</td>\n",
       "    </tr>\n",
       "    <tr>\n",
       "      <th>7238</th>\n",
       "      <td>51718333</td>\n",
       "      <td>14.0</td>\n",
       "      <td>O=C(Cn1c(-c2ccccc2)c(C2CCCCC2)c2c[15c]3[16c](c...</td>\n",
       "      <td>O=C(Cn1c(-c2ccccc2)c(C2CCCCC2)c2cc3c(cc21)Oc1c...</td>\n",
       "      <td>0.370812</td>\n",
       "      <td>0.685895</td>\n",
       "    </tr>\n",
       "    <tr>\n",
       "      <th>7239</th>\n",
       "      <td>52733238</td>\n",
       "      <td>14.0</td>\n",
       "      <td>O=C(Cn1c(-c2ccccc2)c(C2CCCCC2)c2c[15c]3[16c](c...</td>\n",
       "      <td>O=C(Cn1c(-c2ccccc2)c(C2CCCCC2)c2cc3c(cc21)-c1c...</td>\n",
       "      <td>0.391629</td>\n",
       "      <td>0.669311</td>\n",
       "    </tr>\n",
       "  </tbody>\n",
       "</table>\n",
       "<p>7240 rows × 6 columns</p>\n",
       "</div>"
      ],
      "text/plain": [
       "      rmat_tag  distance                                       largest_frag  \\\n",
       "0     50231461       3.0  O=C(Cn1c(-c2ccccc2)c(C2CCCCC2)c2c[15c]([15N][1...   \n",
       "1     53844353       3.0  [15N][14c]1cc(Cl)cc(Cl)[13c]1-[15c]1cc2c(C3CCC...   \n",
       "2     50626702       3.0  [15N][14c]1cc(Cl)cc(Cl)[13c]1[18O][17C](=[17O]...   \n",
       "3     50230203       3.0  O=C(Cn1c(-c2ccccc2)c(C2CCCCC2)c2c[15c][16c]([1...   \n",
       "4     50231462       4.0  O=C(Cn1c(-c2ccccc2)c(C2CCCCC2)c2c[15c]3[16c](c...   \n",
       "...        ...       ...                                                ...   \n",
       "7235  50290366      14.0  O=C(Cn1c(-c2ccccc2)c(C2CCCCC2)c2c[15c]3[16c](c...   \n",
       "7236  51733479      14.0  O=C(Cn1c(-c2ccccc2)c(C2CCCCC2)c2c[15c]([17C]3=...   \n",
       "7237  52733260      14.0  O=C(Cn1c(-c2ccccc2)c(C2CCCCC2)c2c[15c]3[16c](c...   \n",
       "7238  51718333      14.0  O=C(Cn1c(-c2ccccc2)c(C2CCCCC2)c2c[15c]3[16c](c...   \n",
       "7239  52733238      14.0  O=C(Cn1c(-c2ccccc2)c(C2CCCCC2)c2c[15c]3[16c](c...   \n",
       "\n",
       "                                        largest_cleaned     pmi_x     pmi_y  \n",
       "0     O=C(Cn1c(-c2ccccc2)c(C2CCCCC2)c2cc(Nc3cc(Cl)cc...   0.32488  0.791645  \n",
       "1     Nc1cc(Cl)cc(Cl)c1-c1cc2c(C3CCCCC3)c(-c3ccccc3)...  0.388706  0.733463  \n",
       "2     Nc1cc(Cl)cc(Cl)c1OC(=O)c1cc2c(cc1)c(C1CCCCC1)c...  0.298142  0.794647  \n",
       "3     O=C(Cn1c(-c2ccccc2)c(C2CCCCC2)c2ccc(C(=O)ONc3c...  0.301793  0.797943  \n",
       "4     O=C(Cn1c(-c2ccccc2)c(C2CCCCC2)c2cc3c(cc21)C(=O...  0.314681   0.78479  \n",
       "...                                                 ...       ...       ...  \n",
       "7235  O=C(Cn1c(-c2ccccc2)c(C2CCCCC2)c2cc3c(cc21)OON=...  0.312885  0.727153  \n",
       "7236  O=C(Cn1c(-c2ccccc2)c(C2CCCCC2)c2cc(C3=NOOc4cc(...  0.317694  0.732366  \n",
       "7237  O=C(Cn1c(-c2ccccc2)c(C2CCCCC2)c2cc3c(cc21)-c1c...  0.415783  0.627639  \n",
       "7238  O=C(Cn1c(-c2ccccc2)c(C2CCCCC2)c2cc3c(cc21)Oc1c...  0.370812  0.685895  \n",
       "7239  O=C(Cn1c(-c2ccccc2)c(C2CCCCC2)c2cc3c(cc21)-c1c...  0.391629  0.669311  \n",
       "\n",
       "[7240 rows x 6 columns]"
      ]
     },
     "execution_count": 16,
     "metadata": {},
     "output_type": "execute_result"
    }
   ],
   "source": [
    "data2"
   ]
  },
  {
   "cell_type": "code",
   "execution_count": null,
   "id": "d5b6e509",
   "metadata": {},
   "outputs": [],
   "source": [
    "data2.to_csv(\"pmi_ac2drug_am2small_small\")"
   ]
  }
 ],
 "metadata": {
  "kernelspec": {
   "display_name": "Python 3",
   "language": "python",
   "name": "python3"
  },
  "language_info": {
   "codemirror_mode": {
    "name": "ipython",
    "version": 3
   },
   "file_extension": ".py",
   "mimetype": "text/x-python",
   "name": "python",
   "nbconvert_exporter": "python",
   "pygments_lexer": "ipython3",
   "version": "3.6.12"
  }
 },
 "nbformat": 4,
 "nbformat_minor": 5
}
