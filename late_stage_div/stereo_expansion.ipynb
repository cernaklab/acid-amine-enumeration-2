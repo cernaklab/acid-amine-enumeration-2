{
 "cells": [
  {
   "cell_type": "code",
   "execution_count": 1,
   "id": "a2abca6f",
   "metadata": {},
   "outputs": [
    {
     "name": "stderr",
     "output_type": "stream",
     "text": [
      "RDKit WARNING: [13:38:47] Enabling RDKit 2019.09.3 jupyter extensions\n"
     ]
    }
   ],
   "source": [
    "from rdkit import Chem"
   ]
  },
  {
   "cell_type": "code",
   "execution_count": 3,
   "id": "d34b7779",
   "metadata": {},
   "outputs": [],
   "source": [
    "import pandas as pd"
   ]
  },
  {
   "cell_type": "code",
   "execution_count": 11,
   "id": "cfbc6260",
   "metadata": {},
   "outputs": [],
   "source": [
    "from rdkit.Chem.EnumerateStereoisomers import EnumerateStereoisomers, StereoEnumerationOptions"
   ]
  },
  {
   "cell_type": "code",
   "execution_count": 30,
   "id": "bfbbb9df",
   "metadata": {},
   "outputs": [],
   "source": [
    "opts = StereoEnumerationOptions(tryEmbedding=True,unique=True,onlyUnassigned=False)"
   ]
  },
  {
   "cell_type": "code",
   "execution_count": 33,
   "id": "b2eb5450",
   "metadata": {},
   "outputs": [],
   "source": [
    "def enumerate_stereo(smiles_list,output_filename):\n",
    "    f = open(output_filename,\"w\")\n",
    "    f.write(\"smiles\\n\")\n",
    "    for s in smiles_list:\n",
    "        m = Chem.MolFromSmiles(s)\n",
    "        for i_m in EnumerateStereoisomers(m):\n",
    "            f.write(f\"{Chem.MolToSmiles(i_m,isomericSmiles=True)}\\n\")\n",
    "            \n",
    "    f.close()\n",
    "            "
   ]
  },
  {
   "cell_type": "code",
   "execution_count": 6,
   "id": "ebf0e66f",
   "metadata": {},
   "outputs": [],
   "source": [
    "sp2_large_data = pd.read_csv(\"pmi_ac2drug_am2small.csv\")"
   ]
  },
  {
   "cell_type": "code",
   "execution_count": 10,
   "id": "4fea3229",
   "metadata": {},
   "outputs": [
    {
     "data": {
      "text/html": [
       "<div>\n",
       "<style scoped>\n",
       "    .dataframe tbody tr th:only-of-type {\n",
       "        vertical-align: middle;\n",
       "    }\n",
       "\n",
       "    .dataframe tbody tr th {\n",
       "        vertical-align: top;\n",
       "    }\n",
       "\n",
       "    .dataframe thead th {\n",
       "        text-align: right;\n",
       "    }\n",
       "</style>\n",
       "<table border=\"1\" class=\"dataframe\">\n",
       "  <thead>\n",
       "    <tr style=\"text-align: right;\">\n",
       "      <th></th>\n",
       "      <th>Unnamed: 0</th>\n",
       "      <th>rmat_tag</th>\n",
       "      <th>distance</th>\n",
       "      <th>largest_frag</th>\n",
       "      <th>largest_cleaned</th>\n",
       "      <th>pmi_x</th>\n",
       "      <th>pmi_y</th>\n",
       "    </tr>\n",
       "  </thead>\n",
       "  <tbody>\n",
       "    <tr>\n",
       "      <th>0</th>\n",
       "      <td>0</td>\n",
       "      <td>50231461</td>\n",
       "      <td>3.0</td>\n",
       "      <td>O=C(Cn1c(-c2ccccc2)c(C2CCCCC2)c2c[15c]([15N][1...</td>\n",
       "      <td>O=C(Cn1c(-c2ccccc2)c(C2CCCCC2)c2cc(Nc3cc(Cl)cc...</td>\n",
       "      <td>0.324880</td>\n",
       "      <td>0.791645</td>\n",
       "    </tr>\n",
       "    <tr>\n",
       "      <th>1</th>\n",
       "      <td>1</td>\n",
       "      <td>53844353</td>\n",
       "      <td>3.0</td>\n",
       "      <td>[15N][14c]1cc(Cl)cc(Cl)[13c]1-[15c]1cc2c(C3CCC...</td>\n",
       "      <td>Nc1cc(Cl)cc(Cl)c1-c1cc2c(C3CCCCC3)c(-c3ccccc3)...</td>\n",
       "      <td>0.388706</td>\n",
       "      <td>0.733463</td>\n",
       "    </tr>\n",
       "    <tr>\n",
       "      <th>2</th>\n",
       "      <td>2</td>\n",
       "      <td>50626702</td>\n",
       "      <td>3.0</td>\n",
       "      <td>[15N][14c]1cc(Cl)cc(Cl)[13c]1[18O][17C](=[17O]...</td>\n",
       "      <td>Nc1cc(Cl)cc(Cl)c1OC(=O)c1cc2c(cc1)c(C1CCCCC1)c...</td>\n",
       "      <td>0.298142</td>\n",
       "      <td>0.794647</td>\n",
       "    </tr>\n",
       "    <tr>\n",
       "      <th>3</th>\n",
       "      <td>3</td>\n",
       "      <td>50230203</td>\n",
       "      <td>3.0</td>\n",
       "      <td>O=C(Cn1c(-c2ccccc2)c(C2CCCCC2)c2c[15c][16c]([1...</td>\n",
       "      <td>O=C(Cn1c(-c2ccccc2)c(C2CCCCC2)c2ccc(C(=O)ONc3c...</td>\n",
       "      <td>0.301793</td>\n",
       "      <td>0.797943</td>\n",
       "    </tr>\n",
       "    <tr>\n",
       "      <th>4</th>\n",
       "      <td>4</td>\n",
       "      <td>50231462</td>\n",
       "      <td>4.0</td>\n",
       "      <td>O=C(Cn1c(-c2ccccc2)c(C2CCCCC2)c2c[15c]3[16c](c...</td>\n",
       "      <td>O=C(Cn1c(-c2ccccc2)c(C2CCCCC2)c2cc3c(cc21)C(=O...</td>\n",
       "      <td>0.314681</td>\n",
       "      <td>0.784790</td>\n",
       "    </tr>\n",
       "  </tbody>\n",
       "</table>\n",
       "</div>"
      ],
      "text/plain": [
       "   Unnamed: 0  rmat_tag  distance  \\\n",
       "0           0  50231461       3.0   \n",
       "1           1  53844353       3.0   \n",
       "2           2  50626702       3.0   \n",
       "3           3  50230203       3.0   \n",
       "4           4  50231462       4.0   \n",
       "\n",
       "                                        largest_frag  \\\n",
       "0  O=C(Cn1c(-c2ccccc2)c(C2CCCCC2)c2c[15c]([15N][1...   \n",
       "1  [15N][14c]1cc(Cl)cc(Cl)[13c]1-[15c]1cc2c(C3CCC...   \n",
       "2  [15N][14c]1cc(Cl)cc(Cl)[13c]1[18O][17C](=[17O]...   \n",
       "3  O=C(Cn1c(-c2ccccc2)c(C2CCCCC2)c2c[15c][16c]([1...   \n",
       "4  O=C(Cn1c(-c2ccccc2)c(C2CCCCC2)c2c[15c]3[16c](c...   \n",
       "\n",
       "                                     largest_cleaned     pmi_x     pmi_y  \n",
       "0  O=C(Cn1c(-c2ccccc2)c(C2CCCCC2)c2cc(Nc3cc(Cl)cc...  0.324880  0.791645  \n",
       "1  Nc1cc(Cl)cc(Cl)c1-c1cc2c(C3CCCCC3)c(-c3ccccc3)...  0.388706  0.733463  \n",
       "2  Nc1cc(Cl)cc(Cl)c1OC(=O)c1cc2c(cc1)c(C1CCCCC1)c...  0.298142  0.794647  \n",
       "3  O=C(Cn1c(-c2ccccc2)c(C2CCCCC2)c2ccc(C(=O)ONc3c...  0.301793  0.797943  \n",
       "4  O=C(Cn1c(-c2ccccc2)c(C2CCCCC2)c2cc3c(cc21)C(=O...  0.314681  0.784790  "
      ]
     },
     "execution_count": 10,
     "metadata": {},
     "output_type": "execute_result"
    }
   ],
   "source": [
    "sp2_large_data.head()"
   ]
  },
  {
   "cell_type": "code",
   "execution_count": 36,
   "id": "c6fba00e",
   "metadata": {},
   "outputs": [],
   "source": [
    "enumerate_stereo(sp2_large_data.largest_cleaned,\"stereo_sp2_large.csv\")"
   ]
  },
  {
   "cell_type": "code",
   "execution_count": 37,
   "id": "65e319d8",
   "metadata": {},
   "outputs": [
    {
     "data": {
      "text/html": [
       "<div>\n",
       "<style scoped>\n",
       "    .dataframe tbody tr th:only-of-type {\n",
       "        vertical-align: middle;\n",
       "    }\n",
       "\n",
       "    .dataframe tbody tr th {\n",
       "        vertical-align: top;\n",
       "    }\n",
       "\n",
       "    .dataframe thead th {\n",
       "        text-align: right;\n",
       "    }\n",
       "</style>\n",
       "<table border=\"1\" class=\"dataframe\">\n",
       "  <thead>\n",
       "    <tr style=\"text-align: right;\">\n",
       "      <th></th>\n",
       "      <th>Unnamed: 0</th>\n",
       "      <th>rmat_tag</th>\n",
       "      <th>pdt_smiles</th>\n",
       "      <th>frag_in_large</th>\n",
       "      <th>pdt_cleaned</th>\n",
       "      <th>pmi_x</th>\n",
       "      <th>pmi_y</th>\n",
       "    </tr>\n",
       "  </thead>\n",
       "  <tbody>\n",
       "    <tr>\n",
       "      <th>0</th>\n",
       "      <td>0</td>\n",
       "      <td>36909943</td>\n",
       "      <td>[15C]=[16C][17O][17C]1=[14C][13C]=[15N][18O]1</td>\n",
       "      <td>[15C]=[16C][17O][17C]1=[14C][13C]=[15N][18O]1</td>\n",
       "      <td>C=COC1=CC=NO1</td>\n",
       "      <td>0.222249</td>\n",
       "      <td>0.847245</td>\n",
       "    </tr>\n",
       "    <tr>\n",
       "      <th>1</th>\n",
       "      <td>1</td>\n",
       "      <td>36909947</td>\n",
       "      <td>[15C]=[16C][17O][18O][17C]1=[14C][13C]=[15N]1</td>\n",
       "      <td>[15C]=[16C][17O][18O][17C]1=[14C][13C]=[15N]1</td>\n",
       "      <td>C=COOC1=CC=N1</td>\n",
       "      <td>0.145749</td>\n",
       "      <td>0.920448</td>\n",
       "    </tr>\n",
       "    <tr>\n",
       "      <th>2</th>\n",
       "      <td>2</td>\n",
       "      <td>36909948</td>\n",
       "      <td>[15C]=[16C][17O][17C]1=[14C][13C]=[15N]1.[18O]</td>\n",
       "      <td>[15C]=[16C][17O][17C]1=[14C][13C]=[15N]1</td>\n",
       "      <td>C=COC1=CC=N1</td>\n",
       "      <td>0.237464</td>\n",
       "      <td>0.818262</td>\n",
       "    </tr>\n",
       "  </tbody>\n",
       "</table>\n",
       "</div>"
      ],
      "text/plain": [
       "   Unnamed: 0  rmat_tag                                      pdt_smiles  \\\n",
       "0           0  36909943   [15C]=[16C][17O][17C]1=[14C][13C]=[15N][18O]1   \n",
       "1           1  36909947   [15C]=[16C][17O][18O][17C]1=[14C][13C]=[15N]1   \n",
       "2           2  36909948  [15C]=[16C][17O][17C]1=[14C][13C]=[15N]1.[18O]   \n",
       "\n",
       "                                   frag_in_large    pdt_cleaned     pmi_x  \\\n",
       "0  [15C]=[16C][17O][17C]1=[14C][13C]=[15N][18O]1  C=COC1=CC=NO1  0.222249   \n",
       "1  [15C]=[16C][17O][18O][17C]1=[14C][13C]=[15N]1  C=COOC1=CC=N1  0.145749   \n",
       "2       [15C]=[16C][17O][17C]1=[14C][13C]=[15N]1   C=COC1=CC=N1  0.237464   \n",
       "\n",
       "      pmi_y  \n",
       "0  0.847245  \n",
       "1  0.920448  \n",
       "2  0.818262  "
      ]
     },
     "execution_count": 37,
     "metadata": {},
     "output_type": "execute_result"
    }
   ],
   "source": [
    "sp2_small_data = pd.read_csv(\"pmi_ac2drug_am2small_small.csv\")\n",
    "sp2_small_data.head(3)"
   ]
  },
  {
   "cell_type": "code",
   "execution_count": 38,
   "id": "4754b51a",
   "metadata": {},
   "outputs": [],
   "source": [
    "enumerate_stereo(sp2_small_data.pdt_cleaned,\"stereo_sp2_small.csv\")"
   ]
  },
  {
   "cell_type": "code",
   "execution_count": 40,
   "id": "2858c899",
   "metadata": {},
   "outputs": [
    {
     "data": {
      "text/html": [
       "<div>\n",
       "<style scoped>\n",
       "    .dataframe tbody tr th:only-of-type {\n",
       "        vertical-align: middle;\n",
       "    }\n",
       "\n",
       "    .dataframe tbody tr th {\n",
       "        vertical-align: top;\n",
       "    }\n",
       "\n",
       "    .dataframe thead th {\n",
       "        text-align: right;\n",
       "    }\n",
       "</style>\n",
       "<table border=\"1\" class=\"dataframe\">\n",
       "  <thead>\n",
       "    <tr style=\"text-align: right;\">\n",
       "      <th></th>\n",
       "      <th>Unnamed: 0</th>\n",
       "      <th>rmat_tag</th>\n",
       "      <th>distance</th>\n",
       "      <th>largest_frag</th>\n",
       "      <th>largest_cleaned</th>\n",
       "      <th>pmi_x</th>\n",
       "      <th>pmi_y</th>\n",
       "    </tr>\n",
       "  </thead>\n",
       "  <tbody>\n",
       "    <tr>\n",
       "      <th>0</th>\n",
       "      <td>0</td>\n",
       "      <td>34095151</td>\n",
       "      <td>1.0</td>\n",
       "      <td>C[15C]([15N][14C@H]([13C])c1ccccc1)[16C@H](c1c...</td>\n",
       "      <td>CC(N[C@H](C)c1ccccc1)[C@H](c1ccc(N2Cc3ccccc3C2...</td>\n",
       "      <td>0.282063</td>\n",
       "      <td>0.768673</td>\n",
       "    </tr>\n",
       "    <tr>\n",
       "      <th>1</th>\n",
       "      <td>1</td>\n",
       "      <td>34889467</td>\n",
       "      <td>1.0</td>\n",
       "      <td>C[15C][16C@H](c1ccc(N2Cc3ccccc3C2=O)cc1)[17C](...</td>\n",
       "      <td>CC[C@H](c1ccc(N2Cc3ccccc3C2=O)cc1)C(=O)OC[C@@H...</td>\n",
       "      <td>0.146683</td>\n",
       "      <td>0.923469</td>\n",
       "    </tr>\n",
       "    <tr>\n",
       "      <th>2</th>\n",
       "      <td>2</td>\n",
       "      <td>44332191</td>\n",
       "      <td>1.0</td>\n",
       "      <td>C[15C]([13C][14C@@H]([15N])c1ccccc1)[16C@H](c1...</td>\n",
       "      <td>CC(C[C@@H](N)c1ccccc1)[C@H](c1ccc(N2Cc3ccccc3C...</td>\n",
       "      <td>0.152342</td>\n",
       "      <td>0.941598</td>\n",
       "    </tr>\n",
       "  </tbody>\n",
       "</table>\n",
       "</div>"
      ],
      "text/plain": [
       "   Unnamed: 0  rmat_tag  distance  \\\n",
       "0           0  34095151       1.0   \n",
       "1           1  34889467       1.0   \n",
       "2           2  44332191       1.0   \n",
       "\n",
       "                                        largest_frag  \\\n",
       "0  C[15C]([15N][14C@H]([13C])c1ccccc1)[16C@H](c1c...   \n",
       "1  C[15C][16C@H](c1ccc(N2Cc3ccccc3C2=O)cc1)[17C](...   \n",
       "2  C[15C]([13C][14C@@H]([15N])c1ccccc1)[16C@H](c1...   \n",
       "\n",
       "                                     largest_cleaned     pmi_x     pmi_y  \n",
       "0  CC(N[C@H](C)c1ccccc1)[C@H](c1ccc(N2Cc3ccccc3C2...  0.282063  0.768673  \n",
       "1  CC[C@H](c1ccc(N2Cc3ccccc3C2=O)cc1)C(=O)OC[C@@H...  0.146683  0.923469  \n",
       "2  CC(C[C@@H](N)c1ccccc1)[C@H](c1ccc(N2Cc3ccccc3C...  0.152342  0.941598  "
      ]
     },
     "execution_count": 40,
     "metadata": {},
     "output_type": "execute_result"
    }
   ],
   "source": [
    "sp3_large_data = pd.read_csv(\"pmi_ac3drug_am3small.csv\")\n",
    "sp3_large_data.head(3)"
   ]
  },
  {
   "cell_type": "code",
   "execution_count": 41,
   "id": "38af19a1",
   "metadata": {},
   "outputs": [],
   "source": [
    "enumerate_stereo(sp3_large_data.largest_cleaned,\"stereo_sp3_large.csv\")\n",
    "sp3_large_data = []"
   ]
  },
  {
   "cell_type": "code",
   "execution_count": 42,
   "id": "378ea980",
   "metadata": {},
   "outputs": [
    {
     "data": {
      "text/html": [
       "<div>\n",
       "<style scoped>\n",
       "    .dataframe tbody tr th:only-of-type {\n",
       "        vertical-align: middle;\n",
       "    }\n",
       "\n",
       "    .dataframe tbody tr th {\n",
       "        vertical-align: top;\n",
       "    }\n",
       "\n",
       "    .dataframe thead th {\n",
       "        text-align: right;\n",
       "    }\n",
       "</style>\n",
       "<table border=\"1\" class=\"dataframe\">\n",
       "  <thead>\n",
       "    <tr style=\"text-align: right;\">\n",
       "      <th></th>\n",
       "      <th>Unnamed: 0</th>\n",
       "      <th>rmat_tag</th>\n",
       "      <th>pdt_smiles</th>\n",
       "      <th>frag_in_large</th>\n",
       "      <th>pdt_cleaned</th>\n",
       "      <th>pmi_x</th>\n",
       "      <th>pmi_y</th>\n",
       "    </tr>\n",
       "  </thead>\n",
       "  <tbody>\n",
       "    <tr>\n",
       "      <th>0</th>\n",
       "      <td>0</td>\n",
       "      <td>40950</td>\n",
       "      <td>[13C].[14C][18O][15N][17O][16C].[15C].[17C]</td>\n",
       "      <td>[14C][18O][15N][17O][16C]</td>\n",
       "      <td>CONOC</td>\n",
       "      <td>0.141543</td>\n",
       "      <td>0.925963</td>\n",
       "    </tr>\n",
       "    <tr>\n",
       "      <th>1</th>\n",
       "      <td>1</td>\n",
       "      <td>40962</td>\n",
       "      <td>[13C].[14C][18O][17C][15N][17O][16C].[15C]</td>\n",
       "      <td>[14C][18O][17C][15N][17O][16C]</td>\n",
       "      <td>COCNOC</td>\n",
       "      <td>0.147637</td>\n",
       "      <td>0.928097</td>\n",
       "    </tr>\n",
       "    <tr>\n",
       "      <th>2</th>\n",
       "      <td>2</td>\n",
       "      <td>40964</td>\n",
       "      <td>[13C].[14C][18O][15N][17C][17O][16C].[15C]</td>\n",
       "      <td>[14C][18O][15N][17C][17O][16C]</td>\n",
       "      <td>CONCOC</td>\n",
       "      <td>0.147637</td>\n",
       "      <td>0.928097</td>\n",
       "    </tr>\n",
       "  </tbody>\n",
       "</table>\n",
       "</div>"
      ],
      "text/plain": [
       "   Unnamed: 0  rmat_tag                                   pdt_smiles  \\\n",
       "0           0     40950  [13C].[14C][18O][15N][17O][16C].[15C].[17C]   \n",
       "1           1     40962   [13C].[14C][18O][17C][15N][17O][16C].[15C]   \n",
       "2           2     40964   [13C].[14C][18O][15N][17C][17O][16C].[15C]   \n",
       "\n",
       "                    frag_in_large pdt_cleaned     pmi_x     pmi_y  \n",
       "0       [14C][18O][15N][17O][16C]       CONOC  0.141543  0.925963  \n",
       "1  [14C][18O][17C][15N][17O][16C]      COCNOC  0.147637  0.928097  \n",
       "2  [14C][18O][15N][17C][17O][16C]      CONCOC  0.147637  0.928097  "
      ]
     },
     "execution_count": 42,
     "metadata": {},
     "output_type": "execute_result"
    }
   ],
   "source": [
    "sp3_small_data = pd.read_csv(\"pmi_ac3drug_am3small_small.csv\")\n",
    "sp3_small_data.head(3)"
   ]
  },
  {
   "cell_type": "code",
   "execution_count": 44,
   "id": "3d3dac3a",
   "metadata": {},
   "outputs": [],
   "source": [
    "enumerate_stereo(sp3_small_data.pdt_cleaned,\"stereo_sp3_small.csv\")\n",
    "sp3_small_data = []"
   ]
  }
 ],
 "metadata": {
  "kernelspec": {
   "display_name": "Python 3",
   "language": "python",
   "name": "python3"
  },
  "language_info": {
   "codemirror_mode": {
    "name": "ipython",
    "version": 3
   },
   "file_extension": ".py",
   "mimetype": "text/x-python",
   "name": "python",
   "nbconvert_exporter": "python",
   "pygments_lexer": "ipython3",
   "version": "3.6.12"
  }
 },
 "nbformat": 4,
 "nbformat_minor": 5
}
