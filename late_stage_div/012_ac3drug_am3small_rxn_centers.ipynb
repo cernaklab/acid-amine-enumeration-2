{
 "cells": [
  {
   "cell_type": "markdown",
   "id": "0e813b9d",
   "metadata": {},
   "source": [
    "### continuation of 011"
   ]
  },
  {
   "cell_type": "markdown",
   "id": "99df7703",
   "metadata": {},
   "source": [
    "### setup"
   ]
  },
  {
   "cell_type": "code",
   "execution_count": 1,
   "id": "e9254f51",
   "metadata": {},
   "outputs": [
    {
     "name": "stderr",
     "output_type": "stream",
     "text": [
      "RDKit WARNING: [14:53:11] Enabling RDKit 2019.09.3 jupyter extensions\n"
     ]
    }
   ],
   "source": [
    "from rdkit import Chem\n",
    "from rdkit.Chem import AllChem\n",
    "from rdkit.Chem.Draw import IPythonConsole\n",
    "# from rdkit.Chem.Draw import MolDrawing, DrawingOptions, MolToImage\n",
    "\n",
    "from rdkit import RDLogger\n",
    "lg = RDLogger.logger()\n",
    "lg.setLevel(RDLogger.CRITICAL)\n",
    "\n",
    "import numpy as np\n",
    "import pandas as pd\n",
    "\n",
    "from tqdm.notebook import tqdm\n",
    "from tqdm.contrib.concurrent import process_map"
   ]
  },
  {
   "cell_type": "code",
   "execution_count": 2,
   "id": "36cddb5f",
   "metadata": {},
   "outputs": [],
   "source": [
    "def apply_amat(acid,acid_match,amine,amine_match,rmat):\n",
    "    \"\"\"\n",
    "    needs the smarts of the acid and amine pre-defined. maybe an external dictionary.\n",
    "    \"\"\"\n",
    "    # combine molecules and make a writable version\n",
    "    both = Chem.CombineMols(acid,amine)\n",
    "    bothW = Chem.RWMol(both)\n",
    "    Chem.Kekulize(both,clearAromaticFlags=True)\n",
    "    Chem.Kekulize(bothW,clearAromaticFlags=True)\n",
    "    # get the indices for the acid and amine matches.\n",
    "    amine_atoms = both.GetSubstructMatch(group_dict[amine_match])\n",
    "    acid_atoms = both.GetSubstructMatch(group_dict[acid_match])\n",
    "    \n",
    "    if not (amine_atoms and acid_atoms):\n",
    "        print(\"substruct match not found\")\n",
    "        return\n",
    "    \n",
    "    # join the indices\n",
    "    atom_list = amine_atoms + acid_atoms\n",
    "    \n",
    "    # go through the amat to find places where the change is not 0\n",
    "    side_len = len(rmat)\n",
    "    \n",
    "    if side_len != len(atom_list):\n",
    "        print(\"matrix length does not equal number of matched atoms\")\n",
    "        return\n",
    "    for r in range(side_len):\n",
    "        for c in range(r+1,side_len):\n",
    "            bond_order_change = rmat[r][c]\n",
    "            if bond_order_change != 0: \n",
    "                atom1 = atom_list[amat2ind[r]]\n",
    "                atom2 = atom_list[amat2ind[c]]\n",
    "                # get the current bond order\n",
    "                current_bond = both.GetBondBetweenAtoms(atom1,atom2)\n",
    "                if current_bond: \n",
    "                    current_bond_order = current_bond.GetBondTypeAsDouble()\n",
    "                    \n",
    "                else: \n",
    "                    current_bond_order = 0\n",
    "                new_bond_order = current_bond_order + bond_order_change\n",
    "                \n",
    "                if new_bond_order not in [0,1,2,3]:\n",
    "\n",
    "                    return None\n",
    "                # make bond changes\n",
    "                \n",
    "                bothW.RemoveBond(atom1,atom2)\n",
    "                \n",
    "                if new_bond_order > 0:\n",
    "                    bothW.AddBond(atom1,atom2, bond_dict[new_bond_order])\n",
    "\n",
    "                        \n",
    "    try:\n",
    "        Chem.SanitizeMol(bothW)\n",
    "\n",
    "    except:\n",
    "#         print(\"illegal structure\")\n",
    "        return None\n",
    "    return bothW"
   ]
  },
  {
   "cell_type": "markdown",
   "id": "359667c2",
   "metadata": {},
   "source": [
    "### encode basic acid and amine"
   ]
  },
  {
   "cell_type": "code",
   "execution_count": 3,
   "id": "36a4b6b1",
   "metadata": {},
   "outputs": [
    {
     "data": {
      "image/png": "[encoded data removed]",
      "text/plain": [
       "<rdkit.Chem.rdchem.Mol at 0x7fbe95166120>"
      ]
     },
     "execution_count": 3,
     "metadata": {},
     "output_type": "execute_result"
    }
   ],
   "source": [
    "sp3_acid_smiles = '[17O]=[17C]([18O])[16C][15C]'\n",
    "basic_acid = Chem.MolFromSmiles(sp3_acid_smiles)\n",
    "basic_acid"
   ]
  },
  {
   "cell_type": "code",
   "execution_count": 4,
   "id": "ef256958",
   "metadata": {},
   "outputs": [
    {
     "data": {
      "image/png": "[encoded data removed]",
      "text/plain": [
       "<rdkit.Chem.rdchem.Mol at 0x7fbe95166cb0>"
      ]
     },
     "execution_count": 4,
     "metadata": {},
     "output_type": "execute_result"
    }
   ],
   "source": [
    "sp3_amine_smiles = \"[15N][14C][13C]\"\n",
    "basic_amine = Chem.MolFromSmiles(sp3_amine_smiles)\n",
    "basic_amine"
   ]
  },
  {
   "cell_type": "code",
   "execution_count": 5,
   "id": "bd843449",
   "metadata": {},
   "outputs": [],
   "source": [
    "am2 = Chem.MolFromSmarts(\"[CX3]=[CX3][NH2]\")\n",
    "ac2 = Chem.MolFromSmarts(\"[CX3][CX3][CX3](=O)[OX2H1]\")\n",
    "am3 = Chem.MolFromSmarts(\"[13C][14C][15N]\")\n",
    "ac3 = Chem.MolFromSmarts(\"[15C][16C][17C](=[17O])[18O]\")\n",
    "\n",
    "group_dict = {\"ac2\":ac2, \"ac3\":ac3,\"am2\":am2,\"am3\":am3}\n",
    "\n",
    "# make a mapping dictionary.\n",
    "# the dictionary is basically, first entry is amine C1. second entry is amine C2. \n",
    "# this changes depending on the matrix, and how the smarts for the matcher is written. \n",
    "\n",
    "# number of entries in the amat\n",
    "amat_indices = range(8)\n",
    "# which entry each index should map to\n",
    "mapping_order = [0,1,3,4,5,2,6,7]\n",
    "# mapping_order = [3,4,5,0,1,2,6,7]\n",
    "\n",
    "# amat index -> amine/acid match index\n",
    "amat2ind = {k:v for k,v in zip(amat_indices, mapping_order)}\n",
    "\n",
    "bond_dict = {1:Chem.BondType.SINGLE, 2:Chem.BondType.DOUBLE, 3:Chem.BondType.TRIPLE}"
   ]
  },
  {
   "cell_type": "markdown",
   "id": "1ab7c1e6",
   "metadata": {},
   "source": [
    "### check that the substruct matching hits the right region"
   ]
  },
  {
   "cell_type": "code",
   "execution_count": 6,
   "id": "f1a42b1d",
   "metadata": {},
   "outputs": [
    {
     "data": {
      "image/png": "[encoded data removed]",
      "text/plain": [
       "<rdkit.Chem.rdchem.Mol at 0x7fbe95166120>"
      ]
     },
     "execution_count": 6,
     "metadata": {},
     "output_type": "execute_result"
    }
   ],
   "source": [
    "basic_acid.GetSubstructMatch(ac3)\n",
    "basic_acid"
   ]
  },
  {
   "cell_type": "code",
   "execution_count": 9,
   "id": "1420cfed",
   "metadata": {},
   "outputs": [
    {
     "data": {
      "image/png": "[encoded data removed]",
      "text/plain": [
       "<rdkit.Chem.rdchem.Mol at 0x7fbe95166cb0>"
      ]
     },
     "execution_count": 9,
     "metadata": {},
     "output_type": "execute_result"
    }
   ],
   "source": [
    "basic_amine.GetSubstructMatch(am3)\n",
    "basic_amine"
   ]
  },
  {
   "cell_type": "markdown",
   "id": "e7944902",
   "metadata": {},
   "source": [
    "### read data file from coupling the larger molecules"
   ]
  },
  {
   "cell_type": "code",
   "execution_count": 12,
   "id": "dfff455a",
   "metadata": {},
   "outputs": [],
   "source": [
    "large_data = pd.read_csv(\"./ac3drug_am3small/ac3drug_am3small_smiles.csv\")"
   ]
  },
  {
   "cell_type": "code",
   "execution_count": 16,
   "id": "0583f1e6",
   "metadata": {},
   "outputs": [],
   "source": [
    "valid_rmat_inds = np.array(list(large_data.rmat_tag))\n",
    "valid_rmat_inds.sort()"
   ]
  },
  {
   "cell_type": "code",
   "execution_count": 17,
   "id": "4306e6db",
   "metadata": {},
   "outputs": [
    {
     "data": {
      "text/html": [
       "<div>\n",
       "<style scoped>\n",
       "    .dataframe tbody tr th:only-of-type {\n",
       "        vertical-align: middle;\n",
       "    }\n",
       "\n",
       "    .dataframe tbody tr th {\n",
       "        vertical-align: top;\n",
       "    }\n",
       "\n",
       "    .dataframe thead th {\n",
       "        text-align: right;\n",
       "    }\n",
       "</style>\n",
       "<table border=\"1\" class=\"dataframe\">\n",
       "  <thead>\n",
       "    <tr style=\"text-align: right;\">\n",
       "      <th></th>\n",
       "      <th>rmat_tag</th>\n",
       "      <th>distance</th>\n",
       "      <th>largest_frag</th>\n",
       "      <th>largest_cleaned</th>\n",
       "    </tr>\n",
       "  </thead>\n",
       "  <tbody>\n",
       "    <tr>\n",
       "      <th>438675</th>\n",
       "      <td>40950</td>\n",
       "      <td>11.0</td>\n",
       "      <td>O=C1c2ccccc2CN1c1ccc([16CH][17O][15N][18O][14C...</td>\n",
       "      <td>O=C1c2ccccc2CN1c1ccc(CONOCc2ccccc2)cc1</td>\n",
       "    </tr>\n",
       "    <tr>\n",
       "      <th>287374</th>\n",
       "      <td>40962</td>\n",
       "      <td>10.0</td>\n",
       "      <td>O=C1c2ccccc2CN1c1ccc([16CH][17O][15N][17C][18O...</td>\n",
       "      <td>O=C1c2ccccc2CN1c1ccc(CONCOCc2ccccc2)cc1</td>\n",
       "    </tr>\n",
       "    <tr>\n",
       "      <th>287373</th>\n",
       "      <td>40964</td>\n",
       "      <td>10.0</td>\n",
       "      <td>O=C1c2ccccc2CN1c1ccc([16CH][17O][17C][15N][18O...</td>\n",
       "      <td>O=C1c2ccccc2CN1c1ccc(COCNOCc2ccccc2)cc1</td>\n",
       "    </tr>\n",
       "  </tbody>\n",
       "</table>\n",
       "</div>"
      ],
      "text/plain": [
       "        rmat_tag  distance                                       largest_frag  \\\n",
       "438675     40950      11.0  O=C1c2ccccc2CN1c1ccc([16CH][17O][15N][18O][14C...   \n",
       "287374     40962      10.0  O=C1c2ccccc2CN1c1ccc([16CH][17O][15N][17C][18O...   \n",
       "287373     40964      10.0  O=C1c2ccccc2CN1c1ccc([16CH][17O][17C][15N][18O...   \n",
       "\n",
       "                                largest_cleaned  \n",
       "438675   O=C1c2ccccc2CN1c1ccc(CONOCc2ccccc2)cc1  \n",
       "287374  O=C1c2ccccc2CN1c1ccc(CONCOCc2ccccc2)cc1  \n",
       "287373  O=C1c2ccccc2CN1c1ccc(COCNOCc2ccccc2)cc1  "
      ]
     },
     "execution_count": 17,
     "metadata": {},
     "output_type": "execute_result"
    }
   ],
   "source": [
    "large_data.sort_values(\"rmat_tag\",inplace=True)\n",
    "large_data.head(3)"
   ]
  },
  {
   "cell_type": "markdown",
   "id": "4ade2ec4",
   "metadata": {},
   "source": [
    "### compile which parts of the 8-atom reaction center are in the coupled product"
   ]
  },
  {
   "cell_type": "code",
   "execution_count": 18,
   "id": "f74e6352",
   "metadata": {},
   "outputs": [
    {
     "data": {
      "application/vnd.jupyter.widget-view+json": {
       "model_id": "e6e6b063118f4bfc8e78b6744b17fa49",
       "version_major": 2,
       "version_minor": 0
      },
      "text/plain": [
       "  0%|          | 0/916053 [00:00<?, ?it/s]"
      ]
     },
     "metadata": {},
     "output_type": "display_data"
    }
   ],
   "source": [
    "acid_parts = [\"[15C]\",\"[16C]\",\"[17C]\",\"[15c]\",\"[16c]\",\"[17c]\",\"[17O]\",\"[18O]\",\"[17o]\",\"[18o]\"]\n",
    "amine_parts = [\"[13C]\",\"[14C]\",\"[13c]\",\"[14c]\",\"[15N]\",\"[15n]\"]\n",
    "\n",
    "frags = []\n",
    "for s in tqdm(list(large_data.largest_frag)):\n",
    "    frags.append([i for i in acid_parts+amine_parts if i in s])\n",
    "    "
   ]
  },
  {
   "cell_type": "code",
   "execution_count": 19,
   "id": "694ddc61",
   "metadata": {},
   "outputs": [],
   "source": [
    "def run_enumeration(file_ind):\n",
    "    index_start = file_ind * 1000000\n",
    "    index_end = (file_ind+1) * 1000000\n",
    "    \n",
    "    valid_ind_locs = np.where(np.logical_and(valid_rmat_inds>= index_start,valid_rmat_inds < index_end))[0]\n",
    "\n",
    "    # get the rmat inds needed\n",
    "    rmat_inds_to_use = valid_rmat_inds[valid_ind_locs]\n",
    "\n",
    "    # the local index for that particular file.\n",
    "    rmat_inds_local = rmat_inds_to_use - file_ind * 1000000\n",
    "\n",
    "    # rmat_inds_to_use is the true rmat_tag\n",
    "\n",
    "    file_tag = str(file_ind).zfill(2)\n",
    "    dmats = np.load(f\"../rxn_mats/dmats_ac3_am3_{file_tag}.npy\")\n",
    "    dmats_to_use = dmats[rmat_inds_local]\n",
    "\n",
    "    out_file = open(f\"./ac3drug_am3small/rxn_center_only_{file_tag}.csv\",\"w\")\n",
    "    out_file.write(\"rmat_tag,pdt_smiles\\n\")\n",
    "    for i,dmat in enumerate(dmats_to_use):\n",
    "\n",
    "\n",
    "    #     matrix_index = index_start + i\n",
    "    #     m = apply_amat(basic_acid,\"ac3\",basic_amine,\"am3\",dmat)\n",
    "    #     s = Chem.MolToSmiles(m,isomericSmiles=True)\n",
    "    #     out_file.write(s+\"\\n\")\n",
    "        try:\n",
    "            matrix_index = rmat_inds_to_use[i]\n",
    "            m = apply_amat(basic_acid,\"ac3\",basic_amine,\"am3\",dmat)\n",
    "            s = Chem.MolToSmiles(m,isomericSmiles=True)\n",
    "            out_file.write(f\"{matrix_index},{s}\\n\")\n",
    "\n",
    "        except:\n",
    "            continue\n",
    "\n",
    "    out_file.close()\n"
   ]
  },
  {
   "cell_type": "code",
   "execution_count": 20,
   "id": "cd714bb7",
   "metadata": {},
   "outputs": [],
   "source": [
    "run_range = range(56)\n",
    "# run_range = np.arange(0,56,5)"
   ]
  },
  {
   "cell_type": "code",
   "execution_count": 21,
   "id": "23e34ec1",
   "metadata": {},
   "outputs": [
    {
     "data": {
      "application/vnd.jupyter.widget-view+json": {
       "model_id": "279d1573e07d4a7b97cf867b913705ed",
       "version_major": 2,
       "version_minor": 0
      },
      "text/plain": [
       "  0%|          | 0/56 [00:00<?, ?it/s]"
      ]
     },
     "metadata": {},
     "output_type": "display_data"
    }
   ],
   "source": [
    "for i in tqdm(run_range):\n",
    "    run_enumeration(i)"
   ]
  },
  {
   "cell_type": "markdown",
   "id": "486090ca",
   "metadata": {},
   "source": [
    "### Dataframe of products from coupling the small 8-atom system, using only transformations that resulted in valid products for the functionalized druglike system"
   ]
  },
  {
   "cell_type": "code",
   "execution_count": 22,
   "id": "25e74382",
   "metadata": {
    "scrolled": true
   },
   "outputs": [],
   "source": [
    "small_pd = pd.concat([pd.read_csv(f\".//ac3drug_am3small/rxn_center_only_{str(i).zfill(2)}.csv\") for i in run_range])"
   ]
  },
  {
   "cell_type": "code",
   "execution_count": 24,
   "id": "05f6573d",
   "metadata": {},
   "outputs": [
    {
     "data": {
      "text/html": [
       "<div>\n",
       "<style scoped>\n",
       "    .dataframe tbody tr th:only-of-type {\n",
       "        vertical-align: middle;\n",
       "    }\n",
       "\n",
       "    .dataframe tbody tr th {\n",
       "        vertical-align: top;\n",
       "    }\n",
       "\n",
       "    .dataframe thead th {\n",
       "        text-align: right;\n",
       "    }\n",
       "</style>\n",
       "<table border=\"1\" class=\"dataframe\">\n",
       "  <thead>\n",
       "    <tr style=\"text-align: right;\">\n",
       "      <th></th>\n",
       "      <th>rmat_tag</th>\n",
       "      <th>pdt_smiles</th>\n",
       "    </tr>\n",
       "  </thead>\n",
       "  <tbody>\n",
       "    <tr>\n",
       "      <th>0</th>\n",
       "      <td>40950</td>\n",
       "      <td>[13C].[14C][18O][15N][17O][16C].[15C].[17C]</td>\n",
       "    </tr>\n",
       "    <tr>\n",
       "      <th>1</th>\n",
       "      <td>40962</td>\n",
       "      <td>[13C].[14C][18O][17C][15N][17O][16C].[15C]</td>\n",
       "    </tr>\n",
       "    <tr>\n",
       "      <th>2</th>\n",
       "      <td>40964</td>\n",
       "      <td>[13C].[14C][18O][15N][17C][17O][16C].[15C]</td>\n",
       "    </tr>\n",
       "    <tr>\n",
       "      <th>3</th>\n",
       "      <td>40965</td>\n",
       "      <td>[13C].[14C][18O][17C]([15N])[17O][16C].[15C]</td>\n",
       "    </tr>\n",
       "    <tr>\n",
       "      <th>4</th>\n",
       "      <td>40971</td>\n",
       "      <td>[13C].[14C][18O][17C]=[15N][17O][16C].[15C]</td>\n",
       "    </tr>\n",
       "  </tbody>\n",
       "</table>\n",
       "</div>"
      ],
      "text/plain": [
       "  rmat_tag                                    pdt_smiles\n",
       "0    40950   [13C].[14C][18O][15N][17O][16C].[15C].[17C]\n",
       "1    40962    [13C].[14C][18O][17C][15N][17O][16C].[15C]\n",
       "2    40964    [13C].[14C][18O][15N][17C][17O][16C].[15C]\n",
       "3    40965  [13C].[14C][18O][17C]([15N])[17O][16C].[15C]\n",
       "4    40971   [13C].[14C][18O][17C]=[15N][17O][16C].[15C]"
      ]
     },
     "execution_count": 24,
     "metadata": {},
     "output_type": "execute_result"
    }
   ],
   "source": [
    "small_pd.head()"
   ]
  },
  {
   "cell_type": "code",
   "execution_count": 25,
   "id": "0b312635",
   "metadata": {},
   "outputs": [],
   "source": [
    "def count_atoms(s):\n",
    "    alphab = \"CONcon\"\n",
    "    return len([i for i in s if i in alphab]) \n",
    "\n",
    "def clean_structure(s):\n",
    "    temp = s\n",
    "    \n",
    "    for i in acid_parts + amine_parts:\n",
    "        temp = temp.replace(i,i[-2])\n",
    "        \n",
    "    return temp"
   ]
  },
  {
   "cell_type": "code",
   "execution_count": 26,
   "id": "ac126370",
   "metadata": {},
   "outputs": [
    {
     "data": {
      "application/vnd.jupyter.widget-view+json": {
       "model_id": "137ca0bb37e1429a92c74e579358c21f",
       "version_major": 2,
       "version_minor": 0
      },
      "text/plain": [
       "0it [00:00, ?it/s]"
      ]
     },
     "metadata": {},
     "output_type": "display_data"
    }
   ],
   "source": [
    "relev_all = []\n",
    "for i_s,s in tqdm(enumerate(small_pd.pdt_smiles)):\n",
    "    split_s = s.split(\".\")\n",
    "    \n",
    "    # this is the list of tagged atoms that appear in the functionalized drug system.\n",
    "    frg = frags[i_s]\n",
    "    \n",
    "    # find the reaction center fragment that corresponds to the drug product\n",
    "    relev_part = []\n",
    "    for ss in split_s:\n",
    "        if any([i in ss for i in frg]):\n",
    "            relev_part.append(ss)\n",
    "    \n",
    "    # if there's more than 1, keep the largest fragment\n",
    "    if len(relev_part) > 1:\n",
    "        atom_counts = [count_atoms(r) for r in relev_part]\n",
    "        max_atom_ind = np.argmax(atom_counts)\n",
    "        relev_part = relev_part[max_atom_ind]\n",
    "    relev_all.append(relev_part[0])\n",
    "            \n",
    "    "
   ]
  },
  {
   "cell_type": "markdown",
   "id": "84f8e96a",
   "metadata": {},
   "source": [
    "### add and clean"
   ]
  },
  {
   "cell_type": "code",
   "execution_count": 27,
   "id": "0b6f54cc",
   "metadata": {},
   "outputs": [],
   "source": [
    "small_pd[\"frag_in_large\"] = relev_all\n",
    "\n",
    "small_pd[\"pdt_cleaned\"] = [clean_structure(s) for s in small_pd.frag_in_large]"
   ]
  },
  {
   "cell_type": "code",
   "execution_count": 30,
   "id": "55cd99ec",
   "metadata": {},
   "outputs": [
    {
     "data": {
      "text/html": [
       "<div>\n",
       "<style scoped>\n",
       "    .dataframe tbody tr th:only-of-type {\n",
       "        vertical-align: middle;\n",
       "    }\n",
       "\n",
       "    .dataframe tbody tr th {\n",
       "        vertical-align: top;\n",
       "    }\n",
       "\n",
       "    .dataframe thead th {\n",
       "        text-align: right;\n",
       "    }\n",
       "</style>\n",
       "<table border=\"1\" class=\"dataframe\">\n",
       "  <thead>\n",
       "    <tr style=\"text-align: right;\">\n",
       "      <th></th>\n",
       "      <th>rmat_tag</th>\n",
       "      <th>pdt_smiles</th>\n",
       "      <th>frag_in_large</th>\n",
       "      <th>pdt_cleaned</th>\n",
       "    </tr>\n",
       "  </thead>\n",
       "  <tbody>\n",
       "    <tr>\n",
       "      <th>0</th>\n",
       "      <td>40950</td>\n",
       "      <td>[13C].[14C][18O][15N][17O][16C].[15C].[17C]</td>\n",
       "      <td>[14C][18O][15N][17O][16C]</td>\n",
       "      <td>CONOC</td>\n",
       "    </tr>\n",
       "    <tr>\n",
       "      <th>1</th>\n",
       "      <td>40962</td>\n",
       "      <td>[13C].[14C][18O][17C][15N][17O][16C].[15C]</td>\n",
       "      <td>[14C][18O][17C][15N][17O][16C]</td>\n",
       "      <td>COCNOC</td>\n",
       "    </tr>\n",
       "    <tr>\n",
       "      <th>2</th>\n",
       "      <td>40964</td>\n",
       "      <td>[13C].[14C][18O][15N][17C][17O][16C].[15C]</td>\n",
       "      <td>[14C][18O][15N][17C][17O][16C]</td>\n",
       "      <td>CONCOC</td>\n",
       "    </tr>\n",
       "    <tr>\n",
       "      <th>3</th>\n",
       "      <td>40965</td>\n",
       "      <td>[13C].[14C][18O][17C]([15N])[17O][16C].[15C]</td>\n",
       "      <td>[14C][18O][17C]([15N])[17O][16C]</td>\n",
       "      <td>COC(N)OC</td>\n",
       "    </tr>\n",
       "    <tr>\n",
       "      <th>4</th>\n",
       "      <td>40971</td>\n",
       "      <td>[13C].[14C][18O][17C]=[15N][17O][16C].[15C]</td>\n",
       "      <td>[14C][18O][17C]=[15N][17O][16C]</td>\n",
       "      <td>COC=NOC</td>\n",
       "    </tr>\n",
       "  </tbody>\n",
       "</table>\n",
       "</div>"
      ],
      "text/plain": [
       "  rmat_tag                                    pdt_smiles  \\\n",
       "0    40950   [13C].[14C][18O][15N][17O][16C].[15C].[17C]   \n",
       "1    40962    [13C].[14C][18O][17C][15N][17O][16C].[15C]   \n",
       "2    40964    [13C].[14C][18O][15N][17C][17O][16C].[15C]   \n",
       "3    40965  [13C].[14C][18O][17C]([15N])[17O][16C].[15C]   \n",
       "4    40971   [13C].[14C][18O][17C]=[15N][17O][16C].[15C]   \n",
       "\n",
       "                      frag_in_large pdt_cleaned  \n",
       "0         [14C][18O][15N][17O][16C]       CONOC  \n",
       "1    [14C][18O][17C][15N][17O][16C]      COCNOC  \n",
       "2    [14C][18O][15N][17C][17O][16C]      CONCOC  \n",
       "3  [14C][18O][17C]([15N])[17O][16C]    COC(N)OC  \n",
       "4   [14C][18O][17C]=[15N][17O][16C]     COC=NOC  "
      ]
     },
     "execution_count": 30,
     "metadata": {},
     "output_type": "execute_result"
    }
   ],
   "source": [
    "small_pd.head()"
   ]
  },
  {
   "cell_type": "code",
   "execution_count": 31,
   "id": "4023cd26",
   "metadata": {},
   "outputs": [],
   "source": [
    "small_pd.to_csv(\"./ac3drug_am3small/ac3drug_am3small_rxn_centers.csv\",index=False)"
   ]
  }
 ],
 "metadata": {
  "kernelspec": {
   "display_name": "Python 3",
   "language": "python",
   "name": "python3"
  },
  "language_info": {
   "codemirror_mode": {
    "name": "ipython",
    "version": 3
   },
   "file_extension": ".py",
   "mimetype": "text/x-python",
   "name": "python",
   "nbconvert_exporter": "python",
   "pygments_lexer": "ipython3",
   "version": "3.6.12"
  }
 },
 "nbformat": 4,
 "nbformat_minor": 5
}
