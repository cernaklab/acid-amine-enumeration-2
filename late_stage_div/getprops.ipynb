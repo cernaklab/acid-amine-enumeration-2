{
 "cells": [
  {
   "cell_type": "code",
   "execution_count": 1,
   "id": "b532d187",
   "metadata": {},
   "outputs": [
    {
     "name": "stderr",
     "output_type": "stream",
     "text": [
      "RDKit WARNING: [22:53:28] Enabling RDKit 2019.09.3 jupyter extensions\n"
     ]
    }
   ],
   "source": [
    "from rdkit import Chem\n",
    "import pandas as pd\n",
    "import numpy as np\n",
    "\n",
    "from rdkit.Chem import rdMolDescriptors, Descriptors\n",
    "\n",
    "from tqdm.contrib.concurrent import process_map"
   ]
  },
  {
   "cell_type": "code",
   "execution_count": 2,
   "id": "aa0f1353",
   "metadata": {},
   "outputs": [],
   "source": [
    "def getLogP(x): return Chem.rdMolDescriptors.CalcCrippenDescriptors(x)[0]\n",
    "def getMW(x): return Chem.Descriptors.MolWt(x)\n",
    "def getHBD(x): return Chem.rdMolDescriptors.CalcNumHBD(x)\n",
    "def getHBA(x): return Chem.rdMolDescriptors.CalcNumHBA(x)\n",
    "def getPSA(x): return Chem.rdMolDescriptors.CalcTPSA(x)\n",
    "def getROTB(x): return Chem.rdMolDescriptors.CalcNumRotatableBonds(x)\n",
    "def getAROM(x): return Chem.rdMolDescriptors.CalcNumAromaticRings(x)\n",
    "def getFSP3(x): return Chem.rdMolDescriptors.CalcFractionCSP3(x)\n",
    "def getFC(x): return Chem.rdmolops.GetFormalCharge(x)\n",
    "def getQED(x): return Chem.QED.qed(x)\n",
    "def getSSSR(x): return Chem.GetSSSR(x)\n",
    "\n",
    "def getallprops(s):\n",
    "    x = Chem.MolFromSmiles(s)\n",
    "    return [getLogP(x),getMW(x),getHBD(x),getHBA(x),getPSA(x),getROTB(x),getFSP3(x),getSSSR(x),getQED(x)]"
   ]
  },
  {
   "cell_type": "code",
   "execution_count": 5,
   "id": "199b37ed",
   "metadata": {},
   "outputs": [
    {
     "data": {
      "text/plain": [
       "[7.773900000000009,\n",
       " 590.5510000000003,\n",
       " 1,\n",
       " 4,\n",
       " 63.57000000000001,\n",
       " 6,\n",
       " 0.3333333333333333,\n",
       " 6,\n",
       " 0.24961135541957985]"
      ]
     },
     "execution_count": 5,
     "metadata": {},
     "output_type": "execute_result"
    }
   ],
   "source": [
    "getallprops(\"O=C(Nc1cc(Cl)cc(Cl)c1)c1ccc2c(C3CCCCC3)c(-c3ccccc3)n(CC(=O)N3CCOCC3)c2c1\")"
   ]
  },
  {
   "cell_type": "code",
   "execution_count": 21,
   "id": "c6ed2e5e",
   "metadata": {},
   "outputs": [],
   "source": [
    "data = pd.read_csv(\"ac2drug_am2small_small.csv\")"
   ]
  },
  {
   "cell_type": "code",
   "execution_count": 22,
   "id": "9dcc28db",
   "metadata": {},
   "outputs": [
    {
     "data": {
      "text/html": [
       "<div>\n",
       "<style scoped>\n",
       "    .dataframe tbody tr th:only-of-type {\n",
       "        vertical-align: middle;\n",
       "    }\n",
       "\n",
       "    .dataframe tbody tr th {\n",
       "        vertical-align: top;\n",
       "    }\n",
       "\n",
       "    .dataframe thead th {\n",
       "        text-align: right;\n",
       "    }\n",
       "</style>\n",
       "<table border=\"1\" class=\"dataframe\">\n",
       "  <thead>\n",
       "    <tr style=\"text-align: right;\">\n",
       "      <th></th>\n",
       "      <th>rmat_tag</th>\n",
       "      <th>pdt_smiles</th>\n",
       "      <th>frag_in_large</th>\n",
       "      <th>pdt_cleaned</th>\n",
       "    </tr>\n",
       "  </thead>\n",
       "  <tbody>\n",
       "    <tr>\n",
       "      <th>0</th>\n",
       "      <td>36909943</td>\n",
       "      <td>[15C]=[16C][17O][17C]1=[14C][13C]=[15N][18O]1</td>\n",
       "      <td>[15C]=[16C][17O][17C]1=[14C][13C]=[15N][18O]1</td>\n",
       "      <td>C=COC1=CC=NO1</td>\n",
       "    </tr>\n",
       "    <tr>\n",
       "      <th>1</th>\n",
       "      <td>36909947</td>\n",
       "      <td>[15C]=[16C][17O][18O][17C]1=[14C][13C]=[15N]1</td>\n",
       "      <td>[15C]=[16C][17O][18O][17C]1=[14C][13C]=[15N]1</td>\n",
       "      <td>C=COOC1=CC=N1</td>\n",
       "    </tr>\n",
       "    <tr>\n",
       "      <th>2</th>\n",
       "      <td>36909948</td>\n",
       "      <td>[15C]=[16C][17O][17C]1=[14C][13C]=[15N]1.[18O]</td>\n",
       "      <td>[15C]=[16C][17O][17C]1=[14C][13C]=[15N]1</td>\n",
       "      <td>C=COC1=CC=N1</td>\n",
       "    </tr>\n",
       "    <tr>\n",
       "      <th>3</th>\n",
       "      <td>36910003</td>\n",
       "      <td>[15C]=[16C][17C]1=[14C][13C]=[15N][18O]1.[17O]</td>\n",
       "      <td>[15C]=[16C][17C]1=[14C][13C]=[15N][18O]1</td>\n",
       "      <td>C=CC1=CC=NO1</td>\n",
       "    </tr>\n",
       "    <tr>\n",
       "      <th>4</th>\n",
       "      <td>36910005</td>\n",
       "      <td>[15C]=[16C][17C]1=[14C][13C]=[15N][17O][18O]1</td>\n",
       "      <td>[15C]=[16C][17C]1=[14C][13C]=[15N][17O][18O]1</td>\n",
       "      <td>C=CC1=CC=NOO1</td>\n",
       "    </tr>\n",
       "    <tr>\n",
       "      <th>...</th>\n",
       "      <td>...</td>\n",
       "      <td>...</td>\n",
       "      <td>...</td>\n",
       "      <td>...</td>\n",
       "    </tr>\n",
       "    <tr>\n",
       "      <th>7235</th>\n",
       "      <td>53886546</td>\n",
       "      <td>[18O][15N]1[17O][17C]12[14C]=[13C][15C]=[16C]2</td>\n",
       "      <td>[18O][15N]1[17O][17C]12[14C]=[13C][15C]=[16C]2</td>\n",
       "      <td>ON1OC12C=CC=C2</td>\n",
       "    </tr>\n",
       "    <tr>\n",
       "      <th>7236</th>\n",
       "      <td>53886547</td>\n",
       "      <td>[15N]=[17C]1[14C]=[13C][15C]=[16C]1.[17O].[18O]</td>\n",
       "      <td>[15N]=[17C]1[14C]=[13C][15C]=[16C]1</td>\n",
       "      <td>N=C1C=CC=C1</td>\n",
       "    </tr>\n",
       "    <tr>\n",
       "      <th>7237</th>\n",
       "      <td>53886550</td>\n",
       "      <td>[17O].[18O][15N]=[17C]1[14C]=[13C][15C]=[16C]1</td>\n",
       "      <td>[18O][15N]=[17C]1[14C]=[13C][15C]=[16C]1</td>\n",
       "      <td>ON=C1C=CC=C1</td>\n",
       "    </tr>\n",
       "    <tr>\n",
       "      <th>7238</th>\n",
       "      <td>53886551</td>\n",
       "      <td>[17O][18O][15N]=[17C]1[14C]=[13C][15C]=[16C]1</td>\n",
       "      <td>[17O][18O][15N]=[17C]1[14C]=[13C][15C]=[16C]1</td>\n",
       "      <td>OON=C1C=CC=C1</td>\n",
       "    </tr>\n",
       "    <tr>\n",
       "      <th>7239</th>\n",
       "      <td>53950700</td>\n",
       "      <td>[13C]1=[14C][16C]=[15C]1.[15N].[17O]=[17C][18O]</td>\n",
       "      <td>[13C]1=[14C][16C]=[15C]1</td>\n",
       "      <td>C1=CC=C1</td>\n",
       "    </tr>\n",
       "  </tbody>\n",
       "</table>\n",
       "<p>7240 rows × 4 columns</p>\n",
       "</div>"
      ],
      "text/plain": [
       "      rmat_tag                                       pdt_smiles  \\\n",
       "0     36909943    [15C]=[16C][17O][17C]1=[14C][13C]=[15N][18O]1   \n",
       "1     36909947    [15C]=[16C][17O][18O][17C]1=[14C][13C]=[15N]1   \n",
       "2     36909948   [15C]=[16C][17O][17C]1=[14C][13C]=[15N]1.[18O]   \n",
       "3     36910003   [15C]=[16C][17C]1=[14C][13C]=[15N][18O]1.[17O]   \n",
       "4     36910005    [15C]=[16C][17C]1=[14C][13C]=[15N][17O][18O]1   \n",
       "...        ...                                              ...   \n",
       "7235  53886546   [18O][15N]1[17O][17C]12[14C]=[13C][15C]=[16C]2   \n",
       "7236  53886547  [15N]=[17C]1[14C]=[13C][15C]=[16C]1.[17O].[18O]   \n",
       "7237  53886550   [17O].[18O][15N]=[17C]1[14C]=[13C][15C]=[16C]1   \n",
       "7238  53886551    [17O][18O][15N]=[17C]1[14C]=[13C][15C]=[16C]1   \n",
       "7239  53950700  [13C]1=[14C][16C]=[15C]1.[15N].[17O]=[17C][18O]   \n",
       "\n",
       "                                       frag_in_large     pdt_cleaned  \n",
       "0      [15C]=[16C][17O][17C]1=[14C][13C]=[15N][18O]1   C=COC1=CC=NO1  \n",
       "1      [15C]=[16C][17O][18O][17C]1=[14C][13C]=[15N]1   C=COOC1=CC=N1  \n",
       "2           [15C]=[16C][17O][17C]1=[14C][13C]=[15N]1    C=COC1=CC=N1  \n",
       "3           [15C]=[16C][17C]1=[14C][13C]=[15N][18O]1    C=CC1=CC=NO1  \n",
       "4      [15C]=[16C][17C]1=[14C][13C]=[15N][17O][18O]1   C=CC1=CC=NOO1  \n",
       "...                                              ...             ...  \n",
       "7235  [18O][15N]1[17O][17C]12[14C]=[13C][15C]=[16C]2  ON1OC12C=CC=C2  \n",
       "7236             [15N]=[17C]1[14C]=[13C][15C]=[16C]1     N=C1C=CC=C1  \n",
       "7237        [18O][15N]=[17C]1[14C]=[13C][15C]=[16C]1    ON=C1C=CC=C1  \n",
       "7238   [17O][18O][15N]=[17C]1[14C]=[13C][15C]=[16C]1   OON=C1C=CC=C1  \n",
       "7239                        [13C]1=[14C][16C]=[15C]1        C1=CC=C1  \n",
       "\n",
       "[7240 rows x 4 columns]"
      ]
     },
     "execution_count": 22,
     "metadata": {},
     "output_type": "execute_result"
    }
   ],
   "source": [
    "data"
   ]
  },
  {
   "cell_type": "code",
   "execution_count": 23,
   "id": "1b306143",
   "metadata": {},
   "outputs": [
    {
     "data": {
      "application/vnd.jupyter.widget-view+json": {
       "model_id": "eb6d72f2d6ff4823aeb3f626e3cc1022",
       "version_major": 2,
       "version_minor": 0
      },
      "text/plain": [
       "  0%|          | 0/7240 [00:00<?, ?it/s]"
      ]
     },
     "metadata": {},
     "output_type": "display_data"
    }
   ],
   "source": [
    "all_molprops = process_map(getallprops,list(data.pdt_cleaned),max_workers=16,chunksize=1000)"
   ]
  },
  {
   "cell_type": "code",
   "execution_count": 24,
   "id": "572818a7",
   "metadata": {},
   "outputs": [],
   "source": [
    "data[\"allprops\"] = all_molprops\n",
    "data[[\"LogP\",\"MW\",\"HBD\",\"HBA\",\"PSA\",\"ROTB\",\"FSP3\",\"SSSR\",\"QED\"]] = data.allprops.tolist()\n",
    "\n",
    "data.drop(\"allprops\",axis=1,inplace=True)"
   ]
  },
  {
   "cell_type": "code",
   "execution_count": 25,
   "id": "403c0df7",
   "metadata": {},
   "outputs": [],
   "source": [
    "data.to_csv(\"props_ac2drug_am2small_small.csv\",index=False)"
   ]
  },
  {
   "cell_type": "code",
   "execution_count": null,
   "id": "b50bf89f",
   "metadata": {},
   "outputs": [],
   "source": []
  },
  {
   "cell_type": "code",
   "execution_count": null,
   "id": "28bd178f",
   "metadata": {},
   "outputs": [],
   "source": []
  },
  {
   "cell_type": "code",
   "execution_count": 9,
   "id": "1e956ef0",
   "metadata": {},
   "outputs": [],
   "source": [
    "data = pd.read_csv(\"enamine_small.csv\")"
   ]
  },
  {
   "cell_type": "code",
   "execution_count": 10,
   "id": "2e19dd26",
   "metadata": {},
   "outputs": [
    {
     "data": {
      "text/html": [
       "<div>\n",
       "<style scoped>\n",
       "    .dataframe tbody tr th:only-of-type {\n",
       "        vertical-align: middle;\n",
       "    }\n",
       "\n",
       "    .dataframe tbody tr th {\n",
       "        vertical-align: top;\n",
       "    }\n",
       "\n",
       "    .dataframe thead th {\n",
       "        text-align: right;\n",
       "    }\n",
       "</style>\n",
       "<table border=\"1\" class=\"dataframe\">\n",
       "  <thead>\n",
       "    <tr style=\"text-align: right;\">\n",
       "      <th></th>\n",
       "      <th>rmat_tag</th>\n",
       "      <th>pdt_smiles</th>\n",
       "      <th>frag_in_large</th>\n",
       "      <th>pdt_cleaned</th>\n",
       "    </tr>\n",
       "  </thead>\n",
       "  <tbody>\n",
       "    <tr>\n",
       "      <th>0</th>\n",
       "      <td>40932</td>\n",
       "      <td>[13C].[14C][18O][16C].[15C].[15N].[17C]=[17O]</td>\n",
       "      <td>[14C][18O][16C]</td>\n",
       "      <td>COC</td>\n",
       "    </tr>\n",
       "    <tr>\n",
       "      <th>1</th>\n",
       "      <td>40955</td>\n",
       "      <td>[13C].[14C][18O][17C][17O][16C].[15C].[15N]</td>\n",
       "      <td>[14C][18O][17C][17O][16C]</td>\n",
       "      <td>COCOC</td>\n",
       "    </tr>\n",
       "    <tr>\n",
       "      <th>2</th>\n",
       "      <td>40986</td>\n",
       "      <td>[13C].[14C][18O][16C][17O][15N]=[17C].[15C]</td>\n",
       "      <td>[14C][18O][16C][17O][15N]=[17C]</td>\n",
       "      <td>COCON=C</td>\n",
       "    </tr>\n",
       "    <tr>\n",
       "      <th>3</th>\n",
       "      <td>41039</td>\n",
       "      <td>[13C].[14C][18O][15N]([16C])[17C]=[17O].[15C]</td>\n",
       "      <td>[14C][18O][15N]([16C])[17C]=[17O]</td>\n",
       "      <td>CON(C)C=O</td>\n",
       "    </tr>\n",
       "    <tr>\n",
       "      <th>4</th>\n",
       "      <td>41040</td>\n",
       "      <td>[13C].[14C][18O][17C](=[17O])[15N][16C].[15C]</td>\n",
       "      <td>[14C][18O][17C](=[17O])[15N][16C]</td>\n",
       "      <td>COC(=O)NC</td>\n",
       "    </tr>\n",
       "    <tr>\n",
       "      <th>...</th>\n",
       "      <td>...</td>\n",
       "      <td>...</td>\n",
       "      <td>...</td>\n",
       "      <td>...</td>\n",
       "    </tr>\n",
       "    <tr>\n",
       "      <th>2749744</th>\n",
       "      <td>55323663</td>\n",
       "      <td>[13C]#[14C][15C]=[16C][17C](=[15N])[18O].[17O]</td>\n",
       "      <td>[13C]#[14C][15C]=[16C][17C](=[15N])[18O]</td>\n",
       "      <td>C#CC=CC(=N)O</td>\n",
       "    </tr>\n",
       "    <tr>\n",
       "      <th>2749745</th>\n",
       "      <td>55323664</td>\n",
       "      <td>[13C]#[14C][15C]=[16C][17C](=[15N])[18O][17O]</td>\n",
       "      <td>[13C]#[14C][15C]=[16C][17C](=[15N])[18O][17O]</td>\n",
       "      <td>C#CC=CC(=N)OO</td>\n",
       "    </tr>\n",
       "    <tr>\n",
       "      <th>2749746</th>\n",
       "      <td>55323666</td>\n",
       "      <td>[13C]#[14C][15C]=[16C][17C]([18O])=[15N][17O]</td>\n",
       "      <td>[13C]#[14C][15C]=[16C][17C]([18O])=[15N][17O]</td>\n",
       "      <td>C#CC=CC(O)=NO</td>\n",
       "    </tr>\n",
       "    <tr>\n",
       "      <th>2749747</th>\n",
       "      <td>55323667</td>\n",
       "      <td>[13C]#[14C][15C]=[16C][17C]1=[15N][17O][18O]1</td>\n",
       "      <td>[13C]#[14C][15C]=[16C][17C]1=[15N][17O][18O]1</td>\n",
       "      <td>C#CC=CC1=NOO1</td>\n",
       "    </tr>\n",
       "    <tr>\n",
       "      <th>2749748</th>\n",
       "      <td>55323673</td>\n",
       "      <td>[13C]#[14C][15C]=[16C][17C]#[15N].[17O].[18O]</td>\n",
       "      <td>[13C]#[14C][15C]=[16C][17C]#[15N]</td>\n",
       "      <td>C#CC=CC#N</td>\n",
       "    </tr>\n",
       "  </tbody>\n",
       "</table>\n",
       "<p>2749749 rows × 4 columns</p>\n",
       "</div>"
      ],
      "text/plain": [
       "         rmat_tag                                      pdt_smiles  \\\n",
       "0           40932   [13C].[14C][18O][16C].[15C].[15N].[17C]=[17O]   \n",
       "1           40955     [13C].[14C][18O][17C][17O][16C].[15C].[15N]   \n",
       "2           40986     [13C].[14C][18O][16C][17O][15N]=[17C].[15C]   \n",
       "3           41039   [13C].[14C][18O][15N]([16C])[17C]=[17O].[15C]   \n",
       "4           41040   [13C].[14C][18O][17C](=[17O])[15N][16C].[15C]   \n",
       "...           ...                                             ...   \n",
       "2749744  55323663  [13C]#[14C][15C]=[16C][17C](=[15N])[18O].[17O]   \n",
       "2749745  55323664   [13C]#[14C][15C]=[16C][17C](=[15N])[18O][17O]   \n",
       "2749746  55323666   [13C]#[14C][15C]=[16C][17C]([18O])=[15N][17O]   \n",
       "2749747  55323667   [13C]#[14C][15C]=[16C][17C]1=[15N][17O][18O]1   \n",
       "2749748  55323673   [13C]#[14C][15C]=[16C][17C]#[15N].[17O].[18O]   \n",
       "\n",
       "                                         frag_in_large    pdt_cleaned  \n",
       "0                                      [14C][18O][16C]            COC  \n",
       "1                            [14C][18O][17C][17O][16C]          COCOC  \n",
       "2                      [14C][18O][16C][17O][15N]=[17C]        COCON=C  \n",
       "3                    [14C][18O][15N]([16C])[17C]=[17O]      CON(C)C=O  \n",
       "4                    [14C][18O][17C](=[17O])[15N][16C]      COC(=O)NC  \n",
       "...                                                ...            ...  \n",
       "2749744       [13C]#[14C][15C]=[16C][17C](=[15N])[18O]   C#CC=CC(=N)O  \n",
       "2749745  [13C]#[14C][15C]=[16C][17C](=[15N])[18O][17O]  C#CC=CC(=N)OO  \n",
       "2749746  [13C]#[14C][15C]=[16C][17C]([18O])=[15N][17O]  C#CC=CC(O)=NO  \n",
       "2749747  [13C]#[14C][15C]=[16C][17C]1=[15N][17O][18O]1  C#CC=CC1=NOO1  \n",
       "2749748              [13C]#[14C][15C]=[16C][17C]#[15N]      C#CC=CC#N  \n",
       "\n",
       "[2749749 rows x 4 columns]"
      ]
     },
     "execution_count": 10,
     "metadata": {},
     "output_type": "execute_result"
    }
   ],
   "source": [
    "data"
   ]
  },
  {
   "cell_type": "code",
   "execution_count": 12,
   "id": "7253acb7",
   "metadata": {},
   "outputs": [
    {
     "data": {
      "application/vnd.jupyter.widget-view+json": {
       "model_id": "eea93ded417944eca116a732fb74f274",
       "version_major": 2,
       "version_minor": 0
      },
      "text/plain": [
       "  0%|          | 0/2749749 [00:00<?, ?it/s]"
      ]
     },
     "metadata": {},
     "output_type": "display_data"
    }
   ],
   "source": [
    "all_molprops = process_map(getallprops,list(data.pdt_cleaned),max_workers=32,chunksize=100)\n",
    "\n",
    "data[\"allprops\"] = all_molprops\n",
    "data[[\"LogP\",\"MW\",\"HBD\",\"HBA\",\"PSA\",\"ROTB\",\"FSP3\",\"SSSR\",\"QED\"]] = data.allprops.tolist()\n",
    "\n",
    "data.drop(\"allprops\",axis=1,inplace=True)"
   ]
  },
  {
   "cell_type": "code",
   "execution_count": 15,
   "id": "e850ebdd",
   "metadata": {},
   "outputs": [],
   "source": [
    "data.to_csv(\"enamine_small_props.csv\",index=False)"
   ]
  }
 ],
 "metadata": {
  "kernelspec": {
   "display_name": "Python 3",
   "language": "python",
   "name": "python3"
  },
  "language_info": {
   "codemirror_mode": {
    "name": "ipython",
    "version": 3
   },
   "file_extension": ".py",
   "mimetype": "text/x-python",
   "name": "python",
   "nbconvert_exporter": "python",
   "pygments_lexer": "ipython3",
   "version": "3.6.12"
  }
 },
 "nbformat": 4,
 "nbformat_minor": 5
}
