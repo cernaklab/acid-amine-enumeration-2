{
 "cells": [
  {
   "cell_type": "markdown",
   "id": "017280df",
   "metadata": {},
   "source": [
    "### get molecular properties of the late-stage diversified systems"
   ]
  },
  {
   "cell_type": "code",
   "execution_count": 31,
   "id": "b532d187",
   "metadata": {},
   "outputs": [],
   "source": [
    "from rdkit import Chem\n",
    "import pandas as pd\n",
    "import numpy as np\n",
    "\n",
    "from rdkit.Chem import AllChem, rdMolDescriptors, Descriptors\n",
    "\n",
    "from tqdm.contrib.concurrent import process_map\n",
    "\n",
    "from rdkit import RDLogger\n",
    "lg = RDLogger.logger()\n",
    "lg.setLevel(RDLogger.CRITICAL)"
   ]
  },
  {
   "cell_type": "markdown",
   "id": "2d63656e",
   "metadata": {},
   "source": [
    "### physicochemical properties - for joint distribution plots."
   ]
  },
  {
   "cell_type": "code",
   "execution_count": 32,
   "id": "aa0f1353",
   "metadata": {},
   "outputs": [],
   "source": [
    "def getLogP(x): return Chem.rdMolDescriptors.CalcCrippenDescriptors(x)[0]\n",
    "def getMW(x): return Chem.Descriptors.MolWt(x)\n",
    "def getHBD(x): return Chem.rdMolDescriptors.CalcNumHBD(x)\n",
    "def getHBA(x): return Chem.rdMolDescriptors.CalcNumHBA(x)\n",
    "def getPSA(x): return Chem.rdMolDescriptors.CalcTPSA(x)\n",
    "def getROTB(x): return Chem.rdMolDescriptors.CalcNumRotatableBonds(x)\n",
    "def getAROM(x): return Chem.rdMolDescriptors.CalcNumAromaticRings(x)\n",
    "def getFSP3(x): return Chem.rdMolDescriptors.CalcFractionCSP3(x)\n",
    "def getFC(x): return Chem.rdmolops.GetFormalCharge(x)\n",
    "def getQED(x): return Chem.QED.qed(x)\n",
    "def getSSSR(x): return Chem.GetSSSR(x)\n",
    "\n",
    "def getallprops(s):\n",
    "    x = Chem.MolFromSmiles(s)\n",
    "    return [getLogP(x),getMW(x),getHBD(x),getHBA(x),getPSA(x),getROTB(x),getFSP3(x),getSSSR(x),getQED(x)]"
   ]
  },
  {
   "cell_type": "code",
   "execution_count": 11,
   "id": "575818e3",
   "metadata": {},
   "outputs": [],
   "source": [
    "def get_df_props(input_filename,output_filename,smiles_column):\n",
    "    data = pd.read_csv(input_filename)\n",
    "    all_molprops = process_map(getallprops,list(data[smiles_column]),max_workers=24,chunksize=10000)\n",
    "    data[\"allprops\"] = all_molprops\n",
    "    data[[\"LogP\",\"MW\",\"HBD\",\"HBA\",\"PSA\",\"ROTB\",\"FSP3\",\"SSSR\",\"QED\"]] = data.allprops.tolist()\n",
    "    data.drop(\"allprops\",axis=1,inplace=True)\n",
    "    data.to_csv(output_filename,index=False)\n",
    "    \n",
    "    "
   ]
  },
  {
   "cell_type": "markdown",
   "id": "686059ce",
   "metadata": {},
   "source": [
    "### for sp3 system"
   ]
  },
  {
   "cell_type": "code",
   "execution_count": 6,
   "id": "d2149f40",
   "metadata": {},
   "outputs": [],
   "source": [
    "input_filename = \"./ac3drug_am3small/ac3drug_am3small_smiles.csv\"\n",
    "\n",
    "output_filename = \"./ac3drug_am3small/ac3drug_am3small_props.csv\"\n",
    "smiles_column = \"largest_cleaned\""
   ]
  },
  {
   "cell_type": "code",
   "execution_count": 7,
   "id": "089014dd",
   "metadata": {},
   "outputs": [
    {
     "data": {
      "application/vnd.jupyter.widget-view+json": {
       "model_id": "2b7140a0ec1a40d0a6425304de39d050",
       "version_major": 2,
       "version_minor": 0
      },
      "text/plain": [
       "  0%|          | 0/916053 [00:00<?, ?it/s]"
      ]
     },
     "metadata": {},
     "output_type": "display_data"
    }
   ],
   "source": [
    "get_df_props(input_filename,output_filename,smiles_column)"
   ]
  },
  {
   "cell_type": "code",
   "execution_count": 8,
   "id": "1d097dab",
   "metadata": {},
   "outputs": [],
   "source": [
    "input_filename = \"./ac3drug_am3small/ac3drug_am3small_rxn_centers.csv\"\n",
    "\n",
    "output_filename = \"./ac3drug_am3small/ac3drug_am3small_rxn_centers_props.csv\"\n",
    "smiles_column = \"pdt_cleaned\""
   ]
  },
  {
   "cell_type": "code",
   "execution_count": 9,
   "id": "21577393",
   "metadata": {},
   "outputs": [
    {
     "data": {
      "application/vnd.jupyter.widget-view+json": {
       "model_id": "18f607f0919f429b9f260b65ad02023f",
       "version_major": 2,
       "version_minor": 0
      },
      "text/plain": [
       "  0%|          | 0/916053 [00:00<?, ?it/s]"
      ]
     },
     "metadata": {},
     "output_type": "display_data"
    }
   ],
   "source": [
    "get_df_props(input_filename,output_filename,smiles_column)"
   ]
  },
  {
   "cell_type": "markdown",
   "id": "24a5643f",
   "metadata": {},
   "source": [
    "### for sp2 system"
   ]
  },
  {
   "cell_type": "code",
   "execution_count": 12,
   "id": "572818a7",
   "metadata": {},
   "outputs": [],
   "source": [
    "input_filename = \"./ac2drug_am2small/ac2drug_am2small_aromatic.csv\"\n",
    "\n",
    "output_filename = \"./ac2drug_am2small/ac2drug_am2small_aromatic_props.csv\"\n",
    "smiles_column = \"largest_cleaned\""
   ]
  },
  {
   "cell_type": "code",
   "execution_count": 13,
   "id": "403c0df7",
   "metadata": {},
   "outputs": [
    {
     "data": {
      "application/vnd.jupyter.widget-view+json": {
       "model_id": "8475ad9efefa4c54844ab1cf06649b3e",
       "version_major": 2,
       "version_minor": 0
      },
      "text/plain": [
       "  0%|          | 0/7240 [00:00<?, ?it/s]"
      ]
     },
     "metadata": {},
     "output_type": "display_data"
    }
   ],
   "source": [
    "get_df_props(input_filename,output_filename,smiles_column)"
   ]
  },
  {
   "cell_type": "code",
   "execution_count": 14,
   "id": "322a7401",
   "metadata": {},
   "outputs": [],
   "source": [
    "input_filename = \"./ac2drug_am2small/ac2drug_am2small_rxn_centers.csv\"\n",
    "\n",
    "output_filename = \"./ac2drug_am2small/ac2drug_am2small_rxn_centers_props.csv\"\n",
    "smiles_column = \"pdt_cleaned\""
   ]
  },
  {
   "cell_type": "code",
   "execution_count": 15,
   "id": "2dc985bb",
   "metadata": {},
   "outputs": [
    {
     "data": {
      "application/vnd.jupyter.widget-view+json": {
       "model_id": "cd6dfb55efb646e9ab5778109735f34d",
       "version_major": 2,
       "version_minor": 0
      },
      "text/plain": [
       "  0%|          | 0/7240 [00:00<?, ?it/s]"
      ]
     },
     "metadata": {},
     "output_type": "display_data"
    }
   ],
   "source": [
    "get_df_props(input_filename,output_filename,smiles_column)"
   ]
  },
  {
   "cell_type": "markdown",
   "id": "2326c106",
   "metadata": {},
   "source": [
    "### PMI"
   ]
  },
  {
   "cell_type": "code",
   "execution_count": 39,
   "id": "f237c67c",
   "metadata": {},
   "outputs": [],
   "source": [
    "def cal_pmi(s):\n",
    "    try:\n",
    "        m = Chem.MolFromSmiles(s)\n",
    "        mol = Chem.AddHs(m)\n",
    "        AllChem.EmbedMolecule(mol)\n",
    "        x = Chem.Descriptors3D.NPR1(mol)\n",
    "        y = Chem.Descriptors3D.NPR2(mol)\n",
    "        return x, y\n",
    "    except:\n",
    "        return None,None\n",
    "    \n",
    "def get_df_pmi(input_filename,output_filename,smiles_column):\n",
    "    data = pd.read_csv(input_filename)\n",
    "#     smiles = data[smiles_column][::100]\n",
    "    smiles = data[smiles_column]\n",
    "    result = process_map(cal_pmi,smiles,max_workers=32,chunksize=10000)\n",
    "    \n",
    "    result = np.array(result)\n",
    "\n",
    "    data[\"pmi_x\"] = result[:,0]\n",
    "    data[\"pmi_y\"] = result[:,1]\n",
    "    \n",
    "    data.to_csv(output_filename)"
   ]
  },
  {
   "cell_type": "markdown",
   "id": "a17c0000",
   "metadata": {},
   "source": [
    "### sp3 system"
   ]
  },
  {
   "cell_type": "markdown",
   "id": "91a7b4b0",
   "metadata": {},
   "source": [
    "### full molecule"
   ]
  },
  {
   "cell_type": "code",
   "execution_count": 40,
   "id": "5631e4c9",
   "metadata": {},
   "outputs": [],
   "source": [
    "input_filename = \"./ac3drug_am3small/ac3drug_am3small_smiles.csv\"\n",
    "output_filename = \"./ac3drug_am3small/ac3drug_am3small_pmi.csv\"\n",
    "smiles_column = \"largest_cleaned\""
   ]
  },
  {
   "cell_type": "code",
   "execution_count": 41,
   "id": "1ab9d63c",
   "metadata": {},
   "outputs": [
    {
     "data": {
      "application/vnd.jupyter.widget-view+json": {
       "model_id": "6383988730ee449cba914a2e27289d49",
       "version_major": 2,
       "version_minor": 0
      },
      "text/plain": [
       "  0%|          | 0/916053 [00:00<?, ?it/s]"
      ]
     },
     "metadata": {},
     "output_type": "display_data"
    }
   ],
   "source": [
    "get_df_pmi(input_filename,output_filename,smiles_column)"
   ]
  },
  {
   "cell_type": "markdown",
   "id": "be4dc870",
   "metadata": {},
   "source": [
    "### reaction center"
   ]
  },
  {
   "cell_type": "code",
   "execution_count": 37,
   "id": "00ad222c",
   "metadata": {},
   "outputs": [],
   "source": [
    "input_filename = \"./ac3drug_am3small/ac3drug_am3small_rxn_centers.csv\"\n",
    "output_filename = \"./ac3drug_am3small/ac3drug_am3small_rxn_centers_pmi.csv\"\n",
    "smiles_column = \"pdt_cleaned\""
   ]
  },
  {
   "cell_type": "code",
   "execution_count": 38,
   "id": "a1bb677a",
   "metadata": {},
   "outputs": [
    {
     "data": {
      "application/vnd.jupyter.widget-view+json": {
       "model_id": "94c3a950b27d460e8cabb996c6e7ee96",
       "version_major": 2,
       "version_minor": 0
      },
      "text/plain": [
       "  0%|          | 0/916053 [00:00<?, ?it/s]"
      ]
     },
     "metadata": {},
     "output_type": "display_data"
    }
   ],
   "source": [
    "get_df_pmi(input_filename,output_filename,smiles_column)"
   ]
  },
  {
   "cell_type": "markdown",
   "id": "dccbac84",
   "metadata": {},
   "source": [
    "### sp2 system"
   ]
  },
  {
   "cell_type": "markdown",
   "id": "ad8fe3e3",
   "metadata": {},
   "source": [
    "### full molecule"
   ]
  },
  {
   "cell_type": "code",
   "execution_count": 65,
   "id": "066cd763",
   "metadata": {},
   "outputs": [],
   "source": [
    "input_filename = \"./ac2drug_am2small/ac2drug_am2small_aromatic.csv\"\n",
    "output_filename = \"./ac2drug_am2small/ac2drug_am2small_aromatic_pmi.csv\"\n",
    "smiles_column = \"largest_cleaned\""
   ]
  },
  {
   "cell_type": "code",
   "execution_count": 66,
   "id": "c41a441c",
   "metadata": {},
   "outputs": [
    {
     "data": {
      "application/vnd.jupyter.widget-view+json": {
       "model_id": "16efa0c0c8534ffcb3d5e214113c55fd",
       "version_major": 2,
       "version_minor": 0
      },
      "text/plain": [
       "  0%|          | 0/3890386 [00:00<?, ?it/s]"
      ]
     },
     "metadata": {},
     "output_type": "display_data"
    }
   ],
   "source": [
    "data = pd.read_csv(input_filename)\n",
    "#     smiles = data[smiles_column][::100]\n",
    "smiles = data[smiles_column]\n",
    "\n",
    "result = []\n",
    "for s in tqdm(smiles):\n",
    "    result.append(cal_pmi(s))\n",
    "\n",
    "result = np.array(result)\n",
    "\n",
    "data[\"pmi_x\"] = result[:,0]\n",
    "data[\"pmi_y\"] = result[:,1]\n",
    "\n",
    "data.to_csv(output_filename)"
   ]
  },
  {
   "cell_type": "markdown",
   "id": "3dd74560",
   "metadata": {},
   "source": [
    "### reaction center"
   ]
  },
  {
   "cell_type": "code",
   "execution_count": 67,
   "id": "96e89ad5",
   "metadata": {},
   "outputs": [],
   "source": [
    "input_filename = \"./ac2drug_am2small/ac2drug_am2small_rxn_centers.csv\"\n",
    "output_filename = \"./ac2drug_am2small/ac2drug_am2small_rxn_centers_pmi.csv\"\n",
    "smiles_column = \"pdt_cleaned\""
   ]
  },
  {
   "cell_type": "code",
   "execution_count": 68,
   "id": "e5d005cc",
   "metadata": {},
   "outputs": [
    {
     "data": {
      "application/vnd.jupyter.widget-view+json": {
       "model_id": "d0dbc3476eed43cebfb4bcb69c30b6be",
       "version_major": 2,
       "version_minor": 0
      },
      "text/plain": [
       "  0%|          | 0/7240 [00:00<?, ?it/s]"
      ]
     },
     "metadata": {},
     "output_type": "display_data"
    }
   ],
   "source": [
    "data = pd.read_csv(input_filename)\n",
    "#     smiles = data[smiles_column][::100]\n",
    "smiles = data[smiles_column]\n",
    "\n",
    "result = []\n",
    "for s in tqdm(smiles):\n",
    "    result.append(cal_pmi(s))\n",
    "    \n",
    "    \n",
    "result = np.array(result)\n",
    "\n",
    "data[\"pmi_x\"] = result[:,0]\n",
    "data[\"pmi_y\"] = result[:,1]\n",
    "\n",
    "data.to_csv(output_filename)"
   ]
  }
 ],
 "metadata": {
  "kernelspec": {
   "display_name": "Python 3",
   "language": "python",
   "name": "python3"
  },
  "language_info": {
   "codemirror_mode": {
    "name": "ipython",
    "version": 3
   },
   "file_extension": ".py",
   "mimetype": "text/x-python",
   "name": "python",
   "nbconvert_exporter": "python",
   "pygments_lexer": "ipython3",
   "version": "3.6.12"
  }
 },
 "nbformat": 4,
 "nbformat_minor": 5
}
