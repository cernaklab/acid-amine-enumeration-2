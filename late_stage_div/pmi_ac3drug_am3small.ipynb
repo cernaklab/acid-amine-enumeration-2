{
 "cells": [
  {
   "cell_type": "code",
   "execution_count": 1,
   "id": "3ad2d750",
   "metadata": {},
   "outputs": [
    {
     "name": "stderr",
     "output_type": "stream",
     "text": [
      "RDKit WARNING: [22:37:06] Enabling RDKit 2019.09.3 jupyter extensions\n"
     ]
    }
   ],
   "source": [
    "from rdkit import Chem\n",
    "from rdkit.Chem import AllChem\n",
    "from rdkit.Chem.Draw import IPythonConsole\n",
    "# from rdkit.Chem.Draw import MolDrawing, DrawingOptions, MolToImage\n",
    "\n",
    "from rdkit import RDLogger\n",
    "lg = RDLogger.logger()\n",
    "lg.setLevel(RDLogger.CRITICAL)\n",
    "\n",
    "import numpy as np\n",
    "\n",
    "from tqdm.notebook import tqdm\n",
    "\n",
    "from tqdm.contrib.concurrent import process_map\n",
    "\n",
    "import pandas as pd"
   ]
  },
  {
   "cell_type": "code",
   "execution_count": 2,
   "id": "6ba369bc",
   "metadata": {},
   "outputs": [],
   "source": [
    "from rdkit.Chem import rdMolDescriptors, Descriptors"
   ]
  },
  {
   "cell_type": "code",
   "execution_count": 22,
   "id": "d0215a16",
   "metadata": {},
   "outputs": [],
   "source": [
    "import matplotlib.pyplot as plt\n",
    "from mpl_toolkits.axes_grid1 import make_axes_locatable"
   ]
  },
  {
   "cell_type": "code",
   "execution_count": 3,
   "id": "e92fc157",
   "metadata": {},
   "outputs": [],
   "source": [
    "def cal_pmi(s):\n",
    "    try:\n",
    "        m = Chem.MolFromSmiles(s)\n",
    "        mol = Chem.AddHs(m)\n",
    "        AllChem.EmbedMolecule(mol)\n",
    "        x = Chem.Descriptors3D.NPR1(mol)\n",
    "        y = Chem.Descriptors3D.NPR2(mol)\n",
    "        return x, y\n",
    "    except:\n",
    "        return None,None"
   ]
  },
  {
   "cell_type": "code",
   "execution_count": 33,
   "id": "9f644b13",
   "metadata": {},
   "outputs": [],
   "source": [
    "# data = pd.read_csv(\"coupled_ac3drug_am3small.csv\")\n",
    "\n",
    "data = pd.read_csv(\"am3drug_ac3small_small.csv\")"
   ]
  },
  {
   "cell_type": "code",
   "execution_count": 34,
   "id": "ec8d77f3",
   "metadata": {},
   "outputs": [
    {
     "data": {
      "text/html": [
       "<div>\n",
       "<style scoped>\n",
       "    .dataframe tbody tr th:only-of-type {\n",
       "        vertical-align: middle;\n",
       "    }\n",
       "\n",
       "    .dataframe tbody tr th {\n",
       "        vertical-align: top;\n",
       "    }\n",
       "\n",
       "    .dataframe thead th {\n",
       "        text-align: right;\n",
       "    }\n",
       "</style>\n",
       "<table border=\"1\" class=\"dataframe\">\n",
       "  <thead>\n",
       "    <tr style=\"text-align: right;\">\n",
       "      <th></th>\n",
       "      <th>rmat_tag</th>\n",
       "      <th>pdt_smiles</th>\n",
       "      <th>frag_in_large</th>\n",
       "      <th>pdt_cleaned</th>\n",
       "    </tr>\n",
       "  </thead>\n",
       "  <tbody>\n",
       "    <tr>\n",
       "      <th>0</th>\n",
       "      <td>40932</td>\n",
       "      <td>[13C].[14C][18O][16C].[15C].[15N].[17C]=[17O]</td>\n",
       "      <td>[14C][18O][16C]</td>\n",
       "      <td>COC</td>\n",
       "    </tr>\n",
       "    <tr>\n",
       "      <th>1</th>\n",
       "      <td>40947</td>\n",
       "      <td>[13C].[14C][18O][17O][16C].[15C].[15N].[17C]</td>\n",
       "      <td>[14C][18O][17O][16C]</td>\n",
       "      <td>COOC</td>\n",
       "    </tr>\n",
       "    <tr>\n",
       "      <th>2</th>\n",
       "      <td>40955</td>\n",
       "      <td>[13C].[14C][18O][17C][17O][16C].[15C].[15N]</td>\n",
       "      <td>[14C][18O][17C][17O][16C]</td>\n",
       "      <td>COCOC</td>\n",
       "    </tr>\n",
       "    <tr>\n",
       "      <th>3</th>\n",
       "      <td>40979</td>\n",
       "      <td>[13C].[14C][18O][16C][17O].[15C].[15N].[17C]</td>\n",
       "      <td>[14C][18O][16C][17O]</td>\n",
       "      <td>COCO</td>\n",
       "    </tr>\n",
       "    <tr>\n",
       "      <th>4</th>\n",
       "      <td>40981</td>\n",
       "      <td>[13C].[14C][18O][16C][17O][17C].[15C].[15N]</td>\n",
       "      <td>[14C][18O][16C][17O][17C]</td>\n",
       "      <td>COCOC</td>\n",
       "    </tr>\n",
       "  </tbody>\n",
       "</table>\n",
       "</div>"
      ],
      "text/plain": [
       "   rmat_tag                                     pdt_smiles  \\\n",
       "0     40932  [13C].[14C][18O][16C].[15C].[15N].[17C]=[17O]   \n",
       "1     40947   [13C].[14C][18O][17O][16C].[15C].[15N].[17C]   \n",
       "2     40955    [13C].[14C][18O][17C][17O][16C].[15C].[15N]   \n",
       "3     40979   [13C].[14C][18O][16C][17O].[15C].[15N].[17C]   \n",
       "4     40981    [13C].[14C][18O][16C][17O][17C].[15C].[15N]   \n",
       "\n",
       "               frag_in_large pdt_cleaned  \n",
       "0            [14C][18O][16C]         COC  \n",
       "1       [14C][18O][17O][16C]        COOC  \n",
       "2  [14C][18O][17C][17O][16C]       COCOC  \n",
       "3       [14C][18O][16C][17O]        COCO  \n",
       "4  [14C][18O][16C][17O][17C]       COCOC  "
      ]
     },
     "execution_count": 34,
     "metadata": {},
     "output_type": "execute_result"
    }
   ],
   "source": [
    "data.head()"
   ]
  },
  {
   "cell_type": "code",
   "execution_count": 13,
   "id": "488cf665",
   "metadata": {},
   "outputs": [
    {
     "data": {
      "text/plain": [
       "28626.65625"
      ]
     },
     "execution_count": 13,
     "metadata": {},
     "output_type": "execute_result"
    }
   ],
   "source": [
    "len(data) / 32"
   ]
  },
  {
   "cell_type": "code",
   "execution_count": 7,
   "id": "c0041cbe",
   "metadata": {},
   "outputs": [],
   "source": [
    "smiles = list(data[\"largest_cleaned\"])"
   ]
  },
  {
   "cell_type": "code",
   "execution_count": 14,
   "id": "86df207b",
   "metadata": {},
   "outputs": [
    {
     "data": {
      "application/vnd.jupyter.widget-view+json": {
       "model_id": "d2477ff0ef3e42f880c47b40643c8684",
       "version_major": 2,
       "version_minor": 0
      },
      "text/plain": [
       "  0%|          | 0/916053 [00:00<?, ?it/s]"
      ]
     },
     "metadata": {},
     "output_type": "display_data"
    }
   ],
   "source": [
    "result = process_map(cal_pmi,smiles,max_workers=32,chunksize=10000)"
   ]
  },
  {
   "cell_type": "code",
   "execution_count": 15,
   "id": "9b869d1c",
   "metadata": {},
   "outputs": [],
   "source": [
    "result = np.array(result)\n",
    "\n",
    "data[\"pmi_x\"] = result[:,0]\n",
    "data[\"pmi_y\"] = result[:,1]"
   ]
  },
  {
   "cell_type": "code",
   "execution_count": 16,
   "id": "18219acf",
   "metadata": {},
   "outputs": [],
   "source": [
    "data.to_csv(\"pmi_ac3drug_am3small.csv\")"
   ]
  },
  {
   "cell_type": "code",
   "execution_count": null,
   "id": "64547349",
   "metadata": {},
   "outputs": [],
   "source": []
  },
  {
   "cell_type": "code",
   "execution_count": 43,
   "id": "612a572d",
   "metadata": {},
   "outputs": [],
   "source": [
    "data = pd.read_csv(\"pmi_ac3drug_am3small.csv\")"
   ]
  },
  {
   "cell_type": "code",
   "execution_count": 44,
   "id": "447f3c8d",
   "metadata": {},
   "outputs": [],
   "source": [
    "data_for2d = data[~data.pmi_x.isnull()]"
   ]
  },
  {
   "cell_type": "code",
   "execution_count": 45,
   "id": "d5b6e509",
   "metadata": {},
   "outputs": [],
   "source": [
    "acid_pmi = cal_pmi(\"O=C1N(C2=CC=C([C@H](C(O)=O)CC)C=C2)CC3=CC=CC=C31\")"
   ]
  },
  {
   "cell_type": "code",
   "execution_count": 46,
   "id": "fa9f4bdd",
   "metadata": {},
   "outputs": [],
   "source": [
    "amine_pmi = cal_pmi(\"N[C@H](C)C1=CC=CC=C1\")"
   ]
  },
  {
   "cell_type": "code",
   "execution_count": 47,
   "id": "8ee976f3",
   "metadata": {},
   "outputs": [],
   "source": [
    "amide_pmi = cal_pmi(\"O=C1N(C2=CC=C([C@H](C(N[C@@H](C3=CC=CC=C3)C)=O)CC)C=C2)CC4=CC=CC=C41\")"
   ]
  },
  {
   "cell_type": "code",
   "execution_count": 48,
   "id": "c40dc349",
   "metadata": {},
   "outputs": [
    {
     "data": {
      "image/png": "[encoded data removed]",
      "text/plain": [
       "<Figure size 1296x1296 with 1 Axes>"
      ]
     },
     "metadata": {},
     "output_type": "display_data"
    }
   ],
   "source": [
    "# import matplotlib.pyplot as plt\n",
    "# do the amides overlay BUT plot the drugbank and GDB as separate density maps. \n",
    "\n",
    "fig, ax = plt.subplots(figsize=(18,18))\n",
    "# fig, ax = plt.subplots(figsize=(10,10))\n",
    "# norm=mpl.colors.LogNorm()\n",
    "h = ax.hist2d(list(data_for2d.pmi_x), list(data_for2d.pmi_y),bins=100,cmin=1,cmap=\"plasma\")\n",
    "\n",
    "\n",
    "ax.set_xlim((0,1))\n",
    "ax.set_ylim((0.5,1))\n",
    "ax.plot([0,.5], [1,0.5],color='gray')\n",
    "ax.plot([.5,1], [0.5,1],color='gray')\n",
    "ax.plot([0,1], [1,1],color='gray')\n",
    "x0,x1 = ax.get_xlim()\n",
    "y0,y1 = ax.get_ylim()\n",
    "ax.set_aspect(abs(x1-x0)/abs(y1-y0))\n",
    "divider = make_axes_locatable(ax)\n",
    "\n",
    "ax.set_xticks([])\n",
    "ax.set_yticks([])\n",
    "# cax = divider.append_axes(\"right\", size=\"4%\",pad=0.001)\n",
    "# fig.colorbar(h[3],fraction=0.0235, pad=0.04)\n",
    "\n",
    "# # gdb 4-8 atoms\n",
    "# ax.scatter(data_for2d.pmi_x, data_for2d.pmi_y,color=(70/255,49/255,126/255,1))\n",
    "\n",
    "# # drugbank\n",
    "# ax.scatter(data_in_db.pmi_x,data_in_db.pmi_y,alpha=1,color=(42/255,118/255,142/255,1))\n",
    "\n",
    "# # 320 previous molecules\n",
    "# ax.scatter(data_for2d_320.pmi_x, data_for2d_320.pmi_y,color=(46/255,179/255,124/255,1))\n",
    "\n",
    "# # the 4 amides \n",
    "ax.scatter(*acid_pmi,color=\"r\")\n",
    "ax.scatter(*amine_pmi,color=\"b\")\n",
    "ax.scatter(*amide_pmi,color=\"g\")\n",
    "\n",
    "\n",
    "\n",
    "# ax.legend([\"\",\"\",\"\",\"All\",\"In Drugbank\",\"In 320\",\"Amides\"])\n",
    "# plt.title(\"acid-amine enumeration (209,054 structures)\",fontsize=20)\n",
    "# ax.grid(b=True, which='major', color='k', linestyle='--')\n",
    "fig.savefig('fig3_1a.png', dpi=900)\n",
    "# plt.close(fig)"
   ]
  },
  {
   "cell_type": "code",
   "execution_count": 35,
   "id": "c1ab01ff",
   "metadata": {},
   "outputs": [],
   "source": [
    "data = []"
   ]
  },
  {
   "cell_type": "code",
   "execution_count": 36,
   "id": "7f1a5283",
   "metadata": {},
   "outputs": [],
   "source": [
    "dataS = pd.read_csv(\"pmi_ac3drug_am3small_small.csv\")"
   ]
  },
  {
   "cell_type": "code",
   "execution_count": 37,
   "id": "65da359a",
   "metadata": {},
   "outputs": [
    {
     "data": {
      "text/html": [
       "<div>\n",
       "<style scoped>\n",
       "    .dataframe tbody tr th:only-of-type {\n",
       "        vertical-align: middle;\n",
       "    }\n",
       "\n",
       "    .dataframe tbody tr th {\n",
       "        vertical-align: top;\n",
       "    }\n",
       "\n",
       "    .dataframe thead th {\n",
       "        text-align: right;\n",
       "    }\n",
       "</style>\n",
       "<table border=\"1\" class=\"dataframe\">\n",
       "  <thead>\n",
       "    <tr style=\"text-align: right;\">\n",
       "      <th></th>\n",
       "      <th>Unnamed: 0</th>\n",
       "      <th>rmat_tag</th>\n",
       "      <th>pdt_smiles</th>\n",
       "      <th>frag_in_large</th>\n",
       "      <th>pdt_cleaned</th>\n",
       "      <th>pmi_x</th>\n",
       "      <th>pmi_y</th>\n",
       "    </tr>\n",
       "  </thead>\n",
       "  <tbody>\n",
       "    <tr>\n",
       "      <th>0</th>\n",
       "      <td>0</td>\n",
       "      <td>40950</td>\n",
       "      <td>[13C].[14C][18O][15N][17O][16C].[15C].[17C]</td>\n",
       "      <td>[14C][18O][15N][17O][16C]</td>\n",
       "      <td>CONOC</td>\n",
       "      <td>0.141543</td>\n",
       "      <td>0.925963</td>\n",
       "    </tr>\n",
       "    <tr>\n",
       "      <th>1</th>\n",
       "      <td>1</td>\n",
       "      <td>40962</td>\n",
       "      <td>[13C].[14C][18O][17C][15N][17O][16C].[15C]</td>\n",
       "      <td>[14C][18O][17C][15N][17O][16C]</td>\n",
       "      <td>COCNOC</td>\n",
       "      <td>0.147637</td>\n",
       "      <td>0.928097</td>\n",
       "    </tr>\n",
       "    <tr>\n",
       "      <th>2</th>\n",
       "      <td>2</td>\n",
       "      <td>40964</td>\n",
       "      <td>[13C].[14C][18O][15N][17C][17O][16C].[15C]</td>\n",
       "      <td>[14C][18O][15N][17C][17O][16C]</td>\n",
       "      <td>CONCOC</td>\n",
       "      <td>0.147637</td>\n",
       "      <td>0.928097</td>\n",
       "    </tr>\n",
       "    <tr>\n",
       "      <th>3</th>\n",
       "      <td>3</td>\n",
       "      <td>40965</td>\n",
       "      <td>[13C].[14C][18O][17C]([15N])[17O][16C].[15C]</td>\n",
       "      <td>[14C][18O][17C]([15N])[17O][16C]</td>\n",
       "      <td>COC(N)OC</td>\n",
       "      <td>0.393006</td>\n",
       "      <td>0.745270</td>\n",
       "    </tr>\n",
       "    <tr>\n",
       "      <th>4</th>\n",
       "      <td>4</td>\n",
       "      <td>40971</td>\n",
       "      <td>[13C].[14C][18O][17C]=[15N][17O][16C].[15C]</td>\n",
       "      <td>[14C][18O][17C]=[15N][17O][16C]</td>\n",
       "      <td>COC=NOC</td>\n",
       "      <td>0.158010</td>\n",
       "      <td>0.891778</td>\n",
       "    </tr>\n",
       "    <tr>\n",
       "      <th>...</th>\n",
       "      <td>...</td>\n",
       "      <td>...</td>\n",
       "      <td>...</td>\n",
       "      <td>...</td>\n",
       "      <td>...</td>\n",
       "      <td>...</td>\n",
       "      <td>...</td>\n",
       "    </tr>\n",
       "    <tr>\n",
       "      <th>916048</th>\n",
       "      <td>916048</td>\n",
       "      <td>54975523</td>\n",
       "      <td>[14C]=[13C]=[15C][16C][17C](=[15N])[18O][17O]</td>\n",
       "      <td>[14C]=[13C]=[15C][16C][17C](=[15N])[18O][17O]</td>\n",
       "      <td>C=C=CCC(=N)OO</td>\n",
       "      <td>0.208373</td>\n",
       "      <td>0.869834</td>\n",
       "    </tr>\n",
       "    <tr>\n",
       "      <th>916049</th>\n",
       "      <td>916049</td>\n",
       "      <td>54975525</td>\n",
       "      <td>[14C]=[13C]=[15C][16C][17C]([18O])=[15N][17O]</td>\n",
       "      <td>[14C]=[13C]=[15C][16C][17C]([18O])=[15N][17O]</td>\n",
       "      <td>C=C=CCC(O)=NO</td>\n",
       "      <td>0.293233</td>\n",
       "      <td>0.897413</td>\n",
       "    </tr>\n",
       "    <tr>\n",
       "      <th>916050</th>\n",
       "      <td>916050</td>\n",
       "      <td>54975527</td>\n",
       "      <td>[14C]=[13C]=[15C][16C][17C](=[15N])[17O].[18O]</td>\n",
       "      <td>[14C]=[13C]=[15C][16C][17C](=[15N])[17O]</td>\n",
       "      <td>C=C=CCC(=N)O</td>\n",
       "      <td>0.339516</td>\n",
       "      <td>0.948497</td>\n",
       "    </tr>\n",
       "    <tr>\n",
       "      <th>916051</th>\n",
       "      <td>916051</td>\n",
       "      <td>54975530</td>\n",
       "      <td>[14C]=[13C]=[15C][16C][17C]1=[15N][18O][17O]1</td>\n",
       "      <td>[14C]=[13C]=[15C][16C][17C]1=[15N][18O][17O]1</td>\n",
       "      <td>C=C=CCC1=NOO1</td>\n",
       "      <td>0.071444</td>\n",
       "      <td>0.942891</td>\n",
       "    </tr>\n",
       "    <tr>\n",
       "      <th>916052</th>\n",
       "      <td>916052</td>\n",
       "      <td>54975532</td>\n",
       "      <td>[14C]=[13C]=[15C][16C][17C]#[15N].[17O].[18O]</td>\n",
       "      <td>[14C]=[13C]=[15C][16C][17C]#[15N]</td>\n",
       "      <td>C=C=CCC#N</td>\n",
       "      <td>0.274830</td>\n",
       "      <td>0.806069</td>\n",
       "    </tr>\n",
       "  </tbody>\n",
       "</table>\n",
       "<p>916053 rows × 7 columns</p>\n",
       "</div>"
      ],
      "text/plain": [
       "        Unnamed: 0  rmat_tag                                      pdt_smiles  \\\n",
       "0                0     40950     [13C].[14C][18O][15N][17O][16C].[15C].[17C]   \n",
       "1                1     40962      [13C].[14C][18O][17C][15N][17O][16C].[15C]   \n",
       "2                2     40964      [13C].[14C][18O][15N][17C][17O][16C].[15C]   \n",
       "3                3     40965    [13C].[14C][18O][17C]([15N])[17O][16C].[15C]   \n",
       "4                4     40971     [13C].[14C][18O][17C]=[15N][17O][16C].[15C]   \n",
       "...            ...       ...                                             ...   \n",
       "916048      916048  54975523   [14C]=[13C]=[15C][16C][17C](=[15N])[18O][17O]   \n",
       "916049      916049  54975525   [14C]=[13C]=[15C][16C][17C]([18O])=[15N][17O]   \n",
       "916050      916050  54975527  [14C]=[13C]=[15C][16C][17C](=[15N])[17O].[18O]   \n",
       "916051      916051  54975530   [14C]=[13C]=[15C][16C][17C]1=[15N][18O][17O]1   \n",
       "916052      916052  54975532   [14C]=[13C]=[15C][16C][17C]#[15N].[17O].[18O]   \n",
       "\n",
       "                                        frag_in_large    pdt_cleaned  \\\n",
       "0                           [14C][18O][15N][17O][16C]          CONOC   \n",
       "1                      [14C][18O][17C][15N][17O][16C]         COCNOC   \n",
       "2                      [14C][18O][15N][17C][17O][16C]         CONCOC   \n",
       "3                    [14C][18O][17C]([15N])[17O][16C]       COC(N)OC   \n",
       "4                     [14C][18O][17C]=[15N][17O][16C]        COC=NOC   \n",
       "...                                               ...            ...   \n",
       "916048  [14C]=[13C]=[15C][16C][17C](=[15N])[18O][17O]  C=C=CCC(=N)OO   \n",
       "916049  [14C]=[13C]=[15C][16C][17C]([18O])=[15N][17O]  C=C=CCC(O)=NO   \n",
       "916050       [14C]=[13C]=[15C][16C][17C](=[15N])[17O]   C=C=CCC(=N)O   \n",
       "916051  [14C]=[13C]=[15C][16C][17C]1=[15N][18O][17O]1  C=C=CCC1=NOO1   \n",
       "916052              [14C]=[13C]=[15C][16C][17C]#[15N]      C=C=CCC#N   \n",
       "\n",
       "           pmi_x     pmi_y  \n",
       "0       0.141543  0.925963  \n",
       "1       0.147637  0.928097  \n",
       "2       0.147637  0.928097  \n",
       "3       0.393006  0.745270  \n",
       "4       0.158010  0.891778  \n",
       "...          ...       ...  \n",
       "916048  0.208373  0.869834  \n",
       "916049  0.293233  0.897413  \n",
       "916050  0.339516  0.948497  \n",
       "916051  0.071444  0.942891  \n",
       "916052  0.274830  0.806069  \n",
       "\n",
       "[916053 rows x 7 columns]"
      ]
     },
     "execution_count": 37,
     "metadata": {},
     "output_type": "execute_result"
    }
   ],
   "source": [
    "dataS"
   ]
  },
  {
   "cell_type": "code",
   "execution_count": 39,
   "id": "e71846b1",
   "metadata": {},
   "outputs": [],
   "source": [
    "data_for2d = dataS[~dataS.pmi_x.isnull()]"
   ]
  },
  {
   "cell_type": "code",
   "execution_count": 42,
   "id": "27e288ed",
   "metadata": {},
   "outputs": [
    {
     "data": {
      "image/png": "[encoded data removed]",
      "text/plain": [
       "<Figure size 1296x1296 with 1 Axes>"
      ]
     },
     "metadata": {},
     "output_type": "display_data"
    }
   ],
   "source": [
    "# import matplotlib.pyplot as plt\n",
    "# do the amides overlay BUT plot the drugbank and GDB as separate density maps. \n",
    "\n",
    "fig, ax = plt.subplots(figsize=(18,18))\n",
    "# fig, ax = plt.subplots(figsize=(10,10))\n",
    "# norm=mpl.colors.LogNorm()\n",
    "h = ax.hist2d(list(data_for2d.pmi_x), list(data_for2d.pmi_y),bins=100,cmin=1,cmap=\"plasma\")\n",
    "\n",
    "\n",
    "ax.set_xlim((0,1))\n",
    "ax.set_ylim((0.5,1))\n",
    "ax.plot([0,.5], [1,0.5],color='gray')\n",
    "ax.plot([.5,1], [0.5,1],color='gray')\n",
    "ax.plot([0,1], [1,1],color='gray')\n",
    "x0,x1 = ax.get_xlim()\n",
    "y0,y1 = ax.get_ylim()\n",
    "ax.set_aspect(abs(x1-x0)/abs(y1-y0))\n",
    "divider = make_axes_locatable(ax)\n",
    "\n",
    "\n",
    "\n",
    "ax.set_xticks([])\n",
    "ax.set_yticks([])\n",
    "# cax = divider.append_axes(\"right\", size=\"4%\",pad=0.001)\n",
    "# fig.colorbar(h[3],fraction=0.0235, pad=0.04)\n",
    "\n",
    "# # gdb 4-8 atoms\n",
    "# ax.scatter(data_for2d.pmi_x, data_for2d.pmi_y,color=(70/255,49/255,126/255,1))\n",
    "\n",
    "# # drugbank\n",
    "# ax.scatter(data_in_db.pmi_x,data_in_db.pmi_y,alpha=1,color=(42/255,118/255,142/255,1))\n",
    "\n",
    "# # 320 previous molecules\n",
    "# ax.scatter(data_for2d_320.pmi_x, data_for2d_320.pmi_y,color=(46/255,179/255,124/255,1))\n",
    "\n",
    "# # the 4 amides \n",
    "# ax.scatter(*acid_pmi,color=\"r\")\n",
    "# ax.scatter(*amine_pmi,color=\"b\")\n",
    "# ax.scatter(*amide_pmi,color=\"g\")\n",
    "\n",
    "\n",
    "\n",
    "# ax.legend([\"\",\"\",\"\",\"All\",\"In Drugbank\",\"In 320\",\"Amides\"])\n",
    "# plt.title(\"acid-amine enumeration (209,054 structures)\",fontsize=20)\n",
    "# ax.grid(b=True, which='major', color='k', linestyle='--')\n",
    "fig.savefig('fig3_1b.png', dpi=900)\n",
    "# plt.close(fig)"
   ]
  }
 ],
 "metadata": {
  "kernelspec": {
   "display_name": "Python 3",
   "language": "python",
   "name": "python3"
  },
  "language_info": {
   "codemirror_mode": {
    "name": "ipython",
    "version": 3
   },
   "file_extension": ".py",
   "mimetype": "text/x-python",
   "name": "python",
   "nbconvert_exporter": "python",
   "pygments_lexer": "ipython3",
   "version": "3.6.12"
  }
 },
 "nbformat": 4,
 "nbformat_minor": 5
}
