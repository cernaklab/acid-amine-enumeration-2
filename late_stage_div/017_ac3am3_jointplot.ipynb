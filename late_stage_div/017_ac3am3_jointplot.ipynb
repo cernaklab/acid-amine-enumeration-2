{
 "cells": [
  {
   "cell_type": "markdown",
   "id": "88daecb7",
   "metadata": {},
   "source": [
    "### draw joint distribution plots for the sp3 acid - sp3 amine system. (Fig. 4c)"
   ]
  },
  {
   "cell_type": "code",
   "execution_count": 1,
   "id": "19536640",
   "metadata": {},
   "outputs": [
    {
     "name": "stderr",
     "output_type": "stream",
     "text": [
      "RDKit WARNING: [16:20:45] Enabling RDKit 2019.09.3 jupyter extensions\n"
     ]
    }
   ],
   "source": [
    "import seaborn as sns\n",
    "from rdkit import Chem\n",
    "from rdkit.Chem import AllChem, Draw\n",
    "import pandas as pd\n",
    "\n",
    "from rdkit.Chem import rdMolDescriptors, Descriptors\n",
    "import numpy as np\n",
    "\n",
    "import matplotlib.pyplot as plt\n",
    "import seaborn as sns\n",
    "\n",
    "from tqdm.notebook import tqdm\n",
    "\n",
    "from matplotlib import cm\n",
    "plasma = cm.get_cmap('plasma', 32)"
   ]
  },
  {
   "cell_type": "code",
   "execution_count": 2,
   "id": "634eaf6e",
   "metadata": {},
   "outputs": [],
   "source": [
    "def getLogP(x): return Chem.rdMolDescriptors.CalcCrippenDescriptors(x)[0]\n",
    "def getMW(x): return Chem.Descriptors.MolWt(x)\n",
    "def getHBD(x): return Chem.rdMolDescriptors.CalcNumHBD(x)\n",
    "def getHBA(x): return Chem.rdMolDescriptors.CalcNumHBA(x)\n",
    "def getPSA(x): return Chem.rdMolDescriptors.CalcTPSA(x)\n",
    "def getROTB(x): return Chem.rdMolDescriptors.CalcNumRotatableBonds(x)\n",
    "def getAROM(x): return Chem.rdMolDescriptors.CalcNumAromaticRings(x)\n",
    "def getFSP3(x): return Chem.rdMolDescriptors.CalcFractionCSP3(x)\n",
    "def getFC(x): return Chem.rdmolops.GetFormalCharge(x)\n",
    "def getQED(x): return Chem.QED.qed(x)\n",
    "def getSSSR(x): return Chem.GetSSSR(x)\n",
    "\n",
    "def getallprops(s):\n",
    "    x = Chem.MolFromSmiles(s)\n",
    "    return [getLogP(x),getMW(x),getHBD(x),getHBA(x),getPSA(x),getROTB(x),getFSP3(x),getSSSR(x),getQED(x)]"
   ]
  },
  {
   "cell_type": "code",
   "execution_count": 3,
   "id": "5220a0f1",
   "metadata": {},
   "outputs": [],
   "source": [
    "prop_names = ['LogP', 'MW', 'HBD', 'HBA', 'PSA', 'ROTB', 'FSP3', 'SSSR', 'QED']"
   ]
  },
  {
   "cell_type": "code",
   "execution_count": 5,
   "id": "b5797875",
   "metadata": {},
   "outputs": [],
   "source": [
    "data1 = pd.read_csv(\"./ac3drug_am3small/ac3drug_am3small_props.csv\")"
   ]
  },
  {
   "cell_type": "code",
   "execution_count": 13,
   "id": "7fab520b",
   "metadata": {},
   "outputs": [
    {
     "data": {
      "text/html": [
       "<div>\n",
       "<style scoped>\n",
       "    .dataframe tbody tr th:only-of-type {\n",
       "        vertical-align: middle;\n",
       "    }\n",
       "\n",
       "    .dataframe tbody tr th {\n",
       "        vertical-align: top;\n",
       "    }\n",
       "\n",
       "    .dataframe thead th {\n",
       "        text-align: right;\n",
       "    }\n",
       "</style>\n",
       "<table border=\"1\" class=\"dataframe\">\n",
       "  <thead>\n",
       "    <tr style=\"text-align: right;\">\n",
       "      <th></th>\n",
       "      <th>rmat_tag</th>\n",
       "      <th>distance</th>\n",
       "      <th>largest_frag</th>\n",
       "      <th>largest_cleaned</th>\n",
       "      <th>LogP</th>\n",
       "      <th>MW</th>\n",
       "      <th>HBD</th>\n",
       "      <th>HBA</th>\n",
       "      <th>PSA</th>\n",
       "      <th>ROTB</th>\n",
       "      <th>FSP3</th>\n",
       "      <th>SSSR</th>\n",
       "      <th>QED</th>\n",
       "    </tr>\n",
       "  </thead>\n",
       "  <tbody>\n",
       "    <tr>\n",
       "      <th>4</th>\n",
       "      <td>34093126</td>\n",
       "      <td>2.0</td>\n",
       "      <td>C[15C][16C@H](c1ccc(N2Cc3ccccc3C2=O)cc1)[17C](...</td>\n",
       "      <td>CC[C@H](c1ccc(N2Cc3ccccc3C2=O)cc1)C(=O)N[C@H](...</td>\n",
       "      <td>5.218</td>\n",
       "      <td>398.506</td>\n",
       "      <td>1</td>\n",
       "      <td>2</td>\n",
       "      <td>49.41</td>\n",
       "      <td>6</td>\n",
       "      <td>0.230769</td>\n",
       "      <td>4</td>\n",
       "      <td>0.618973</td>\n",
       "    </tr>\n",
       "  </tbody>\n",
       "</table>\n",
       "</div>"
      ],
      "text/plain": [
       "   rmat_tag  distance                                       largest_frag  \\\n",
       "4  34093126       2.0  C[15C][16C@H](c1ccc(N2Cc3ccccc3C2=O)cc1)[17C](...   \n",
       "\n",
       "                                     largest_cleaned   LogP       MW  HBD  \\\n",
       "4  CC[C@H](c1ccc(N2Cc3ccccc3C2=O)cc1)C(=O)N[C@H](...  5.218  398.506    1   \n",
       "\n",
       "   HBA    PSA  ROTB      FSP3  SSSR       QED  \n",
       "4    2  49.41     6  0.230769     4  0.618973  "
      ]
     },
     "execution_count": 13,
     "metadata": {},
     "output_type": "execute_result"
    }
   ],
   "source": [
    "data1[data1.rmat_tag==34093126]"
   ]
  },
  {
   "cell_type": "code",
   "execution_count": 28,
   "id": "94a0c010",
   "metadata": {},
   "outputs": [],
   "source": [
    "# read data for entire molecule\n",
    "\n",
    "data1 = pd.read_csv(\"./ac3drug_am3small/ac3drug_am3small_props.csv\")\n",
    "# data1 = pd.read_csv(\"../../late_stage_div_copy/props_ac3drug_ac3small.csv\")\n",
    "data1[\"source\"] = [\"molecule\"] * len(data1)\n",
    "\n",
    "data1_props = data1[prop_names].copy()\n",
    "amide_row = np.array(data1[data1.rmat_tag==34093126][prop_names])\n",
    "\n",
    "# the change of each property in relation to the amide's\n",
    "data1_deltas = data1_props-amide_row"
   ]
  },
  {
   "cell_type": "code",
   "execution_count": 29,
   "id": "47ae964e",
   "metadata": {},
   "outputs": [],
   "source": [
    "# replace properties with difference from amide \n",
    "# technically can be new rows, but this takes less memory\n",
    "data1[prop_names] = data1_deltas"
   ]
  },
  {
   "cell_type": "code",
   "execution_count": 30,
   "id": "73c62444",
   "metadata": {},
   "outputs": [],
   "source": [
    "data1.sort_values(\"rmat_tag\",inplace=True)\n",
    "data1.reset_index(drop=True,inplace=True)"
   ]
  },
  {
   "cell_type": "code",
   "execution_count": 39,
   "id": "5a0c6d51",
   "metadata": {},
   "outputs": [],
   "source": [
    "# read data for reaction center only\n",
    "\n",
    "data2 = pd.read_csv(\"./ac3drug_am3small/ac3drug_am3small_rxn_centers_props.csv\")\n",
    "# data2 = pd.read_csv(\"../late_stage_div_copy/props_ac3drug_am3small_small.csv\")\n",
    "data2[\"source\"] = [\"RxnCenter\"] * len(data2)\n",
    "data2_props = data2[prop_names].copy()"
   ]
  },
  {
   "cell_type": "code",
   "execution_count": 40,
   "id": "b79bcd4a",
   "metadata": {},
   "outputs": [],
   "source": [
    "data2.sort_values(\"rmat_tag\",inplace=True)\n",
    "data2.reset_index(drop=True,inplace=True)"
   ]
  },
  {
   "cell_type": "code",
   "execution_count": 41,
   "id": "ad7a012b",
   "metadata": {},
   "outputs": [],
   "source": [
    "amide_center_row = np.array(data2[data2.rmat_tag==34093126][prop_names])\n",
    "\n",
    "data2_deltas = data2_props-amide_center_row\n",
    "data2[prop_names] = data2_deltas"
   ]
  },
  {
   "cell_type": "markdown",
   "id": "2415f10b",
   "metadata": {},
   "source": [
    "### setup for joint distribution plotting"
   ]
  },
  {
   "cell_type": "markdown",
   "id": "3a4deced",
   "metadata": {},
   "source": [
    "### these were hand-adjusted, given each property range."
   ]
  },
  {
   "cell_type": "code",
   "execution_count": 205,
   "id": "910914bb",
   "metadata": {},
   "outputs": [],
   "source": [
    "lims_dict = {\n",
    "# \"LogP\": [-6, -4, -2 , 0 , 2],\n",
    "\"LogP\": [-5, -2.5, 0 , 2.5],\n",
    "\"MW\": [ -400, -200,  0],\n",
    "\"HBD\": [-1,  0,  1,  2  ],\n",
    "\"HBA\": [-2, -1,  0,  1,  2],\n",
    "\"PSA\": [ -50, -25,   0,  25 , 50 ],\n",
    "\"ROTB\": [-6, -4, -2,  0 , 2 , 4],\n",
    "# \"FSP3\": [ -0.75, -0.5,  -0.25,  0. ,   0.25,  0.5 ,  0.75 ],\n",
    "\"FSP3\": [ -0.8,  -0.4, 0,    0.4,   0.8 ],\n",
    "\"SSSR\": [-5,   0,   5, 10 ],\n",
    "\"QED\": [-0.5 ,-0.25,  0. ,  0.25 , 0.5 ],\n",
    "}"
   ]
  },
  {
   "cell_type": "code",
   "execution_count": 206,
   "id": "742395e9",
   "metadata": {},
   "outputs": [],
   "source": [
    "labels_dict = {\n",
    "# \"LogP\": [\"–6\", \"–4\", \"–2\" , \"0\" , \"2\"],\n",
    "\"LogP\": [\"–5.0\", \"–2.5\", \"0\" , \"2.5\" ],\n",
    "\"MW\": [ \"–400\" ,\"–200\"  ,  \"0\"],\n",
    "\"HBD\": [\"–1\",  \"0\",  \"1\",  \"2\"  ],\n",
    "\"HBA\": [\"–2\", \"–1\",  \"0\",  \"1\",  \"2\"],\n",
    "\"PSA\": [ \"–50\", \"–25\",   \"0\",  \"25\" , \"50\" ],\n",
    "\"ROTB\": [\"–6\", \"–4\", \"–2\",  \"0\" , \"2\" , \"4\"],\n",
    "# \"FSP3\": [ -0.75, -0.5,  -0.25,  0. ,   0.25,  0.5 ,  0.75 ],\n",
    "\"FSP3\": [ \"–0.8\",  \"–0.4\",  \"0\",   \"0.4\",   \"0.8\" ],\n",
    "\"SSSR\": [\"–5\",   \"0\",   \"5\", \"10\" ],\n",
    "\"QED\": [\"–0.50\" ,\"–0.25\",  \"0\" ,  \"0.25\" , \"0.50\" ],\n",
    "}"
   ]
  },
  {
   "cell_type": "code",
   "execution_count": 207,
   "id": "aee55719",
   "metadata": {},
   "outputs": [],
   "source": [
    "props = np.array(['LogP', 'MW', 'HBD', 'HBA', 'PSA', 'ROTB', 'FSP3', 'SSSR', 'QED'])"
   ]
  },
  {
   "cell_type": "code",
   "execution_count": 208,
   "id": "209c2b14",
   "metadata": {},
   "outputs": [],
   "source": [
    "axis_scaleup =              [0.1,   0.1,   0.1,  0.1,   0.1,   0.1,    0.1,    0.1,    0.1]"
   ]
  },
  {
   "cell_type": "code",
   "execution_count": 209,
   "id": "598af9a6",
   "metadata": {
    "scrolled": false
   },
   "outputs": [
    {
     "data": {
      "image/png": "[encoded data removed]",
      "text/plain": [
       "<Figure size 144x144 with 3 Axes>"
      ]
     },
     "metadata": {
      "needs_background": "light"
     },
     "output_type": "display_data"
    },
    {
     "data": {
      "image/png": "[encoded data removed]",
      "text/plain": [
       "<Figure size 144x144 with 3 Axes>"
      ]
     },
     "metadata": {
      "needs_background": "light"
     },
     "output_type": "display_data"
    },
    {
     "data": {
      "image/png": "[encoded data removed]",
      "text/plain": [
       "<Figure size 144x144 with 3 Axes>"
      ]
     },
     "metadata": {
      "needs_background": "light"
     },
     "output_type": "display_data"
    },
    {
     "data": {
      "image/png": "[encoded data removed]",
      "text/plain": [
       "<Figure size 144x144 with 3 Axes>"
      ]
     },
     "metadata": {
      "needs_background": "light"
     },
     "output_type": "display_data"
    },
    {
     "data": {
      "image/png": "[encoded data removed]",
      "text/plain": [
       "<Figure size 144x144 with 3 Axes>"
      ]
     },
     "metadata": {
      "needs_background": "light"
     },
     "output_type": "display_data"
    },
    {
     "data": {
      "image/png": "[encoded data removed]",
      "text/plain": [
       "<Figure size 144x144 with 3 Axes>"
      ]
     },
     "metadata": {
      "needs_background": "light"
     },
     "output_type": "display_data"
    },
    {
     "data": {
      "image/png": "[encoded data removed]",
      "text/plain": [
       "<Figure size 144x144 with 3 Axes>"
      ]
     },
     "metadata": {
      "needs_background": "light"
     },
     "output_type": "display_data"
    },
    {
     "data": {
      "image/png": "[encoded data removed]",
      "text/plain": [
       "<Figure size 144x144 with 3 Axes>"
      ]
     },
     "metadata": {
      "needs_background": "light"
     },
     "output_type": "display_data"
    },
    {
     "data": {
      "image/png": "[encoded data removed]",
      "text/plain": [
       "<Figure size 144x144 with 3 Axes>"
      ]
     },
     "metadata": {
      "needs_background": "light"
     },
     "output_type": "display_data"
    }
   ],
   "source": [
    "# fig,axs = plt.subplots(9)\n",
    "# axs_f = axs.flatten()\n",
    "\n",
    "for ip, prop in enumerate(['LogP', 'MW', 'HBD', 'HBA', 'PSA', 'ROTB', 'FSP3', 'SSSR', 'QED']):\n",
    "\n",
    "# prop = \"HBA\"\n",
    "\n",
    "    new_df = pd.DataFrame()\n",
    "\n",
    "    new_df = pd.concat((data1[prop], data2[prop]),axis=1)\n",
    "    new_df.columns=(f\"{prop}1\",f\"{prop}2\")\n",
    "    new_df[\"distance\"] = [\"foo\"]*len(new_df)\n",
    "\n",
    "#     df_short = new_df.iloc[::500]\n",
    "    df_short = new_df\n",
    "    \n",
    "    \n",
    "    lims = np.array([\n",
    "    np.min( [np.min(data1[prop]),np.min(data2[prop])] ), # min of both axes\n",
    "    np.max( [np.max(data1[prop]),np.max(data2[prop])] )  # max of both axes\n",
    "    ])\n",
    "    \n",
    "    lim_range = lims[1] - lims[0]\n",
    "    \n",
    "    lims[0] -= lim_range*axis_scaleup[ip]\n",
    "    lims[1] += lim_range*axis_scaleup[ip]\n",
    "    \n",
    "#     plt.figure(figsize=(2,2))\n",
    "\n",
    "    g = sns.jointplot(data=df_short,x=f\"{prop}1\",y=f\"{prop}2\",hue=\"distance\",legend=False,\n",
    "                      alpha=0.1,ratio=2,xlim=lims,ylim=lims,height=2)\n",
    "    \n",
    "    \n",
    "    \n",
    "    gg = 0.3\n",
    "    \n",
    "    g.ax_joint.cla()\n",
    "    \n",
    "    sns.scatterplot(data=df_short,x=f\"{prop}1\",y=f\"{prop}2\", s=3,alpha=0.1,\n",
    "                ax=g.ax_joint)\n",
    "    \n",
    "    if prop == \"SSSR\":\n",
    "        g.set_axis_labels(r'$\\Delta$'+\"Rings\", \"\", fontsize=6,font=\"Arial\")\n",
    "    else:\n",
    "        \n",
    "        g.set_axis_labels(r'$\\Delta$'+f\"{prop}\", \"\", fontsize=6,font=\"Arial\")\n",
    "    g.ax_joint.set_xticks(lims_dict[prop])\n",
    "    g.ax_joint.set_yticks(lims_dict[prop])\n",
    "    \n",
    "    g.ax_joint.set_xticklabels(labels_dict[prop],rotation=45,font=\"Arial\",fontsize=7)\n",
    "    g.ax_joint.set_yticklabels(labels_dict[prop],font=\"Arial\",fontsize=7)\n",
    "    \n",
    "    g.ax_joint.axvline(0,color=(gg,gg,gg,1),ls=\"--\",linewidth=1)\n",
    "    g.ax_joint.axhline(0,color=(gg,gg,gg,1),ls=\"--\",linewidth=1)\n",
    "    plt.tight_layout()\n",
    "    \n",
    "    \n",
    "    \n",
    "#     print(g.ax_marg_x.get_xticks())\n",
    "    plt.savefig(f\"fig3b_{prop}_small.png\",dpi=900)\n",
    "#     g.ax_joint.set_xticks((lims[0],0,lims[1]))\n",
    "# plt.show()\n",
    "#     ax1 = sns.jointplot(x=x, y=y)\n",
    "#     g.ax_joint.cla()\n",
    "#     plt.sca(g.ax_joint)\n",
    "\n",
    "#     plt.hist2d(df_short[f\"{prop}1\"],df_short[f\"{prop}2\"], bins=(100, 100), cmap=\"plasma\",cmin=1);\n"
   ]
  }
 ],
 "metadata": {
  "kernelspec": {
   "display_name": "Python 3",
   "language": "python",
   "name": "python3"
  },
  "language_info": {
   "codemirror_mode": {
    "name": "ipython",
    "version": 3
   },
   "file_extension": ".py",
   "mimetype": "text/x-python",
   "name": "python",
   "nbconvert_exporter": "python",
   "pygments_lexer": "ipython3",
   "version": "3.6.12"
  }
 },
 "nbformat": 4,
 "nbformat_minor": 5
}
