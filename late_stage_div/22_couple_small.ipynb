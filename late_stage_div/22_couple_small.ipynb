{
 "cells": [
  {
   "cell_type": "code",
   "execution_count": 2,
   "id": "4d8870fa",
   "metadata": {},
   "outputs": [],
   "source": [
    "# I don't think filtering to only good pubchem amines is necessarily a good thing, since it's not mega fair.\n",
    "# I think we should keep it, but save the amine smiles too, so that we can have means of filtering down the line.\n"
   ]
  },
  {
   "cell_type": "code",
   "execution_count": 14,
   "id": "e9254f51",
   "metadata": {},
   "outputs": [],
   "source": [
    "from rdkit import Chem\n",
    "from rdkit.Chem import AllChem\n",
    "from rdkit.Chem.Draw import IPythonConsole\n",
    "# from rdkit.Chem.Draw import MolDrawing, DrawingOptions, MolToImage\n",
    "\n",
    "from rdkit import RDLogger\n",
    "lg = RDLogger.logger()\n",
    "lg.setLevel(RDLogger.CRITICAL)\n",
    "\n",
    "import numpy as np\n",
    "\n",
    "from tqdm.notebook import tqdm\n",
    "\n",
    "from tqdm.contrib.concurrent import process_map\n",
    "\n",
    "import pandas as pd"
   ]
  },
  {
   "cell_type": "code",
   "execution_count": 5,
   "id": "36cddb5f",
   "metadata": {},
   "outputs": [],
   "source": [
    "def apply_amat(acid,acid_match,amine,amine_match,rmat):\n",
    "    \"\"\"\n",
    "    needs the smarts of the acid and amine pre-defined. maybe an external dictionary.\n",
    "    \"\"\"\n",
    "    # combine molecules and make a writable version\n",
    "    both = Chem.CombineMols(acid,amine)\n",
    "    bothW = Chem.RWMol(both)\n",
    "    Chem.Kekulize(both,clearAromaticFlags=True)\n",
    "#     Chem.Kekulize(bothW,clearAromaticFlags=True)\n",
    "    # get the indices for the acid and amine matches. NEEDS TO BE ROBUST TOWARDS MULTIPLE VALIDITIES\n",
    "    amine_atoms = both.GetSubstructMatch(group_dict[amine_match])\n",
    "    acid_atoms = both.GetSubstructMatch(group_dict[acid_match])\n",
    "    \n",
    "    if not (amine_atoms and acid_atoms):\n",
    "        print(\"substruct match not found\")\n",
    "        return\n",
    "    # join the indices\n",
    "    atom_list = amine_atoms + acid_atoms\n",
    "#     print(atom_list)\n",
    "    \n",
    "    # go through the amat to find places where the change is not 0\n",
    "    side_len = len(rmat)\n",
    "    \n",
    "    if side_len != len(atom_list):\n",
    "        print(\"matrix length does not equal number of matched atoms\")\n",
    "        return\n",
    "    for r in range(side_len):\n",
    "        for c in range(r+1,side_len):\n",
    "            bond_order_change = rmat[r][c]\n",
    "            if bond_order_change != 0: \n",
    "                atom1 = atom_list[amat2ind[r]]\n",
    "                atom2 = atom_list[amat2ind[c]]\n",
    "                # get the current bond order\n",
    "                current_bond = both.GetBondBetweenAtoms(atom1,atom2)\n",
    "                if current_bond: \n",
    "                    current_bond_order = current_bond.GetBondTypeAsDouble()\n",
    "                    \n",
    "                    \n",
    "                else: \n",
    "                    current_bond_order = 0\n",
    "#                 print(\"bond order is\", current_bond_order)\n",
    "#                 print(f\"bond order change is {bond_order_change}\")\n",
    "                \n",
    "                new_bond_order = current_bond_order + bond_order_change\n",
    "#                 print(\"new bond order is\", new_bond_order)\n",
    "                \n",
    "                if new_bond_order not in [0,1,2,3]:\n",
    "#                     print(\"invalid new bond order\")\n",
    "                    return None\n",
    "                # ok now actually make bond changes\n",
    "                \n",
    "                bothW.RemoveBond(atom1,atom2)\n",
    "                \n",
    "                if new_bond_order > 0:\n",
    "                    bothW.AddBond(atom1,atom2, bond_dict[new_bond_order])\n",
    "\n",
    "                        \n",
    "    try:\n",
    "        Chem.SanitizeMol(bothW)\n",
    "\n",
    "    except:\n",
    "#         print(\"illegal structure\")\n",
    "        return None\n",
    "\n",
    "    # may need to become smiles if we want to multitarget, as well as have fragments included.\n",
    "    return bothW\n",
    "\n",
    "# bb = apply_amat(ac, \"ac3\",am, \"am2\",rmat)"
   ]
  },
  {
   "cell_type": "code",
   "execution_count": 6,
   "id": "36a4b6b1",
   "metadata": {},
   "outputs": [
    {
     "data": {
      "image/png": "[encoded data removed]",
      "text/plain": [
       "<rdkit.Chem.rdchem.Mol at 0x7ff92f5cd640>"
      ]
     },
     "execution_count": 6,
     "metadata": {},
     "output_type": "execute_result"
    }
   ],
   "source": [
    "sp2_acid_smiles = '[17O]=[17C]([18O])[16C]=[15C]'\n",
    "basic_acid = Chem.MolFromSmiles(sp2_acid_smiles)\n",
    "basic_acid"
   ]
  },
  {
   "cell_type": "code",
   "execution_count": 7,
   "id": "ef256958",
   "metadata": {},
   "outputs": [
    {
     "data": {
      "image/png": "[encoded data removed]",
      "text/plain": [
       "<rdkit.Chem.rdchem.Mol at 0x7ff92d776340>"
      ]
     },
     "execution_count": 7,
     "metadata": {},
     "output_type": "execute_result"
    }
   ],
   "source": [
    "sp2_amine_smiles = \"[15N][14C]=[13C]\"\n",
    "basic_amine = Chem.MolFromSmiles(sp2_amine_smiles)\n",
    "basic_amine"
   ]
  },
  {
   "cell_type": "code",
   "execution_count": 8,
   "id": "bd843449",
   "metadata": {},
   "outputs": [],
   "source": [
    "am2 = Chem.MolFromSmarts(\"[13C]=[14C][15N]\")\n",
    "ac2 = Chem.MolFromSmarts(\"[15C]=[16C][17C](=[17O])[18O]\")\n",
    "am3 = Chem.MolFromSmarts(\"[13C][14C][15N]\")\n",
    "ac3 = Chem.MolFromSmarts(\"[15C][16C][17C](=[17O])[18O]\")\n",
    "\n",
    "\n",
    "group_dict = {\"ac2\":ac2, \"ac3\":ac3,\"am2\":am2,\"am3\":am3}\n",
    "# the dictionary is basically like, first entry is amine C1. second entry is amine c2. \n",
    "# this changes depending on the matrix, and how the smarts for the matcher is written. \n",
    "\n",
    "# number of entries in the amat\n",
    "amat_indices = range(8)\n",
    "# which entry each index should map to\n",
    "mapping_order = [0,1,3,4,5,2,6,7]\n",
    "# mapping_order = [3,4,5,0,1,2,6,7]\n",
    "\n",
    "\n",
    "# amat index -> amine/acid match index\n",
    "amat2ind = {k:v for k,v in zip(amat_indices, mapping_order)}\n",
    "\n",
    "bond_dict = {1:Chem.BondType.SINGLE, 2:Chem.BondType.DOUBLE, 3:Chem.BondType.TRIPLE}\n"
   ]
  },
  {
   "cell_type": "code",
   "execution_count": 9,
   "id": "f1a42b1d",
   "metadata": {},
   "outputs": [
    {
     "data": {
      "image/png": "[encoded data removed]",
      "text/plain": [
       "<rdkit.Chem.rdchem.Mol at 0x7ff92f5cd640>"
      ]
     },
     "execution_count": 9,
     "metadata": {},
     "output_type": "execute_result"
    }
   ],
   "source": [
    "basic_acid.GetSubstructMatch(ac2)\n",
    "basic_acid"
   ]
  },
  {
   "cell_type": "code",
   "execution_count": 10,
   "id": "1420cfed",
   "metadata": {},
   "outputs": [
    {
     "data": {
      "image/png": "[encoded data removed]",
      "text/plain": [
       "<rdkit.Chem.rdchem.Mol at 0x7ff92d776340>"
      ]
     },
     "execution_count": 10,
     "metadata": {},
     "output_type": "execute_result"
    }
   ],
   "source": [
    "basic_amine.GetSubstructMatch(am2)\n",
    "basic_amine"
   ]
  },
  {
   "cell_type": "code",
   "execution_count": 11,
   "id": "dfff455a",
   "metadata": {},
   "outputs": [],
   "source": [
    "large_data = pd.read_csv(\"coupled_aromatic_ac2drug_am2small.csv\")"
   ]
  },
  {
   "cell_type": "code",
   "execution_count": 13,
   "id": "d39d4796",
   "metadata": {},
   "outputs": [
    {
     "data": {
      "text/html": [
       "<div>\n",
       "<style scoped>\n",
       "    .dataframe tbody tr th:only-of-type {\n",
       "        vertical-align: middle;\n",
       "    }\n",
       "\n",
       "    .dataframe tbody tr th {\n",
       "        vertical-align: top;\n",
       "    }\n",
       "\n",
       "    .dataframe thead th {\n",
       "        text-align: right;\n",
       "    }\n",
       "</style>\n",
       "<table border=\"1\" class=\"dataframe\">\n",
       "  <thead>\n",
       "    <tr style=\"text-align: right;\">\n",
       "      <th></th>\n",
       "      <th>rmat_tag</th>\n",
       "      <th>distance</th>\n",
       "      <th>largest_frag</th>\n",
       "      <th>largest_cleaned</th>\n",
       "    </tr>\n",
       "  </thead>\n",
       "  <tbody>\n",
       "    <tr>\n",
       "      <th>0</th>\n",
       "      <td>50231461</td>\n",
       "      <td>1.0</td>\n",
       "      <td>O=C(Cn1c(-c2ccccc2)c(C2CCCCC2)c2c[15c]([15N][1...</td>\n",
       "      <td>O=C(Cn1c(-c2ccccc2)c(C2CCCCC2)c2cc(Nc3cc(Cl)cc...</td>\n",
       "    </tr>\n",
       "    <tr>\n",
       "      <th>1</th>\n",
       "      <td>53844353</td>\n",
       "      <td>1.0</td>\n",
       "      <td>[15N][14c]1cc(Cl)cc(Cl)[13c]1-[15c]1cc2c(C3CCC...</td>\n",
       "      <td>Nc1cc(Cl)cc(Cl)c1-c1cc2c(C3CCCCC3)c(-c3ccccc3)...</td>\n",
       "    </tr>\n",
       "    <tr>\n",
       "      <th>2</th>\n",
       "      <td>50626702</td>\n",
       "      <td>1.0</td>\n",
       "      <td>[15N][14c]1cc(Cl)cc(Cl)[13c]1[18O][17C](=[17O]...</td>\n",
       "      <td>Nc1cc(Cl)cc(Cl)c1OC(=O)c1cc2c(cc1)c(C1CCCCC1)c...</td>\n",
       "    </tr>\n",
       "    <tr>\n",
       "      <th>3</th>\n",
       "      <td>50230203</td>\n",
       "      <td>1.0</td>\n",
       "      <td>O=C(Cn1c(-c2ccccc2)c(C2CCCCC2)c2c[15c][16c]([1...</td>\n",
       "      <td>O=C(Cn1c(-c2ccccc2)c(C2CCCCC2)c2ccc(C(=O)ONc3c...</td>\n",
       "    </tr>\n",
       "    <tr>\n",
       "      <th>4</th>\n",
       "      <td>53844354</td>\n",
       "      <td>2.0</td>\n",
       "      <td>O=C(Cn1c(-c2ccccc2)c(C2CCCCC2)c2c[15c]3[16c](c...</td>\n",
       "      <td>O=C(Cn1c(-c2ccccc2)c(C2CCCCC2)c2cc3c(cc21)C(=O...</td>\n",
       "    </tr>\n",
       "  </tbody>\n",
       "</table>\n",
       "</div>"
      ],
      "text/plain": [
       "   rmat_tag  distance                                       largest_frag  \\\n",
       "0  50231461       1.0  O=C(Cn1c(-c2ccccc2)c(C2CCCCC2)c2c[15c]([15N][1...   \n",
       "1  53844353       1.0  [15N][14c]1cc(Cl)cc(Cl)[13c]1-[15c]1cc2c(C3CCC...   \n",
       "2  50626702       1.0  [15N][14c]1cc(Cl)cc(Cl)[13c]1[18O][17C](=[17O]...   \n",
       "3  50230203       1.0  O=C(Cn1c(-c2ccccc2)c(C2CCCCC2)c2c[15c][16c]([1...   \n",
       "4  53844354       2.0  O=C(Cn1c(-c2ccccc2)c(C2CCCCC2)c2c[15c]3[16c](c...   \n",
       "\n",
       "                                     largest_cleaned  \n",
       "0  O=C(Cn1c(-c2ccccc2)c(C2CCCCC2)c2cc(Nc3cc(Cl)cc...  \n",
       "1  Nc1cc(Cl)cc(Cl)c1-c1cc2c(C3CCCCC3)c(-c3ccccc3)...  \n",
       "2  Nc1cc(Cl)cc(Cl)c1OC(=O)c1cc2c(cc1)c(C1CCCCC1)c...  \n",
       "3  O=C(Cn1c(-c2ccccc2)c(C2CCCCC2)c2ccc(C(=O)ONc3c...  \n",
       "4  O=C(Cn1c(-c2ccccc2)c(C2CCCCC2)c2cc3c(cc21)C(=O...  "
      ]
     },
     "execution_count": 13,
     "metadata": {},
     "output_type": "execute_result"
    }
   ],
   "source": [
    "large_data.head()"
   ]
  },
  {
   "cell_type": "code",
   "execution_count": 12,
   "id": "0583f1e6",
   "metadata": {},
   "outputs": [],
   "source": [
    "valid_rmat_inds = np.array(list(large_data.rmat_tag))"
   ]
  },
  {
   "cell_type": "code",
   "execution_count": 13,
   "id": "65fb6ef7",
   "metadata": {},
   "outputs": [],
   "source": [
    "valid_rmat_inds.sort()"
   ]
  },
  {
   "cell_type": "code",
   "execution_count": 14,
   "id": "694ddc61",
   "metadata": {},
   "outputs": [],
   "source": [
    "file_tag = 20\n",
    "\n",
    "def run_enumeration(file_tag):\n",
    "    index_start = file_tag * 1000000\n",
    "    index_end = (file_tag+1) * 1000000\n",
    "\n",
    "    valid_ind_locs = np.where(np.logical_and(valid_rmat_inds>= index_start,valid_rmat_inds < index_end))[0]\n",
    "\n",
    "    # get the rmat inds needed\n",
    "    rmat_inds_to_use = valid_rmat_inds[valid_ind_locs]\n",
    "\n",
    "    # the local index for that particular file.\n",
    "    rmat_inds_local = rmat_inds_to_use - file_tag * 1000000\n",
    "\n",
    "\n",
    "    # rmat_inds_to_use is the true rmat_tag\n",
    "\n",
    "\n",
    "    dmats = np.load(f\"../backup/dmats_ac2am2_{str(file_tag).zfill(2)}.npy\")\n",
    "    dmats_to_use = dmats[rmat_inds_local]\n",
    "\n",
    "    out_file = open(f\"./ac2drug_am2small/ac2drug_am2small_small_{file_tag}.csv\",\"w\")\n",
    "    out_file.write(\"rmat_tag,pdt_smiles\\n\")\n",
    "    for i,dmat in tqdm(enumerate(dmats_to_use)):\n",
    "\n",
    "\n",
    "#         matrix_index = rmat_inds_to_use[i]\n",
    "#         m = apply_amat(basic_acid,\"ac2\",basic_amine,\"am2\",dmat)\n",
    "#         s = Chem.MolToSmiles(m,isomericSmiles=True)\n",
    "#         out_file.write(s+\"\\n\")\n",
    "        try:\n",
    "            matrix_index = rmat_inds_to_use[i]\n",
    "            m = apply_amat(basic_acid,\"ac2\",basic_amine,\"am2\",dmat)\n",
    "            s = Chem.MolToSmiles(m,isomericSmiles=True)\n",
    "            out_file.write(f\"{matrix_index},{s}\\n\")\n",
    "\n",
    "        except:\n",
    "            continue\n",
    "\n",
    "    out_file.close()\n"
   ]
  },
  {
   "cell_type": "code",
   "execution_count": 15,
   "id": "23e34ec1",
   "metadata": {
    "collapsed": true
   },
   "outputs": [
    {
     "data": {
      "application/vnd.jupyter.widget-view+json": {
       "model_id": "fa99a0380fac4964a9aac177a8197627",
       "version_major": 2,
       "version_minor": 0
      },
      "text/plain": [
       "0it [00:00, ?it/s]"
      ]
     },
     "metadata": {},
     "output_type": "display_data"
    },
    {
     "data": {
      "application/vnd.jupyter.widget-view+json": {
       "model_id": "37c5e31dc2984a18bda44f0fbd78fe8c",
       "version_major": 2,
       "version_minor": 0
      },
      "text/plain": [
       "0it [00:00, ?it/s]"
      ]
     },
     "metadata": {},
     "output_type": "display_data"
    },
    {
     "data": {
      "application/vnd.jupyter.widget-view+json": {
       "model_id": "54599e9401f147d6aeefde2674150b10",
       "version_major": 2,
       "version_minor": 0
      },
      "text/plain": [
       "0it [00:00, ?it/s]"
      ]
     },
     "metadata": {},
     "output_type": "display_data"
    },
    {
     "data": {
      "application/vnd.jupyter.widget-view+json": {
       "model_id": "4ff33459654544d290550b8b1cb03538",
       "version_major": 2,
       "version_minor": 0
      },
      "text/plain": [
       "0it [00:00, ?it/s]"
      ]
     },
     "metadata": {},
     "output_type": "display_data"
    },
    {
     "data": {
      "application/vnd.jupyter.widget-view+json": {
       "model_id": "9e7c6019743d4176a779a4ea4c3df45b",
       "version_major": 2,
       "version_minor": 0
      },
      "text/plain": [
       "0it [00:00, ?it/s]"
      ]
     },
     "metadata": {},
     "output_type": "display_data"
    },
    {
     "data": {
      "application/vnd.jupyter.widget-view+json": {
       "model_id": "70e9b5dd46574104af8673af80209b8f",
       "version_major": 2,
       "version_minor": 0
      },
      "text/plain": [
       "0it [00:00, ?it/s]"
      ]
     },
     "metadata": {},
     "output_type": "display_data"
    },
    {
     "data": {
      "application/vnd.jupyter.widget-view+json": {
       "model_id": "58525fe101ce4d3a948ec8ece609205b",
       "version_major": 2,
       "version_minor": 0
      },
      "text/plain": [
       "0it [00:00, ?it/s]"
      ]
     },
     "metadata": {},
     "output_type": "display_data"
    },
    {
     "data": {
      "application/vnd.jupyter.widget-view+json": {
       "model_id": "d849d1b980c6434d840f95ec0b8c7386",
       "version_major": 2,
       "version_minor": 0
      },
      "text/plain": [
       "0it [00:00, ?it/s]"
      ]
     },
     "metadata": {},
     "output_type": "display_data"
    },
    {
     "data": {
      "application/vnd.jupyter.widget-view+json": {
       "model_id": "90f69de963c6422eb1e54ec3fa85381e",
       "version_major": 2,
       "version_minor": 0
      },
      "text/plain": [
       "0it [00:00, ?it/s]"
      ]
     },
     "metadata": {},
     "output_type": "display_data"
    },
    {
     "data": {
      "application/vnd.jupyter.widget-view+json": {
       "model_id": "edc5ff67ed1c4e59ab2e0991c2f464c0",
       "version_major": 2,
       "version_minor": 0
      },
      "text/plain": [
       "0it [00:00, ?it/s]"
      ]
     },
     "metadata": {},
     "output_type": "display_data"
    },
    {
     "data": {
      "application/vnd.jupyter.widget-view+json": {
       "model_id": "7ba613f0bc63477d9d63ea4f7cd2cd89",
       "version_major": 2,
       "version_minor": 0
      },
      "text/plain": [
       "0it [00:00, ?it/s]"
      ]
     },
     "metadata": {},
     "output_type": "display_data"
    },
    {
     "data": {
      "application/vnd.jupyter.widget-view+json": {
       "model_id": "efd94eb743434fe1ba47ec1ca6d78fe0",
       "version_major": 2,
       "version_minor": 0
      },
      "text/plain": [
       "0it [00:00, ?it/s]"
      ]
     },
     "metadata": {},
     "output_type": "display_data"
    },
    {
     "data": {
      "application/vnd.jupyter.widget-view+json": {
       "model_id": "6bc29b988c93400ab77d03000c2c5ab1",
       "version_major": 2,
       "version_minor": 0
      },
      "text/plain": [
       "0it [00:00, ?it/s]"
      ]
     },
     "metadata": {},
     "output_type": "display_data"
    },
    {
     "data": {
      "application/vnd.jupyter.widget-view+json": {
       "model_id": "d92bbce2628e4dcd8f7c1b2bcfeec883",
       "version_major": 2,
       "version_minor": 0
      },
      "text/plain": [
       "0it [00:00, ?it/s]"
      ]
     },
     "metadata": {},
     "output_type": "display_data"
    },
    {
     "data": {
      "application/vnd.jupyter.widget-view+json": {
       "model_id": "7884fcd91d6540279f4d0f7935c78e2f",
       "version_major": 2,
       "version_minor": 0
      },
      "text/plain": [
       "0it [00:00, ?it/s]"
      ]
     },
     "metadata": {},
     "output_type": "display_data"
    },
    {
     "data": {
      "application/vnd.jupyter.widget-view+json": {
       "model_id": "bc765c7c2be147b883fddf41d446b863",
       "version_major": 2,
       "version_minor": 0
      },
      "text/plain": [
       "0it [00:00, ?it/s]"
      ]
     },
     "metadata": {},
     "output_type": "display_data"
    },
    {
     "data": {
      "application/vnd.jupyter.widget-view+json": {
       "model_id": "6b7fbb37591241a08ffba6d658b440df",
       "version_major": 2,
       "version_minor": 0
      },
      "text/plain": [
       "0it [00:00, ?it/s]"
      ]
     },
     "metadata": {},
     "output_type": "display_data"
    },
    {
     "data": {
      "application/vnd.jupyter.widget-view+json": {
       "model_id": "a4c4663d61ee4389830257bbc2b8e338",
       "version_major": 2,
       "version_minor": 0
      },
      "text/plain": [
       "0it [00:00, ?it/s]"
      ]
     },
     "metadata": {},
     "output_type": "display_data"
    },
    {
     "data": {
      "application/vnd.jupyter.widget-view+json": {
       "model_id": "8d5a2a55f93c4e27988343cac61ae302",
       "version_major": 2,
       "version_minor": 0
      },
      "text/plain": [
       "0it [00:00, ?it/s]"
      ]
     },
     "metadata": {},
     "output_type": "display_data"
    },
    {
     "data": {
      "application/vnd.jupyter.widget-view+json": {
       "model_id": "290aaf93557343b1a360669e5fc58bff",
       "version_major": 2,
       "version_minor": 0
      },
      "text/plain": [
       "0it [00:00, ?it/s]"
      ]
     },
     "metadata": {},
     "output_type": "display_data"
    },
    {
     "data": {
      "application/vnd.jupyter.widget-view+json": {
       "model_id": "f218e63511dc4bd3bf736628e38579be",
       "version_major": 2,
       "version_minor": 0
      },
      "text/plain": [
       "0it [00:00, ?it/s]"
      ]
     },
     "metadata": {},
     "output_type": "display_data"
    },
    {
     "data": {
      "application/vnd.jupyter.widget-view+json": {
       "model_id": "74db0504fb7f4f268135133d3be11458",
       "version_major": 2,
       "version_minor": 0
      },
      "text/plain": [
       "0it [00:00, ?it/s]"
      ]
     },
     "metadata": {},
     "output_type": "display_data"
    },
    {
     "data": {
      "application/vnd.jupyter.widget-view+json": {
       "model_id": "7e4a8b581f024a4abd2638b2c5a474ea",
       "version_major": 2,
       "version_minor": 0
      },
      "text/plain": [
       "0it [00:00, ?it/s]"
      ]
     },
     "metadata": {},
     "output_type": "display_data"
    },
    {
     "data": {
      "application/vnd.jupyter.widget-view+json": {
       "model_id": "a7d05a04a0b143f78fbfafb847d14ab9",
       "version_major": 2,
       "version_minor": 0
      },
      "text/plain": [
       "0it [00:00, ?it/s]"
      ]
     },
     "metadata": {},
     "output_type": "display_data"
    },
    {
     "data": {
      "application/vnd.jupyter.widget-view+json": {
       "model_id": "3c2c7e12d11e460fa4b0d49af2b2ec30",
       "version_major": 2,
       "version_minor": 0
      },
      "text/plain": [
       "0it [00:00, ?it/s]"
      ]
     },
     "metadata": {},
     "output_type": "display_data"
    },
    {
     "data": {
      "application/vnd.jupyter.widget-view+json": {
       "model_id": "3ad45f1364f345dbb26e102cf8054209",
       "version_major": 2,
       "version_minor": 0
      },
      "text/plain": [
       "0it [00:00, ?it/s]"
      ]
     },
     "metadata": {},
     "output_type": "display_data"
    },
    {
     "data": {
      "application/vnd.jupyter.widget-view+json": {
       "model_id": "cfd7146f798b40afb14e8f2e1c55c104",
       "version_major": 2,
       "version_minor": 0
      },
      "text/plain": [
       "0it [00:00, ?it/s]"
      ]
     },
     "metadata": {},
     "output_type": "display_data"
    },
    {
     "data": {
      "application/vnd.jupyter.widget-view+json": {
       "model_id": "b76a8670e49649a6979e20df7febeef2",
       "version_major": 2,
       "version_minor": 0
      },
      "text/plain": [
       "0it [00:00, ?it/s]"
      ]
     },
     "metadata": {},
     "output_type": "display_data"
    },
    {
     "data": {
      "application/vnd.jupyter.widget-view+json": {
       "model_id": "4056760704a7465284024166727bc03a",
       "version_major": 2,
       "version_minor": 0
      },
      "text/plain": [
       "0it [00:00, ?it/s]"
      ]
     },
     "metadata": {},
     "output_type": "display_data"
    },
    {
     "data": {
      "application/vnd.jupyter.widget-view+json": {
       "model_id": "9e90e7ca321d42cdbb9800e83603177d",
       "version_major": 2,
       "version_minor": 0
      },
      "text/plain": [
       "0it [00:00, ?it/s]"
      ]
     },
     "metadata": {},
     "output_type": "display_data"
    },
    {
     "data": {
      "application/vnd.jupyter.widget-view+json": {
       "model_id": "ac6975b563e24152adbc7e538ee39ad9",
       "version_major": 2,
       "version_minor": 0
      },
      "text/plain": [
       "0it [00:00, ?it/s]"
      ]
     },
     "metadata": {},
     "output_type": "display_data"
    },
    {
     "data": {
      "application/vnd.jupyter.widget-view+json": {
       "model_id": "5316ae787e4e4d72b33a37fbb96d65ff",
       "version_major": 2,
       "version_minor": 0
      },
      "text/plain": [
       "0it [00:00, ?it/s]"
      ]
     },
     "metadata": {},
     "output_type": "display_data"
    },
    {
     "data": {
      "application/vnd.jupyter.widget-view+json": {
       "model_id": "3a11bda46d134be4b2a91dc11831ab40",
       "version_major": 2,
       "version_minor": 0
      },
      "text/plain": [
       "0it [00:00, ?it/s]"
      ]
     },
     "metadata": {},
     "output_type": "display_data"
    },
    {
     "data": {
      "application/vnd.jupyter.widget-view+json": {
       "model_id": "8faedf1f4345452eb861a34e64b57cca",
       "version_major": 2,
       "version_minor": 0
      },
      "text/plain": [
       "0it [00:00, ?it/s]"
      ]
     },
     "metadata": {},
     "output_type": "display_data"
    },
    {
     "data": {
      "application/vnd.jupyter.widget-view+json": {
       "model_id": "3740fd996a1a4b83a0f9b4fd40441929",
       "version_major": 2,
       "version_minor": 0
      },
      "text/plain": [
       "0it [00:00, ?it/s]"
      ]
     },
     "metadata": {},
     "output_type": "display_data"
    },
    {
     "data": {
      "application/vnd.jupyter.widget-view+json": {
       "model_id": "757432517fb4481ea388405f37ecedb9",
       "version_major": 2,
       "version_minor": 0
      },
      "text/plain": [
       "0it [00:00, ?it/s]"
      ]
     },
     "metadata": {},
     "output_type": "display_data"
    },
    {
     "data": {
      "application/vnd.jupyter.widget-view+json": {
       "model_id": "3bbbc86ccbdd4f7f995b17055ac8265e",
       "version_major": 2,
       "version_minor": 0
      },
      "text/plain": [
       "0it [00:00, ?it/s]"
      ]
     },
     "metadata": {},
     "output_type": "display_data"
    },
    {
     "data": {
      "application/vnd.jupyter.widget-view+json": {
       "model_id": "94bd2a134b4d43109f1847533304abbd",
       "version_major": 2,
       "version_minor": 0
      },
      "text/plain": [
       "0it [00:00, ?it/s]"
      ]
     },
     "metadata": {},
     "output_type": "display_data"
    },
    {
     "data": {
      "application/vnd.jupyter.widget-view+json": {
       "model_id": "5903ec0ac6e2444a9eed0fcf3c989567",
       "version_major": 2,
       "version_minor": 0
      },
      "text/plain": [
       "0it [00:00, ?it/s]"
      ]
     },
     "metadata": {},
     "output_type": "display_data"
    },
    {
     "data": {
      "application/vnd.jupyter.widget-view+json": {
       "model_id": "074106eb42c54f2aa80bdc3a640f3170",
       "version_major": 2,
       "version_minor": 0
      },
      "text/plain": [
       "0it [00:00, ?it/s]"
      ]
     },
     "metadata": {},
     "output_type": "display_data"
    },
    {
     "data": {
      "application/vnd.jupyter.widget-view+json": {
       "model_id": "73e52bf153594cad9c3c4c73f5e65f2c",
       "version_major": 2,
       "version_minor": 0
      },
      "text/plain": [
       "0it [00:00, ?it/s]"
      ]
     },
     "metadata": {},
     "output_type": "display_data"
    },
    {
     "data": {
      "application/vnd.jupyter.widget-view+json": {
       "model_id": "784d77d32efe4cce8809a92ee020b259",
       "version_major": 2,
       "version_minor": 0
      },
      "text/plain": [
       "0it [00:00, ?it/s]"
      ]
     },
     "metadata": {},
     "output_type": "display_data"
    },
    {
     "data": {
      "application/vnd.jupyter.widget-view+json": {
       "model_id": "685f16056f4c4bd6ae0c6ede6a9e57d0",
       "version_major": 2,
       "version_minor": 0
      },
      "text/plain": [
       "0it [00:00, ?it/s]"
      ]
     },
     "metadata": {},
     "output_type": "display_data"
    },
    {
     "data": {
      "application/vnd.jupyter.widget-view+json": {
       "model_id": "8ef311b098004826b100ad1a47688161",
       "version_major": 2,
       "version_minor": 0
      },
      "text/plain": [
       "0it [00:00, ?it/s]"
      ]
     },
     "metadata": {},
     "output_type": "display_data"
    },
    {
     "data": {
      "application/vnd.jupyter.widget-view+json": {
       "model_id": "04c2572d3ec54ca9ab8b4b4e8627f3cd",
       "version_major": 2,
       "version_minor": 0
      },
      "text/plain": [
       "0it [00:00, ?it/s]"
      ]
     },
     "metadata": {},
     "output_type": "display_data"
    },
    {
     "data": {
      "application/vnd.jupyter.widget-view+json": {
       "model_id": "3dabcb230de34a219f74119f15c64501",
       "version_major": 2,
       "version_minor": 0
      },
      "text/plain": [
       "0it [00:00, ?it/s]"
      ]
     },
     "metadata": {},
     "output_type": "display_data"
    },
    {
     "data": {
      "application/vnd.jupyter.widget-view+json": {
       "model_id": "4d4c8f432e1646bbbdcb2242d69617ba",
       "version_major": 2,
       "version_minor": 0
      },
      "text/plain": [
       "0it [00:00, ?it/s]"
      ]
     },
     "metadata": {},
     "output_type": "display_data"
    },
    {
     "data": {
      "application/vnd.jupyter.widget-view+json": {
       "model_id": "828b4b63148b40fa95bf73f83c9b41a6",
       "version_major": 2,
       "version_minor": 0
      },
      "text/plain": [
       "0it [00:00, ?it/s]"
      ]
     },
     "metadata": {},
     "output_type": "display_data"
    },
    {
     "data": {
      "application/vnd.jupyter.widget-view+json": {
       "model_id": "6ac7a41ecbb0424e83068b1a17a72348",
       "version_major": 2,
       "version_minor": 0
      },
      "text/plain": [
       "0it [00:00, ?it/s]"
      ]
     },
     "metadata": {},
     "output_type": "display_data"
    },
    {
     "data": {
      "application/vnd.jupyter.widget-view+json": {
       "model_id": "3b67f9cd454446ec83ac217574ee7e43",
       "version_major": 2,
       "version_minor": 0
      },
      "text/plain": [
       "0it [00:00, ?it/s]"
      ]
     },
     "metadata": {},
     "output_type": "display_data"
    },
    {
     "data": {
      "application/vnd.jupyter.widget-view+json": {
       "model_id": "9bbaa91b61ee48ed9b083a1653d8976f",
       "version_major": 2,
       "version_minor": 0
      },
      "text/plain": [
       "0it [00:00, ?it/s]"
      ]
     },
     "metadata": {},
     "output_type": "display_data"
    },
    {
     "data": {
      "application/vnd.jupyter.widget-view+json": {
       "model_id": "2ceac941b26d4407aa39750016f4eb14",
       "version_major": 2,
       "version_minor": 0
      },
      "text/plain": [
       "0it [00:00, ?it/s]"
      ]
     },
     "metadata": {},
     "output_type": "display_data"
    },
    {
     "data": {
      "application/vnd.jupyter.widget-view+json": {
       "model_id": "c29e930fdb67457ea8bb9f09be8ce277",
       "version_major": 2,
       "version_minor": 0
      },
      "text/plain": [
       "0it [00:00, ?it/s]"
      ]
     },
     "metadata": {},
     "output_type": "display_data"
    },
    {
     "data": {
      "application/vnd.jupyter.widget-view+json": {
       "model_id": "9b3e0c7100034528a76b243b800f92e1",
       "version_major": 2,
       "version_minor": 0
      },
      "text/plain": [
       "0it [00:00, ?it/s]"
      ]
     },
     "metadata": {},
     "output_type": "display_data"
    },
    {
     "data": {
      "application/vnd.jupyter.widget-view+json": {
       "model_id": "604b3a467ffd4dc886d8c9c463242fb0",
       "version_major": 2,
       "version_minor": 0
      },
      "text/plain": [
       "0it [00:00, ?it/s]"
      ]
     },
     "metadata": {},
     "output_type": "display_data"
    },
    {
     "data": {
      "application/vnd.jupyter.widget-view+json": {
       "model_id": "2b999ba5f0394d18b0328065ca994dcf",
       "version_major": 2,
       "version_minor": 0
      },
      "text/plain": [
       "0it [00:00, ?it/s]"
      ]
     },
     "metadata": {},
     "output_type": "display_data"
    }
   ],
   "source": [
    "for i in range(56):\n",
    "    run_enumeration(i)"
   ]
  },
  {
   "cell_type": "code",
   "execution_count": 16,
   "id": "25e74382",
   "metadata": {},
   "outputs": [],
   "source": [
    "small_pd = pd.concat([pd.read_csv(f\"./ac2drug_am2small/ac2drug_am2small_small_{i}.csv\") for i in range(56)])"
   ]
  },
  {
   "cell_type": "code",
   "execution_count": 17,
   "id": "f2553736",
   "metadata": {},
   "outputs": [],
   "source": [
    "large_data.sort_values(\"rmat_tag\",inplace=True)"
   ]
  },
  {
   "cell_type": "code",
   "execution_count": 18,
   "id": "4148c87a",
   "metadata": {},
   "outputs": [
    {
     "data": {
      "text/html": [
       "<div>\n",
       "<style scoped>\n",
       "    .dataframe tbody tr th:only-of-type {\n",
       "        vertical-align: middle;\n",
       "    }\n",
       "\n",
       "    .dataframe tbody tr th {\n",
       "        vertical-align: top;\n",
       "    }\n",
       "\n",
       "    .dataframe thead th {\n",
       "        text-align: right;\n",
       "    }\n",
       "</style>\n",
       "<table border=\"1\" class=\"dataframe\">\n",
       "  <thead>\n",
       "    <tr style=\"text-align: right;\">\n",
       "      <th></th>\n",
       "      <th>rmat_tag</th>\n",
       "      <th>distance</th>\n",
       "      <th>largest_frag</th>\n",
       "      <th>largest_cleaned</th>\n",
       "    </tr>\n",
       "  </thead>\n",
       "  <tbody>\n",
       "    <tr>\n",
       "      <th>3581</th>\n",
       "      <td>36909943</td>\n",
       "      <td>10.0</td>\n",
       "      <td>O=C(Cn1c(-c2ccccc2)c(C2CCCCC2)c2c[15c][16c]([1...</td>\n",
       "      <td>O=C(Cn1c(-c2ccccc2)c(C2CCCCC2)c2ccc(OC3=c4cc(C...</td>\n",
       "    </tr>\n",
       "    <tr>\n",
       "      <th>5970</th>\n",
       "      <td>36909947</td>\n",
       "      <td>12.0</td>\n",
       "      <td>O=C(Cn1c(-c2ccccc2)c(C2CCCCC2)c2c[15c][16c]([1...</td>\n",
       "      <td>O=C(Cn1c(-c2ccccc2)c(C2CCCCC2)c2ccc(OOC3=c4cc(...</td>\n",
       "    </tr>\n",
       "    <tr>\n",
       "      <th>5074</th>\n",
       "      <td>36909948</td>\n",
       "      <td>11.0</td>\n",
       "      <td>O=C(Cn1c(-c2ccccc2)c(C2CCCCC2)c2c[15c][16c]([1...</td>\n",
       "      <td>O=C(Cn1c(-c2ccccc2)c(C2CCCCC2)c2ccc(OC3=c4cc(C...</td>\n",
       "    </tr>\n",
       "    <tr>\n",
       "      <th>2804</th>\n",
       "      <td>36910003</td>\n",
       "      <td>9.0</td>\n",
       "      <td>O=C(Cn1c(-c2ccccc2)c(C2CCCCC2)c2c[15c][16c]([1...</td>\n",
       "      <td>O=C(Cn1c(-c2ccccc2)c(C2CCCCC2)c2ccc(C3=c4cc(Cl...</td>\n",
       "    </tr>\n",
       "    <tr>\n",
       "      <th>3582</th>\n",
       "      <td>36910005</td>\n",
       "      <td>10.0</td>\n",
       "      <td>O=C(Cn1c(-c2ccccc2)c(C2CCCCC2)c2c[15c][16c]([1...</td>\n",
       "      <td>O=C(Cn1c(-c2ccccc2)c(C2CCCCC2)c2ccc(C3=c4cc(Cl...</td>\n",
       "    </tr>\n",
       "    <tr>\n",
       "      <th>...</th>\n",
       "      <td>...</td>\n",
       "      <td>...</td>\n",
       "      <td>...</td>\n",
       "      <td>...</td>\n",
       "    </tr>\n",
       "    <tr>\n",
       "      <th>3577</th>\n",
       "      <td>53886546</td>\n",
       "      <td>10.0</td>\n",
       "      <td>O=C(Cn1c(-c2ccccc2)c(C2CCCCC2)c2c[15c]3[16c](c...</td>\n",
       "      <td>O=C(Cn1c(-c2ccccc2)c(C2CCCCC2)c2cc3c(cc21)C1(O...</td>\n",
       "    </tr>\n",
       "    <tr>\n",
       "      <th>3576</th>\n",
       "      <td>53886547</td>\n",
       "      <td>10.0</td>\n",
       "      <td>[15N]=[17C]1[14c]2cc(Cl)cc(Cl)[13c]2-[15c]2cc3...</td>\n",
       "      <td>N=C1c2cc(Cl)cc(Cl)c2-c2cc3c(C4CCCCC4)c(-c4cccc...</td>\n",
       "    </tr>\n",
       "    <tr>\n",
       "      <th>5078</th>\n",
       "      <td>53886550</td>\n",
       "      <td>11.0</td>\n",
       "      <td>O=C(Cn1c(-c2ccccc2)c(C2CCCCC2)c2c[15c]3[16c](c...</td>\n",
       "      <td>O=C(Cn1c(-c2ccccc2)c(C2CCCCC2)c2cc3c(cc21)C(=N...</td>\n",
       "    </tr>\n",
       "    <tr>\n",
       "      <th>5989</th>\n",
       "      <td>53886551</td>\n",
       "      <td>12.0</td>\n",
       "      <td>O=C(Cn1c(-c2ccccc2)c(C2CCCCC2)c2c[15c]3[16c](c...</td>\n",
       "      <td>O=C(Cn1c(-c2ccccc2)c(C2CCCCC2)c2cc3c(cc21)C(=N...</td>\n",
       "    </tr>\n",
       "    <tr>\n",
       "      <th>216</th>\n",
       "      <td>53950700</td>\n",
       "      <td>6.0</td>\n",
       "      <td>O=C(Cn1c(-c2ccccc2)c(C2CCCCC2)c2c[15c]3[16c](c...</td>\n",
       "      <td>O=C(Cn1c(-c2ccccc2)c(C2CCCCC2)c2cc3c(cc21)-c1c...</td>\n",
       "    </tr>\n",
       "  </tbody>\n",
       "</table>\n",
       "<p>7240 rows × 4 columns</p>\n",
       "</div>"
      ],
      "text/plain": [
       "      rmat_tag  distance                                       largest_frag  \\\n",
       "3581  36909943      10.0  O=C(Cn1c(-c2ccccc2)c(C2CCCCC2)c2c[15c][16c]([1...   \n",
       "5970  36909947      12.0  O=C(Cn1c(-c2ccccc2)c(C2CCCCC2)c2c[15c][16c]([1...   \n",
       "5074  36909948      11.0  O=C(Cn1c(-c2ccccc2)c(C2CCCCC2)c2c[15c][16c]([1...   \n",
       "2804  36910003       9.0  O=C(Cn1c(-c2ccccc2)c(C2CCCCC2)c2c[15c][16c]([1...   \n",
       "3582  36910005      10.0  O=C(Cn1c(-c2ccccc2)c(C2CCCCC2)c2c[15c][16c]([1...   \n",
       "...        ...       ...                                                ...   \n",
       "3577  53886546      10.0  O=C(Cn1c(-c2ccccc2)c(C2CCCCC2)c2c[15c]3[16c](c...   \n",
       "3576  53886547      10.0  [15N]=[17C]1[14c]2cc(Cl)cc(Cl)[13c]2-[15c]2cc3...   \n",
       "5078  53886550      11.0  O=C(Cn1c(-c2ccccc2)c(C2CCCCC2)c2c[15c]3[16c](c...   \n",
       "5989  53886551      12.0  O=C(Cn1c(-c2ccccc2)c(C2CCCCC2)c2c[15c]3[16c](c...   \n",
       "216   53950700       6.0  O=C(Cn1c(-c2ccccc2)c(C2CCCCC2)c2c[15c]3[16c](c...   \n",
       "\n",
       "                                        largest_cleaned  \n",
       "3581  O=C(Cn1c(-c2ccccc2)c(C2CCCCC2)c2ccc(OC3=c4cc(C...  \n",
       "5970  O=C(Cn1c(-c2ccccc2)c(C2CCCCC2)c2ccc(OOC3=c4cc(...  \n",
       "5074  O=C(Cn1c(-c2ccccc2)c(C2CCCCC2)c2ccc(OC3=c4cc(C...  \n",
       "2804  O=C(Cn1c(-c2ccccc2)c(C2CCCCC2)c2ccc(C3=c4cc(Cl...  \n",
       "3582  O=C(Cn1c(-c2ccccc2)c(C2CCCCC2)c2ccc(C3=c4cc(Cl...  \n",
       "...                                                 ...  \n",
       "3577  O=C(Cn1c(-c2ccccc2)c(C2CCCCC2)c2cc3c(cc21)C1(O...  \n",
       "3576  N=C1c2cc(Cl)cc(Cl)c2-c2cc3c(C4CCCCC4)c(-c4cccc...  \n",
       "5078  O=C(Cn1c(-c2ccccc2)c(C2CCCCC2)c2cc3c(cc21)C(=N...  \n",
       "5989  O=C(Cn1c(-c2ccccc2)c(C2CCCCC2)c2cc3c(cc21)C(=N...  \n",
       "216   O=C(Cn1c(-c2ccccc2)c(C2CCCCC2)c2cc3c(cc21)-c1c...  \n",
       "\n",
       "[7240 rows x 4 columns]"
      ]
     },
     "execution_count": 18,
     "metadata": {},
     "output_type": "execute_result"
    }
   ],
   "source": [
    "large_data"
   ]
  },
  {
   "cell_type": "code",
   "execution_count": 19,
   "id": "e966b89a",
   "metadata": {},
   "outputs": [
    {
     "data": {
      "application/vnd.jupyter.widget-view+json": {
       "model_id": "5f6715e252314092a495e3aac237d588",
       "version_major": 2,
       "version_minor": 0
      },
      "text/plain": [
       "  0%|          | 0/7240 [00:00<?, ?it/s]"
      ]
     },
     "metadata": {},
     "output_type": "display_data"
    }
   ],
   "source": [
    "acid_parts = [\"[15C]\",\"[16C]\",\"[17C]\",\"[15c]\",\"[16c]\",\"[17c]\",\"[17O]\",\"[18O]\",\"[17o]\",\"[18o]\"]\n",
    "amine_parts = [\"[13C]\",\"[14C]\",\"[13c]\",\"[14c]\",\"[15N]\",\"[15n]\"]\n",
    "\n",
    "\n",
    "shards = []\n",
    "for s in tqdm(list(large_data.largest_frag)):\n",
    "    shards.append([i.replace(\"c\",\"C\") for i in acid_parts+amine_parts if i in s])\n",
    "    "
   ]
  },
  {
   "cell_type": "code",
   "execution_count": 21,
   "id": "3f830b85",
   "metadata": {},
   "outputs": [],
   "source": [
    "def count_atoms(s):\n",
    "    alphab = \"CONcon\"\n",
    "    return len([i for i in s if i in alphab]) "
   ]
  },
  {
   "cell_type": "code",
   "execution_count": 22,
   "id": "ac126370",
   "metadata": {},
   "outputs": [
    {
     "data": {
      "application/vnd.jupyter.widget-view+json": {
       "model_id": "88a29183693f41ab80b9312c6d19057b",
       "version_major": 2,
       "version_minor": 0
      },
      "text/plain": [
       "0it [00:00, ?it/s]"
      ]
     },
     "metadata": {},
     "output_type": "display_data"
    }
   ],
   "source": [
    "relev_all = []\n",
    "for i_s,s in tqdm(enumerate(small_pd.pdt_smiles)):\n",
    "    split_s = s.split(\".\")\n",
    "    \n",
    "    shard = shards[i_s]\n",
    "    \n",
    "    relev_part = []\n",
    "    for ss in split_s:\n",
    "        if any([i in ss for i in shard]):\n",
    "            relev_part.append(ss)\n",
    "    \n",
    "    if len(relev_part) > 1:\n",
    "        atom_counts = [count_atoms(r) for r in relev_part]\n",
    "        max_atom_ind = np.argmax(atom_counts)\n",
    "        relev_part = relev_part[max_atom_ind]\n",
    "    relev_all.append(relev_part[0])\n",
    "            \n",
    "    "
   ]
  },
  {
   "cell_type": "code",
   "execution_count": 23,
   "id": "8c2d68bd",
   "metadata": {},
   "outputs": [],
   "source": [
    "small_pd[\"frag_in_large\"] = relev_all"
   ]
  },
  {
   "cell_type": "code",
   "execution_count": 24,
   "id": "4c6eab51",
   "metadata": {},
   "outputs": [],
   "source": [
    "# small_pd.to_csv(\"enamine_small_backup.csv\")"
   ]
  },
  {
   "cell_type": "code",
   "execution_count": 25,
   "id": "dd66c652",
   "metadata": {},
   "outputs": [],
   "source": [
    "def clean_structure(s):\n",
    "    temp = s\n",
    "    \n",
    "    for i in acid_parts + amine_parts:\n",
    "        temp = temp.replace(i,i[-2])\n",
    "        \n",
    "    return temp"
   ]
  },
  {
   "cell_type": "code",
   "execution_count": 26,
   "id": "f5a5f853",
   "metadata": {},
   "outputs": [],
   "source": [
    "small_pd[\"pdt_cleaned\"] = [clean_structure(s) for s in small_pd.frag_in_large]"
   ]
  },
  {
   "cell_type": "code",
   "execution_count": 27,
   "id": "4023cd26",
   "metadata": {},
   "outputs": [],
   "source": [
    "small_pd.to_csv(\"ac2drug_am2small_small.csv\",index=False)"
   ]
  }
 ],
 "metadata": {
  "kernelspec": {
   "display_name": "Python 3",
   "language": "python",
   "name": "python3"
  },
  "language_info": {
   "codemirror_mode": {
    "name": "ipython",
    "version": 3
   },
   "file_extension": ".py",
   "mimetype": "text/x-python",
   "name": "python",
   "nbconvert_exporter": "python",
   "pygments_lexer": "ipython3",
   "version": "3.6.12"
  }
 },
 "nbformat": 4,
 "nbformat_minor": 5
}
