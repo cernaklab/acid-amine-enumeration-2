{
 "cells": [
  {
   "cell_type": "code",
   "execution_count": 1,
   "id": "19536640",
   "metadata": {},
   "outputs": [
    {
     "name": "stderr",
     "output_type": "stream",
     "text": [
      "RDKit WARNING: [22:49:08] Enabling RDKit 2019.09.3 jupyter extensions\n"
     ]
    }
   ],
   "source": [
    "import seaborn as sns\n",
    "from rdkit import Chem\n",
    "from rdkit.Chem import AllChem, Draw\n",
    "import pandas as pd\n",
    "\n",
    "from rdkit.Chem import rdMolDescriptors, Descriptors\n",
    "import numpy as np\n",
    "\n",
    "import matplotlib.pyplot as plt\n",
    "import seaborn as sns\n",
    "\n",
    "\n",
    "from tqdm.notebook import tqdm\n",
    "\n",
    "from matplotlib import cm\n",
    "plasma = cm.get_cmap('plasma', 32)"
   ]
  },
  {
   "cell_type": "markdown",
   "id": "41df64dd",
   "metadata": {},
   "source": [
    "props_ac3drug_ac3small.csv\n",
    "\n",
    "props_ac3drug_am3small_small.csv"
   ]
  },
  {
   "cell_type": "code",
   "execution_count": 2,
   "id": "5220a0f1",
   "metadata": {},
   "outputs": [],
   "source": [
    "prop_names = ['LogP', 'MW', 'HBD', 'HBA', 'PSA', 'ROTB', 'FSP3', 'SSSR', 'QED']"
   ]
  },
  {
   "cell_type": "code",
   "execution_count": 4,
   "id": "94a0c010",
   "metadata": {},
   "outputs": [],
   "source": [
    "data1 = pd.read_csv(\"props_ac2drug_am2small.csv\")\n",
    "\n",
    "data1[\"source\"] = [\"enumerated\"] * len(data1)"
   ]
  },
  {
   "cell_type": "code",
   "execution_count": 5,
   "id": "4e227da8",
   "metadata": {},
   "outputs": [],
   "source": [
    "data1_props = data1[prop_names].copy()"
   ]
  },
  {
   "cell_type": "code",
   "execution_count": 9,
   "id": "22c8eb37",
   "metadata": {},
   "outputs": [
    {
     "data": {
      "text/plain": [
       "'O=C(Nc1cc(Cl)cc(Cl)c1)c1ccc2c(C3CCCCC3)cn(CC(=O)N3CCOCC3)c2c1'"
      ]
     },
     "execution_count": 9,
     "metadata": {},
     "output_type": "execute_result"
    }
   ],
   "source": [
    "Chem.MolToSmiles(Chem.MolFromSmiles('O=C(CN1C=C(C2CCCCC2)C3=C1C=C(C(NC4=CC(Cl)=CC(Cl)=C4)=O)C=C3)N5CCOCC5'))"
   ]
  },
  {
   "cell_type": "code",
   "execution_count": 27,
   "id": "30a9b279",
   "metadata": {},
   "outputs": [
    {
     "data": {
      "text/plain": [
       "'O=C(Cn1c(-c2ccccc2)c(C2CCCCC2)c2cc(Nc3cc(Cl)cc(Cl)c3)c(C(=O)O)cc21)N1CCOCC1'"
      ]
     },
     "execution_count": 27,
     "metadata": {},
     "output_type": "execute_result"
    }
   ],
   "source": [
    "data1.largest_cleaned[0]"
   ]
  },
  {
   "cell_type": "code",
   "execution_count": 18,
   "id": "e1435fad",
   "metadata": {},
   "outputs": [],
   "source": [
    "amide_row = np.array([6.106900000000006,\n",
    " 514.4530000000005,\n",
    " 1,\n",
    " 4,\n",
    " 63.57000000000001,\n",
    " 5,\n",
    " 0.4074074074074074,\n",
    " 5,\n",
    " 0.4472491082853226])"
   ]
  },
  {
   "cell_type": "code",
   "execution_count": 26,
   "id": "bdb9451c",
   "metadata": {},
   "outputs": [
    {
     "data": {
      "text/html": [
       "<div>\n",
       "<style scoped>\n",
       "    .dataframe tbody tr th:only-of-type {\n",
       "        vertical-align: middle;\n",
       "    }\n",
       "\n",
       "    .dataframe tbody tr th {\n",
       "        vertical-align: top;\n",
       "    }\n",
       "\n",
       "    .dataframe thead th {\n",
       "        text-align: right;\n",
       "    }\n",
       "</style>\n",
       "<table border=\"1\" class=\"dataframe\">\n",
       "  <thead>\n",
       "    <tr style=\"text-align: right;\">\n",
       "      <th></th>\n",
       "      <th>rmat_tag</th>\n",
       "      <th>distance</th>\n",
       "      <th>largest_frag</th>\n",
       "      <th>largest_cleaned</th>\n",
       "      <th>LogP</th>\n",
       "      <th>MW</th>\n",
       "      <th>HBD</th>\n",
       "      <th>HBA</th>\n",
       "      <th>PSA</th>\n",
       "      <th>ROTB</th>\n",
       "      <th>FSP3</th>\n",
       "      <th>SSSR</th>\n",
       "      <th>QED</th>\n",
       "      <th>source</th>\n",
       "    </tr>\n",
       "  </thead>\n",
       "  <tbody>\n",
       "  </tbody>\n",
       "</table>\n",
       "</div>"
      ],
      "text/plain": [
       "Empty DataFrame\n",
       "Columns: [rmat_tag, distance, largest_frag, largest_cleaned, LogP, MW, HBD, HBA, PSA, ROTB, FSP3, SSSR, QED, source]\n",
       "Index: []"
      ]
     },
     "execution_count": 26,
     "metadata": {},
     "output_type": "execute_result"
    }
   ],
   "source": [
    "data1[data1.MW==0]"
   ]
  },
  {
   "cell_type": "code",
   "execution_count": null,
   "id": "e0d71d9b",
   "metadata": {},
   "outputs": [],
   "source": [
    "# amide_row = np.array(data1[data1.rmat_tag==34093126][prop_names])"
   ]
  },
  {
   "cell_type": "code",
   "execution_count": 20,
   "id": "c13989c5",
   "metadata": {},
   "outputs": [],
   "source": [
    "data1_deltas = data1_props-amide_row"
   ]
  },
  {
   "cell_type": "code",
   "execution_count": 21,
   "id": "47ae964e",
   "metadata": {},
   "outputs": [],
   "source": [
    "data1[prop_names] = data1_deltas"
   ]
  },
  {
   "cell_type": "code",
   "execution_count": 22,
   "id": "5a0c6d51",
   "metadata": {},
   "outputs": [],
   "source": [
    "data2 = pd.read_csv(\"props_ac2drug_am2small_small.csv\")"
   ]
  },
  {
   "cell_type": "code",
   "execution_count": 23,
   "id": "ad7a012b",
   "metadata": {},
   "outputs": [],
   "source": [
    "data2[\"source\"] = [\"small\"] * len(data2)"
   ]
  },
  {
   "cell_type": "code",
   "execution_count": 15,
   "id": "03e8ec46",
   "metadata": {},
   "outputs": [],
   "source": [
    "data2_props = data2[prop_names].copy()\n",
    "\n",
    "amide_row = np.array(data2[data2.rmat_tag==34093126][prop_names])\n",
    "\n",
    "data2_deltas = data2_props-amide_row"
   ]
  },
  {
   "cell_type": "code",
   "execution_count": 16,
   "id": "183b2c81",
   "metadata": {},
   "outputs": [],
   "source": [
    "data2[prop_names] = data2_deltas"
   ]
  },
  {
   "cell_type": "code",
   "execution_count": 17,
   "id": "7c312204",
   "metadata": {},
   "outputs": [
    {
     "data": {
      "text/html": [
       "<div>\n",
       "<style scoped>\n",
       "    .dataframe tbody tr th:only-of-type {\n",
       "        vertical-align: middle;\n",
       "    }\n",
       "\n",
       "    .dataframe tbody tr th {\n",
       "        vertical-align: top;\n",
       "    }\n",
       "\n",
       "    .dataframe thead th {\n",
       "        text-align: right;\n",
       "    }\n",
       "</style>\n",
       "<table border=\"1\" class=\"dataframe\">\n",
       "  <thead>\n",
       "    <tr style=\"text-align: right;\">\n",
       "      <th></th>\n",
       "      <th>rmat_tag</th>\n",
       "      <th>distance</th>\n",
       "      <th>largest_frag</th>\n",
       "      <th>largest_cleaned</th>\n",
       "      <th>LogP</th>\n",
       "      <th>MW</th>\n",
       "      <th>HBD</th>\n",
       "      <th>HBA</th>\n",
       "      <th>PSA</th>\n",
       "      <th>ROTB</th>\n",
       "      <th>FSP3</th>\n",
       "      <th>SSSR</th>\n",
       "      <th>QED</th>\n",
       "      <th>source</th>\n",
       "    </tr>\n",
       "  </thead>\n",
       "  <tbody>\n",
       "    <tr>\n",
       "      <th>0</th>\n",
       "      <td>34095151</td>\n",
       "      <td>1.0</td>\n",
       "      <td>C[15C]([15N][14C@H]([13C])c1ccccc1)[16C@H](c1c...</td>\n",
       "      <td>CC(N[C@H](C)c1ccccc1)[C@H](c1ccc(N2Cc3ccccc3C2...</td>\n",
       "      <td>-0.4635</td>\n",
       "      <td>15.999</td>\n",
       "      <td>1.0</td>\n",
       "      <td>1.0</td>\n",
       "      <td>20.23</td>\n",
       "      <td>1.0</td>\n",
       "      <td>0.000000</td>\n",
       "      <td>0.0</td>\n",
       "      <td>-0.033839</td>\n",
       "      <td>enumerated</td>\n",
       "    </tr>\n",
       "    <tr>\n",
       "      <th>1</th>\n",
       "      <td>34889467</td>\n",
       "      <td>1.0</td>\n",
       "      <td>C[15C][16C@H](c1ccc(N2Cc3ccccc3C2=O)cc1)[17C](...</td>\n",
       "      <td>CC[C@H](c1ccc(N2Cc3ccccc3C2=O)cc1)C(=O)OC[C@@H...</td>\n",
       "      <td>-0.6342</td>\n",
       "      <td>15.999</td>\n",
       "      <td>0.0</td>\n",
       "      <td>2.0</td>\n",
       "      <td>23.22</td>\n",
       "      <td>1.0</td>\n",
       "      <td>0.000000</td>\n",
       "      <td>0.0</td>\n",
       "      <td>-0.044585</td>\n",
       "      <td>enumerated</td>\n",
       "    </tr>\n",
       "    <tr>\n",
       "      <th>2</th>\n",
       "      <td>44332191</td>\n",
       "      <td>1.0</td>\n",
       "      <td>C[15C]([13C][14C@@H]([15N])c1ccccc1)[16C@H](c1...</td>\n",
       "      <td>CC(C[C@@H](N)c1ccccc1)[C@H](c1ccc(N2Cc3ccccc3C...</td>\n",
       "      <td>-0.4766</td>\n",
       "      <td>15.999</td>\n",
       "      <td>1.0</td>\n",
       "      <td>1.0</td>\n",
       "      <td>34.22</td>\n",
       "      <td>1.0</td>\n",
       "      <td>0.000000</td>\n",
       "      <td>0.0</td>\n",
       "      <td>-0.034170</td>\n",
       "      <td>enumerated</td>\n",
       "    </tr>\n",
       "    <tr>\n",
       "      <th>3</th>\n",
       "      <td>34093102</td>\n",
       "      <td>1.0</td>\n",
       "      <td>C[15C][16C@H](c1ccc(N2Cc3ccccc3C2=O)cc1)[17C](...</td>\n",
       "      <td>CC[C@H](c1ccc(N2Cc3ccccc3C2=O)cc1)C(=O)ON[C@H]...</td>\n",
       "      <td>-0.0684</td>\n",
       "      <td>15.999</td>\n",
       "      <td>0.0</td>\n",
       "      <td>2.0</td>\n",
       "      <td>9.23</td>\n",
       "      <td>1.0</td>\n",
       "      <td>0.000000</td>\n",
       "      <td>0.0</td>\n",
       "      <td>-0.075573</td>\n",
       "      <td>enumerated</td>\n",
       "    </tr>\n",
       "    <tr>\n",
       "      <th>4</th>\n",
       "      <td>48840746</td>\n",
       "      <td>2.0</td>\n",
       "      <td>C[15C](=[13C][14C@@H]([15N])c1ccccc1)[16C@H](c...</td>\n",
       "      <td>CC(=C[C@@H](N)c1ccccc1)[C@H](c1ccc(N2Cc3ccccc3...</td>\n",
       "      <td>-0.5565</td>\n",
       "      <td>13.983</td>\n",
       "      <td>1.0</td>\n",
       "      <td>1.0</td>\n",
       "      <td>34.22</td>\n",
       "      <td>0.0</td>\n",
       "      <td>-0.076923</td>\n",
       "      <td>0.0</td>\n",
       "      <td>-0.042089</td>\n",
       "      <td>enumerated</td>\n",
       "    </tr>\n",
       "  </tbody>\n",
       "</table>\n",
       "</div>"
      ],
      "text/plain": [
       "   rmat_tag  distance                                       largest_frag  \\\n",
       "0  34095151       1.0  C[15C]([15N][14C@H]([13C])c1ccccc1)[16C@H](c1c...   \n",
       "1  34889467       1.0  C[15C][16C@H](c1ccc(N2Cc3ccccc3C2=O)cc1)[17C](...   \n",
       "2  44332191       1.0  C[15C]([13C][14C@@H]([15N])c1ccccc1)[16C@H](c1...   \n",
       "3  34093102       1.0  C[15C][16C@H](c1ccc(N2Cc3ccccc3C2=O)cc1)[17C](...   \n",
       "4  48840746       2.0  C[15C](=[13C][14C@@H]([15N])c1ccccc1)[16C@H](c...   \n",
       "\n",
       "                                     largest_cleaned    LogP      MW  HBD  \\\n",
       "0  CC(N[C@H](C)c1ccccc1)[C@H](c1ccc(N2Cc3ccccc3C2... -0.4635  15.999  1.0   \n",
       "1  CC[C@H](c1ccc(N2Cc3ccccc3C2=O)cc1)C(=O)OC[C@@H... -0.6342  15.999  0.0   \n",
       "2  CC(C[C@@H](N)c1ccccc1)[C@H](c1ccc(N2Cc3ccccc3C... -0.4766  15.999  1.0   \n",
       "3  CC[C@H](c1ccc(N2Cc3ccccc3C2=O)cc1)C(=O)ON[C@H]... -0.0684  15.999  0.0   \n",
       "4  CC(=C[C@@H](N)c1ccccc1)[C@H](c1ccc(N2Cc3ccccc3... -0.5565  13.983  1.0   \n",
       "\n",
       "   HBA    PSA  ROTB      FSP3  SSSR       QED      source  \n",
       "0  1.0  20.23   1.0  0.000000   0.0 -0.033839  enumerated  \n",
       "1  2.0  23.22   1.0  0.000000   0.0 -0.044585  enumerated  \n",
       "2  1.0  34.22   1.0  0.000000   0.0 -0.034170  enumerated  \n",
       "3  2.0   9.23   1.0  0.000000   0.0 -0.075573  enumerated  \n",
       "4  1.0  34.22   0.0 -0.076923   0.0 -0.042089  enumerated  "
      ]
     },
     "execution_count": 17,
     "metadata": {},
     "output_type": "execute_result"
    }
   ],
   "source": [
    "data1.head()"
   ]
  },
  {
   "cell_type": "code",
   "execution_count": 78,
   "id": "910914bb",
   "metadata": {},
   "outputs": [],
   "source": [
    "lims_dict = {\n",
    "\"LogP\": [-6, -4, -2 , 0 , 2],\n",
    "\"MW\": [-400, -300, -200 ,-100  ,  0],\n",
    "\"HBD\": [-1,  0,  1,  2  ],\n",
    "\"HBA\": [-2, -1,  0,  1,  2],\n",
    "\"PSA\": [ -40, -20,   0,  20 , 40 ],\n",
    "\"ROTB\": [-6, -4, -2,  0 , 2 , 4],\n",
    "# \"FSP3\": [ -0.75, -0.5,  -0.25,  0. ,   0.25,  0.5 ,  0.75 ],\n",
    "\"FSP3\": [ -0.75,  -0.25,     0.25,   0.75 ],\n",
    "\"SSSR\": [-5,   0,   5, 10 ],\n",
    "\"QED\": [-0.4 ,-0.2,  0. ,  0.2 , 0.4 ],\n",
    "}"
   ]
  },
  {
   "cell_type": "code",
   "execution_count": 79,
   "id": "742395e9",
   "metadata": {},
   "outputs": [],
   "source": [
    "labels_dict = {\n",
    "\"LogP\": [\"–6\", \"–4\", \"–2\" , \"0\" , \"2\"],\n",
    "\"MW\": [\"–400\", \"–300\", \"–200\" ,\"–100\"  ,  \"0\"],\n",
    "\"HBD\": [\"–1\",  \"0\",  \"1\",  \"2\"  ],\n",
    "\"HBA\": [\"–2\", \"–1\",  \"0\",  \"1\",  \"2\"],\n",
    "\"PSA\": [ \"–40\", \"–20\",   \"0\",  \"20\" , \"40\" ],\n",
    "\"ROTB\": [\"–6\", \"–4\", \"–2\",  \"0\" , \"2\" , \"4\"],\n",
    "# \"FSP3\": [ -0.75, -0.5,  -0.25,  0. ,   0.25,  0.5 ,  0.75 ],\n",
    "\"FSP3\": [ \"–0.75\",  \"–0.25\",     \"0.25\",   \"0.75\" ],\n",
    "\"SSSR\": [\"–5\",   \"0\",   \"5\", \"10\" ],\n",
    "\"QED\": [\"–0.4\" ,\"–0.2\",  \"0.0\" ,  \"0.2\" , \"0.4\" ],\n",
    "}"
   ]
  },
  {
   "cell_type": "code",
   "execution_count": 69,
   "id": "209c2b14",
   "metadata": {},
   "outputs": [],
   "source": [
    "axis_scaleup =              [0.1,   0.1,   0.2,  0.2,   0.1,   0.1,    0.1,    0.2,    0.1]"
   ]
  },
  {
   "cell_type": "code",
   "execution_count": 54,
   "id": "ac65e561",
   "metadata": {},
   "outputs": [],
   "source": [
    "ip = 6\n",
    "prop = \"FSP3\""
   ]
  },
  {
   "cell_type": "code",
   "execution_count": 55,
   "id": "10968e73",
   "metadata": {},
   "outputs": [],
   "source": [
    "new_df = pd.DataFrame()\n",
    "\n",
    "new_df = pd.concat((data1[prop], data2[prop],data1[\"distance\"]>6),axis=1)\n",
    "new_df.columns=(f\"{prop}1\",f\"{prop}2\",\"distance\")\n",
    "new_df[\"distance\"] = [\"foo\"]*len(new_df)\n",
    "\n",
    "#     df_short = new_df.iloc[::100]\n",
    "df_short = new_df\n",
    "\n",
    "\n",
    "lims = np.array([\n",
    "np.min( [np.min(data1[prop]),np.min(data2[prop])] ), # min of both axes\n",
    "np.max( [np.max(data1[prop]),np.max(data2[prop])] )  # max of both axes\n",
    "])\n",
    "\n",
    "lim_range = lims[1] - lims[0]\n",
    "\n",
    "lims[0] -= lim_range*axis_scaleup[ip]\n",
    "lims[1] += lim_range*axis_scaleup[ip]"
   ]
  },
  {
   "cell_type": "code",
   "execution_count": 77,
   "id": "ff7ee897",
   "metadata": {},
   "outputs": [
    {
     "data": {
      "text/plain": [
       "<matplotlib.lines.Line2D at 0x7fced4d9c630>"
      ]
     },
     "execution_count": 77,
     "metadata": {},
     "output_type": "execute_result"
    },
    {
     "data": {
      "image/png": "[encoded data removed]",
      "text/plain": [
       "<Figure size 144x144 with 3 Axes>"
      ]
     },
     "metadata": {
      "needs_background": "light"
     },
     "output_type": "display_data"
    }
   ],
   "source": [
    "g = sns.jointplot(data=df_short,x=f\"{prop}1\",y=f\"{prop}2\",hue=\"distance\",legend=False,\n",
    "                  alpha=0.1,ratio=2,xlim=lims,ylim=lims,height=2)\n",
    "\n",
    "\n",
    "\n",
    "gg = 0.3\n",
    "\n",
    "g.ax_joint.cla()\n",
    "\n",
    "sns.scatterplot(data=df_short.iloc[::300],x=f\"{prop}1\",y=f\"{prop}2\", s=1,alpha=0.1,\n",
    "            ax=g.ax_joint)\n",
    "\n",
    "g.set_axis_labels(r'$\\Delta$'+f\"{prop}\", \"\", fontsize=6,font=\"Arial\")\n",
    "# g.set_axis_labels(r'$\\Delta$'+f\"{prop}\", \"\", fontsize=6,font=\"Times New Roman\")\n",
    "g.ax_joint.set_xticks(lims_dict[prop])\n",
    "g.ax_joint.set_yticks(lims_dict[prop])\n",
    "\n",
    "g.ax_joint.set_xticklabels(labels_dict[prop],fontsize=5,rotation=45,font=\"Arial\")\n",
    "g.ax_joint.set_yticklabels(labels_dict[prop],fontsize=5,font=\"Arial\")\n",
    "\n",
    "g.ax_joint.axvline(0,color=(gg,gg,gg,1),ls=\"--\",linewidth=1)\n",
    "g.ax_joint.axhline(0,color=(gg,gg,gg,1),ls=\"--\",linewidth=1)\n",
    "# plt.tight_layout()"
   ]
  },
  {
   "cell_type": "code",
   "execution_count": 74,
   "id": "84d31d0c",
   "metadata": {},
   "outputs": [
    {
     "name": "stdout",
     "output_type": "stream",
     "text": [
      "—\n",
      "–\n"
     ]
    }
   ],
   "source": [
    "print(\"—\")\n",
    "print(\"–\")\n",
    "print(\"-\")"
   ]
  },
  {
   "cell_type": "code",
   "execution_count": 80,
   "id": "598af9a6",
   "metadata": {
    "scrolled": false
   },
   "outputs": [
    {
     "data": {
      "image/png": "[encoded data removed]",
      "text/plain": [
       "<Figure size 144x144 with 3 Axes>"
      ]
     },
     "metadata": {
      "needs_background": "light"
     },
     "output_type": "display_data"
    },
    {
     "data": {
      "image/png": "[encoded data removed]",
      "text/plain": [
       "<Figure size 144x144 with 3 Axes>"
      ]
     },
     "metadata": {
      "needs_background": "light"
     },
     "output_type": "display_data"
    },
    {
     "data": {
      "image/png": "[encoded data removed]",
      "text/plain": [
       "<Figure size 144x144 with 3 Axes>"
      ]
     },
     "metadata": {
      "needs_background": "light"
     },
     "output_type": "display_data"
    },
    {
     "data": {
      "image/png": "[encoded data removed]",
      "text/plain": [
       "<Figure size 144x144 with 3 Axes>"
      ]
     },
     "metadata": {
      "needs_background": "light"
     },
     "output_type": "display_data"
    },
    {
     "data": {
      "image/png": "[encoded data removed]",
      "text/plain": [
       "<Figure size 144x144 with 3 Axes>"
      ]
     },
     "metadata": {
      "needs_background": "light"
     },
     "output_type": "display_data"
    },
    {
     "data": {
      "image/png": "[encoded data removed]",
      "text/plain": [
       "<Figure size 144x144 with 3 Axes>"
      ]
     },
     "metadata": {
      "needs_background": "light"
     },
     "output_type": "display_data"
    },
    {
     "data": {
      "image/png": "[encoded data removed]",
      "text/plain": [
       "<Figure size 144x144 with 3 Axes>"
      ]
     },
     "metadata": {
      "needs_background": "light"
     },
     "output_type": "display_data"
    },
    {
     "data": {
      "image/png": "[encoded data removed]",
      "text/plain": [
       "<Figure size 144x144 with 3 Axes>"
      ]
     },
     "metadata": {
      "needs_background": "light"
     },
     "output_type": "display_data"
    },
    {
     "data": {
      "image/png": "[encoded data removed]",
      "text/plain": [
       "<Figure size 144x144 with 3 Axes>"
      ]
     },
     "metadata": {
      "needs_background": "light"
     },
     "output_type": "display_data"
    }
   ],
   "source": [
    "# fig,axs = plt.subplots(9)\n",
    "# axs_f = axs.flatten()\n",
    "\n",
    "axis_scaleup =              [0.1,   0.1,   0.2,  0.2,   0.1,   0.1,    0.1,    0.2,    0.1]\n",
    "for ip, prop in enumerate(['LogP', 'MW', 'HBD', 'HBA', 'PSA', 'ROTB', 'FSP3', 'SSSR', 'QED']):\n",
    "\n",
    "# prop = \"HBA\"\n",
    "\n",
    "    new_df = pd.DataFrame()\n",
    "\n",
    "    new_df = pd.concat((data1[prop], data2[prop],data1[\"distance\"]>6),axis=1)\n",
    "    new_df.columns=(f\"{prop}1\",f\"{prop}2\",\"distance\")\n",
    "    new_df[\"distance\"] = [\"foo\"]*len(new_df)\n",
    "\n",
    "#     df_short = new_df.iloc[::100]\n",
    "    df_short = new_df\n",
    "    \n",
    "    \n",
    "    lims = np.array([\n",
    "    np.min( [np.min(data1[prop]),np.min(data2[prop])] ), # min of both axes\n",
    "    np.max( [np.max(data1[prop]),np.max(data2[prop])] )  # max of both axes\n",
    "    ])\n",
    "    \n",
    "    lim_range = lims[1] - lims[0]\n",
    "    \n",
    "    lims[0] -= lim_range*axis_scaleup[ip]\n",
    "    lims[1] += lim_range*axis_scaleup[ip]\n",
    "    \n",
    "#     plt.figure(figsize=(2,2))\n",
    "\n",
    "    g = sns.jointplot(data=df_short,x=f\"{prop}1\",y=f\"{prop}2\",hue=\"distance\",legend=False,\n",
    "                      alpha=0.1,ratio=2,xlim=lims,ylim=lims,height=2)\n",
    "    \n",
    "    \n",
    "    \n",
    "    gg = 0.3\n",
    "    \n",
    "    g.ax_joint.cla()\n",
    "    \n",
    "    sns.scatterplot(data=df_short,x=f\"{prop}1\",y=f\"{prop}2\", s=1,alpha=0.1,\n",
    "                ax=g.ax_joint)\n",
    "    \n",
    "    if prop == \"SSSR\":\n",
    "        g.set_axis_labels(r'$\\Delta$'+\"Rings\", \"\", fontsize=6,font=\"Arial\")\n",
    "    else:\n",
    "        \n",
    "        g.set_axis_labels(r'$\\Delta$'+f\"{prop}\", \"\", fontsize=6,font=\"Arial\")\n",
    "    g.ax_joint.set_xticks(lims_dict[prop])\n",
    "    g.ax_joint.set_yticks(lims_dict[prop])\n",
    "    \n",
    "    g.ax_joint.set_xticklabels(labels_dict[prop],size=6,rotation=45,font=\"Arial\")\n",
    "    g.ax_joint.set_yticklabels(labels_dict[prop],size=6,font=\"Arial\")\n",
    "    \n",
    "    g.ax_joint.axvline(0,color=(gg,gg,gg,1),ls=\"--\",linewidth=1)\n",
    "    g.ax_joint.axhline(0,color=(gg,gg,gg,1),ls=\"--\",linewidth=1)\n",
    "    plt.tight_layout()\n",
    "    \n",
    "    \n",
    "    \n",
    "#     print(g.ax_marg_x.get_xticks())\n",
    "    plt.savefig(f\"fig3b_{prop}.png\",dpi=900)\n",
    "#     g.ax_joint.set_xticks((lims[0],0,lims[1]))\n",
    "# plt.show()\n",
    "#     ax1 = sns.jointplot(x=x, y=y)\n",
    "#     g.ax_joint.cla()\n",
    "#     plt.sca(g.ax_joint)\n",
    "\n",
    "#     plt.hist2d(df_short[f\"{prop}1\"],df_short[f\"{prop}2\"], bins=(100, 100), cmap=\"plasma\",cmin=1);\n"
   ]
  }
 ],
 "metadata": {
  "kernelspec": {
   "display_name": "Python 3",
   "language": "python",
   "name": "python3"
  },
  "language_info": {
   "codemirror_mode": {
    "name": "ipython",
    "version": 3
   },
   "file_extension": ".py",
   "mimetype": "text/x-python",
   "name": "python",
   "nbconvert_exporter": "python",
   "pygments_lexer": "ipython3",
   "version": "3.6.12"
  }
 },
 "nbformat": 4,
 "nbformat_minor": 5
}
