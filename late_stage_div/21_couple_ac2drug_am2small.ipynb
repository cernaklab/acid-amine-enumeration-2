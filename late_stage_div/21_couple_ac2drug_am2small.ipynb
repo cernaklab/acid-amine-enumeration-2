{
 "cells": [
  {
   "cell_type": "code",
   "execution_count": 1,
   "id": "e9254f51",
   "metadata": {},
   "outputs": [],
   "source": [
    "from rdkit import Chem\n",
    "from rdkit.Chem import AllChem\n",
    "from rdkit.Chem.Draw import IPythonConsole\n",
    "# from rdkit.Chem.Draw import MolDrawing, DrawingOptions, MolToImage\n",
    "\n",
    "from rdkit import RDLogger\n",
    "lg = RDLogger.logger()\n",
    "lg.setLevel(RDLogger.CRITICAL)\n",
    "\n",
    "import numpy as np\n",
    "\n",
    "from tqdm.notebook import tqdm\n",
    "\n",
    "from tqdm.contrib.concurrent import process_map\n",
    "\n",
    "import pandas as pd"
   ]
  },
  {
   "cell_type": "code",
   "execution_count": 3,
   "id": "36cddb5f",
   "metadata": {},
   "outputs": [],
   "source": [
    "def apply_amat(acid,acid_match,amine,amine_match,rmat):\n",
    "    \"\"\"\n",
    "    needs the smarts of the acid and amine pre-defined. maybe an external dictionary.\n",
    "    \"\"\"\n",
    "    # combine molecules and make a writable version\n",
    "    both = Chem.CombineMols(acid,amine)\n",
    "    bothW = Chem.RWMol(both)\n",
    "    Chem.Kekulize(both,clearAromaticFlags=True)\n",
    "#     Chem.Kekulize(bothW,clearAromaticFlags=True)\n",
    "    # get the indices for the acid and amine matches. NEEDS TO BE ROBUST TOWARDS MULTIPLE VALIDITIES\n",
    "    amine_atoms = both.GetSubstructMatch(group_dict[amine_match])\n",
    "    acid_atoms = both.GetSubstructMatch(group_dict[acid_match])\n",
    "    \n",
    "    if not (amine_atoms and acid_atoms):\n",
    "        print(\"substruct match not found\")\n",
    "        return\n",
    "    # join the indices\n",
    "    atom_list = amine_atoms + acid_atoms\n",
    "#     print(atom_list)\n",
    "    \n",
    "    # go through the amat to find places where the change is not 0\n",
    "    side_len = len(rmat)\n",
    "    \n",
    "    if side_len != len(atom_list):\n",
    "        print(\"matrix length does not equal number of matched atoms\")\n",
    "        return\n",
    "    for r in range(side_len):\n",
    "        for c in range(r+1,side_len):\n",
    "            bond_order_change = rmat[r][c]\n",
    "            if bond_order_change != 0: \n",
    "                atom1 = atom_list[amat2ind[r]]\n",
    "                atom2 = atom_list[amat2ind[c]]\n",
    "                # get the current bond order\n",
    "                current_bond = both.GetBondBetweenAtoms(atom1,atom2)\n",
    "                if current_bond: \n",
    "                    current_bond_order = current_bond.GetBondTypeAsDouble()\n",
    "                                       \n",
    "                else: \n",
    "                    current_bond_order = 0\n",
    "                \n",
    "                new_bond_order = current_bond_order + bond_order_change\n",
    "\n",
    "                \n",
    "                if new_bond_order not in [0,1,2,3]:\n",
    "\n",
    "                    return None\n",
    "               \n",
    "                bothW.RemoveBond(atom1,atom2)\n",
    "                \n",
    "                if new_bond_order > 0:\n",
    "                    bothW.AddBond(atom1,atom2, bond_dict[new_bond_order])\n",
    "                        \n",
    "    try:\n",
    "        Chem.SanitizeMol(bothW)\n",
    "\n",
    "    except:\n",
    "#         print(\"illegal structure\")\n",
    "        return None\n",
    "\n",
    "    # may need to become smiles if we want to multitarget, as well as have fragments included.\n",
    "    return bothW\n"
   ]
  },
  {
   "cell_type": "code",
   "execution_count": 5,
   "id": "a9ffb653",
   "metadata": {},
   "outputs": [],
   "source": [
    "sp2_acid_smiles = \"[17O]=[17C]([18O])[16C]1=[15C]C=C(C(C2CCCCC2)=C(C3=CC=CC=C3)N4CC(N5CCOCC5)=O)C4=C1\""
   ]
  },
  {
   "cell_type": "code",
   "execution_count": 6,
   "id": "36a4b6b1",
   "metadata": {},
   "outputs": [
    {
     "data": {
      "image/png": "[encoded data removed]",
      "text/plain": [
       "<rdkit.Chem.rdchem.Mol at 0x7f124b5c2850>"
      ]
     },
     "execution_count": 6,
     "metadata": {},
     "output_type": "execute_result"
    }
   ],
   "source": [
    "# sp3_acid_smiles = '[17O]=[17C]([18O])[16C]([15C]c1cnc[nH]1)N1C(=O)c2ccccc2C1=O'\n",
    "enamine_acid = Chem.MolFromSmiles(sp2_acid_smiles)\n",
    "Chem.Kekulize(enamine_acid,clearAromaticFlags=True)\n",
    "enamine_acid"
   ]
  },
  {
   "cell_type": "code",
   "execution_count": 7,
   "id": "4a6876cb",
   "metadata": {},
   "outputs": [],
   "source": [
    "sp2_amine_smiles = \"[15N][14C]1=[13C]C(Cl)=CC(Cl)=C1\""
   ]
  },
  {
   "cell_type": "code",
   "execution_count": 8,
   "id": "ef256958",
   "metadata": {},
   "outputs": [
    {
     "data": {
      "image/png": "[encoded data removed]",
      "text/plain": [
       "<rdkit.Chem.rdchem.Mol at 0x7f124b5de530>"
      ]
     },
     "execution_count": 8,
     "metadata": {},
     "output_type": "execute_result"
    }
   ],
   "source": [
    "# sp3_amine_smiles = \"[15N][14C][13C]C1CCC(N)C1\"\n",
    "enamine_amine = Chem.MolFromSmiles(sp2_amine_smiles)\n",
    "Chem.Kekulize(enamine_amine,clearAromaticFlags=True)\n",
    "enamine_amine"
   ]
  },
  {
   "cell_type": "code",
   "execution_count": 9,
   "id": "bd843449",
   "metadata": {},
   "outputs": [],
   "source": [
    "am2 = Chem.MolFromSmarts(\"[13C]=[14C][15N]\")\n",
    "ac2 = Chem.MolFromSmarts(\"[15C]=[16C][17C](=[17O])[18O]\")\n",
    "am3 = Chem.MolFromSmarts(\"[13C][14C][15N]\")\n",
    "ac3 = Chem.MolFromSmarts(\"[15C][16C][17C](=[17O])[18O]\")\n",
    "\n",
    "\n",
    "group_dict = {\"ac2\":ac2, \"ac3\":ac3,\"am2\":am2,\"am3\":am3}\n",
    "# the dictionary is basically like, first entry is amine C1. second entry is amine c2. \n",
    "# this changes depending on the matrix, and how the smarts for the matcher is written. \n",
    "\n",
    "# number of entries in the amat\n",
    "amat_indices = range(8)\n",
    "# which entry each index should map to\n",
    "mapping_order = [0,1,3,4,5,2,6,7]\n",
    "# mapping_order = [3,4,5,0,1,2,6,7]\n",
    "\n",
    "\n",
    "# amat index -> amine/acid match index\n",
    "amat2ind = {k:v for k,v in zip(amat_indices, mapping_order)}\n",
    "\n",
    "bond_dict = {1:Chem.BondType.SINGLE, 2:Chem.BondType.DOUBLE, 3:Chem.BondType.TRIPLE}\n"
   ]
  },
  {
   "cell_type": "code",
   "execution_count": 10,
   "id": "f1a42b1d",
   "metadata": {},
   "outputs": [
    {
     "data": {
      "image/png": "[encoded data removed]",
      "text/plain": [
       "<rdkit.Chem.rdchem.Mol at 0x7f124b5c2850>"
      ]
     },
     "execution_count": 10,
     "metadata": {},
     "output_type": "execute_result"
    }
   ],
   "source": [
    "# enamine_acid.GetSubstructMatch(Chem.)\n",
    "enamine_acid.GetSubstructMatch(ac2)\n",
    "enamine_acid"
   ]
  },
  {
   "cell_type": "code",
   "execution_count": 37,
   "id": "1420cfed",
   "metadata": {},
   "outputs": [
    {
     "data": {
      "image/png": "[encoded data removed]",
      "text/plain": [
       "<rdkit.Chem.rdchem.Mol at 0x7f124b5de530>"
      ]
     },
     "execution_count": 37,
     "metadata": {},
     "output_type": "execute_result"
    }
   ],
   "source": [
    "enamine_amine.GetSubstructMatch(am2)\n",
    "enamine_amine"
   ]
  },
  {
   "cell_type": "code",
   "execution_count": null,
   "id": "a1d4c586",
   "metadata": {},
   "outputs": [],
   "source": [
    "ac2_am2 = [[0, 2, 0, 0, 0, 0, 0, 0],\n",
    "           [2, 0, 0, 0, 0, 1, 0, 0],\n",
    "           [0, 0, 0, 2, 0, 0, 0, 0],\n",
    "           [0, 0, 2, 0, 1, 0, 0, 0],\n",
    "           [0, 0, 0, 1, 0, 0, 2, 1],\n",
    "           [0, 1, 0, 0, 0, 0, 0, 0],\n",
    "           [0, 0, 0, 0, 2, 0, 0, 0],\n",
    "           [0, 0, 0, 0, 1, 0, 0, 0]]"
   ]
  },
  {
   "cell_type": "code",
   "execution_count": 12,
   "id": "5c6dfcbf",
   "metadata": {},
   "outputs": [],
   "source": [
    "def run_enumeration(file_tag):\n",
    "    index_start = file_tag * 1000000\n",
    "    file_tag = str(file_tag).zfill(2)\n",
    "    pmats = np.load(f\"../product_amats/pdt_amat_{file_tag}_int8.npy\")\n",
    "    dmats = pmats - ac2_am2\n",
    "    \n",
    "    out_file = open(f\"./ac2drug_am2small/matrix_coupling_{file_tag}.csv\",\"w\")\n",
    "    out_file.write(\"rmat_tag,pdt_smiles\\n\")\n",
    "    \n",
    "    for i, dmat in enumerate(dmats):\n",
    "        \n",
    "#         matrix_index = index_start + i\n",
    "#         m = apply_amat(enamine_acid,\"ac3\",enamine_amine,\"am3\",dmat)\n",
    "#         s = Chem.MolToSmiles(m,isomericSmiles=True)\n",
    "#         out_file.write(s+\"\\n\")\n",
    "        try:\n",
    "            matrix_index = index_start + i\n",
    "            m = apply_amat(enamine_acid,\"ac2\",enamine_amine,\"am2\",dmat)\n",
    "            s = Chem.MolToSmiles(m,isomericSmiles=True)\n",
    "            out_file.write(f\"{index_start+i},{s}\\n\")\n",
    "        except:\n",
    "            continue\n",
    "    out_file.close()\n",
    "    "
   ]
  },
  {
   "cell_type": "code",
   "execution_count": 13,
   "id": "ff9153d3",
   "metadata": {},
   "outputs": [],
   "source": [
    "run_enumeration(20)"
   ]
  },
  {
   "cell_type": "code",
   "execution_count": 25,
   "id": "0919f63b",
   "metadata": {},
   "outputs": [
    {
     "data": {
      "application/vnd.jupyter.widget-view+json": {
       "model_id": "b47b49a82bf04f918fcaba8829c6c33e",
       "version_major": 2,
       "version_minor": 0
      },
      "text/plain": [
       "  0%|          | 0/56 [00:00<?, ?it/s]"
      ]
     },
     "metadata": {},
     "output_type": "display_data"
    }
   ],
   "source": [
    "# a = process_map(run_enumeration,range(56),max_workers=8,chunksize=1)"
   ]
  },
  {
   "cell_type": "markdown",
   "id": "4d2a9de3",
   "metadata": {},
   "source": [
    "## for processing"
   ]
  },
  {
   "cell_type": "code",
   "execution_count": 13,
   "id": "1e027f4c",
   "metadata": {},
   "outputs": [],
   "source": [
    "acid_parts = [\"[15C]\",\"[16C]\",\"[17C]\",\"[15c]\",\"[16c]\",\"[17c]\",\"[17O]\",\"[18O]\",\"[17o]\",\"[18o]\"]\n",
    "amine_parts = [\"[13C]\",\"[14C]\",\"[13c]\",\"[14c]\",\"[15N]\",\"[15n]\"]\n",
    "\n",
    "def check_smiles(s):\n",
    "    coupled_smiles = []\n",
    "    split_smiles = s.split(\".\")\n",
    "    \n",
    "    for ss in split_smiles:\n",
    "        if any([i in ss for i in acid_parts]) and any([i in ss for i in amine_parts]):\n",
    "            coupled_smiles.append(ss)\n",
    "    if len(coupled_smiles) == 0:\n",
    "        return \"C\"\n",
    "    \n",
    "    else:\n",
    "        atom_counts = [count_atoms(s) for s in coupled_smiles]\n",
    "        largest_frag_ind = np.argmax(atom_counts)\n",
    "        return coupled_smiles[largest_frag_ind]\n",
    "            \n",
    "def count_atoms(s):\n",
    "    alphab = \"CONcon\"\n",
    "    return len([i for i in s if i in alphab])            "
   ]
  },
  {
   "cell_type": "code",
   "execution_count": 14,
   "id": "265f884e",
   "metadata": {},
   "outputs": [
    {
     "data": {
      "application/vnd.jupyter.widget-view+json": {
       "model_id": "7da532bf510d42479f30bd63a59091fe",
       "version_major": 2,
       "version_minor": 0
      },
      "text/plain": [
       "  0%|          | 0/56 [00:00<?, ?it/s]"
      ]
     },
     "metadata": {},
     "output_type": "display_data"
    }
   ],
   "source": [
    "\n",
    "all_coupling_data = []\n",
    "for file_tag in tqdm(range(56)):\n",
    "    \n",
    "    distance_data = pd.read_csv(f\"../data_files/smiles_with_all_dists_{str(file_tag).zfill(2)}.csv\")\n",
    "    coupling_data = pd.read_csv(f\"./ac2drug_am2small/matrix_coupling_{str(file_tag).zfill(2)}.csv\")\n",
    "\n",
    "    raw_tags = list(coupling_data.rmat_tag - file_tag*1000000)\n",
    "    coupling_dists = list(distance_data.iloc[raw_tags].ac2am2)\n",
    "\n",
    "    coupling_data[\"distance\"] = coupling_dists\n",
    "\n",
    "\n",
    "    largest_frag = []\n",
    "    for s in coupling_data.pdt_smiles:\n",
    "        largest_frag.append(check_smiles(s))\n",
    "    coupling_data[\"largest_frag\"] = largest_frag\n",
    "    \n",
    "    # remove duplicates\n",
    "    coupling_data.sort_values(\"distance\",inplace=True)\n",
    "    coupling_data.drop_duplicates(subset=\"largest_frag\",inplace=True)\n",
    "    coupling_data.sort_values(\"rmat_tag\",inplace=True)\n",
    "\n",
    "\n",
    "    all_coupling_data.append(coupling_data)"
   ]
  },
  {
   "cell_type": "code",
   "execution_count": 15,
   "id": "55f5da4b",
   "metadata": {},
   "outputs": [],
   "source": [
    "all_coupling_df = pd.concat(all_coupling_data)\n",
    "all_coupling_df.sort_values(\"distance\",inplace=True)"
   ]
  },
  {
   "cell_type": "code",
   "execution_count": 16,
   "id": "f82aef66",
   "metadata": {},
   "outputs": [],
   "source": [
    "all_coupling_df.drop_duplicates(subset=\"largest_frag\",inplace=True)\n",
    "all_coupling_df.sort_values(\"rmat_tag\",inplace=True)"
   ]
  },
  {
   "cell_type": "code",
   "execution_count": 17,
   "id": "e8f5a671",
   "metadata": {},
   "outputs": [],
   "source": [
    "all_coupling_df = all_coupling_df[all_coupling_df.largest_frag!=\"C\"].copy()"
   ]
  },
  {
   "cell_type": "code",
   "execution_count": 18,
   "id": "b6cf1747",
   "metadata": {},
   "outputs": [
    {
     "data": {
      "text/html": [
       "<div>\n",
       "<style scoped>\n",
       "    .dataframe tbody tr th:only-of-type {\n",
       "        vertical-align: middle;\n",
       "    }\n",
       "\n",
       "    .dataframe tbody tr th {\n",
       "        vertical-align: top;\n",
       "    }\n",
       "\n",
       "    .dataframe thead th {\n",
       "        text-align: right;\n",
       "    }\n",
       "</style>\n",
       "<table border=\"1\" class=\"dataframe\">\n",
       "  <thead>\n",
       "    <tr style=\"text-align: right;\">\n",
       "      <th></th>\n",
       "      <th>rmat_tag</th>\n",
       "      <th>pdt_smiles</th>\n",
       "      <th>distance</th>\n",
       "      <th>largest_frag</th>\n",
       "    </tr>\n",
       "  </thead>\n",
       "  <tbody>\n",
       "    <tr>\n",
       "      <th>20847</th>\n",
       "      <td>40932</td>\n",
       "      <td>[13C]C(Cl)=CC(Cl)=C[14C][18O][16C]C=c1c(=C[15C...</td>\n",
       "      <td>9.0</td>\n",
       "      <td>[13C]C(Cl)=CC(Cl)=C[14C][18O][16C]C=c1c(=C[15C...</td>\n",
       "    </tr>\n",
       "    <tr>\n",
       "      <th>20862</th>\n",
       "      <td>40947</td>\n",
       "      <td>[13C]C(Cl)=CC(Cl)=C[14C][18O][17O][16C]C=c1c(=...</td>\n",
       "      <td>12.0</td>\n",
       "      <td>[13C]C(Cl)=CC(Cl)=C[14C][18O][17O][16C]C=c1c(=...</td>\n",
       "    </tr>\n",
       "    <tr>\n",
       "      <th>20865</th>\n",
       "      <td>40950</td>\n",
       "      <td>[13C]C(Cl)=CC(Cl)=C[14C][18O][15N][17O][16C]C=...</td>\n",
       "      <td>13.0</td>\n",
       "      <td>[13C]C(Cl)=CC(Cl)=C[14C][18O][15N][17O][16C]C=...</td>\n",
       "    </tr>\n",
       "    <tr>\n",
       "      <th>20870</th>\n",
       "      <td>40955</td>\n",
       "      <td>[13C]C(Cl)=CC(Cl)=C[14C][18O][17C][17O][16C]C=...</td>\n",
       "      <td>9.0</td>\n",
       "      <td>[13C]C(Cl)=CC(Cl)=C[14C][18O][17C][17O][16C]C=...</td>\n",
       "    </tr>\n",
       "    <tr>\n",
       "      <th>20875</th>\n",
       "      <td>40960</td>\n",
       "      <td>[13C]C(Cl)=CC(Cl)=C[14C][18O][15N]([17C])[17O]...</td>\n",
       "      <td>14.0</td>\n",
       "      <td>[13C]C(Cl)=CC(Cl)=C[14C][18O][15N]([17C])[17O]...</td>\n",
       "    </tr>\n",
       "  </tbody>\n",
       "</table>\n",
       "</div>"
      ],
      "text/plain": [
       "       rmat_tag                                         pdt_smiles  distance  \\\n",
       "20847     40932  [13C]C(Cl)=CC(Cl)=C[14C][18O][16C]C=c1c(=C[15C...       9.0   \n",
       "20862     40947  [13C]C(Cl)=CC(Cl)=C[14C][18O][17O][16C]C=c1c(=...      12.0   \n",
       "20865     40950  [13C]C(Cl)=CC(Cl)=C[14C][18O][15N][17O][16C]C=...      13.0   \n",
       "20870     40955  [13C]C(Cl)=CC(Cl)=C[14C][18O][17C][17O][16C]C=...       9.0   \n",
       "20875     40960  [13C]C(Cl)=CC(Cl)=C[14C][18O][15N]([17C])[17O]...      14.0   \n",
       "\n",
       "                                            largest_frag  \n",
       "20847  [13C]C(Cl)=CC(Cl)=C[14C][18O][16C]C=c1c(=C[15C...  \n",
       "20862  [13C]C(Cl)=CC(Cl)=C[14C][18O][17O][16C]C=c1c(=...  \n",
       "20865  [13C]C(Cl)=CC(Cl)=C[14C][18O][15N][17O][16C]C=...  \n",
       "20870  [13C]C(Cl)=CC(Cl)=C[14C][18O][17C][17O][16C]C=...  \n",
       "20875  [13C]C(Cl)=CC(Cl)=C[14C][18O][15N]([17C])[17O]...  "
      ]
     },
     "execution_count": 18,
     "metadata": {},
     "output_type": "execute_result"
    }
   ],
   "source": [
    "all_coupling_df.head()"
   ]
  },
  {
   "cell_type": "code",
   "execution_count": 19,
   "id": "ea080045",
   "metadata": {},
   "outputs": [],
   "source": [
    "ring_triple_bond = Chem.MolFromSmarts(\"[*!R0]#[*!R0]\")\n",
    "cyclopropene = Chem.MolFromSmarts(\"[*!R0]1=[*!R0]~[*]1\")\n",
    "ring_allene = Chem.MolFromSmarts(\"[*!R0]=[*!R0]=[*!R0]\")\n",
    "ab_211_2 = Chem.MolFromSmarts(\"*1(~*2)=*~*~*2~*1\")\n",
    "ab_211_1 = Chem.MolFromSmarts(\"*1(~*2)=*~*2~*~*1\")\n",
    "ab_220_2 = Chem.MolFromSmarts(\"*12~*~*~*1=*~*2\") \n",
    "ab_220_0 = Chem.MolFromSmarts(\"*1(~*~*2)=*2~*~*1\")\n",
    "ab_221_2 = Chem.MolFromSmarts(\"*1(~*2)~*~*~*2=*~*1\")\n",
    "ab_221_1 = Chem.MolFromSmarts(\"*12=*~*(~*~*2)~*~*1\")\n",
    "ab_222_2 = Chem.MolFromSmarts(\"*12~*~*~*(~*~*2)=*~*1\")\n",
    "ab_210_2 = Chem.MolFromSmarts(\"*12~*~*=*1~*2\")\n",
    "ab_210_0 = Chem.MolFromSmarts(\"*1(~*2)=*2~*~*1\")\n",
    "ab_210_1 = Chem.MolFromSmarts(\"*12~*~*~*1=*2\")\n",
    "ab_114_1 = Chem.MolFromSmarts(\"*1(~*2)=*~*2~*~*~*~*1\")\n",
    "ab_114_4 = Chem.MolFromSmarts(\"*1(~*2)=*~*~*~*~*2~*1\")\n",
    "ab_123_1 = Chem.MolFromSmarts(\"*12=*~*(~*~*~*2)~*~*1\")\n",
    "ab_123_2 = Chem.MolFromSmarts(\"*12=*~*~*(~*~*~*2)~*1\")\n",
    "ab_123_3 = Chem.MolFromSmarts(\"*1(~*~*2)=*~*~*~*2~*1\")\n",
    "\n",
    "myrules = [ring_triple_bond,cyclopropene,ring_allene,ab_211_2,ab_211_1,ab_220_2,ab_220_0,\n",
    "           ab_221_2,ab_221_1,ab_222_2,ab_210_2,ab_210_0,ab_210_1,ab_114_1,ab_114_4,ab_123_1,ab_123_2,ab_123_3]\n",
    "\n",
    "# bredt_passed = []\n",
    "# for s in tqdm(all_coupling_df.largest_frag):\n",
    "#     m = Chem.MolFromSmiles(s)\n",
    "\n",
    "#     if not any([m.HasSubstructMatch(patt) for patt in myrules]):\n",
    "#         bredt_passed.append(True)\n",
    "#     else:\n",
    "#         bredt_passed.append(False)"
   ]
  },
  {
   "cell_type": "code",
   "execution_count": 20,
   "id": "ac8f4ab9",
   "metadata": {},
   "outputs": [],
   "source": [
    "def check_bredt(s):\n",
    "    m = Chem.MolFromSmiles(s)\n",
    "    \n",
    "    if not m:\n",
    "        return False\n",
    "\n",
    "    if not any([m.HasSubstructMatch(patt) for patt in myrules]):\n",
    "        return True\n",
    "    else:\n",
    "        return False\n",
    "    "
   ]
  },
  {
   "cell_type": "code",
   "execution_count": 21,
   "id": "dbb62ab6",
   "metadata": {},
   "outputs": [],
   "source": [
    "acid_parts = [\"[15C]\",\"[16C]\",\"[17C]\",\"[15c]\",\"[16c]\",\"[17c]\",\"[17O]\",\"[18O]\",\"[17o]\",\"[18o]\"]\n",
    "amine_parts = [\"[13C]\",\"[14C]\",\"[13c]\",\"[14c]\",\"[15N]\",\"[15n]\"]\n",
    "\n",
    "def clean_structure(s):\n",
    "    temp = s\n",
    "    \n",
    "    for i in acid_parts + amine_parts:\n",
    "        temp = temp.replace(i,i[-2])\n",
    "        \n",
    "    return temp"
   ]
  },
  {
   "cell_type": "code",
   "execution_count": 23,
   "id": "1ff3f2fc",
   "metadata": {},
   "outputs": [
    {
     "data": {
      "application/vnd.jupyter.widget-view+json": {
       "model_id": "eab2caf804df41c682d525f0ee28e175",
       "version_major": 2,
       "version_minor": 0
      },
      "text/plain": [
       "  0%|          | 0/8365666 [00:00<?, ?it/s]"
      ]
     },
     "metadata": {},
     "output_type": "display_data"
    }
   ],
   "source": [
    "bredt_check = process_map(check_bredt,list(all_coupling_df.largest_frag),max_workers=8,chunksize=10000)"
   ]
  },
  {
   "cell_type": "code",
   "execution_count": 24,
   "id": "4c76231b",
   "metadata": {},
   "outputs": [],
   "source": [
    "all_coupling_df[\"bredt\"] = bredt_check"
   ]
  },
  {
   "cell_type": "code",
   "execution_count": 26,
   "id": "ac9d83ef",
   "metadata": {},
   "outputs": [
    {
     "data": {
      "text/html": [
       "<div>\n",
       "<style scoped>\n",
       "    .dataframe tbody tr th:only-of-type {\n",
       "        vertical-align: middle;\n",
       "    }\n",
       "\n",
       "    .dataframe tbody tr th {\n",
       "        vertical-align: top;\n",
       "    }\n",
       "\n",
       "    .dataframe thead th {\n",
       "        text-align: right;\n",
       "    }\n",
       "</style>\n",
       "<table border=\"1\" class=\"dataframe\">\n",
       "  <thead>\n",
       "    <tr style=\"text-align: right;\">\n",
       "      <th></th>\n",
       "      <th>rmat_tag</th>\n",
       "      <th>pdt_smiles</th>\n",
       "      <th>distance</th>\n",
       "      <th>largest_frag</th>\n",
       "      <th>bredt</th>\n",
       "    </tr>\n",
       "  </thead>\n",
       "  <tbody>\n",
       "    <tr>\n",
       "      <th>20847</th>\n",
       "      <td>40932</td>\n",
       "      <td>[13C]C(Cl)=CC(Cl)=C[14C][18O][16C]C=c1c(=C[15C...</td>\n",
       "      <td>9.0</td>\n",
       "      <td>[13C]C(Cl)=CC(Cl)=C[14C][18O][16C]C=c1c(=C[15C...</td>\n",
       "      <td>True</td>\n",
       "    </tr>\n",
       "    <tr>\n",
       "      <th>20862</th>\n",
       "      <td>40947</td>\n",
       "      <td>[13C]C(Cl)=CC(Cl)=C[14C][18O][17O][16C]C=c1c(=...</td>\n",
       "      <td>12.0</td>\n",
       "      <td>[13C]C(Cl)=CC(Cl)=C[14C][18O][17O][16C]C=c1c(=...</td>\n",
       "      <td>True</td>\n",
       "    </tr>\n",
       "    <tr>\n",
       "      <th>20865</th>\n",
       "      <td>40950</td>\n",
       "      <td>[13C]C(Cl)=CC(Cl)=C[14C][18O][15N][17O][16C]C=...</td>\n",
       "      <td>13.0</td>\n",
       "      <td>[13C]C(Cl)=CC(Cl)=C[14C][18O][15N][17O][16C]C=...</td>\n",
       "      <td>True</td>\n",
       "    </tr>\n",
       "    <tr>\n",
       "      <th>20870</th>\n",
       "      <td>40955</td>\n",
       "      <td>[13C]C(Cl)=CC(Cl)=C[14C][18O][17C][17O][16C]C=...</td>\n",
       "      <td>9.0</td>\n",
       "      <td>[13C]C(Cl)=CC(Cl)=C[14C][18O][17C][17O][16C]C=...</td>\n",
       "      <td>True</td>\n",
       "    </tr>\n",
       "    <tr>\n",
       "      <th>20875</th>\n",
       "      <td>40960</td>\n",
       "      <td>[13C]C(Cl)=CC(Cl)=C[14C][18O][15N]([17C])[17O]...</td>\n",
       "      <td>14.0</td>\n",
       "      <td>[13C]C(Cl)=CC(Cl)=C[14C][18O][15N]([17C])[17O]...</td>\n",
       "      <td>True</td>\n",
       "    </tr>\n",
       "    <tr>\n",
       "      <th>...</th>\n",
       "      <td>...</td>\n",
       "      <td>...</td>\n",
       "      <td>...</td>\n",
       "      <td>...</td>\n",
       "      <td>...</td>\n",
       "    </tr>\n",
       "    <tr>\n",
       "      <th>5453</th>\n",
       "      <td>54022825</td>\n",
       "      <td>[15N]=[17C]=[16C]1C=c2c(c(C3CCCCC3)c(-c3ccccc3...</td>\n",
       "      <td>10.0</td>\n",
       "      <td>[15N]=[17C]=[16C]1C=c2c(c(C3CCCCC3)c(-c3ccccc3...</td>\n",
       "      <td>True</td>\n",
       "    </tr>\n",
       "    <tr>\n",
       "      <th>5456</th>\n",
       "      <td>54022828</td>\n",
       "      <td>O=C(Cn1c(-c2ccccc2)c(C2CCCCC2)c2c1=C[16C](=[17...</td>\n",
       "      <td>11.0</td>\n",
       "      <td>O=C(Cn1c(-c2ccccc2)c(C2CCCCC2)c2c1=C[16C](=[17...</td>\n",
       "      <td>True</td>\n",
       "    </tr>\n",
       "    <tr>\n",
       "      <th>5457</th>\n",
       "      <td>54022829</td>\n",
       "      <td>O=C(Cn1c(-c2ccccc2)c(C2CCCCC2)c2c1=C[16C](=[17...</td>\n",
       "      <td>12.0</td>\n",
       "      <td>O=C(Cn1c(-c2ccccc2)c(C2CCCCC2)c2c1=C[16C](=[17...</td>\n",
       "      <td>True</td>\n",
       "    </tr>\n",
       "    <tr>\n",
       "      <th>5458</th>\n",
       "      <td>54022830</td>\n",
       "      <td>O=C(Cn1c(-c2ccccc2)c(C2CCCCC2)c2c1=C[16C](=[17...</td>\n",
       "      <td>11.0</td>\n",
       "      <td>O=C(Cn1c(-c2ccccc2)c(C2CCCCC2)c2c1=C[16C](=[17...</td>\n",
       "      <td>True</td>\n",
       "    </tr>\n",
       "    <tr>\n",
       "      <th>5459</th>\n",
       "      <td>54022831</td>\n",
       "      <td>O=C(Cn1c(-c2ccccc2)c(C2CCCCC2)c2c1=C[16C](=[17...</td>\n",
       "      <td>12.0</td>\n",
       "      <td>O=C(Cn1c(-c2ccccc2)c(C2CCCCC2)c2c1=C[16C](=[17...</td>\n",
       "      <td>True</td>\n",
       "    </tr>\n",
       "  </tbody>\n",
       "</table>\n",
       "<p>8365666 rows × 5 columns</p>\n",
       "</div>"
      ],
      "text/plain": [
       "       rmat_tag                                         pdt_smiles  distance  \\\n",
       "20847     40932  [13C]C(Cl)=CC(Cl)=C[14C][18O][16C]C=c1c(=C[15C...       9.0   \n",
       "20862     40947  [13C]C(Cl)=CC(Cl)=C[14C][18O][17O][16C]C=c1c(=...      12.0   \n",
       "20865     40950  [13C]C(Cl)=CC(Cl)=C[14C][18O][15N][17O][16C]C=...      13.0   \n",
       "20870     40955  [13C]C(Cl)=CC(Cl)=C[14C][18O][17C][17O][16C]C=...       9.0   \n",
       "20875     40960  [13C]C(Cl)=CC(Cl)=C[14C][18O][15N]([17C])[17O]...      14.0   \n",
       "...         ...                                                ...       ...   \n",
       "5453   54022825  [15N]=[17C]=[16C]1C=c2c(c(C3CCCCC3)c(-c3ccccc3...      10.0   \n",
       "5456   54022828  O=C(Cn1c(-c2ccccc2)c(C2CCCCC2)c2c1=C[16C](=[17...      11.0   \n",
       "5457   54022829  O=C(Cn1c(-c2ccccc2)c(C2CCCCC2)c2c1=C[16C](=[17...      12.0   \n",
       "5458   54022830  O=C(Cn1c(-c2ccccc2)c(C2CCCCC2)c2c1=C[16C](=[17...      11.0   \n",
       "5459   54022831  O=C(Cn1c(-c2ccccc2)c(C2CCCCC2)c2c1=C[16C](=[17...      12.0   \n",
       "\n",
       "                                            largest_frag  bredt  \n",
       "20847  [13C]C(Cl)=CC(Cl)=C[14C][18O][16C]C=c1c(=C[15C...   True  \n",
       "20862  [13C]C(Cl)=CC(Cl)=C[14C][18O][17O][16C]C=c1c(=...   True  \n",
       "20865  [13C]C(Cl)=CC(Cl)=C[14C][18O][15N][17O][16C]C=...   True  \n",
       "20870  [13C]C(Cl)=CC(Cl)=C[14C][18O][17C][17O][16C]C=...   True  \n",
       "20875  [13C]C(Cl)=CC(Cl)=C[14C][18O][15N]([17C])[17O]...   True  \n",
       "...                                                  ...    ...  \n",
       "5453   [15N]=[17C]=[16C]1C=c2c(c(C3CCCCC3)c(-c3ccccc3...   True  \n",
       "5456   O=C(Cn1c(-c2ccccc2)c(C2CCCCC2)c2c1=C[16C](=[17...   True  \n",
       "5457   O=C(Cn1c(-c2ccccc2)c(C2CCCCC2)c2c1=C[16C](=[17...   True  \n",
       "5458   O=C(Cn1c(-c2ccccc2)c(C2CCCCC2)c2c1=C[16C](=[17...   True  \n",
       "5459   O=C(Cn1c(-c2ccccc2)c(C2CCCCC2)c2c1=C[16C](=[17...   True  \n",
       "\n",
       "[8365666 rows x 5 columns]"
      ]
     },
     "execution_count": 26,
     "metadata": {},
     "output_type": "execute_result"
    }
   ],
   "source": [
    "all_coupling_df"
   ]
  },
  {
   "cell_type": "code",
   "execution_count": 28,
   "id": "5c2f9c6e",
   "metadata": {},
   "outputs": [],
   "source": [
    "# amide = 50175748\n"
   ]
  },
  {
   "cell_type": "code",
   "execution_count": 46,
   "id": "598d12b9",
   "metadata": {},
   "outputs": [],
   "source": [
    "amine_ring = Chem.MolFromSmarts('[13c]1[14c]cccc1')\n",
    "acid_ring = Chem.MolFromSmarts('[15c]1[16c]cccc1')\n",
    "\n",
    "def aromatic_ring_check(s):\n",
    "    m = Chem.MolFromSmiles(s)\n",
    "    \n",
    "    \n",
    "    if not m:\n",
    "        return False\n",
    "    \n",
    "    Chem.SanitizeMol(m)\n",
    "    \n",
    "    return m.HasSubstructMatch(amine_ring) and m.HasSubstructMatch(acid_ring)\n",
    "\n",
    "\n",
    "# arc = []\n",
    "# for s in tqdm(list(all_coupling_df.largest_frag)):\n",
    "#     arc.append(aromatic_ring_check(s))"
   ]
  },
  {
   "cell_type": "code",
   "execution_count": 47,
   "id": "fe766183",
   "metadata": {},
   "outputs": [
    {
     "data": {
      "application/vnd.jupyter.widget-view+json": {
       "model_id": "0242c5699fe8464a9b1e3d0fff95a2cb",
       "version_major": 2,
       "version_minor": 0
      },
      "text/plain": [
       "  0%|          | 0/8365666 [00:00<?, ?it/s]"
      ]
     },
     "metadata": {},
     "output_type": "display_data"
    },
    {
     "name": "stdout",
     "output_type": "stream",
     "text": [
      "0.0016250947623297415\n"
     ]
    }
   ],
   "source": [
    "ring_check = process_map(aromatic_ring_check,list(all_coupling_df.largest_frag),max_workers=8,chunksize=10000)\n",
    "\n",
    "print(sum(ring_check)/len(ring_check))\n",
    "\n",
    "all_coupling_df[\"aromatic\"] = ring_check"
   ]
  },
  {
   "cell_type": "code",
   "execution_count": 51,
   "id": "f7673ba5",
   "metadata": {},
   "outputs": [
    {
     "data": {
      "application/vnd.jupyter.widget-view+json": {
       "model_id": "761828455fdd4e65ae14baacd729bb8e",
       "version_major": 2,
       "version_minor": 0
      },
      "text/plain": [
       "  0%|          | 0/8365666 [00:00<?, ?it/s]"
      ]
     },
     "metadata": {},
     "output_type": "display_data"
    }
   ],
   "source": [
    "s_cleaned = []\n",
    "for s in tqdm(list(all_coupling_df['largest_frag'])):\n",
    "    s_cleaned.append(clean_structure(s))"
   ]
  },
  {
   "cell_type": "code",
   "execution_count": 53,
   "id": "09ac07dc",
   "metadata": {},
   "outputs": [],
   "source": [
    "all_coupling_df[\"largest_cleaned\"] = s_cleaned"
   ]
  },
  {
   "cell_type": "code",
   "execution_count": 54,
   "id": "58b6177a",
   "metadata": {},
   "outputs": [],
   "source": [
    "all_coupling_df.sort_values(\"distance\",inplace=True)\n",
    "all_coupling_df.drop_duplicates(subset=\"largest_cleaned\",inplace=True)"
   ]
  },
  {
   "cell_type": "code",
   "execution_count": 57,
   "id": "5c0fcfd3",
   "metadata": {},
   "outputs": [],
   "source": [
    "all_coupling_df = all_coupling_df[all_coupling_df.bredt].copy()"
   ]
  },
  {
   "cell_type": "code",
   "execution_count": 59,
   "id": "6a1d911d",
   "metadata": {},
   "outputs": [],
   "source": [
    "all_coupling_df.reset_index(drop=True,inplace=True)"
   ]
  },
  {
   "cell_type": "code",
   "execution_count": 60,
   "id": "4a295552",
   "metadata": {},
   "outputs": [
    {
     "data": {
      "text/html": [
       "<div>\n",
       "<style scoped>\n",
       "    .dataframe tbody tr th:only-of-type {\n",
       "        vertical-align: middle;\n",
       "    }\n",
       "\n",
       "    .dataframe tbody tr th {\n",
       "        vertical-align: top;\n",
       "    }\n",
       "\n",
       "    .dataframe thead th {\n",
       "        text-align: right;\n",
       "    }\n",
       "</style>\n",
       "<table border=\"1\" class=\"dataframe\">\n",
       "  <thead>\n",
       "    <tr style=\"text-align: right;\">\n",
       "      <th></th>\n",
       "      <th>rmat_tag</th>\n",
       "      <th>pdt_smiles</th>\n",
       "      <th>distance</th>\n",
       "      <th>largest_frag</th>\n",
       "      <th>bredt</th>\n",
       "      <th>aromatic</th>\n",
       "      <th>largest_cleaned</th>\n",
       "    </tr>\n",
       "  </thead>\n",
       "  <tbody>\n",
       "    <tr>\n",
       "      <th>0</th>\n",
       "      <td>50231461</td>\n",
       "      <td>O=C(Cn1c(-c2ccccc2)c(C2CCCCC2)c2c[15c]([15N][1...</td>\n",
       "      <td>1.0</td>\n",
       "      <td>O=C(Cn1c(-c2ccccc2)c(C2CCCCC2)c2c[15c]([15N][1...</td>\n",
       "      <td>True</td>\n",
       "      <td>True</td>\n",
       "      <td>O=C(Cn1c(-c2ccccc2)c(C2CCCCC2)c2cc(Nc3cc(Cl)cc...</td>\n",
       "    </tr>\n",
       "    <tr>\n",
       "      <th>1</th>\n",
       "      <td>53844353</td>\n",
       "      <td>[15N][14c]1cc(Cl)cc(Cl)[13c]1-[15c]1cc2c(C3CCC...</td>\n",
       "      <td>1.0</td>\n",
       "      <td>[15N][14c]1cc(Cl)cc(Cl)[13c]1-[15c]1cc2c(C3CCC...</td>\n",
       "      <td>True</td>\n",
       "      <td>True</td>\n",
       "      <td>Nc1cc(Cl)cc(Cl)c1-c1cc2c(C3CCCCC3)c(-c3ccccc3)...</td>\n",
       "    </tr>\n",
       "    <tr>\n",
       "      <th>2</th>\n",
       "      <td>50626702</td>\n",
       "      <td>[15N][14c]1cc(Cl)cc(Cl)[13c]1[18O][17C](=[17O]...</td>\n",
       "      <td>1.0</td>\n",
       "      <td>[15N][14c]1cc(Cl)cc(Cl)[13c]1[18O][17C](=[17O]...</td>\n",
       "      <td>True</td>\n",
       "      <td>True</td>\n",
       "      <td>Nc1cc(Cl)cc(Cl)c1OC(=O)c1cc2c(cc1)c(C1CCCCC1)c...</td>\n",
       "    </tr>\n",
       "    <tr>\n",
       "      <th>3</th>\n",
       "      <td>50230203</td>\n",
       "      <td>O=C(Cn1c(-c2ccccc2)c(C2CCCCC2)c2c[15c][16c]([1...</td>\n",
       "      <td>1.0</td>\n",
       "      <td>O=C(Cn1c(-c2ccccc2)c(C2CCCCC2)c2c[15c][16c]([1...</td>\n",
       "      <td>True</td>\n",
       "      <td>True</td>\n",
       "      <td>O=C(Cn1c(-c2ccccc2)c(C2CCCCC2)c2ccc(C(=O)ONc3c...</td>\n",
       "    </tr>\n",
       "    <tr>\n",
       "      <th>4</th>\n",
       "      <td>53844354</td>\n",
       "      <td>O=C(Cn1c(-c2ccccc2)c(C2CCCCC2)c2c[15c]3[16c](c...</td>\n",
       "      <td>2.0</td>\n",
       "      <td>O=C(Cn1c(-c2ccccc2)c(C2CCCCC2)c2c[15c]3[16c](c...</td>\n",
       "      <td>True</td>\n",
       "      <td>True</td>\n",
       "      <td>O=C(Cn1c(-c2ccccc2)c(C2CCCCC2)c2cc3c(cc21)C(=O...</td>\n",
       "    </tr>\n",
       "  </tbody>\n",
       "</table>\n",
       "</div>"
      ],
      "text/plain": [
       "   rmat_tag                                         pdt_smiles  distance  \\\n",
       "0  50231461  O=C(Cn1c(-c2ccccc2)c(C2CCCCC2)c2c[15c]([15N][1...       1.0   \n",
       "1  53844353  [15N][14c]1cc(Cl)cc(Cl)[13c]1-[15c]1cc2c(C3CCC...       1.0   \n",
       "2  50626702  [15N][14c]1cc(Cl)cc(Cl)[13c]1[18O][17C](=[17O]...       1.0   \n",
       "3  50230203  O=C(Cn1c(-c2ccccc2)c(C2CCCCC2)c2c[15c][16c]([1...       1.0   \n",
       "4  53844354  O=C(Cn1c(-c2ccccc2)c(C2CCCCC2)c2c[15c]3[16c](c...       2.0   \n",
       "\n",
       "                                        largest_frag  bredt  aromatic  \\\n",
       "0  O=C(Cn1c(-c2ccccc2)c(C2CCCCC2)c2c[15c]([15N][1...   True      True   \n",
       "1  [15N][14c]1cc(Cl)cc(Cl)[13c]1-[15c]1cc2c(C3CCC...   True      True   \n",
       "2  [15N][14c]1cc(Cl)cc(Cl)[13c]1[18O][17C](=[17O]...   True      True   \n",
       "3  O=C(Cn1c(-c2ccccc2)c(C2CCCCC2)c2c[15c][16c]([1...   True      True   \n",
       "4  O=C(Cn1c(-c2ccccc2)c(C2CCCCC2)c2c[15c]3[16c](c...   True      True   \n",
       "\n",
       "                                     largest_cleaned  \n",
       "0  O=C(Cn1c(-c2ccccc2)c(C2CCCCC2)c2cc(Nc3cc(Cl)cc...  \n",
       "1  Nc1cc(Cl)cc(Cl)c1-c1cc2c(C3CCCCC3)c(-c3ccccc3)...  \n",
       "2  Nc1cc(Cl)cc(Cl)c1OC(=O)c1cc2c(cc1)c(C1CCCCC1)c...  \n",
       "3  O=C(Cn1c(-c2ccccc2)c(C2CCCCC2)c2ccc(C(=O)ONc3c...  \n",
       "4  O=C(Cn1c(-c2ccccc2)c(C2CCCCC2)c2cc3c(cc21)C(=O...  "
      ]
     },
     "execution_count": 60,
     "metadata": {},
     "output_type": "execute_result"
    }
   ],
   "source": [
    "all_coupling_df.head()"
   ]
  },
  {
   "cell_type": "code",
   "execution_count": 61,
   "id": "a39d36bd",
   "metadata": {},
   "outputs": [],
   "source": [
    "all_coupling_df[[\"rmat_tag\",\"distance\",\"largest_frag\",\"largest_cleaned\"]].to_csv(\"coupled_ac2drug_am2small.csv\",index=False)"
   ]
  },
  {
   "cell_type": "code",
   "execution_count": 62,
   "id": "2cff40af",
   "metadata": {},
   "outputs": [],
   "source": [
    "all_coupling_df = all_coupling_df[all_coupling_df.aromatic].copy()\n",
    "all_coupling_df.reset_index(drop=True,inplace=True)"
   ]
  },
  {
   "cell_type": "code",
   "execution_count": 63,
   "id": "1474046b",
   "metadata": {},
   "outputs": [],
   "source": [
    "all_coupling_df[[\"rmat_tag\",\"distance\",\"largest_frag\",\"largest_cleaned\"]].to_csv(\"coupled_aromatic_ac2drug_am2small.csv\",index=False)"
   ]
  }
 ],
 "metadata": {
  "kernelspec": {
   "display_name": "Python 3",
   "language": "python",
   "name": "python3"
  },
  "language_info": {
   "codemirror_mode": {
    "name": "ipython",
    "version": 3
   },
   "file_extension": ".py",
   "mimetype": "text/x-python",
   "name": "python",
   "nbconvert_exporter": "python",
   "pygments_lexer": "ipython3",
   "version": "3.6.12"
  }
 },
 "nbformat": 4,
 "nbformat_minor": 5
}
