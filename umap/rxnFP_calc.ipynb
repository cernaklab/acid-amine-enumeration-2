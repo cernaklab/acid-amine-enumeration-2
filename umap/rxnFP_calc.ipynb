{
 "cells": [
  {
   "cell_type": "markdown",
   "metadata": {},
   "source": [
    "trying to do some clustering on reaction fingerprints"
   ]
  },
  {
   "cell_type": "code",
   "execution_count": 1,
   "metadata": {},
   "outputs": [],
   "source": [
    "from rdkit import Chem\n",
    "import pandas as pd\n",
    "\n",
    "from tqdm.contrib.concurrent import process_map\n",
    "from rdkit.Chem import AllChem\n",
    "\n",
    "import numpy as np\n",
    "\n",
    "from rdkit import DataStructs"
   ]
  },
  {
   "cell_type": "code",
   "execution_count": null,
   "metadata": {},
   "outputs": [
    {
     "data": {
      "application/vnd.jupyter.widget-view+json": {
       "model_id": "dd086284d1af40f89995fb3d2afd8444",
       "version_major": 2,
       "version_minor": 0
      },
      "text/plain": [
       "  0%|          | 0/222661 [00:00<?, ?it/s]"
      ]
     },
     "metadata": {},
     "output_type": "display_data"
    }
   ],
   "source": [
    "import umap"
   ]
  },
  {
   "cell_type": "code",
   "execution_count": 3,
   "metadata": {},
   "outputs": [],
   "source": [
    "data = pd.read_csv(\"../molprops_acidamine.txt\")"
   ]
  },
  {
   "cell_type": "code",
   "execution_count": 7,
   "metadata": {},
   "outputs": [
    {
     "data": {
      "application/vnd.jupyter.widget-view+json": {
       "model_id": "8fb364ac9666426fb81e847a0afe6a21",
       "version_major": 2,
       "version_minor": 0
      },
      "text/plain": [
       "  0%|          | 0/222661 [00:00<?, ?it/s]"
      ]
     },
     "metadata": {},
     "output_type": "display_data"
    }
   ],
   "source": [
    "def calc_morgan(smi):\n",
    "    ## using radius = 2 to match ECFP4\n",
    "    return AllChem.GetMorganFingerprintAsBitVect(Chem.MolFromSmiles(smi),2, nBits=1024)\n",
    "\n",
    "fps = process_map(calc_morgan, \n",
    "                  data.smiles, \n",
    "                  chunksize = 100, \n",
    "                  max_workers = 20)"
   ]
  },
  {
   "cell_type": "code",
   "execution_count": 8,
   "metadata": {},
   "outputs": [],
   "source": [
    "am33 = calc_morgan(\"CCC(O)=O.CCN\")\n",
    "\n",
    "am33 = np.array([i for i in am33])\n",
    "\n",
    "\n",
    "fps_expanded = [[i for i in fp] for fp in fps]\n",
    "\n",
    "fps_expanded = np.array(fps_expanded)\n",
    "\n",
    "fps_expanded = fps_expanded.astype(\"int8\")\n",
    "\n",
    "rxn_fps = (fps_expanded-am33).astype(\"int8\")\n",
    "\n",
    "np.save(\"./acam33_rxn_fps.npy\",rxn_fps)"
   ]
  }
 ],
 "metadata": {
  "kernelspec": {
   "display_name": "Python 3 (ipykernel)",
   "language": "python",
   "name": "python3"
  },
  "language_info": {
   "codemirror_mode": {
    "name": "ipython",
    "version": 3
   },
   "file_extension": ".py",
   "mimetype": "text/x-python",
   "name": "python",
   "nbconvert_exporter": "python",
   "pygments_lexer": "ipython3",
   "version": "3.9.12"
  }
 },
 "nbformat": 4,
 "nbformat_minor": 4
}
